{
 "cells": [
  {
   "cell_type": "code",
   "execution_count": 15,
   "metadata": {},
   "outputs": [],
   "source": [
    "# Importar el archivo EDA para obtener el DataFrame procesado\n",
    "\n",
    "import import_ipynb\n",
    "import eda # Esto importa todo el contenido de eda.ipynb\n",
    "\n",
    "# acceder al DataFrame preprocesado (df) desde eda.ipynb\n",
    "df = eda.df\n",
    "\n",
    "\n"
   ]
  },
  {
   "cell_type": "markdown",
   "metadata": {},
   "source": [
    "#### Preparación de los datos\n",
    "\n",
    "Este paso prepara los datos para el modelado, separando las características ( X) y la variable objetivo ( y), dividiendo en entrenamiento y prueba, y normalizando los datos."
   ]
  },
  {
   "cell_type": "code",
   "execution_count": 16,
   "metadata": {},
   "outputs": [],
   "source": [
    "import pandas as pd\n",
    "import numpy as np\n",
    "from sklearn.model_selection import train_test_split, cross_val_score\n",
    "from sklearn.preprocessing import StandardScaler\n",
    "from sklearn.metrics import accuracy_score, classification_report\n",
    "from sklearn.pipeline import Pipeline\n",
    "import optuna\n",
    "\n",
    "\n",
    "# Separar las características y la variable objetivo\n",
    "X = df.drop('custcat', axis=1)\n",
    "y = df['custcat']\n",
    "\n",
    "# Dividir los datos en conjunto de entrenamiento y prueba\n",
    "X_train, X_test, y_train, y_test = train_test_split(X, y, test_size=0.2, random_state=42, stratify=y)\n",
    "\n",
    "# Normalización para todas las características\n",
    "scaler = StandardScaler()\n",
    "X_train_scaled = scaler.fit_transform(X_train)\n",
    "X_test_scaled = scaler.transform(X_test)\n"
   ]
  },
  {
   "cell_type": "markdown",
   "metadata": {},
   "source": [
    "#### Función para optimizar modelos\n",
    "\n",
    "Utilizamos Optuna para encontrar los mejores hiperparámetros de cada modelo."
   ]
  },
  {
   "cell_type": "code",
   "execution_count": 17,
   "metadata": {},
   "outputs": [],
   "source": [
    "def optimize_model(model, param_space):\n",
    "    def objective(trial):\n",
    "        # Genera los parámetros para el modelo\n",
    "        params = {k: v(trial) for k, v in param_space.items()}\n",
    "        # Construye un pipeline con escalador y modelo\n",
    "        pipeline = Pipeline([\n",
    "            ('scaler', StandardScaler()),\n",
    "            ('classifier', model(**params))\n",
    "        ])\n",
    "        # Realiza validación cruzada y calcula el promedio de accuracy\n",
    "        return cross_val_score(pipeline, X_train, y_train, cv=5, scoring='accuracy').mean()\n",
    "\n",
    "    study = optuna.create_study(direction='maximize')\n",
    "    study.optimize(objective, n_trials=50)\n",
    "    return study.best_params\n"
   ]
  },
  {
   "cell_type": "markdown",
   "metadata": {},
   "source": [
    "#### Función para evaluar modelos\n",
    "Evalúa el rendimiento en el conjunto de entrenamiento y prueba. Imprime el precision y el overfitting (diferencia entre precision de entrenamiento y prueba)."
   ]
  },
  {
   "cell_type": "code",
   "execution_count": 18,
   "metadata": {},
   "outputs": [],
   "source": [
    "def evaluate_model(model, params, name):\n",
    "    # Construir pipeline con escalador y modelo\n",
    "    pipeline = Pipeline([\n",
    "        ('scaler', StandardScaler()),\n",
    "        ('classifier', model(**params))\n",
    "    ])\n",
    "    # Entrenar el modelo\n",
    "    pipeline.fit(X_train, y_train)\n",
    "    # Evaluar en entrenamiento y prueba\n",
    "    train_accuracy = pipeline.score(X_train, y_train)\n",
    "    test_accuracy = pipeline.score(X_test, y_test)\n",
    "    overfitting = train_accuracy - test_accuracy\n",
    "    \n",
    "    # Predicciones en el conjunto de prueba\n",
    "    y_pred = pipeline.predict(X_test)\n",
    "    \n",
    "    # Imprimir métricas\n",
    "    print(f\"\\nResultados para {name}:\")\n",
    "    print(f\"Accuracy en entrenamiento: {train_accuracy:.4f}\")\n",
    "    print(f\"Accuracy en prueba: {test_accuracy:.4f}\")\n",
    "    print(f\"Diferencia (Overfitting): {overfitting:.4f}\")\n",
    "    print(\"\\nReporte de Clasificación:\")\n",
    "    print(classification_report(y_test, y_pred))\n",
    "    \n",
    "    return pipeline\n"
   ]
  },
  {
   "cell_type": "markdown",
   "metadata": {},
   "source": [
    "#### Modelos y optimización\n"
   ]
  },
  {
   "cell_type": "code",
   "execution_count": 19,
   "metadata": {},
   "outputs": [
    {
     "name": "stderr",
     "output_type": "stream",
     "text": [
      "[I 2024-12-09 16:47:42,468] A new study created in memory with name: no-name-223629c1-2baf-4a35-be4a-a3b8456b98a1\n",
      "[I 2024-12-09 16:47:43,543] Trial 0 finished with value: 0.35625 and parameters: {'n_estimators': 85, 'max_depth': 14, 'min_samples_split': 4, 'min_samples_leaf': 1}. Best is trial 0 with value: 0.35625.\n",
      "[I 2024-12-09 16:47:44,225] Trial 1 finished with value: 0.39875 and parameters: {'n_estimators': 72, 'max_depth': 6, 'min_samples_split': 5, 'min_samples_leaf': 5}. Best is trial 1 with value: 0.39875.\n",
      "[I 2024-12-09 16:47:45,046] Trial 2 finished with value: 0.37749999999999995 and parameters: {'n_estimators': 74, 'max_depth': 14, 'min_samples_split': 2, 'min_samples_leaf': 2}. Best is trial 1 with value: 0.39875.\n",
      "[I 2024-12-09 16:47:46,944] Trial 3 finished with value: 0.38999999999999996 and parameters: {'n_estimators': 187, 'max_depth': 16, 'min_samples_split': 4, 'min_samples_leaf': 3}. Best is trial 1 with value: 0.39875.\n",
      "[I 2024-12-09 16:47:48,346] Trial 4 finished with value: 0.395 and parameters: {'n_estimators': 168, 'max_depth': 5, 'min_samples_split': 2, 'min_samples_leaf': 2}. Best is trial 1 with value: 0.39875.\n",
      "[I 2024-12-09 16:47:49,490] Trial 5 finished with value: 0.39 and parameters: {'n_estimators': 154, 'max_depth': 11, 'min_samples_split': 10, 'min_samples_leaf': 4}. Best is trial 1 with value: 0.39875.\n",
      "[I 2024-12-09 16:47:50,899] Trial 6 finished with value: 0.37625000000000003 and parameters: {'n_estimators': 188, 'max_depth': 16, 'min_samples_split': 5, 'min_samples_leaf': 4}. Best is trial 1 with value: 0.39875.\n",
      "[I 2024-12-09 16:47:51,351] Trial 7 finished with value: 0.38125 and parameters: {'n_estimators': 56, 'max_depth': 13, 'min_samples_split': 6, 'min_samples_leaf': 2}. Best is trial 1 with value: 0.39875.\n",
      "[I 2024-12-09 16:47:51,859] Trial 8 finished with value: 0.4 and parameters: {'n_estimators': 78, 'max_depth': 2, 'min_samples_split': 6, 'min_samples_leaf': 3}. Best is trial 8 with value: 0.4.\n",
      "[I 2024-12-09 16:47:52,868] Trial 9 finished with value: 0.3975 and parameters: {'n_estimators': 157, 'max_depth': 2, 'min_samples_split': 8, 'min_samples_leaf': 5}. Best is trial 8 with value: 0.4.\n",
      "[I 2024-12-09 16:47:53,747] Trial 10 finished with value: 0.39749999999999996 and parameters: {'n_estimators': 117, 'max_depth': 8, 'min_samples_split': 8, 'min_samples_leaf': 3}. Best is trial 8 with value: 0.4.\n",
      "[I 2024-12-09 16:47:54,418] Trial 11 finished with value: 0.3875 and parameters: {'n_estimators': 104, 'max_depth': 2, 'min_samples_split': 7, 'min_samples_leaf': 5}. Best is trial 8 with value: 0.4.\n",
      "[I 2024-12-09 16:47:54,867] Trial 12 finished with value: 0.3975000000000001 and parameters: {'n_estimators': 55, 'max_depth': 6, 'min_samples_split': 5, 'min_samples_leaf': 4}. Best is trial 8 with value: 0.4.\n",
      "[I 2024-12-09 16:47:55,530] Trial 13 finished with value: 0.37625000000000003 and parameters: {'n_estimators': 88, 'max_depth': 20, 'min_samples_split': 6, 'min_samples_leaf': 5}. Best is trial 8 with value: 0.4.\n",
      "[I 2024-12-09 16:47:56,415] Trial 14 finished with value: 0.38749999999999996 and parameters: {'n_estimators': 129, 'max_depth': 5, 'min_samples_split': 4, 'min_samples_leaf': 3}. Best is trial 8 with value: 0.4.\n",
      "[I 2024-12-09 16:47:56,991] Trial 15 finished with value: 0.37750000000000006 and parameters: {'n_estimators': 73, 'max_depth': 8, 'min_samples_split': 9, 'min_samples_leaf': 4}. Best is trial 8 with value: 0.4.\n",
      "[I 2024-12-09 16:47:57,706] Trial 16 finished with value: 0.39375 and parameters: {'n_estimators': 105, 'max_depth': 4, 'min_samples_split': 6, 'min_samples_leaf': 1}. Best is trial 8 with value: 0.4.\n",
      "[I 2024-12-09 16:47:58,719] Trial 17 finished with value: 0.36875 and parameters: {'n_estimators': 131, 'max_depth': 8, 'min_samples_split': 3, 'min_samples_leaf': 2}. Best is trial 8 with value: 0.4.\n",
      "[I 2024-12-09 16:47:59,220] Trial 18 finished with value: 0.37124999999999997 and parameters: {'n_estimators': 51, 'max_depth': 10, 'min_samples_split': 7, 'min_samples_leaf': 4}. Best is trial 8 with value: 0.4.\n",
      "[I 2024-12-09 16:47:59,874] Trial 19 finished with value: 0.39375 and parameters: {'n_estimators': 98, 'max_depth': 3, 'min_samples_split': 5, 'min_samples_leaf': 3}. Best is trial 8 with value: 0.4.\n",
      "[I 2024-12-09 16:48:00,421] Trial 20 finished with value: 0.38375 and parameters: {'n_estimators': 72, 'max_depth': 7, 'min_samples_split': 7, 'min_samples_leaf': 5}. Best is trial 8 with value: 0.4.\n",
      "[I 2024-12-09 16:48:00,898] Trial 21 finished with value: 0.38999999999999996 and parameters: {'n_estimators': 61, 'max_depth': 6, 'min_samples_split': 5, 'min_samples_leaf': 4}. Best is trial 8 with value: 0.4.\n",
      "[I 2024-12-09 16:48:01,395] Trial 22 finished with value: 0.39625000000000005 and parameters: {'n_estimators': 65, 'max_depth': 5, 'min_samples_split': 5, 'min_samples_leaf': 4}. Best is trial 8 with value: 0.4.\n",
      "[I 2024-12-09 16:48:02,062] Trial 23 finished with value: 0.3925 and parameters: {'n_estimators': 86, 'max_depth': 10, 'min_samples_split': 6, 'min_samples_leaf': 5}. Best is trial 8 with value: 0.4.\n",
      "[I 2024-12-09 16:48:02,623] Trial 24 finished with value: 0.39375 and parameters: {'n_estimators': 78, 'max_depth': 4, 'min_samples_split': 3, 'min_samples_leaf': 4}. Best is trial 8 with value: 0.4.\n",
      "[I 2024-12-09 16:48:02,984] Trial 25 finished with value: 0.39 and parameters: {'n_estimators': 50, 'max_depth': 2, 'min_samples_split': 4, 'min_samples_leaf': 5}. Best is trial 8 with value: 0.4.\n",
      "[I 2024-12-09 16:48:03,508] Trial 26 finished with value: 0.38375000000000004 and parameters: {'n_estimators': 64, 'max_depth': 7, 'min_samples_split': 3, 'min_samples_leaf': 3}. Best is trial 8 with value: 0.4.\n",
      "[I 2024-12-09 16:48:04,164] Trial 27 finished with value: 0.39625 and parameters: {'n_estimators': 95, 'max_depth': 4, 'min_samples_split': 5, 'min_samples_leaf': 3}. Best is trial 8 with value: 0.4.\n",
      "[I 2024-12-09 16:48:05,052] Trial 28 finished with value: 0.39624999999999994 and parameters: {'n_estimators': 117, 'max_depth': 9, 'min_samples_split': 8, 'min_samples_leaf': 4}. Best is trial 8 with value: 0.4.\n",
      "[I 2024-12-09 16:48:05,703] Trial 29 finished with value: 0.38249999999999995 and parameters: {'n_estimators': 82, 'max_depth': 6, 'min_samples_split': 4, 'min_samples_leaf': 1}. Best is trial 8 with value: 0.4.\n",
      "[I 2024-12-09 16:48:06,200] Trial 30 finished with value: 0.38625 and parameters: {'n_estimators': 65, 'max_depth': 3, 'min_samples_split': 7, 'min_samples_leaf': 5}. Best is trial 8 with value: 0.4.\n",
      "[I 2024-12-09 16:48:07,165] Trial 31 finished with value: 0.38875 and parameters: {'n_estimators': 145, 'max_depth': 2, 'min_samples_split': 8, 'min_samples_leaf': 5}. Best is trial 8 with value: 0.4.\n",
      "[I 2024-12-09 16:48:08,405] Trial 32 finished with value: 0.39625 and parameters: {'n_estimators': 174, 'max_depth': 3, 'min_samples_split': 10, 'min_samples_leaf': 5}. Best is trial 8 with value: 0.4.\n",
      "[I 2024-12-09 16:48:09,707] Trial 33 finished with value: 0.38875000000000004 and parameters: {'n_estimators': 199, 'max_depth': 2, 'min_samples_split': 6, 'min_samples_leaf': 4}. Best is trial 8 with value: 0.4.\n",
      "[I 2024-12-09 16:48:10,845] Trial 34 finished with value: 0.38 and parameters: {'n_estimators': 149, 'max_depth': 13, 'min_samples_split': 9, 'min_samples_leaf': 5}. Best is trial 8 with value: 0.4.\n",
      "[I 2024-12-09 16:48:11,957] Trial 35 finished with value: 0.38 and parameters: {'n_estimators': 157, 'max_depth': 6, 'min_samples_split': 5, 'min_samples_leaf': 4}. Best is trial 8 with value: 0.4.\n",
      "[I 2024-12-09 16:48:12,935] Trial 36 finished with value: 0.39125 and parameters: {'n_estimators': 142, 'max_depth': 4, 'min_samples_split': 9, 'min_samples_leaf': 5}. Best is trial 8 with value: 0.4.\n",
      "[I 2024-12-09 16:48:13,656] Trial 37 finished with value: 0.39375 and parameters: {'n_estimators': 73, 'max_depth': 5, 'min_samples_split': 7, 'min_samples_leaf': 2}. Best is trial 8 with value: 0.4.\n",
      "[I 2024-12-09 16:48:15,394] Trial 38 finished with value: 0.37750000000000006 and parameters: {'n_estimators': 173, 'max_depth': 18, 'min_samples_split': 4, 'min_samples_leaf': 3}. Best is trial 8 with value: 0.4.\n",
      "[I 2024-12-09 16:48:16,314] Trial 39 finished with value: 0.39499999999999996 and parameters: {'n_estimators': 118, 'max_depth': 7, 'min_samples_split': 5, 'min_samples_leaf': 4}. Best is trial 8 with value: 0.4.\n",
      "[I 2024-12-09 16:48:16,919] Trial 40 finished with value: 0.38749999999999996 and parameters: {'n_estimators': 57, 'max_depth': 11, 'min_samples_split': 6, 'min_samples_leaf': 3}. Best is trial 8 with value: 0.4.\n",
      "[I 2024-12-09 16:48:18,104] Trial 41 finished with value: 0.38625 and parameters: {'n_estimators': 136, 'max_depth': 9, 'min_samples_split': 8, 'min_samples_leaf': 3}. Best is trial 8 with value: 0.4.\n",
      "[I 2024-12-09 16:48:18,817] Trial 42 finished with value: 0.37250000000000005 and parameters: {'n_estimators': 91, 'max_depth': 8, 'min_samples_split': 8, 'min_samples_leaf': 2}. Best is trial 8 with value: 0.4.\n",
      "[I 2024-12-09 16:48:19,569] Trial 43 finished with value: 0.39249999999999996 and parameters: {'n_estimators': 101, 'max_depth': 6, 'min_samples_split': 9, 'min_samples_leaf': 3}. Best is trial 8 with value: 0.4.\n",
      "[I 2024-12-09 16:48:20,342] Trial 44 finished with value: 0.39625000000000005 and parameters: {'n_estimators': 113, 'max_depth': 3, 'min_samples_split': 10, 'min_samples_leaf': 3}. Best is trial 8 with value: 0.4.\n",
      "[I 2024-12-09 16:48:21,691] Trial 45 finished with value: 0.385 and parameters: {'n_estimators': 161, 'max_depth': 12, 'min_samples_split': 8, 'min_samples_leaf': 3}. Best is trial 8 with value: 0.4.\n",
      "[I 2024-12-09 16:48:23,245] Trial 46 finished with value: 0.37374999999999997 and parameters: {'n_estimators': 184, 'max_depth': 10, 'min_samples_split': 6, 'min_samples_leaf': 2}. Best is trial 8 with value: 0.4.\n",
      "[I 2024-12-09 16:48:24,150] Trial 47 finished with value: 0.38875 and parameters: {'n_estimators': 108, 'max_depth': 15, 'min_samples_split': 7, 'min_samples_leaf': 4}. Best is trial 8 with value: 0.4.\n",
      "[I 2024-12-09 16:48:24,808] Trial 48 finished with value: 0.4 and parameters: {'n_estimators': 80, 'max_depth': 9, 'min_samples_split': 2, 'min_samples_leaf': 5}. Best is trial 8 with value: 0.4.\n",
      "[I 2024-12-09 16:48:25,496] Trial 49 finished with value: 0.38750000000000007 and parameters: {'n_estimators': 81, 'max_depth': 9, 'min_samples_split': 2, 'min_samples_leaf': 5}. Best is trial 8 with value: 0.4.\n"
     ]
    },
    {
     "name": "stdout",
     "output_type": "stream",
     "text": [
      "\n",
      "Resultados para Random Forest:\n",
      "Accuracy en entrenamiento: 0.4188\n",
      "Accuracy en prueba: 0.3950\n",
      "Diferencia (Overfitting): 0.0237\n",
      "\n",
      "Reporte de Clasificación:\n",
      "              precision    recall  f1-score   support\n",
      "\n",
      "           1       0.40      0.55      0.46        53\n",
      "           2       0.30      0.07      0.11        44\n",
      "           3       0.38      0.55      0.45        56\n",
      "           4       0.44      0.34      0.39        47\n",
      "\n",
      "    accuracy                           0.40       200\n",
      "   macro avg       0.38      0.38      0.35       200\n",
      "weighted avg       0.38      0.40      0.36       200\n",
      "\n"
     ]
    }
   ],
   "source": [
    "#Random Forest\n",
    "\n",
    "from sklearn.ensemble import RandomForestClassifier\n",
    "\n",
    "rf_param_space = {\n",
    "    'n_estimators': lambda trial: trial.suggest_int('n_estimators', 50, 200),\n",
    "    'max_depth': lambda trial: trial.suggest_int('max_depth', 2, 20),\n",
    "    'min_samples_split': lambda trial: trial.suggest_int('min_samples_split', 2, 10),\n",
    "    'min_samples_leaf': lambda trial: trial.suggest_int('min_samples_leaf', 1, 5)\n",
    "}\n",
    "rf_best_params = optimize_model(RandomForestClassifier, rf_param_space)\n",
    "rf_pipeline = evaluate_model(RandomForestClassifier, rf_best_params, \"Random Forest\")\n"
   ]
  },
  {
   "cell_type": "code",
   "execution_count": 20,
   "metadata": {},
   "outputs": [
    {
     "name": "stderr",
     "output_type": "stream",
     "text": [
      "[I 2024-12-09 16:48:25,736] A new study created in memory with name: no-name-0596e1bf-27ab-4fc1-b8d4-745f0f928008\n",
      "C:\\Users\\Administrator\\AppData\\Local\\Temp\\ipykernel_14812\\3716008389.py:7: FutureWarning: suggest_loguniform has been deprecated in v3.0.0. This feature will be removed in v6.0.0. See https://github.com/optuna/optuna/releases/tag/v3.0.0. Use suggest_float(..., log=True) instead.\n",
      "  'learning_rate': lambda trial: trial.suggest_loguniform('learning_rate', 0.01, 0.1),\n",
      "[I 2024-12-09 16:49:18,068] Trial 0 finished with value: 0.33499999999999996 and parameters: {'n_estimators': 140, 'learning_rate': 0.09422876746184224, 'max_depth': 10}. Best is trial 0 with value: 0.33499999999999996.\n",
      "C:\\Users\\Administrator\\AppData\\Local\\Temp\\ipykernel_14812\\3716008389.py:7: FutureWarning: suggest_loguniform has been deprecated in v3.0.0. This feature will be removed in v6.0.0. See https://github.com/optuna/optuna/releases/tag/v3.0.0. Use suggest_float(..., log=True) instead.\n",
      "  'learning_rate': lambda trial: trial.suggest_loguniform('learning_rate', 0.01, 0.1),\n",
      "[I 2024-12-09 16:49:22,517] Trial 1 finished with value: 0.3775 and parameters: {'n_estimators': 180, 'learning_rate': 0.02754766178362004, 'max_depth': 3}. Best is trial 1 with value: 0.3775.\n",
      "C:\\Users\\Administrator\\AppData\\Local\\Temp\\ipykernel_14812\\3716008389.py:7: FutureWarning: suggest_loguniform has been deprecated in v3.0.0. This feature will be removed in v6.0.0. See https://github.com/optuna/optuna/releases/tag/v3.0.0. Use suggest_float(..., log=True) instead.\n",
      "  'learning_rate': lambda trial: trial.suggest_loguniform('learning_rate', 0.01, 0.1),\n",
      "[I 2024-12-09 16:50:22,356] Trial 2 finished with value: 0.31875 and parameters: {'n_estimators': 160, 'learning_rate': 0.07183743459358277, 'max_depth': 10}. Best is trial 1 with value: 0.3775.\n",
      "C:\\Users\\Administrator\\AppData\\Local\\Temp\\ipykernel_14812\\3716008389.py:7: FutureWarning: suggest_loguniform has been deprecated in v3.0.0. This feature will be removed in v6.0.0. See https://github.com/optuna/optuna/releases/tag/v3.0.0. Use suggest_float(..., log=True) instead.\n",
      "  'learning_rate': lambda trial: trial.suggest_loguniform('learning_rate', 0.01, 0.1),\n",
      "[I 2024-12-09 16:51:16,844] Trial 3 finished with value: 0.30875 and parameters: {'n_estimators': 182, 'learning_rate': 0.017739402903337195, 'max_depth': 9}. Best is trial 1 with value: 0.3775.\n",
      "C:\\Users\\Administrator\\AppData\\Local\\Temp\\ipykernel_14812\\3716008389.py:7: FutureWarning: suggest_loguniform has been deprecated in v3.0.0. This feature will be removed in v6.0.0. See https://github.com/optuna/optuna/releases/tag/v3.0.0. Use suggest_float(..., log=True) instead.\n",
      "  'learning_rate': lambda trial: trial.suggest_loguniform('learning_rate', 0.01, 0.1),\n",
      "[I 2024-12-09 16:51:30,836] Trial 4 finished with value: 0.32125 and parameters: {'n_estimators': 164, 'learning_rate': 0.060977197257771225, 'max_depth': 6}. Best is trial 1 with value: 0.3775.\n",
      "C:\\Users\\Administrator\\AppData\\Local\\Temp\\ipykernel_14812\\3716008389.py:7: FutureWarning: suggest_loguniform has been deprecated in v3.0.0. This feature will be removed in v6.0.0. See https://github.com/optuna/optuna/releases/tag/v3.0.0. Use suggest_float(..., log=True) instead.\n",
      "  'learning_rate': lambda trial: trial.suggest_loguniform('learning_rate', 0.01, 0.1),\n",
      "[I 2024-12-09 16:51:41,377] Trial 5 finished with value: 0.33875 and parameters: {'n_estimators': 82, 'learning_rate': 0.015618470513116023, 'max_depth': 7}. Best is trial 1 with value: 0.3775.\n",
      "C:\\Users\\Administrator\\AppData\\Local\\Temp\\ipykernel_14812\\3716008389.py:7: FutureWarning: suggest_loguniform has been deprecated in v3.0.0. This feature will be removed in v6.0.0. See https://github.com/optuna/optuna/releases/tag/v3.0.0. Use suggest_float(..., log=True) instead.\n",
      "  'learning_rate': lambda trial: trial.suggest_loguniform('learning_rate', 0.01, 0.1),\n",
      "[I 2024-12-09 16:51:42,537] Trial 6 finished with value: 0.38249999999999995 and parameters: {'n_estimators': 61, 'learning_rate': 0.010919077395502706, 'max_depth': 2}. Best is trial 6 with value: 0.38249999999999995.\n",
      "C:\\Users\\Administrator\\AppData\\Local\\Temp\\ipykernel_14812\\3716008389.py:7: FutureWarning: suggest_loguniform has been deprecated in v3.0.0. This feature will be removed in v6.0.0. See https://github.com/optuna/optuna/releases/tag/v3.0.0. Use suggest_float(..., log=True) instead.\n",
      "  'learning_rate': lambda trial: trial.suggest_loguniform('learning_rate', 0.01, 0.1),\n",
      "[I 2024-12-09 16:51:47,706] Trial 7 finished with value: 0.33875 and parameters: {'n_estimators': 63, 'learning_rate': 0.034558720244728953, 'max_depth': 6}. Best is trial 6 with value: 0.38249999999999995.\n",
      "C:\\Users\\Administrator\\AppData\\Local\\Temp\\ipykernel_14812\\3716008389.py:7: FutureWarning: suggest_loguniform has been deprecated in v3.0.0. This feature will be removed in v6.0.0. See https://github.com/optuna/optuna/releases/tag/v3.0.0. Use suggest_float(..., log=True) instead.\n",
      "  'learning_rate': lambda trial: trial.suggest_loguniform('learning_rate', 0.01, 0.1),\n",
      "[I 2024-12-09 16:51:56,941] Trial 8 finished with value: 0.36499999999999994 and parameters: {'n_estimators': 179, 'learning_rate': 0.013598824398371956, 'max_depth': 5}. Best is trial 6 with value: 0.38249999999999995.\n",
      "C:\\Users\\Administrator\\AppData\\Local\\Temp\\ipykernel_14812\\3716008389.py:7: FutureWarning: suggest_loguniform has been deprecated in v3.0.0. This feature will be removed in v6.0.0. See https://github.com/optuna/optuna/releases/tag/v3.0.0. Use suggest_float(..., log=True) instead.\n",
      "  'learning_rate': lambda trial: trial.suggest_loguniform('learning_rate', 0.01, 0.1),\n",
      "[I 2024-12-09 16:52:36,541] Trial 9 finished with value: 0.34249999999999997 and parameters: {'n_estimators': 103, 'learning_rate': 0.023638618538953275, 'max_depth': 10}. Best is trial 6 with value: 0.38249999999999995.\n",
      "C:\\Users\\Administrator\\AppData\\Local\\Temp\\ipykernel_14812\\3716008389.py:7: FutureWarning: suggest_loguniform has been deprecated in v3.0.0. This feature will be removed in v6.0.0. See https://github.com/optuna/optuna/releases/tag/v3.0.0. Use suggest_float(..., log=True) instead.\n",
      "  'learning_rate': lambda trial: trial.suggest_loguniform('learning_rate', 0.01, 0.1),\n",
      "[I 2024-12-09 16:52:37,587] Trial 10 finished with value: 0.375 and parameters: {'n_estimators': 56, 'learning_rate': 0.010013415010053312, 'max_depth': 2}. Best is trial 6 with value: 0.38249999999999995.\n",
      "C:\\Users\\Administrator\\AppData\\Local\\Temp\\ipykernel_14812\\3716008389.py:7: FutureWarning: suggest_loguniform has been deprecated in v3.0.0. This feature will be removed in v6.0.0. See https://github.com/optuna/optuna/releases/tag/v3.0.0. Use suggest_float(..., log=True) instead.\n",
      "  'learning_rate': lambda trial: trial.suggest_loguniform('learning_rate', 0.01, 0.1),\n",
      "[I 2024-12-09 16:52:39,751] Trial 11 finished with value: 0.39749999999999996 and parameters: {'n_estimators': 117, 'learning_rate': 0.037347697142723485, 'max_depth': 2}. Best is trial 11 with value: 0.39749999999999996.\n",
      "C:\\Users\\Administrator\\AppData\\Local\\Temp\\ipykernel_14812\\3716008389.py:7: FutureWarning: suggest_loguniform has been deprecated in v3.0.0. This feature will be removed in v6.0.0. See https://github.com/optuna/optuna/releases/tag/v3.0.0. Use suggest_float(..., log=True) instead.\n",
      "  'learning_rate': lambda trial: trial.suggest_loguniform('learning_rate', 0.01, 0.1),\n",
      "[I 2024-12-09 16:52:42,513] Trial 12 finished with value: 0.38375000000000004 and parameters: {'n_estimators': 113, 'learning_rate': 0.04003179079749754, 'max_depth': 3}. Best is trial 11 with value: 0.39749999999999996.\n",
      "C:\\Users\\Administrator\\AppData\\Local\\Temp\\ipykernel_14812\\3716008389.py:7: FutureWarning: suggest_loguniform has been deprecated in v3.0.0. This feature will be removed in v6.0.0. See https://github.com/optuna/optuna/releases/tag/v3.0.0. Use suggest_float(..., log=True) instead.\n",
      "  'learning_rate': lambda trial: trial.suggest_loguniform('learning_rate', 0.01, 0.1),\n",
      "[I 2024-12-09 16:52:46,425] Trial 13 finished with value: 0.36875 and parameters: {'n_estimators': 114, 'learning_rate': 0.043301077117771196, 'max_depth': 4}. Best is trial 11 with value: 0.39749999999999996.\n",
      "C:\\Users\\Administrator\\AppData\\Local\\Temp\\ipykernel_14812\\3716008389.py:7: FutureWarning: suggest_loguniform has been deprecated in v3.0.0. This feature will be removed in v6.0.0. See https://github.com/optuna/optuna/releases/tag/v3.0.0. Use suggest_float(..., log=True) instead.\n",
      "  'learning_rate': lambda trial: trial.suggest_loguniform('learning_rate', 0.01, 0.1),\n",
      "[I 2024-12-09 16:52:51,072] Trial 14 finished with value: 0.36 and parameters: {'n_estimators': 134, 'learning_rate': 0.045474359543891354, 'max_depth': 4}. Best is trial 11 with value: 0.39749999999999996.\n",
      "C:\\Users\\Administrator\\AppData\\Local\\Temp\\ipykernel_14812\\3716008389.py:7: FutureWarning: suggest_loguniform has been deprecated in v3.0.0. This feature will be removed in v6.0.0. See https://github.com/optuna/optuna/releases/tag/v3.0.0. Use suggest_float(..., log=True) instead.\n",
      "  'learning_rate': lambda trial: trial.suggest_loguniform('learning_rate', 0.01, 0.1),\n",
      "[I 2024-12-09 16:52:53,415] Trial 15 finished with value: 0.38625 and parameters: {'n_estimators': 94, 'learning_rate': 0.03879244138849168, 'max_depth': 3}. Best is trial 11 with value: 0.39749999999999996.\n",
      "C:\\Users\\Administrator\\AppData\\Local\\Temp\\ipykernel_14812\\3716008389.py:7: FutureWarning: suggest_loguniform has been deprecated in v3.0.0. This feature will be removed in v6.0.0. See https://github.com/optuna/optuna/releases/tag/v3.0.0. Use suggest_float(..., log=True) instead.\n",
      "  'learning_rate': lambda trial: trial.suggest_loguniform('learning_rate', 0.01, 0.1),\n",
      "[I 2024-12-09 16:52:55,009] Trial 16 finished with value: 0.4025 and parameters: {'n_estimators': 84, 'learning_rate': 0.0539729609054775, 'max_depth': 2}. Best is trial 16 with value: 0.4025.\n",
      "C:\\Users\\Administrator\\AppData\\Local\\Temp\\ipykernel_14812\\3716008389.py:7: FutureWarning: suggest_loguniform has been deprecated in v3.0.0. This feature will be removed in v6.0.0. See https://github.com/optuna/optuna/releases/tag/v3.0.0. Use suggest_float(..., log=True) instead.\n",
      "  'learning_rate': lambda trial: trial.suggest_loguniform('learning_rate', 0.01, 0.1),\n",
      "[I 2024-12-09 16:53:11,226] Trial 17 finished with value: 0.3325 and parameters: {'n_estimators': 83, 'learning_rate': 0.05862668110218475, 'max_depth': 8}. Best is trial 16 with value: 0.4025.\n",
      "C:\\Users\\Administrator\\AppData\\Local\\Temp\\ipykernel_14812\\3716008389.py:7: FutureWarning: suggest_loguniform has been deprecated in v3.0.0. This feature will be removed in v6.0.0. See https://github.com/optuna/optuna/releases/tag/v3.0.0. Use suggest_float(..., log=True) instead.\n",
      "  'learning_rate': lambda trial: trial.suggest_loguniform('learning_rate', 0.01, 0.1),\n",
      "[I 2024-12-09 16:53:12,741] Trial 18 finished with value: 0.3875 and parameters: {'n_estimators': 77, 'learning_rate': 0.021736647688880617, 'max_depth': 2}. Best is trial 16 with value: 0.4025.\n",
      "C:\\Users\\Administrator\\AppData\\Local\\Temp\\ipykernel_14812\\3716008389.py:7: FutureWarning: suggest_loguniform has been deprecated in v3.0.0. This feature will be removed in v6.0.0. See https://github.com/optuna/optuna/releases/tag/v3.0.0. Use suggest_float(..., log=True) instead.\n",
      "  'learning_rate': lambda trial: trial.suggest_loguniform('learning_rate', 0.01, 0.1),\n",
      "[I 2024-12-09 16:53:17,200] Trial 19 finished with value: 0.3475 and parameters: {'n_estimators': 128, 'learning_rate': 0.05532971493504675, 'max_depth': 4}. Best is trial 16 with value: 0.4025.\n",
      "C:\\Users\\Administrator\\AppData\\Local\\Temp\\ipykernel_14812\\3716008389.py:7: FutureWarning: suggest_loguniform has been deprecated in v3.0.0. This feature will be removed in v6.0.0. See https://github.com/optuna/optuna/releases/tag/v3.0.0. Use suggest_float(..., log=True) instead.\n",
      "  'learning_rate': lambda trial: trial.suggest_loguniform('learning_rate', 0.01, 0.1),\n",
      "[I 2024-12-09 16:53:22,181] Trial 20 finished with value: 0.3225 and parameters: {'n_estimators': 97, 'learning_rate': 0.08995177677865014, 'max_depth': 5}. Best is trial 16 with value: 0.4025.\n",
      "C:\\Users\\Administrator\\AppData\\Local\\Temp\\ipykernel_14812\\3716008389.py:7: FutureWarning: suggest_loguniform has been deprecated in v3.0.0. This feature will be removed in v6.0.0. See https://github.com/optuna/optuna/releases/tag/v3.0.0. Use suggest_float(..., log=True) instead.\n",
      "  'learning_rate': lambda trial: trial.suggest_loguniform('learning_rate', 0.01, 0.1),\n",
      "[I 2024-12-09 16:53:23,576] Trial 21 finished with value: 0.3875 and parameters: {'n_estimators': 73, 'learning_rate': 0.021003094319596783, 'max_depth': 2}. Best is trial 16 with value: 0.4025.\n",
      "C:\\Users\\Administrator\\AppData\\Local\\Temp\\ipykernel_14812\\3716008389.py:7: FutureWarning: suggest_loguniform has been deprecated in v3.0.0. This feature will be removed in v6.0.0. See https://github.com/optuna/optuna/releases/tag/v3.0.0. Use suggest_float(..., log=True) instead.\n",
      "  'learning_rate': lambda trial: trial.suggest_loguniform('learning_rate', 0.01, 0.1),\n",
      "[I 2024-12-09 16:53:25,049] Trial 22 finished with value: 0.38875 and parameters: {'n_estimators': 78, 'learning_rate': 0.02937192291158437, 'max_depth': 2}. Best is trial 16 with value: 0.4025.\n",
      "C:\\Users\\Administrator\\AppData\\Local\\Temp\\ipykernel_14812\\3716008389.py:7: FutureWarning: suggest_loguniform has been deprecated in v3.0.0. This feature will be removed in v6.0.0. See https://github.com/optuna/optuna/releases/tag/v3.0.0. Use suggest_float(..., log=True) instead.\n",
      "  'learning_rate': lambda trial: trial.suggest_loguniform('learning_rate', 0.01, 0.1),\n",
      "[I 2024-12-09 16:53:26,328] Trial 23 finished with value: 0.3875 and parameters: {'n_estimators': 50, 'learning_rate': 0.028354206725736106, 'max_depth': 3}. Best is trial 16 with value: 0.4025.\n",
      "C:\\Users\\Administrator\\AppData\\Local\\Temp\\ipykernel_14812\\3716008389.py:7: FutureWarning: suggest_loguniform has been deprecated in v3.0.0. This feature will be removed in v6.0.0. See https://github.com/optuna/optuna/releases/tag/v3.0.0. Use suggest_float(..., log=True) instead.\n",
      "  'learning_rate': lambda trial: trial.suggest_loguniform('learning_rate', 0.01, 0.1),\n",
      "[I 2024-12-09 16:53:28,491] Trial 24 finished with value: 0.4 and parameters: {'n_estimators': 115, 'learning_rate': 0.03276813516591378, 'max_depth': 2}. Best is trial 16 with value: 0.4025.\n",
      "C:\\Users\\Administrator\\AppData\\Local\\Temp\\ipykernel_14812\\3716008389.py:7: FutureWarning: suggest_loguniform has been deprecated in v3.0.0. This feature will be removed in v6.0.0. See https://github.com/optuna/optuna/releases/tag/v3.0.0. Use suggest_float(..., log=True) instead.\n",
      "  'learning_rate': lambda trial: trial.suggest_loguniform('learning_rate', 0.01, 0.1),\n",
      "[I 2024-12-09 16:53:31,459] Trial 25 finished with value: 0.36500000000000005 and parameters: {'n_estimators': 118, 'learning_rate': 0.04612398891119092, 'max_depth': 3}. Best is trial 16 with value: 0.4025.\n",
      "C:\\Users\\Administrator\\AppData\\Local\\Temp\\ipykernel_14812\\3716008389.py:7: FutureWarning: suggest_loguniform has been deprecated in v3.0.0. This feature will be removed in v6.0.0. See https://github.com/optuna/optuna/releases/tag/v3.0.0. Use suggest_float(..., log=True) instead.\n",
      "  'learning_rate': lambda trial: trial.suggest_loguniform('learning_rate', 0.01, 0.1),\n",
      "[I 2024-12-09 16:53:38,708] Trial 26 finished with value: 0.33999999999999997 and parameters: {'n_estimators': 141, 'learning_rate': 0.03406710433499557, 'max_depth': 5}. Best is trial 16 with value: 0.4025.\n",
      "C:\\Users\\Administrator\\AppData\\Local\\Temp\\ipykernel_14812\\3716008389.py:7: FutureWarning: suggest_loguniform has been deprecated in v3.0.0. This feature will be removed in v6.0.0. See https://github.com/optuna/optuna/releases/tag/v3.0.0. Use suggest_float(..., log=True) instead.\n",
      "  'learning_rate': lambda trial: trial.suggest_loguniform('learning_rate', 0.01, 0.1),\n",
      "[I 2024-12-09 16:53:43,982] Trial 27 finished with value: 0.34875 and parameters: {'n_estimators': 150, 'learning_rate': 0.05020692913488241, 'max_depth': 4}. Best is trial 16 with value: 0.4025.\n",
      "C:\\Users\\Administrator\\AppData\\Local\\Temp\\ipykernel_14812\\3716008389.py:7: FutureWarning: suggest_loguniform has been deprecated in v3.0.0. This feature will be removed in v6.0.0. See https://github.com/optuna/optuna/releases/tag/v3.0.0. Use suggest_float(..., log=True) instead.\n",
      "  'learning_rate': lambda trial: trial.suggest_loguniform('learning_rate', 0.01, 0.1),\n",
      "[I 2024-12-09 16:53:47,634] Trial 28 finished with value: 0.38 and parameters: {'n_estimators': 198, 'learning_rate': 0.0699943756217972, 'max_depth': 2}. Best is trial 16 with value: 0.4025.\n",
      "C:\\Users\\Administrator\\AppData\\Local\\Temp\\ipykernel_14812\\3716008389.py:7: FutureWarning: suggest_loguniform has been deprecated in v3.0.0. This feature will be removed in v6.0.0. See https://github.com/optuna/optuna/releases/tag/v3.0.0. Use suggest_float(..., log=True) instead.\n",
      "  'learning_rate': lambda trial: trial.suggest_loguniform('learning_rate', 0.01, 0.1),\n",
      "[I 2024-12-09 16:53:50,255] Trial 29 finished with value: 0.35625 and parameters: {'n_estimators': 104, 'learning_rate': 0.07795315777716351, 'max_depth': 3}. Best is trial 16 with value: 0.4025.\n",
      "C:\\Users\\Administrator\\AppData\\Local\\Temp\\ipykernel_14812\\3716008389.py:7: FutureWarning: suggest_loguniform has been deprecated in v3.0.0. This feature will be removed in v6.0.0. See https://github.com/optuna/optuna/releases/tag/v3.0.0. Use suggest_float(..., log=True) instead.\n",
      "  'learning_rate': lambda trial: trial.suggest_loguniform('learning_rate', 0.01, 0.1),\n",
      "[I 2024-12-09 16:54:06,458] Trial 30 finished with value: 0.345 and parameters: {'n_estimators': 125, 'learning_rate': 0.03762007702958014, 'max_depth': 7}. Best is trial 16 with value: 0.4025.\n",
      "C:\\Users\\Administrator\\AppData\\Local\\Temp\\ipykernel_14812\\3716008389.py:7: FutureWarning: suggest_loguniform has been deprecated in v3.0.0. This feature will be removed in v6.0.0. See https://github.com/optuna/optuna/releases/tag/v3.0.0. Use suggest_float(..., log=True) instead.\n",
      "  'learning_rate': lambda trial: trial.suggest_loguniform('learning_rate', 0.01, 0.1),\n",
      "[I 2024-12-09 16:54:08,123] Trial 31 finished with value: 0.38875000000000004 and parameters: {'n_estimators': 89, 'learning_rate': 0.029486854987313224, 'max_depth': 2}. Best is trial 16 with value: 0.4025.\n",
      "C:\\Users\\Administrator\\AppData\\Local\\Temp\\ipykernel_14812\\3716008389.py:7: FutureWarning: suggest_loguniform has been deprecated in v3.0.0. This feature will be removed in v6.0.0. See https://github.com/optuna/optuna/releases/tag/v3.0.0. Use suggest_float(..., log=True) instead.\n",
      "  'learning_rate': lambda trial: trial.suggest_loguniform('learning_rate', 0.01, 0.1),\n",
      "[I 2024-12-09 16:54:09,812] Trial 32 finished with value: 0.38875 and parameters: {'n_estimators': 90, 'learning_rate': 0.0238009311896439, 'max_depth': 2}. Best is trial 16 with value: 0.4025.\n",
      "C:\\Users\\Administrator\\AppData\\Local\\Temp\\ipykernel_14812\\3716008389.py:7: FutureWarning: suggest_loguniform has been deprecated in v3.0.0. This feature will be removed in v6.0.0. See https://github.com/optuna/optuna/releases/tag/v3.0.0. Use suggest_float(..., log=True) instead.\n",
      "  'learning_rate': lambda trial: trial.suggest_loguniform('learning_rate', 0.01, 0.1),\n",
      "[I 2024-12-09 16:54:12,501] Trial 33 finished with value: 0.385 and parameters: {'n_estimators': 108, 'learning_rate': 0.03184408820089712, 'max_depth': 3}. Best is trial 16 with value: 0.4025.\n",
      "C:\\Users\\Administrator\\AppData\\Local\\Temp\\ipykernel_14812\\3716008389.py:7: FutureWarning: suggest_loguniform has been deprecated in v3.0.0. This feature will be removed in v6.0.0. See https://github.com/optuna/optuna/releases/tag/v3.0.0. Use suggest_float(..., log=True) instead.\n",
      "  'learning_rate': lambda trial: trial.suggest_loguniform('learning_rate', 0.01, 0.1),\n",
      "[I 2024-12-09 16:54:13,834] Trial 34 finished with value: 0.38499999999999995 and parameters: {'n_estimators': 69, 'learning_rate': 0.02618614231035976, 'max_depth': 2}. Best is trial 16 with value: 0.4025.\n",
      "C:\\Users\\Administrator\\AppData\\Local\\Temp\\ipykernel_14812\\3716008389.py:7: FutureWarning: suggest_loguniform has been deprecated in v3.0.0. This feature will be removed in v6.0.0. See https://github.com/optuna/optuna/releases/tag/v3.0.0. Use suggest_float(..., log=True) instead.\n",
      "  'learning_rate': lambda trial: trial.suggest_loguniform('learning_rate', 0.01, 0.1),\n",
      "[I 2024-12-09 16:54:16,112] Trial 35 finished with value: 0.37625000000000003 and parameters: {'n_estimators': 88, 'learning_rate': 0.05379088358918679, 'max_depth': 3}. Best is trial 16 with value: 0.4025.\n",
      "C:\\Users\\Administrator\\AppData\\Local\\Temp\\ipykernel_14812\\3716008389.py:7: FutureWarning: suggest_loguniform has been deprecated in v3.0.0. This feature will be removed in v6.0.0. See https://github.com/optuna/optuna/releases/tag/v3.0.0. Use suggest_float(..., log=True) instead.\n",
      "  'learning_rate': lambda trial: trial.suggest_loguniform('learning_rate', 0.01, 0.1),\n",
      "[I 2024-12-09 16:54:20,268] Trial 36 finished with value: 0.35625 and parameters: {'n_estimators': 120, 'learning_rate': 0.06489964035766643, 'max_depth': 4}. Best is trial 16 with value: 0.4025.\n",
      "C:\\Users\\Administrator\\AppData\\Local\\Temp\\ipykernel_14812\\3716008389.py:7: FutureWarning: suggest_loguniform has been deprecated in v3.0.0. This feature will be removed in v6.0.0. See https://github.com/optuna/optuna/releases/tag/v3.0.0. Use suggest_float(..., log=True) instead.\n",
      "  'learning_rate': lambda trial: trial.suggest_loguniform('learning_rate', 0.01, 0.1),\n",
      "[I 2024-12-09 16:54:22,076] Trial 37 finished with value: 0.38375 and parameters: {'n_estimators': 97, 'learning_rate': 0.01907411611104255, 'max_depth': 2}. Best is trial 16 with value: 0.4025.\n",
      "C:\\Users\\Administrator\\AppData\\Local\\Temp\\ipykernel_14812\\3716008389.py:7: FutureWarning: suggest_loguniform has been deprecated in v3.0.0. This feature will be removed in v6.0.0. See https://github.com/optuna/optuna/releases/tag/v3.0.0. Use suggest_float(..., log=True) instead.\n",
      "  'learning_rate': lambda trial: trial.suggest_loguniform('learning_rate', 0.01, 0.1),\n",
      "[I 2024-12-09 16:55:02,352] Trial 38 finished with value: 0.32125000000000004 and parameters: {'n_estimators': 140, 'learning_rate': 0.03185042462597607, 'max_depth': 9}. Best is trial 16 with value: 0.4025.\n",
      "C:\\Users\\Administrator\\AppData\\Local\\Temp\\ipykernel_14812\\3716008389.py:7: FutureWarning: suggest_loguniform has been deprecated in v3.0.0. This feature will be removed in v6.0.0. See https://github.com/optuna/optuna/releases/tag/v3.0.0. Use suggest_float(..., log=True) instead.\n",
      "  'learning_rate': lambda trial: trial.suggest_loguniform('learning_rate', 0.01, 0.1),\n",
      "[I 2024-12-09 16:55:06,141] Trial 39 finished with value: 0.36750000000000005 and parameters: {'n_estimators': 155, 'learning_rate': 0.03629611103161849, 'max_depth': 3}. Best is trial 16 with value: 0.4025.\n",
      "C:\\Users\\Administrator\\AppData\\Local\\Temp\\ipykernel_14812\\3716008389.py:7: FutureWarning: suggest_loguniform has been deprecated in v3.0.0. This feature will be removed in v6.0.0. See https://github.com/optuna/optuna/releases/tag/v3.0.0. Use suggest_float(..., log=True) instead.\n",
      "  'learning_rate': lambda trial: trial.suggest_loguniform('learning_rate', 0.01, 0.1),\n",
      "[I 2024-12-09 16:55:08,086] Trial 40 finished with value: 0.38999999999999996 and parameters: {'n_estimators': 106, 'learning_rate': 0.026222963502970802, 'max_depth': 2}. Best is trial 16 with value: 0.4025.\n",
      "C:\\Users\\Administrator\\AppData\\Local\\Temp\\ipykernel_14812\\3716008389.py:7: FutureWarning: suggest_loguniform has been deprecated in v3.0.0. This feature will be removed in v6.0.0. See https://github.com/optuna/optuna/releases/tag/v3.0.0. Use suggest_float(..., log=True) instead.\n",
      "  'learning_rate': lambda trial: trial.suggest_loguniform('learning_rate', 0.01, 0.1),\n",
      "[I 2024-12-09 16:55:10,087] Trial 41 finished with value: 0.39249999999999996 and parameters: {'n_estimators': 108, 'learning_rate': 0.025853408749716998, 'max_depth': 2}. Best is trial 16 with value: 0.4025.\n",
      "C:\\Users\\Administrator\\AppData\\Local\\Temp\\ipykernel_14812\\3716008389.py:7: FutureWarning: suggest_loguniform has been deprecated in v3.0.0. This feature will be removed in v6.0.0. See https://github.com/optuna/optuna/releases/tag/v3.0.0. Use suggest_float(..., log=True) instead.\n",
      "  'learning_rate': lambda trial: trial.suggest_loguniform('learning_rate', 0.01, 0.1),\n",
      "[I 2024-12-09 16:55:12,111] Trial 42 finished with value: 0.38625 and parameters: {'n_estimators': 108, 'learning_rate': 0.01585793160315476, 'max_depth': 2}. Best is trial 16 with value: 0.4025.\n",
      "C:\\Users\\Administrator\\AppData\\Local\\Temp\\ipykernel_14812\\3716008389.py:7: FutureWarning: suggest_loguniform has been deprecated in v3.0.0. This feature will be removed in v6.0.0. See https://github.com/optuna/optuna/releases/tag/v3.0.0. Use suggest_float(..., log=True) instead.\n",
      "  'learning_rate': lambda trial: trial.suggest_loguniform('learning_rate', 0.01, 0.1),\n",
      "[I 2024-12-09 16:55:15,383] Trial 43 finished with value: 0.38375 and parameters: {'n_estimators': 132, 'learning_rate': 0.02395415906763639, 'max_depth': 3}. Best is trial 16 with value: 0.4025.\n",
      "C:\\Users\\Administrator\\AppData\\Local\\Temp\\ipykernel_14812\\3716008389.py:7: FutureWarning: suggest_loguniform has been deprecated in v3.0.0. This feature will be removed in v6.0.0. See https://github.com/optuna/optuna/releases/tag/v3.0.0. Use suggest_float(..., log=True) instead.\n",
      "  'learning_rate': lambda trial: trial.suggest_loguniform('learning_rate', 0.01, 0.1),\n",
      "[I 2024-12-09 16:55:17,343] Trial 44 finished with value: 0.39125 and parameters: {'n_estimators': 103, 'learning_rate': 0.02570243975386976, 'max_depth': 2}. Best is trial 16 with value: 0.4025.\n",
      "C:\\Users\\Administrator\\AppData\\Local\\Temp\\ipykernel_14812\\3716008389.py:7: FutureWarning: suggest_loguniform has been deprecated in v3.0.0. This feature will be removed in v6.0.0. See https://github.com/optuna/optuna/releases/tag/v3.0.0. Use suggest_float(..., log=True) instead.\n",
      "  'learning_rate': lambda trial: trial.suggest_loguniform('learning_rate', 0.01, 0.1),\n",
      "[I 2024-12-09 16:55:20,374] Trial 45 finished with value: 0.3725 and parameters: {'n_estimators': 122, 'learning_rate': 0.04179902304437882, 'max_depth': 3}. Best is trial 16 with value: 0.4025.\n",
      "C:\\Users\\Administrator\\AppData\\Local\\Temp\\ipykernel_14812\\3716008389.py:7: FutureWarning: suggest_loguniform has been deprecated in v3.0.0. This feature will be removed in v6.0.0. See https://github.com/optuna/optuna/releases/tag/v3.0.0. Use suggest_float(..., log=True) instead.\n",
      "  'learning_rate': lambda trial: trial.suggest_loguniform('learning_rate', 0.01, 0.1),\n",
      "[I 2024-12-09 16:55:22,491] Trial 46 finished with value: 0.3875 and parameters: {'n_estimators': 113, 'learning_rate': 0.01857056586111274, 'max_depth': 2}. Best is trial 16 with value: 0.4025.\n",
      "C:\\Users\\Administrator\\AppData\\Local\\Temp\\ipykernel_14812\\3716008389.py:7: FutureWarning: suggest_loguniform has been deprecated in v3.0.0. This feature will be removed in v6.0.0. See https://github.com/optuna/optuna/releases/tag/v3.0.0. Use suggest_float(..., log=True) instead.\n",
      "  'learning_rate': lambda trial: trial.suggest_loguniform('learning_rate', 0.01, 0.1),\n",
      "[I 2024-12-09 16:55:30,729] Trial 47 finished with value: 0.35875 and parameters: {'n_estimators': 101, 'learning_rate': 0.012746779678855557, 'max_depth': 6}. Best is trial 16 with value: 0.4025.\n",
      "C:\\Users\\Administrator\\AppData\\Local\\Temp\\ipykernel_14812\\3716008389.py:7: FutureWarning: suggest_loguniform has been deprecated in v3.0.0. This feature will be removed in v6.0.0. See https://github.com/optuna/optuna/releases/tag/v3.0.0. Use suggest_float(..., log=True) instead.\n",
      "  'learning_rate': lambda trial: trial.suggest_loguniform('learning_rate', 0.01, 0.1),\n",
      "[I 2024-12-09 16:55:34,694] Trial 48 finished with value: 0.35374999999999995 and parameters: {'n_estimators': 114, 'learning_rate': 0.04828178802660897, 'max_depth': 4}. Best is trial 16 with value: 0.4025.\n",
      "C:\\Users\\Administrator\\AppData\\Local\\Temp\\ipykernel_14812\\3716008389.py:7: FutureWarning: suggest_loguniform has been deprecated in v3.0.0. This feature will be removed in v6.0.0. See https://github.com/optuna/optuna/releases/tag/v3.0.0. Use suggest_float(..., log=True) instead.\n",
      "  'learning_rate': lambda trial: trial.suggest_loguniform('learning_rate', 0.01, 0.1),\n",
      "[I 2024-12-09 16:55:36,854] Trial 49 finished with value: 0.385 and parameters: {'n_estimators': 84, 'learning_rate': 0.034850950658361794, 'max_depth': 3}. Best is trial 16 with value: 0.4025.\n"
     ]
    },
    {
     "name": "stdout",
     "output_type": "stream",
     "text": [
      "\n",
      "Resultados para Gradient Boosting:\n",
      "Accuracy en entrenamiento: 0.4900\n",
      "Accuracy en prueba: 0.4150\n",
      "Diferencia (Overfitting): 0.0750\n",
      "\n",
      "Reporte de Clasificación:\n",
      "              precision    recall  f1-score   support\n",
      "\n",
      "           1       0.40      0.42      0.41        53\n",
      "           2       0.38      0.27      0.32        44\n",
      "           3       0.43      0.50      0.46        56\n",
      "           4       0.44      0.45      0.44        47\n",
      "\n",
      "    accuracy                           0.41       200\n",
      "   macro avg       0.41      0.41      0.41       200\n",
      "weighted avg       0.41      0.41      0.41       200\n",
      "\n"
     ]
    }
   ],
   "source": [
    "#Gradient Boosting\n",
    "\n",
    "from sklearn.ensemble import GradientBoostingClassifier\n",
    "\n",
    "gb_param_space = {\n",
    "    'n_estimators': lambda trial: trial.suggest_int('n_estimators', 50, 200),\n",
    "    'learning_rate': lambda trial: trial.suggest_loguniform('learning_rate', 0.01, 0.1),\n",
    "    'max_depth': lambda trial: trial.suggest_int('max_depth', 2, 10)\n",
    "}\n",
    "gb_best_params = optimize_model(GradientBoostingClassifier, gb_param_space)\n",
    "gb_pipeline = evaluate_model(GradientBoostingClassifier, gb_best_params, \"Gradient Boosting\")\n"
   ]
  },
  {
   "cell_type": "code",
   "execution_count": 10,
   "metadata": {},
   "outputs": [
    {
     "name": "stderr",
     "output_type": "stream",
     "text": [
      "[I 2024-12-09 16:37:49,591] A new study created in memory with name: no-name-0407094d-a0d3-457f-9eb8-3010b4037eea\n",
      "C:\\Users\\Administrator\\AppData\\Local\\Temp\\ipykernel_14812\\1653340466.py:15: FutureWarning: suggest_loguniform has been deprecated in v3.0.0. This feature will be removed in v6.0.0. See https://github.com/optuna/optuna/releases/tag/v3.0.0. Use suggest_float(..., log=True) instead.\n",
      "  'alpha': lambda trial: trial.suggest_loguniform('alpha', 1e-5, 1e-1),\n",
      "C:\\Users\\Administrator\\AppData\\Local\\Temp\\ipykernel_14812\\1653340466.py:16: FutureWarning: suggest_loguniform has been deprecated in v3.0.0. This feature will be removed in v6.0.0. See https://github.com/optuna/optuna/releases/tag/v3.0.0. Use suggest_float(..., log=True) instead.\n",
      "  'learning_rate_init': lambda trial: trial.suggest_loguniform('learning_rate_init', 1e-4, 1e-1)\n"
     ]
    },
    {
     "name": "stdout",
     "output_type": "stream",
     "text": [
      "Optimized parameters: {'hidden_layer_sizes': (86, 91), 'alpha': 0.0002863810830491898, 'learning_rate_init': 0.0028651921813825673}\n"
     ]
    },
    {
     "name": "stderr",
     "output_type": "stream",
     "text": [
      "c:\\Users\\Administrator\\Desktop\\Proyecto_ML Refuerzo\\ML_Refuerzo_Esther\\venv\\Lib\\site-packages\\sklearn\\neural_network\\_multilayer_perceptron.py:690: ConvergenceWarning: Stochastic Optimizer: Maximum iterations (200) reached and the optimization hasn't converged yet.\n",
      "  warnings.warn(\n",
      "c:\\Users\\Administrator\\Desktop\\Proyecto_ML Refuerzo\\ML_Refuerzo_Esther\\venv\\Lib\\site-packages\\sklearn\\neural_network\\_multilayer_perceptron.py:690: ConvergenceWarning: Stochastic Optimizer: Maximum iterations (200) reached and the optimization hasn't converged yet.\n",
      "  warnings.warn(\n",
      "c:\\Users\\Administrator\\Desktop\\Proyecto_ML Refuerzo\\ML_Refuerzo_Esther\\venv\\Lib\\site-packages\\sklearn\\neural_network\\_multilayer_perceptron.py:690: ConvergenceWarning: Stochastic Optimizer: Maximum iterations (200) reached and the optimization hasn't converged yet.\n",
      "  warnings.warn(\n",
      "c:\\Users\\Administrator\\Desktop\\Proyecto_ML Refuerzo\\ML_Refuerzo_Esther\\venv\\Lib\\site-packages\\sklearn\\neural_network\\_multilayer_perceptron.py:690: ConvergenceWarning: Stochastic Optimizer: Maximum iterations (200) reached and the optimization hasn't converged yet.\n",
      "  warnings.warn(\n",
      "c:\\Users\\Administrator\\Desktop\\Proyecto_ML Refuerzo\\ML_Refuerzo_Esther\\venv\\Lib\\site-packages\\sklearn\\neural_network\\_multilayer_perceptron.py:690: ConvergenceWarning: Stochastic Optimizer: Maximum iterations (200) reached and the optimization hasn't converged yet.\n",
      "  warnings.warn(\n",
      "[I 2024-12-09 16:37:55,323] Trial 0 finished with value: 0.34125 and parameters: {'n_units_l1': 86, 'n_units_l2': 91, 'alpha': 0.0002863810830491898, 'learning_rate_init': 0.0028651921813825673}. Best is trial 0 with value: 0.34125.\n",
      "C:\\Users\\Administrator\\AppData\\Local\\Temp\\ipykernel_14812\\1653340466.py:15: FutureWarning: suggest_loguniform has been deprecated in v3.0.0. This feature will be removed in v6.0.0. See https://github.com/optuna/optuna/releases/tag/v3.0.0. Use suggest_float(..., log=True) instead.\n",
      "  'alpha': lambda trial: trial.suggest_loguniform('alpha', 1e-5, 1e-1),\n",
      "C:\\Users\\Administrator\\AppData\\Local\\Temp\\ipykernel_14812\\1653340466.py:16: FutureWarning: suggest_loguniform has been deprecated in v3.0.0. This feature will be removed in v6.0.0. See https://github.com/optuna/optuna/releases/tag/v3.0.0. Use suggest_float(..., log=True) instead.\n",
      "  'learning_rate_init': lambda trial: trial.suggest_loguniform('learning_rate_init', 1e-4, 1e-1)\n"
     ]
    },
    {
     "name": "stdout",
     "output_type": "stream",
     "text": [
      "Optimized parameters: {'hidden_layer_sizes': (89, 93), 'alpha': 0.0036844120314429556, 'learning_rate_init': 0.037706075352101326}\n"
     ]
    },
    {
     "name": "stderr",
     "output_type": "stream",
     "text": [
      "[I 2024-12-09 16:37:57,140] Trial 1 finished with value: 0.3075 and parameters: {'n_units_l1': 89, 'n_units_l2': 93, 'alpha': 0.0036844120314429556, 'learning_rate_init': 0.037706075352101326}. Best is trial 0 with value: 0.34125.\n",
      "C:\\Users\\Administrator\\AppData\\Local\\Temp\\ipykernel_14812\\1653340466.py:15: FutureWarning: suggest_loguniform has been deprecated in v3.0.0. This feature will be removed in v6.0.0. See https://github.com/optuna/optuna/releases/tag/v3.0.0. Use suggest_float(..., log=True) instead.\n",
      "  'alpha': lambda trial: trial.suggest_loguniform('alpha', 1e-5, 1e-1),\n",
      "C:\\Users\\Administrator\\AppData\\Local\\Temp\\ipykernel_14812\\1653340466.py:16: FutureWarning: suggest_loguniform has been deprecated in v3.0.0. This feature will be removed in v6.0.0. See https://github.com/optuna/optuna/releases/tag/v3.0.0. Use suggest_float(..., log=True) instead.\n",
      "  'learning_rate_init': lambda trial: trial.suggest_loguniform('learning_rate_init', 1e-4, 1e-1)\n"
     ]
    },
    {
     "name": "stdout",
     "output_type": "stream",
     "text": [
      "Optimized parameters: {'hidden_layer_sizes': (88, 73), 'alpha': 0.00010335508034687469, 'learning_rate_init': 0.06431892756876074}\n"
     ]
    },
    {
     "name": "stderr",
     "output_type": "stream",
     "text": [
      "[I 2024-12-09 16:37:58,391] Trial 2 finished with value: 0.3175 and parameters: {'n_units_l1': 88, 'n_units_l2': 73, 'alpha': 0.00010335508034687469, 'learning_rate_init': 0.06431892756876074}. Best is trial 0 with value: 0.34125.\n",
      "C:\\Users\\Administrator\\AppData\\Local\\Temp\\ipykernel_14812\\1653340466.py:15: FutureWarning: suggest_loguniform has been deprecated in v3.0.0. This feature will be removed in v6.0.0. See https://github.com/optuna/optuna/releases/tag/v3.0.0. Use suggest_float(..., log=True) instead.\n",
      "  'alpha': lambda trial: trial.suggest_loguniform('alpha', 1e-5, 1e-1),\n",
      "C:\\Users\\Administrator\\AppData\\Local\\Temp\\ipykernel_14812\\1653340466.py:16: FutureWarning: suggest_loguniform has been deprecated in v3.0.0. This feature will be removed in v6.0.0. See https://github.com/optuna/optuna/releases/tag/v3.0.0. Use suggest_float(..., log=True) instead.\n",
      "  'learning_rate_init': lambda trial: trial.suggest_loguniform('learning_rate_init', 1e-4, 1e-1)\n"
     ]
    },
    {
     "name": "stdout",
     "output_type": "stream",
     "text": [
      "Optimized parameters: {'hidden_layer_sizes': (95, 60), 'alpha': 0.07493768438083526, 'learning_rate_init': 0.0007262655328327869}\n"
     ]
    },
    {
     "name": "stderr",
     "output_type": "stream",
     "text": [
      "c:\\Users\\Administrator\\Desktop\\Proyecto_ML Refuerzo\\ML_Refuerzo_Esther\\venv\\Lib\\site-packages\\sklearn\\neural_network\\_multilayer_perceptron.py:690: ConvergenceWarning: Stochastic Optimizer: Maximum iterations (200) reached and the optimization hasn't converged yet.\n",
      "  warnings.warn(\n",
      "c:\\Users\\Administrator\\Desktop\\Proyecto_ML Refuerzo\\ML_Refuerzo_Esther\\venv\\Lib\\site-packages\\sklearn\\neural_network\\_multilayer_perceptron.py:690: ConvergenceWarning: Stochastic Optimizer: Maximum iterations (200) reached and the optimization hasn't converged yet.\n",
      "  warnings.warn(\n",
      "c:\\Users\\Administrator\\Desktop\\Proyecto_ML Refuerzo\\ML_Refuerzo_Esther\\venv\\Lib\\site-packages\\sklearn\\neural_network\\_multilayer_perceptron.py:690: ConvergenceWarning: Stochastic Optimizer: Maximum iterations (200) reached and the optimization hasn't converged yet.\n",
      "  warnings.warn(\n",
      "c:\\Users\\Administrator\\Desktop\\Proyecto_ML Refuerzo\\ML_Refuerzo_Esther\\venv\\Lib\\site-packages\\sklearn\\neural_network\\_multilayer_perceptron.py:690: ConvergenceWarning: Stochastic Optimizer: Maximum iterations (200) reached and the optimization hasn't converged yet.\n",
      "  warnings.warn(\n",
      "c:\\Users\\Administrator\\Desktop\\Proyecto_ML Refuerzo\\ML_Refuerzo_Esther\\venv\\Lib\\site-packages\\sklearn\\neural_network\\_multilayer_perceptron.py:690: ConvergenceWarning: Stochastic Optimizer: Maximum iterations (200) reached and the optimization hasn't converged yet.\n",
      "  warnings.warn(\n",
      "[I 2024-12-09 16:38:03,748] Trial 3 finished with value: 0.39125 and parameters: {'n_units_l1': 95, 'n_units_l2': 60, 'alpha': 0.07493768438083526, 'learning_rate_init': 0.0007262655328327869}. Best is trial 3 with value: 0.39125.\n",
      "C:\\Users\\Administrator\\AppData\\Local\\Temp\\ipykernel_14812\\1653340466.py:15: FutureWarning: suggest_loguniform has been deprecated in v3.0.0. This feature will be removed in v6.0.0. See https://github.com/optuna/optuna/releases/tag/v3.0.0. Use suggest_float(..., log=True) instead.\n",
      "  'alpha': lambda trial: trial.suggest_loguniform('alpha', 1e-5, 1e-1),\n",
      "C:\\Users\\Administrator\\AppData\\Local\\Temp\\ipykernel_14812\\1653340466.py:16: FutureWarning: suggest_loguniform has been deprecated in v3.0.0. This feature will be removed in v6.0.0. See https://github.com/optuna/optuna/releases/tag/v3.0.0. Use suggest_float(..., log=True) instead.\n",
      "  'learning_rate_init': lambda trial: trial.suggest_loguniform('learning_rate_init', 1e-4, 1e-1)\n"
     ]
    },
    {
     "name": "stdout",
     "output_type": "stream",
     "text": [
      "Optimized parameters: {'hidden_layer_sizes': (50, 74), 'alpha': 0.015881610667419957, 'learning_rate_init': 0.019509595628607913}\n"
     ]
    },
    {
     "name": "stderr",
     "output_type": "stream",
     "text": [
      "[I 2024-12-09 16:38:05,933] Trial 4 finished with value: 0.3525 and parameters: {'n_units_l1': 50, 'n_units_l2': 74, 'alpha': 0.015881610667419957, 'learning_rate_init': 0.019509595628607913}. Best is trial 3 with value: 0.39125.\n",
      "C:\\Users\\Administrator\\AppData\\Local\\Temp\\ipykernel_14812\\1653340466.py:15: FutureWarning: suggest_loguniform has been deprecated in v3.0.0. This feature will be removed in v6.0.0. See https://github.com/optuna/optuna/releases/tag/v3.0.0. Use suggest_float(..., log=True) instead.\n",
      "  'alpha': lambda trial: trial.suggest_loguniform('alpha', 1e-5, 1e-1),\n",
      "C:\\Users\\Administrator\\AppData\\Local\\Temp\\ipykernel_14812\\1653340466.py:16: FutureWarning: suggest_loguniform has been deprecated in v3.0.0. This feature will be removed in v6.0.0. See https://github.com/optuna/optuna/releases/tag/v3.0.0. Use suggest_float(..., log=True) instead.\n",
      "  'learning_rate_init': lambda trial: trial.suggest_loguniform('learning_rate_init', 1e-4, 1e-1)\n"
     ]
    },
    {
     "name": "stdout",
     "output_type": "stream",
     "text": [
      "Optimized parameters: {'hidden_layer_sizes': (59, 34), 'alpha': 6.812433435971716e-05, 'learning_rate_init': 0.00034050929859961873}\n"
     ]
    },
    {
     "name": "stderr",
     "output_type": "stream",
     "text": [
      "c:\\Users\\Administrator\\Desktop\\Proyecto_ML Refuerzo\\ML_Refuerzo_Esther\\venv\\Lib\\site-packages\\sklearn\\neural_network\\_multilayer_perceptron.py:690: ConvergenceWarning: Stochastic Optimizer: Maximum iterations (200) reached and the optimization hasn't converged yet.\n",
      "  warnings.warn(\n",
      "c:\\Users\\Administrator\\Desktop\\Proyecto_ML Refuerzo\\ML_Refuerzo_Esther\\venv\\Lib\\site-packages\\sklearn\\neural_network\\_multilayer_perceptron.py:690: ConvergenceWarning: Stochastic Optimizer: Maximum iterations (200) reached and the optimization hasn't converged yet.\n",
      "  warnings.warn(\n",
      "c:\\Users\\Administrator\\Desktop\\Proyecto_ML Refuerzo\\ML_Refuerzo_Esther\\venv\\Lib\\site-packages\\sklearn\\neural_network\\_multilayer_perceptron.py:690: ConvergenceWarning: Stochastic Optimizer: Maximum iterations (200) reached and the optimization hasn't converged yet.\n",
      "  warnings.warn(\n",
      "c:\\Users\\Administrator\\Desktop\\Proyecto_ML Refuerzo\\ML_Refuerzo_Esther\\venv\\Lib\\site-packages\\sklearn\\neural_network\\_multilayer_perceptron.py:690: ConvergenceWarning: Stochastic Optimizer: Maximum iterations (200) reached and the optimization hasn't converged yet.\n",
      "  warnings.warn(\n",
      "c:\\Users\\Administrator\\Desktop\\Proyecto_ML Refuerzo\\ML_Refuerzo_Esther\\venv\\Lib\\site-packages\\sklearn\\neural_network\\_multilayer_perceptron.py:690: ConvergenceWarning: Stochastic Optimizer: Maximum iterations (200) reached and the optimization hasn't converged yet.\n",
      "  warnings.warn(\n",
      "[I 2024-12-09 16:38:08,927] Trial 5 finished with value: 0.3875 and parameters: {'n_units_l1': 59, 'n_units_l2': 34, 'alpha': 6.812433435971716e-05, 'learning_rate_init': 0.00034050929859961873}. Best is trial 3 with value: 0.39125.\n",
      "C:\\Users\\Administrator\\AppData\\Local\\Temp\\ipykernel_14812\\1653340466.py:15: FutureWarning: suggest_loguniform has been deprecated in v3.0.0. This feature will be removed in v6.0.0. See https://github.com/optuna/optuna/releases/tag/v3.0.0. Use suggest_float(..., log=True) instead.\n",
      "  'alpha': lambda trial: trial.suggest_loguniform('alpha', 1e-5, 1e-1),\n",
      "C:\\Users\\Administrator\\AppData\\Local\\Temp\\ipykernel_14812\\1653340466.py:16: FutureWarning: suggest_loguniform has been deprecated in v3.0.0. This feature will be removed in v6.0.0. See https://github.com/optuna/optuna/releases/tag/v3.0.0. Use suggest_float(..., log=True) instead.\n",
      "  'learning_rate_init': lambda trial: trial.suggest_loguniform('learning_rate_init', 1e-4, 1e-1)\n"
     ]
    },
    {
     "name": "stdout",
     "output_type": "stream",
     "text": [
      "Optimized parameters: {'hidden_layer_sizes': (81, 44), 'alpha': 2.5163051089490544e-05, 'learning_rate_init': 0.005058688994217675}\n"
     ]
    },
    {
     "name": "stderr",
     "output_type": "stream",
     "text": [
      "c:\\Users\\Administrator\\Desktop\\Proyecto_ML Refuerzo\\ML_Refuerzo_Esther\\venv\\Lib\\site-packages\\sklearn\\neural_network\\_multilayer_perceptron.py:690: ConvergenceWarning: Stochastic Optimizer: Maximum iterations (200) reached and the optimization hasn't converged yet.\n",
      "  warnings.warn(\n",
      "c:\\Users\\Administrator\\Desktop\\Proyecto_ML Refuerzo\\ML_Refuerzo_Esther\\venv\\Lib\\site-packages\\sklearn\\neural_network\\_multilayer_perceptron.py:690: ConvergenceWarning: Stochastic Optimizer: Maximum iterations (200) reached and the optimization hasn't converged yet.\n",
      "  warnings.warn(\n",
      "[I 2024-12-09 16:38:12,938] Trial 6 finished with value: 0.34249999999999997 and parameters: {'n_units_l1': 81, 'n_units_l2': 44, 'alpha': 2.5163051089490544e-05, 'learning_rate_init': 0.005058688994217675}. Best is trial 3 with value: 0.39125.\n",
      "C:\\Users\\Administrator\\AppData\\Local\\Temp\\ipykernel_14812\\1653340466.py:15: FutureWarning: suggest_loguniform has been deprecated in v3.0.0. This feature will be removed in v6.0.0. See https://github.com/optuna/optuna/releases/tag/v3.0.0. Use suggest_float(..., log=True) instead.\n",
      "  'alpha': lambda trial: trial.suggest_loguniform('alpha', 1e-5, 1e-1),\n",
      "C:\\Users\\Administrator\\AppData\\Local\\Temp\\ipykernel_14812\\1653340466.py:16: FutureWarning: suggest_loguniform has been deprecated in v3.0.0. This feature will be removed in v6.0.0. See https://github.com/optuna/optuna/releases/tag/v3.0.0. Use suggest_float(..., log=True) instead.\n",
      "  'learning_rate_init': lambda trial: trial.suggest_loguniform('learning_rate_init', 1e-4, 1e-1)\n"
     ]
    },
    {
     "name": "stdout",
     "output_type": "stream",
     "text": [
      "Optimized parameters: {'hidden_layer_sizes': (131, 52), 'alpha': 5.0016896678426785e-05, 'learning_rate_init': 0.011983829916372103}\n"
     ]
    },
    {
     "name": "stderr",
     "output_type": "stream",
     "text": [
      "[I 2024-12-09 16:38:15,692] Trial 7 finished with value: 0.33374999999999994 and parameters: {'n_units_l1': 131, 'n_units_l2': 52, 'alpha': 5.0016896678426785e-05, 'learning_rate_init': 0.011983829916372103}. Best is trial 3 with value: 0.39125.\n",
      "C:\\Users\\Administrator\\AppData\\Local\\Temp\\ipykernel_14812\\1653340466.py:15: FutureWarning: suggest_loguniform has been deprecated in v3.0.0. This feature will be removed in v6.0.0. See https://github.com/optuna/optuna/releases/tag/v3.0.0. Use suggest_float(..., log=True) instead.\n",
      "  'alpha': lambda trial: trial.suggest_loguniform('alpha', 1e-5, 1e-1),\n",
      "C:\\Users\\Administrator\\AppData\\Local\\Temp\\ipykernel_14812\\1653340466.py:16: FutureWarning: suggest_loguniform has been deprecated in v3.0.0. This feature will be removed in v6.0.0. See https://github.com/optuna/optuna/releases/tag/v3.0.0. Use suggest_float(..., log=True) instead.\n",
      "  'learning_rate_init': lambda trial: trial.suggest_loguniform('learning_rate_init', 1e-4, 1e-1)\n"
     ]
    },
    {
     "name": "stdout",
     "output_type": "stream",
     "text": [
      "Optimized parameters: {'hidden_layer_sizes': (126, 74), 'alpha': 0.00012085031570059084, 'learning_rate_init': 0.0045299920774053756}\n"
     ]
    },
    {
     "name": "stderr",
     "output_type": "stream",
     "text": [
      "[I 2024-12-09 16:38:20,719] Trial 8 finished with value: 0.31875 and parameters: {'n_units_l1': 126, 'n_units_l2': 74, 'alpha': 0.00012085031570059084, 'learning_rate_init': 0.0045299920774053756}. Best is trial 3 with value: 0.39125.\n",
      "C:\\Users\\Administrator\\AppData\\Local\\Temp\\ipykernel_14812\\1653340466.py:15: FutureWarning: suggest_loguniform has been deprecated in v3.0.0. This feature will be removed in v6.0.0. See https://github.com/optuna/optuna/releases/tag/v3.0.0. Use suggest_float(..., log=True) instead.\n",
      "  'alpha': lambda trial: trial.suggest_loguniform('alpha', 1e-5, 1e-1),\n",
      "C:\\Users\\Administrator\\AppData\\Local\\Temp\\ipykernel_14812\\1653340466.py:16: FutureWarning: suggest_loguniform has been deprecated in v3.0.0. This feature will be removed in v6.0.0. See https://github.com/optuna/optuna/releases/tag/v3.0.0. Use suggest_float(..., log=True) instead.\n",
      "  'learning_rate_init': lambda trial: trial.suggest_loguniform('learning_rate_init', 1e-4, 1e-1)\n"
     ]
    },
    {
     "name": "stdout",
     "output_type": "stream",
     "text": [
      "Optimized parameters: {'hidden_layer_sizes': (56, 78), 'alpha': 0.005924744627483193, 'learning_rate_init': 0.0010843025326785576}\n"
     ]
    },
    {
     "name": "stderr",
     "output_type": "stream",
     "text": [
      "c:\\Users\\Administrator\\Desktop\\Proyecto_ML Refuerzo\\ML_Refuerzo_Esther\\venv\\Lib\\site-packages\\sklearn\\neural_network\\_multilayer_perceptron.py:690: ConvergenceWarning: Stochastic Optimizer: Maximum iterations (200) reached and the optimization hasn't converged yet.\n",
      "  warnings.warn(\n",
      "c:\\Users\\Administrator\\Desktop\\Proyecto_ML Refuerzo\\ML_Refuerzo_Esther\\venv\\Lib\\site-packages\\sklearn\\neural_network\\_multilayer_perceptron.py:690: ConvergenceWarning: Stochastic Optimizer: Maximum iterations (200) reached and the optimization hasn't converged yet.\n",
      "  warnings.warn(\n",
      "c:\\Users\\Administrator\\Desktop\\Proyecto_ML Refuerzo\\ML_Refuerzo_Esther\\venv\\Lib\\site-packages\\sklearn\\neural_network\\_multilayer_perceptron.py:690: ConvergenceWarning: Stochastic Optimizer: Maximum iterations (200) reached and the optimization hasn't converged yet.\n",
      "  warnings.warn(\n",
      "c:\\Users\\Administrator\\Desktop\\Proyecto_ML Refuerzo\\ML_Refuerzo_Esther\\venv\\Lib\\site-packages\\sklearn\\neural_network\\_multilayer_perceptron.py:690: ConvergenceWarning: Stochastic Optimizer: Maximum iterations (200) reached and the optimization hasn't converged yet.\n",
      "  warnings.warn(\n",
      "c:\\Users\\Administrator\\Desktop\\Proyecto_ML Refuerzo\\ML_Refuerzo_Esther\\venv\\Lib\\site-packages\\sklearn\\neural_network\\_multilayer_perceptron.py:690: ConvergenceWarning: Stochastic Optimizer: Maximum iterations (200) reached and the optimization hasn't converged yet.\n",
      "  warnings.warn(\n",
      "[I 2024-12-09 16:38:25,199] Trial 9 finished with value: 0.36375 and parameters: {'n_units_l1': 56, 'n_units_l2': 78, 'alpha': 0.005924744627483193, 'learning_rate_init': 0.0010843025326785576}. Best is trial 3 with value: 0.39125.\n",
      "C:\\Users\\Administrator\\AppData\\Local\\Temp\\ipykernel_14812\\1653340466.py:15: FutureWarning: suggest_loguniform has been deprecated in v3.0.0. This feature will be removed in v6.0.0. See https://github.com/optuna/optuna/releases/tag/v3.0.0. Use suggest_float(..., log=True) instead.\n",
      "  'alpha': lambda trial: trial.suggest_loguniform('alpha', 1e-5, 1e-1),\n",
      "C:\\Users\\Administrator\\AppData\\Local\\Temp\\ipykernel_14812\\1653340466.py:16: FutureWarning: suggest_loguniform has been deprecated in v3.0.0. This feature will be removed in v6.0.0. See https://github.com/optuna/optuna/releases/tag/v3.0.0. Use suggest_float(..., log=True) instead.\n",
      "  'learning_rate_init': lambda trial: trial.suggest_loguniform('learning_rate_init', 1e-4, 1e-1)\n"
     ]
    },
    {
     "name": "stdout",
     "output_type": "stream",
     "text": [
      "Optimized parameters: {'hidden_layer_sizes': (179, 54), 'alpha': 0.08418244039835947, 'learning_rate_init': 0.00010184972772104006}\n"
     ]
    },
    {
     "name": "stderr",
     "output_type": "stream",
     "text": [
      "c:\\Users\\Administrator\\Desktop\\Proyecto_ML Refuerzo\\ML_Refuerzo_Esther\\venv\\Lib\\site-packages\\sklearn\\neural_network\\_multilayer_perceptron.py:690: ConvergenceWarning: Stochastic Optimizer: Maximum iterations (200) reached and the optimization hasn't converged yet.\n",
      "  warnings.warn(\n",
      "c:\\Users\\Administrator\\Desktop\\Proyecto_ML Refuerzo\\ML_Refuerzo_Esther\\venv\\Lib\\site-packages\\sklearn\\neural_network\\_multilayer_perceptron.py:690: ConvergenceWarning: Stochastic Optimizer: Maximum iterations (200) reached and the optimization hasn't converged yet.\n",
      "  warnings.warn(\n",
      "c:\\Users\\Administrator\\Desktop\\Proyecto_ML Refuerzo\\ML_Refuerzo_Esther\\venv\\Lib\\site-packages\\sklearn\\neural_network\\_multilayer_perceptron.py:690: ConvergenceWarning: Stochastic Optimizer: Maximum iterations (200) reached and the optimization hasn't converged yet.\n",
      "  warnings.warn(\n",
      "c:\\Users\\Administrator\\Desktop\\Proyecto_ML Refuerzo\\ML_Refuerzo_Esther\\venv\\Lib\\site-packages\\sklearn\\neural_network\\_multilayer_perceptron.py:690: ConvergenceWarning: Stochastic Optimizer: Maximum iterations (200) reached and the optimization hasn't converged yet.\n",
      "  warnings.warn(\n",
      "c:\\Users\\Administrator\\Desktop\\Proyecto_ML Refuerzo\\ML_Refuerzo_Esther\\venv\\Lib\\site-packages\\sklearn\\neural_network\\_multilayer_perceptron.py:690: ConvergenceWarning: Stochastic Optimizer: Maximum iterations (200) reached and the optimization hasn't converged yet.\n",
      "  warnings.warn(\n",
      "[I 2024-12-09 16:38:31,609] Trial 10 finished with value: 0.3825 and parameters: {'n_units_l1': 179, 'n_units_l2': 54, 'alpha': 0.08418244039835947, 'learning_rate_init': 0.00010184972772104006}. Best is trial 3 with value: 0.39125.\n",
      "C:\\Users\\Administrator\\AppData\\Local\\Temp\\ipykernel_14812\\1653340466.py:15: FutureWarning: suggest_loguniform has been deprecated in v3.0.0. This feature will be removed in v6.0.0. See https://github.com/optuna/optuna/releases/tag/v3.0.0. Use suggest_float(..., log=True) instead.\n",
      "  'alpha': lambda trial: trial.suggest_loguniform('alpha', 1e-5, 1e-1),\n",
      "C:\\Users\\Administrator\\AppData\\Local\\Temp\\ipykernel_14812\\1653340466.py:16: FutureWarning: suggest_loguniform has been deprecated in v3.0.0. This feature will be removed in v6.0.0. See https://github.com/optuna/optuna/releases/tag/v3.0.0. Use suggest_float(..., log=True) instead.\n",
      "  'learning_rate_init': lambda trial: trial.suggest_loguniform('learning_rate_init', 1e-4, 1e-1)\n"
     ]
    },
    {
     "name": "stdout",
     "output_type": "stream",
     "text": [
      "Optimized parameters: {'hidden_layer_sizes': (109, 27), 'alpha': 0.0006720952444880195, 'learning_rate_init': 0.00035129179379245445}\n"
     ]
    },
    {
     "name": "stderr",
     "output_type": "stream",
     "text": [
      "c:\\Users\\Administrator\\Desktop\\Proyecto_ML Refuerzo\\ML_Refuerzo_Esther\\venv\\Lib\\site-packages\\sklearn\\neural_network\\_multilayer_perceptron.py:690: ConvergenceWarning: Stochastic Optimizer: Maximum iterations (200) reached and the optimization hasn't converged yet.\n",
      "  warnings.warn(\n",
      "c:\\Users\\Administrator\\Desktop\\Proyecto_ML Refuerzo\\ML_Refuerzo_Esther\\venv\\Lib\\site-packages\\sklearn\\neural_network\\_multilayer_perceptron.py:690: ConvergenceWarning: Stochastic Optimizer: Maximum iterations (200) reached and the optimization hasn't converged yet.\n",
      "  warnings.warn(\n",
      "c:\\Users\\Administrator\\Desktop\\Proyecto_ML Refuerzo\\ML_Refuerzo_Esther\\venv\\Lib\\site-packages\\sklearn\\neural_network\\_multilayer_perceptron.py:690: ConvergenceWarning: Stochastic Optimizer: Maximum iterations (200) reached and the optimization hasn't converged yet.\n",
      "  warnings.warn(\n",
      "c:\\Users\\Administrator\\Desktop\\Proyecto_ML Refuerzo\\ML_Refuerzo_Esther\\venv\\Lib\\site-packages\\sklearn\\neural_network\\_multilayer_perceptron.py:690: ConvergenceWarning: Stochastic Optimizer: Maximum iterations (200) reached and the optimization hasn't converged yet.\n",
      "  warnings.warn(\n",
      "c:\\Users\\Administrator\\Desktop\\Proyecto_ML Refuerzo\\ML_Refuerzo_Esther\\venv\\Lib\\site-packages\\sklearn\\neural_network\\_multilayer_perceptron.py:690: ConvergenceWarning: Stochastic Optimizer: Maximum iterations (200) reached and the optimization hasn't converged yet.\n",
      "  warnings.warn(\n",
      "[I 2024-12-09 16:38:35,379] Trial 11 finished with value: 0.3925 and parameters: {'n_units_l1': 109, 'n_units_l2': 27, 'alpha': 0.0006720952444880195, 'learning_rate_init': 0.00035129179379245445}. Best is trial 11 with value: 0.3925.\n",
      "C:\\Users\\Administrator\\AppData\\Local\\Temp\\ipykernel_14812\\1653340466.py:15: FutureWarning: suggest_loguniform has been deprecated in v3.0.0. This feature will be removed in v6.0.0. See https://github.com/optuna/optuna/releases/tag/v3.0.0. Use suggest_float(..., log=True) instead.\n",
      "  'alpha': lambda trial: trial.suggest_loguniform('alpha', 1e-5, 1e-1),\n",
      "C:\\Users\\Administrator\\AppData\\Local\\Temp\\ipykernel_14812\\1653340466.py:16: FutureWarning: suggest_loguniform has been deprecated in v3.0.0. This feature will be removed in v6.0.0. See https://github.com/optuna/optuna/releases/tag/v3.0.0. Use suggest_float(..., log=True) instead.\n",
      "  'learning_rate_init': lambda trial: trial.suggest_loguniform('learning_rate_init', 1e-4, 1e-1)\n"
     ]
    },
    {
     "name": "stdout",
     "output_type": "stream",
     "text": [
      "Optimized parameters: {'hidden_layer_sizes': (156, 25), 'alpha': 0.0009646166040386892, 'learning_rate_init': 0.00052075078400444}\n"
     ]
    },
    {
     "name": "stderr",
     "output_type": "stream",
     "text": [
      "c:\\Users\\Administrator\\Desktop\\Proyecto_ML Refuerzo\\ML_Refuerzo_Esther\\venv\\Lib\\site-packages\\sklearn\\neural_network\\_multilayer_perceptron.py:690: ConvergenceWarning: Stochastic Optimizer: Maximum iterations (200) reached and the optimization hasn't converged yet.\n",
      "  warnings.warn(\n",
      "c:\\Users\\Administrator\\Desktop\\Proyecto_ML Refuerzo\\ML_Refuerzo_Esther\\venv\\Lib\\site-packages\\sklearn\\neural_network\\_multilayer_perceptron.py:690: ConvergenceWarning: Stochastic Optimizer: Maximum iterations (200) reached and the optimization hasn't converged yet.\n",
      "  warnings.warn(\n",
      "c:\\Users\\Administrator\\Desktop\\Proyecto_ML Refuerzo\\ML_Refuerzo_Esther\\venv\\Lib\\site-packages\\sklearn\\neural_network\\_multilayer_perceptron.py:690: ConvergenceWarning: Stochastic Optimizer: Maximum iterations (200) reached and the optimization hasn't converged yet.\n",
      "  warnings.warn(\n",
      "c:\\Users\\Administrator\\Desktop\\Proyecto_ML Refuerzo\\ML_Refuerzo_Esther\\venv\\Lib\\site-packages\\sklearn\\neural_network\\_multilayer_perceptron.py:690: ConvergenceWarning: Stochastic Optimizer: Maximum iterations (200) reached and the optimization hasn't converged yet.\n",
      "  warnings.warn(\n",
      "c:\\Users\\Administrator\\Desktop\\Proyecto_ML Refuerzo\\ML_Refuerzo_Esther\\venv\\Lib\\site-packages\\sklearn\\neural_network\\_multilayer_perceptron.py:690: ConvergenceWarning: Stochastic Optimizer: Maximum iterations (200) reached and the optimization hasn't converged yet.\n",
      "  warnings.warn(\n",
      "[I 2024-12-09 16:38:39,601] Trial 12 finished with value: 0.37499999999999994 and parameters: {'n_units_l1': 156, 'n_units_l2': 25, 'alpha': 0.0009646166040386892, 'learning_rate_init': 0.00052075078400444}. Best is trial 11 with value: 0.3925.\n",
      "C:\\Users\\Administrator\\AppData\\Local\\Temp\\ipykernel_14812\\1653340466.py:15: FutureWarning: suggest_loguniform has been deprecated in v3.0.0. This feature will be removed in v6.0.0. See https://github.com/optuna/optuna/releases/tag/v3.0.0. Use suggest_float(..., log=True) instead.\n",
      "  'alpha': lambda trial: trial.suggest_loguniform('alpha', 1e-5, 1e-1),\n",
      "C:\\Users\\Administrator\\AppData\\Local\\Temp\\ipykernel_14812\\1653340466.py:16: FutureWarning: suggest_loguniform has been deprecated in v3.0.0. This feature will be removed in v6.0.0. See https://github.com/optuna/optuna/releases/tag/v3.0.0. Use suggest_float(..., log=True) instead.\n",
      "  'learning_rate_init': lambda trial: trial.suggest_loguniform('learning_rate_init', 1e-4, 1e-1)\n"
     ]
    },
    {
     "name": "stdout",
     "output_type": "stream",
     "text": [
      "Optimized parameters: {'hidden_layer_sizes': (110, 38), 'alpha': 0.09772526968531298, 'learning_rate_init': 0.00012955652827609617}\n"
     ]
    },
    {
     "name": "stderr",
     "output_type": "stream",
     "text": [
      "c:\\Users\\Administrator\\Desktop\\Proyecto_ML Refuerzo\\ML_Refuerzo_Esther\\venv\\Lib\\site-packages\\sklearn\\neural_network\\_multilayer_perceptron.py:690: ConvergenceWarning: Stochastic Optimizer: Maximum iterations (200) reached and the optimization hasn't converged yet.\n",
      "  warnings.warn(\n",
      "c:\\Users\\Administrator\\Desktop\\Proyecto_ML Refuerzo\\ML_Refuerzo_Esther\\venv\\Lib\\site-packages\\sklearn\\neural_network\\_multilayer_perceptron.py:690: ConvergenceWarning: Stochastic Optimizer: Maximum iterations (200) reached and the optimization hasn't converged yet.\n",
      "  warnings.warn(\n",
      "c:\\Users\\Administrator\\Desktop\\Proyecto_ML Refuerzo\\ML_Refuerzo_Esther\\venv\\Lib\\site-packages\\sklearn\\neural_network\\_multilayer_perceptron.py:690: ConvergenceWarning: Stochastic Optimizer: Maximum iterations (200) reached and the optimization hasn't converged yet.\n",
      "  warnings.warn(\n",
      "c:\\Users\\Administrator\\Desktop\\Proyecto_ML Refuerzo\\ML_Refuerzo_Esther\\venv\\Lib\\site-packages\\sklearn\\neural_network\\_multilayer_perceptron.py:690: ConvergenceWarning: Stochastic Optimizer: Maximum iterations (200) reached and the optimization hasn't converged yet.\n",
      "  warnings.warn(\n",
      "c:\\Users\\Administrator\\Desktop\\Proyecto_ML Refuerzo\\ML_Refuerzo_Esther\\venv\\Lib\\site-packages\\sklearn\\neural_network\\_multilayer_perceptron.py:690: ConvergenceWarning: Stochastic Optimizer: Maximum iterations (200) reached and the optimization hasn't converged yet.\n",
      "  warnings.warn(\n",
      "[I 2024-12-09 16:38:44,342] Trial 13 finished with value: 0.40499999999999997 and parameters: {'n_units_l1': 110, 'n_units_l2': 38, 'alpha': 0.09772526968531298, 'learning_rate_init': 0.00012955652827609617}. Best is trial 13 with value: 0.40499999999999997.\n",
      "C:\\Users\\Administrator\\AppData\\Local\\Temp\\ipykernel_14812\\1653340466.py:15: FutureWarning: suggest_loguniform has been deprecated in v3.0.0. This feature will be removed in v6.0.0. See https://github.com/optuna/optuna/releases/tag/v3.0.0. Use suggest_float(..., log=True) instead.\n",
      "  'alpha': lambda trial: trial.suggest_loguniform('alpha', 1e-5, 1e-1),\n",
      "C:\\Users\\Administrator\\AppData\\Local\\Temp\\ipykernel_14812\\1653340466.py:16: FutureWarning: suggest_loguniform has been deprecated in v3.0.0. This feature will be removed in v6.0.0. See https://github.com/optuna/optuna/releases/tag/v3.0.0. Use suggest_float(..., log=True) instead.\n",
      "  'learning_rate_init': lambda trial: trial.suggest_loguniform('learning_rate_init', 1e-4, 1e-1)\n"
     ]
    },
    {
     "name": "stdout",
     "output_type": "stream",
     "text": [
      "Optimized parameters: {'hidden_layer_sizes': (112, 36), 'alpha': 0.0006638424842591359, 'learning_rate_init': 0.00011680632846285813}\n"
     ]
    },
    {
     "name": "stderr",
     "output_type": "stream",
     "text": [
      "c:\\Users\\Administrator\\Desktop\\Proyecto_ML Refuerzo\\ML_Refuerzo_Esther\\venv\\Lib\\site-packages\\sklearn\\neural_network\\_multilayer_perceptron.py:690: ConvergenceWarning: Stochastic Optimizer: Maximum iterations (200) reached and the optimization hasn't converged yet.\n",
      "  warnings.warn(\n",
      "c:\\Users\\Administrator\\Desktop\\Proyecto_ML Refuerzo\\ML_Refuerzo_Esther\\venv\\Lib\\site-packages\\sklearn\\neural_network\\_multilayer_perceptron.py:690: ConvergenceWarning: Stochastic Optimizer: Maximum iterations (200) reached and the optimization hasn't converged yet.\n",
      "  warnings.warn(\n",
      "c:\\Users\\Administrator\\Desktop\\Proyecto_ML Refuerzo\\ML_Refuerzo_Esther\\venv\\Lib\\site-packages\\sklearn\\neural_network\\_multilayer_perceptron.py:690: ConvergenceWarning: Stochastic Optimizer: Maximum iterations (200) reached and the optimization hasn't converged yet.\n",
      "  warnings.warn(\n",
      "c:\\Users\\Administrator\\Desktop\\Proyecto_ML Refuerzo\\ML_Refuerzo_Esther\\venv\\Lib\\site-packages\\sklearn\\neural_network\\_multilayer_perceptron.py:690: ConvergenceWarning: Stochastic Optimizer: Maximum iterations (200) reached and the optimization hasn't converged yet.\n",
      "  warnings.warn(\n",
      "c:\\Users\\Administrator\\Desktop\\Proyecto_ML Refuerzo\\ML_Refuerzo_Esther\\venv\\Lib\\site-packages\\sklearn\\neural_network\\_multilayer_perceptron.py:690: ConvergenceWarning: Stochastic Optimizer: Maximum iterations (200) reached and the optimization hasn't converged yet.\n",
      "  warnings.warn(\n",
      "[I 2024-12-09 16:38:48,747] Trial 14 finished with value: 0.38499999999999995 and parameters: {'n_units_l1': 112, 'n_units_l2': 36, 'alpha': 0.0006638424842591359, 'learning_rate_init': 0.00011680632846285813}. Best is trial 13 with value: 0.40499999999999997.\n",
      "C:\\Users\\Administrator\\AppData\\Local\\Temp\\ipykernel_14812\\1653340466.py:15: FutureWarning: suggest_loguniform has been deprecated in v3.0.0. This feature will be removed in v6.0.0. See https://github.com/optuna/optuna/releases/tag/v3.0.0. Use suggest_float(..., log=True) instead.\n",
      "  'alpha': lambda trial: trial.suggest_loguniform('alpha', 1e-5, 1e-1),\n",
      "C:\\Users\\Administrator\\AppData\\Local\\Temp\\ipykernel_14812\\1653340466.py:16: FutureWarning: suggest_loguniform has been deprecated in v3.0.0. This feature will be removed in v6.0.0. See https://github.com/optuna/optuna/releases/tag/v3.0.0. Use suggest_float(..., log=True) instead.\n",
      "  'learning_rate_init': lambda trial: trial.suggest_loguniform('learning_rate_init', 1e-4, 1e-1)\n"
     ]
    },
    {
     "name": "stdout",
     "output_type": "stream",
     "text": [
      "Optimized parameters: {'hidden_layer_sizes': (154, 25), 'alpha': 0.0032456230535392924, 'learning_rate_init': 0.00023065017785901522}\n"
     ]
    },
    {
     "name": "stderr",
     "output_type": "stream",
     "text": [
      "c:\\Users\\Administrator\\Desktop\\Proyecto_ML Refuerzo\\ML_Refuerzo_Esther\\venv\\Lib\\site-packages\\sklearn\\neural_network\\_multilayer_perceptron.py:690: ConvergenceWarning: Stochastic Optimizer: Maximum iterations (200) reached and the optimization hasn't converged yet.\n",
      "  warnings.warn(\n",
      "c:\\Users\\Administrator\\Desktop\\Proyecto_ML Refuerzo\\ML_Refuerzo_Esther\\venv\\Lib\\site-packages\\sklearn\\neural_network\\_multilayer_perceptron.py:690: ConvergenceWarning: Stochastic Optimizer: Maximum iterations (200) reached and the optimization hasn't converged yet.\n",
      "  warnings.warn(\n",
      "c:\\Users\\Administrator\\Desktop\\Proyecto_ML Refuerzo\\ML_Refuerzo_Esther\\venv\\Lib\\site-packages\\sklearn\\neural_network\\_multilayer_perceptron.py:690: ConvergenceWarning: Stochastic Optimizer: Maximum iterations (200) reached and the optimization hasn't converged yet.\n",
      "  warnings.warn(\n",
      "c:\\Users\\Administrator\\Desktop\\Proyecto_ML Refuerzo\\ML_Refuerzo_Esther\\venv\\Lib\\site-packages\\sklearn\\neural_network\\_multilayer_perceptron.py:690: ConvergenceWarning: Stochastic Optimizer: Maximum iterations (200) reached and the optimization hasn't converged yet.\n",
      "  warnings.warn(\n",
      "c:\\Users\\Administrator\\Desktop\\Proyecto_ML Refuerzo\\ML_Refuerzo_Esther\\venv\\Lib\\site-packages\\sklearn\\neural_network\\_multilayer_perceptron.py:690: ConvergenceWarning: Stochastic Optimizer: Maximum iterations (200) reached and the optimization hasn't converged yet.\n",
      "  warnings.warn(\n",
      "[I 2024-12-09 16:38:53,127] Trial 15 finished with value: 0.40875000000000006 and parameters: {'n_units_l1': 154, 'n_units_l2': 25, 'alpha': 0.0032456230535392924, 'learning_rate_init': 0.00023065017785901522}. Best is trial 15 with value: 0.40875000000000006.\n",
      "C:\\Users\\Administrator\\AppData\\Local\\Temp\\ipykernel_14812\\1653340466.py:15: FutureWarning: suggest_loguniform has been deprecated in v3.0.0. This feature will be removed in v6.0.0. See https://github.com/optuna/optuna/releases/tag/v3.0.0. Use suggest_float(..., log=True) instead.\n",
      "  'alpha': lambda trial: trial.suggest_loguniform('alpha', 1e-5, 1e-1),\n",
      "C:\\Users\\Administrator\\AppData\\Local\\Temp\\ipykernel_14812\\1653340466.py:16: FutureWarning: suggest_loguniform has been deprecated in v3.0.0. This feature will be removed in v6.0.0. See https://github.com/optuna/optuna/releases/tag/v3.0.0. Use suggest_float(..., log=True) instead.\n",
      "  'learning_rate_init': lambda trial: trial.suggest_loguniform('learning_rate_init', 1e-4, 1e-1)\n"
     ]
    },
    {
     "name": "stdout",
     "output_type": "stream",
     "text": [
      "Optimized parameters: {'hidden_layer_sizes': (154, 42), 'alpha': 0.015632478624366952, 'learning_rate_init': 0.00019671107980098138}\n"
     ]
    },
    {
     "name": "stderr",
     "output_type": "stream",
     "text": [
      "c:\\Users\\Administrator\\Desktop\\Proyecto_ML Refuerzo\\ML_Refuerzo_Esther\\venv\\Lib\\site-packages\\sklearn\\neural_network\\_multilayer_perceptron.py:690: ConvergenceWarning: Stochastic Optimizer: Maximum iterations (200) reached and the optimization hasn't converged yet.\n",
      "  warnings.warn(\n",
      "c:\\Users\\Administrator\\Desktop\\Proyecto_ML Refuerzo\\ML_Refuerzo_Esther\\venv\\Lib\\site-packages\\sklearn\\neural_network\\_multilayer_perceptron.py:690: ConvergenceWarning: Stochastic Optimizer: Maximum iterations (200) reached and the optimization hasn't converged yet.\n",
      "  warnings.warn(\n",
      "c:\\Users\\Administrator\\Desktop\\Proyecto_ML Refuerzo\\ML_Refuerzo_Esther\\venv\\Lib\\site-packages\\sklearn\\neural_network\\_multilayer_perceptron.py:690: ConvergenceWarning: Stochastic Optimizer: Maximum iterations (200) reached and the optimization hasn't converged yet.\n",
      "  warnings.warn(\n",
      "c:\\Users\\Administrator\\Desktop\\Proyecto_ML Refuerzo\\ML_Refuerzo_Esther\\venv\\Lib\\site-packages\\sklearn\\neural_network\\_multilayer_perceptron.py:690: ConvergenceWarning: Stochastic Optimizer: Maximum iterations (200) reached and the optimization hasn't converged yet.\n",
      "  warnings.warn(\n",
      "c:\\Users\\Administrator\\Desktop\\Proyecto_ML Refuerzo\\ML_Refuerzo_Esther\\venv\\Lib\\site-packages\\sklearn\\neural_network\\_multilayer_perceptron.py:690: ConvergenceWarning: Stochastic Optimizer: Maximum iterations (200) reached and the optimization hasn't converged yet.\n",
      "  warnings.warn(\n",
      "[I 2024-12-09 16:38:58,342] Trial 16 finished with value: 0.395 and parameters: {'n_units_l1': 154, 'n_units_l2': 42, 'alpha': 0.015632478624366952, 'learning_rate_init': 0.00019671107980098138}. Best is trial 15 with value: 0.40875000000000006.\n",
      "C:\\Users\\Administrator\\AppData\\Local\\Temp\\ipykernel_14812\\1653340466.py:15: FutureWarning: suggest_loguniform has been deprecated in v3.0.0. This feature will be removed in v6.0.0. See https://github.com/optuna/optuna/releases/tag/v3.0.0. Use suggest_float(..., log=True) instead.\n",
      "  'alpha': lambda trial: trial.suggest_loguniform('alpha', 1e-5, 1e-1),\n",
      "C:\\Users\\Administrator\\AppData\\Local\\Temp\\ipykernel_14812\\1653340466.py:16: FutureWarning: suggest_loguniform has been deprecated in v3.0.0. This feature will be removed in v6.0.0. See https://github.com/optuna/optuna/releases/tag/v3.0.0. Use suggest_float(..., log=True) instead.\n",
      "  'learning_rate_init': lambda trial: trial.suggest_loguniform('learning_rate_init', 1e-4, 1e-1)\n"
     ]
    },
    {
     "name": "stdout",
     "output_type": "stream",
     "text": [
      "Optimized parameters: {'hidden_layer_sizes': (189, 34), 'alpha': 0.003628477651554977, 'learning_rate_init': 0.001457960149395479}\n"
     ]
    },
    {
     "name": "stderr",
     "output_type": "stream",
     "text": [
      "c:\\Users\\Administrator\\Desktop\\Proyecto_ML Refuerzo\\ML_Refuerzo_Esther\\venv\\Lib\\site-packages\\sklearn\\neural_network\\_multilayer_perceptron.py:690: ConvergenceWarning: Stochastic Optimizer: Maximum iterations (200) reached and the optimization hasn't converged yet.\n",
      "  warnings.warn(\n",
      "c:\\Users\\Administrator\\Desktop\\Proyecto_ML Refuerzo\\ML_Refuerzo_Esther\\venv\\Lib\\site-packages\\sklearn\\neural_network\\_multilayer_perceptron.py:690: ConvergenceWarning: Stochastic Optimizer: Maximum iterations (200) reached and the optimization hasn't converged yet.\n",
      "  warnings.warn(\n",
      "c:\\Users\\Administrator\\Desktop\\Proyecto_ML Refuerzo\\ML_Refuerzo_Esther\\venv\\Lib\\site-packages\\sklearn\\neural_network\\_multilayer_perceptron.py:690: ConvergenceWarning: Stochastic Optimizer: Maximum iterations (200) reached and the optimization hasn't converged yet.\n",
      "  warnings.warn(\n",
      "c:\\Users\\Administrator\\Desktop\\Proyecto_ML Refuerzo\\ML_Refuerzo_Esther\\venv\\Lib\\site-packages\\sklearn\\neural_network\\_multilayer_perceptron.py:690: ConvergenceWarning: Stochastic Optimizer: Maximum iterations (200) reached and the optimization hasn't converged yet.\n",
      "  warnings.warn(\n",
      "c:\\Users\\Administrator\\Desktop\\Proyecto_ML Refuerzo\\ML_Refuerzo_Esther\\venv\\Lib\\site-packages\\sklearn\\neural_network\\_multilayer_perceptron.py:690: ConvergenceWarning: Stochastic Optimizer: Maximum iterations (200) reached and the optimization hasn't converged yet.\n",
      "  warnings.warn(\n",
      "[I 2024-12-09 16:39:03,801] Trial 17 finished with value: 0.33125 and parameters: {'n_units_l1': 189, 'n_units_l2': 34, 'alpha': 0.003628477651554977, 'learning_rate_init': 0.001457960149395479}. Best is trial 15 with value: 0.40875000000000006.\n",
      "C:\\Users\\Administrator\\AppData\\Local\\Temp\\ipykernel_14812\\1653340466.py:15: FutureWarning: suggest_loguniform has been deprecated in v3.0.0. This feature will be removed in v6.0.0. See https://github.com/optuna/optuna/releases/tag/v3.0.0. Use suggest_float(..., log=True) instead.\n",
      "  'alpha': lambda trial: trial.suggest_loguniform('alpha', 1e-5, 1e-1),\n",
      "C:\\Users\\Administrator\\AppData\\Local\\Temp\\ipykernel_14812\\1653340466.py:16: FutureWarning: suggest_loguniform has been deprecated in v3.0.0. This feature will be removed in v6.0.0. See https://github.com/optuna/optuna/releases/tag/v3.0.0. Use suggest_float(..., log=True) instead.\n",
      "  'learning_rate_init': lambda trial: trial.suggest_loguniform('learning_rate_init', 1e-4, 1e-1)\n"
     ]
    },
    {
     "name": "stdout",
     "output_type": "stream",
     "text": [
      "Optimized parameters: {'hidden_layer_sizes': (148, 43), 'alpha': 0.0273427106655475, 'learning_rate_init': 0.00020285312368410247}\n"
     ]
    },
    {
     "name": "stderr",
     "output_type": "stream",
     "text": [
      "c:\\Users\\Administrator\\Desktop\\Proyecto_ML Refuerzo\\ML_Refuerzo_Esther\\venv\\Lib\\site-packages\\sklearn\\neural_network\\_multilayer_perceptron.py:690: ConvergenceWarning: Stochastic Optimizer: Maximum iterations (200) reached and the optimization hasn't converged yet.\n",
      "  warnings.warn(\n",
      "c:\\Users\\Administrator\\Desktop\\Proyecto_ML Refuerzo\\ML_Refuerzo_Esther\\venv\\Lib\\site-packages\\sklearn\\neural_network\\_multilayer_perceptron.py:690: ConvergenceWarning: Stochastic Optimizer: Maximum iterations (200) reached and the optimization hasn't converged yet.\n",
      "  warnings.warn(\n",
      "c:\\Users\\Administrator\\Desktop\\Proyecto_ML Refuerzo\\ML_Refuerzo_Esther\\venv\\Lib\\site-packages\\sklearn\\neural_network\\_multilayer_perceptron.py:690: ConvergenceWarning: Stochastic Optimizer: Maximum iterations (200) reached and the optimization hasn't converged yet.\n",
      "  warnings.warn(\n",
      "c:\\Users\\Administrator\\Desktop\\Proyecto_ML Refuerzo\\ML_Refuerzo_Esther\\venv\\Lib\\site-packages\\sklearn\\neural_network\\_multilayer_perceptron.py:690: ConvergenceWarning: Stochastic Optimizer: Maximum iterations (200) reached and the optimization hasn't converged yet.\n",
      "  warnings.warn(\n",
      "c:\\Users\\Administrator\\Desktop\\Proyecto_ML Refuerzo\\ML_Refuerzo_Esther\\venv\\Lib\\site-packages\\sklearn\\neural_network\\_multilayer_perceptron.py:690: ConvergenceWarning: Stochastic Optimizer: Maximum iterations (200) reached and the optimization hasn't converged yet.\n",
      "  warnings.warn(\n",
      "[I 2024-12-09 16:39:09,058] Trial 18 finished with value: 0.40374999999999994 and parameters: {'n_units_l1': 148, 'n_units_l2': 43, 'alpha': 0.0273427106655475, 'learning_rate_init': 0.00020285312368410247}. Best is trial 15 with value: 0.40875000000000006.\n",
      "C:\\Users\\Administrator\\AppData\\Local\\Temp\\ipykernel_14812\\1653340466.py:15: FutureWarning: suggest_loguniform has been deprecated in v3.0.0. This feature will be removed in v6.0.0. See https://github.com/optuna/optuna/releases/tag/v3.0.0. Use suggest_float(..., log=True) instead.\n",
      "  'alpha': lambda trial: trial.suggest_loguniform('alpha', 1e-5, 1e-1),\n",
      "C:\\Users\\Administrator\\AppData\\Local\\Temp\\ipykernel_14812\\1653340466.py:16: FutureWarning: suggest_loguniform has been deprecated in v3.0.0. This feature will be removed in v6.0.0. See https://github.com/optuna/optuna/releases/tag/v3.0.0. Use suggest_float(..., log=True) instead.\n",
      "  'learning_rate_init': lambda trial: trial.suggest_loguniform('learning_rate_init', 1e-4, 1e-1)\n"
     ]
    },
    {
     "name": "stdout",
     "output_type": "stream",
     "text": [
      "Optimized parameters: {'hidden_layer_sizes': (170, 52), 'alpha': 1.1231471640166839e-05, 'learning_rate_init': 0.0018429248178246373}\n"
     ]
    },
    {
     "name": "stderr",
     "output_type": "stream",
     "text": [
      "c:\\Users\\Administrator\\Desktop\\Proyecto_ML Refuerzo\\ML_Refuerzo_Esther\\venv\\Lib\\site-packages\\sklearn\\neural_network\\_multilayer_perceptron.py:690: ConvergenceWarning: Stochastic Optimizer: Maximum iterations (200) reached and the optimization hasn't converged yet.\n",
      "  warnings.warn(\n",
      "c:\\Users\\Administrator\\Desktop\\Proyecto_ML Refuerzo\\ML_Refuerzo_Esther\\venv\\Lib\\site-packages\\sklearn\\neural_network\\_multilayer_perceptron.py:690: ConvergenceWarning: Stochastic Optimizer: Maximum iterations (200) reached and the optimization hasn't converged yet.\n",
      "  warnings.warn(\n",
      "c:\\Users\\Administrator\\Desktop\\Proyecto_ML Refuerzo\\ML_Refuerzo_Esther\\venv\\Lib\\site-packages\\sklearn\\neural_network\\_multilayer_perceptron.py:690: ConvergenceWarning: Stochastic Optimizer: Maximum iterations (200) reached and the optimization hasn't converged yet.\n",
      "  warnings.warn(\n",
      "c:\\Users\\Administrator\\Desktop\\Proyecto_ML Refuerzo\\ML_Refuerzo_Esther\\venv\\Lib\\site-packages\\sklearn\\neural_network\\_multilayer_perceptron.py:690: ConvergenceWarning: Stochastic Optimizer: Maximum iterations (200) reached and the optimization hasn't converged yet.\n",
      "  warnings.warn(\n",
      "c:\\Users\\Administrator\\Desktop\\Proyecto_ML Refuerzo\\ML_Refuerzo_Esther\\venv\\Lib\\site-packages\\sklearn\\neural_network\\_multilayer_perceptron.py:690: ConvergenceWarning: Stochastic Optimizer: Maximum iterations (200) reached and the optimization hasn't converged yet.\n",
      "  warnings.warn(\n",
      "[I 2024-12-09 16:39:14,918] Trial 19 finished with value: 0.33375000000000005 and parameters: {'n_units_l1': 170, 'n_units_l2': 52, 'alpha': 1.1231471640166839e-05, 'learning_rate_init': 0.0018429248178246373}. Best is trial 15 with value: 0.40875000000000006.\n",
      "C:\\Users\\Administrator\\AppData\\Local\\Temp\\ipykernel_14812\\1653340466.py:15: FutureWarning: suggest_loguniform has been deprecated in v3.0.0. This feature will be removed in v6.0.0. See https://github.com/optuna/optuna/releases/tag/v3.0.0. Use suggest_float(..., log=True) instead.\n",
      "  'alpha': lambda trial: trial.suggest_loguniform('alpha', 1e-5, 1e-1),\n",
      "C:\\Users\\Administrator\\AppData\\Local\\Temp\\ipykernel_14812\\1653340466.py:16: FutureWarning: suggest_loguniform has been deprecated in v3.0.0. This feature will be removed in v6.0.0. See https://github.com/optuna/optuna/releases/tag/v3.0.0. Use suggest_float(..., log=True) instead.\n",
      "  'learning_rate_init': lambda trial: trial.suggest_loguniform('learning_rate_init', 1e-4, 1e-1)\n"
     ]
    },
    {
     "name": "stdout",
     "output_type": "stream",
     "text": [
      "Optimized parameters: {'hidden_layer_sizes': (139, 29), 'alpha': 0.0023227975591663674, 'learning_rate_init': 0.00018923345348384384}\n"
     ]
    },
    {
     "name": "stderr",
     "output_type": "stream",
     "text": [
      "c:\\Users\\Administrator\\Desktop\\Proyecto_ML Refuerzo\\ML_Refuerzo_Esther\\venv\\Lib\\site-packages\\sklearn\\neural_network\\_multilayer_perceptron.py:690: ConvergenceWarning: Stochastic Optimizer: Maximum iterations (200) reached and the optimization hasn't converged yet.\n",
      "  warnings.warn(\n",
      "c:\\Users\\Administrator\\Desktop\\Proyecto_ML Refuerzo\\ML_Refuerzo_Esther\\venv\\Lib\\site-packages\\sklearn\\neural_network\\_multilayer_perceptron.py:690: ConvergenceWarning: Stochastic Optimizer: Maximum iterations (200) reached and the optimization hasn't converged yet.\n",
      "  warnings.warn(\n",
      "c:\\Users\\Administrator\\Desktop\\Proyecto_ML Refuerzo\\ML_Refuerzo_Esther\\venv\\Lib\\site-packages\\sklearn\\neural_network\\_multilayer_perceptron.py:690: ConvergenceWarning: Stochastic Optimizer: Maximum iterations (200) reached and the optimization hasn't converged yet.\n",
      "  warnings.warn(\n",
      "c:\\Users\\Administrator\\Desktop\\Proyecto_ML Refuerzo\\ML_Refuerzo_Esther\\venv\\Lib\\site-packages\\sklearn\\neural_network\\_multilayer_perceptron.py:690: ConvergenceWarning: Stochastic Optimizer: Maximum iterations (200) reached and the optimization hasn't converged yet.\n",
      "  warnings.warn(\n",
      "c:\\Users\\Administrator\\Desktop\\Proyecto_ML Refuerzo\\ML_Refuerzo_Esther\\venv\\Lib\\site-packages\\sklearn\\neural_network\\_multilayer_perceptron.py:690: ConvergenceWarning: Stochastic Optimizer: Maximum iterations (200) reached and the optimization hasn't converged yet.\n",
      "  warnings.warn(\n",
      "[I 2024-12-09 16:39:19,414] Trial 20 finished with value: 0.38750000000000007 and parameters: {'n_units_l1': 139, 'n_units_l2': 29, 'alpha': 0.0023227975591663674, 'learning_rate_init': 0.00018923345348384384}. Best is trial 15 with value: 0.40875000000000006.\n",
      "C:\\Users\\Administrator\\AppData\\Local\\Temp\\ipykernel_14812\\1653340466.py:15: FutureWarning: suggest_loguniform has been deprecated in v3.0.0. This feature will be removed in v6.0.0. See https://github.com/optuna/optuna/releases/tag/v3.0.0. Use suggest_float(..., log=True) instead.\n",
      "  'alpha': lambda trial: trial.suggest_loguniform('alpha', 1e-5, 1e-1),\n",
      "C:\\Users\\Administrator\\AppData\\Local\\Temp\\ipykernel_14812\\1653340466.py:16: FutureWarning: suggest_loguniform has been deprecated in v3.0.0. This feature will be removed in v6.0.0. See https://github.com/optuna/optuna/releases/tag/v3.0.0. Use suggest_float(..., log=True) instead.\n",
      "  'learning_rate_init': lambda trial: trial.suggest_loguniform('learning_rate_init', 1e-4, 1e-1)\n"
     ]
    },
    {
     "name": "stdout",
     "output_type": "stream",
     "text": [
      "Optimized parameters: {'hidden_layer_sizes': (147, 44), 'alpha': 0.028615956715615985, 'learning_rate_init': 0.00020949489942460474}\n"
     ]
    },
    {
     "name": "stderr",
     "output_type": "stream",
     "text": [
      "c:\\Users\\Administrator\\Desktop\\Proyecto_ML Refuerzo\\ML_Refuerzo_Esther\\venv\\Lib\\site-packages\\sklearn\\neural_network\\_multilayer_perceptron.py:690: ConvergenceWarning: Stochastic Optimizer: Maximum iterations (200) reached and the optimization hasn't converged yet.\n",
      "  warnings.warn(\n",
      "c:\\Users\\Administrator\\Desktop\\Proyecto_ML Refuerzo\\ML_Refuerzo_Esther\\venv\\Lib\\site-packages\\sklearn\\neural_network\\_multilayer_perceptron.py:690: ConvergenceWarning: Stochastic Optimizer: Maximum iterations (200) reached and the optimization hasn't converged yet.\n",
      "  warnings.warn(\n",
      "c:\\Users\\Administrator\\Desktop\\Proyecto_ML Refuerzo\\ML_Refuerzo_Esther\\venv\\Lib\\site-packages\\sklearn\\neural_network\\_multilayer_perceptron.py:690: ConvergenceWarning: Stochastic Optimizer: Maximum iterations (200) reached and the optimization hasn't converged yet.\n",
      "  warnings.warn(\n",
      "c:\\Users\\Administrator\\Desktop\\Proyecto_ML Refuerzo\\ML_Refuerzo_Esther\\venv\\Lib\\site-packages\\sklearn\\neural_network\\_multilayer_perceptron.py:690: ConvergenceWarning: Stochastic Optimizer: Maximum iterations (200) reached and the optimization hasn't converged yet.\n",
      "  warnings.warn(\n",
      "c:\\Users\\Administrator\\Desktop\\Proyecto_ML Refuerzo\\ML_Refuerzo_Esther\\venv\\Lib\\site-packages\\sklearn\\neural_network\\_multilayer_perceptron.py:690: ConvergenceWarning: Stochastic Optimizer: Maximum iterations (200) reached and the optimization hasn't converged yet.\n",
      "  warnings.warn(\n",
      "[I 2024-12-09 16:39:24,688] Trial 21 finished with value: 0.4 and parameters: {'n_units_l1': 147, 'n_units_l2': 44, 'alpha': 0.028615956715615985, 'learning_rate_init': 0.00020949489942460474}. Best is trial 15 with value: 0.40875000000000006.\n",
      "C:\\Users\\Administrator\\AppData\\Local\\Temp\\ipykernel_14812\\1653340466.py:15: FutureWarning: suggest_loguniform has been deprecated in v3.0.0. This feature will be removed in v6.0.0. See https://github.com/optuna/optuna/releases/tag/v3.0.0. Use suggest_float(..., log=True) instead.\n",
      "  'alpha': lambda trial: trial.suggest_loguniform('alpha', 1e-5, 1e-1),\n",
      "C:\\Users\\Administrator\\AppData\\Local\\Temp\\ipykernel_14812\\1653340466.py:16: FutureWarning: suggest_loguniform has been deprecated in v3.0.0. This feature will be removed in v6.0.0. See https://github.com/optuna/optuna/releases/tag/v3.0.0. Use suggest_float(..., log=True) instead.\n",
      "  'learning_rate_init': lambda trial: trial.suggest_loguniform('learning_rate_init', 1e-4, 1e-1)\n"
     ]
    },
    {
     "name": "stdout",
     "output_type": "stream",
     "text": [
      "Optimized parameters: {'hidden_layer_sizes': (166, 40), 'alpha': 0.028196683817730436, 'learning_rate_init': 0.00043517163623345734}\n"
     ]
    },
    {
     "name": "stderr",
     "output_type": "stream",
     "text": [
      "c:\\Users\\Administrator\\Desktop\\Proyecto_ML Refuerzo\\ML_Refuerzo_Esther\\venv\\Lib\\site-packages\\sklearn\\neural_network\\_multilayer_perceptron.py:690: ConvergenceWarning: Stochastic Optimizer: Maximum iterations (200) reached and the optimization hasn't converged yet.\n",
      "  warnings.warn(\n",
      "c:\\Users\\Administrator\\Desktop\\Proyecto_ML Refuerzo\\ML_Refuerzo_Esther\\venv\\Lib\\site-packages\\sklearn\\neural_network\\_multilayer_perceptron.py:690: ConvergenceWarning: Stochastic Optimizer: Maximum iterations (200) reached and the optimization hasn't converged yet.\n",
      "  warnings.warn(\n",
      "c:\\Users\\Administrator\\Desktop\\Proyecto_ML Refuerzo\\ML_Refuerzo_Esther\\venv\\Lib\\site-packages\\sklearn\\neural_network\\_multilayer_perceptron.py:690: ConvergenceWarning: Stochastic Optimizer: Maximum iterations (200) reached and the optimization hasn't converged yet.\n",
      "  warnings.warn(\n",
      "c:\\Users\\Administrator\\Desktop\\Proyecto_ML Refuerzo\\ML_Refuerzo_Esther\\venv\\Lib\\site-packages\\sklearn\\neural_network\\_multilayer_perceptron.py:690: ConvergenceWarning: Stochastic Optimizer: Maximum iterations (200) reached and the optimization hasn't converged yet.\n",
      "  warnings.warn(\n",
      "c:\\Users\\Administrator\\Desktop\\Proyecto_ML Refuerzo\\ML_Refuerzo_Esther\\venv\\Lib\\site-packages\\sklearn\\neural_network\\_multilayer_perceptron.py:690: ConvergenceWarning: Stochastic Optimizer: Maximum iterations (200) reached and the optimization hasn't converged yet.\n",
      "  warnings.warn(\n",
      "[I 2024-12-09 16:39:30,086] Trial 22 finished with value: 0.38875000000000004 and parameters: {'n_units_l1': 166, 'n_units_l2': 40, 'alpha': 0.028196683817730436, 'learning_rate_init': 0.00043517163623345734}. Best is trial 15 with value: 0.40875000000000006.\n",
      "C:\\Users\\Administrator\\AppData\\Local\\Temp\\ipykernel_14812\\1653340466.py:15: FutureWarning: suggest_loguniform has been deprecated in v3.0.0. This feature will be removed in v6.0.0. See https://github.com/optuna/optuna/releases/tag/v3.0.0. Use suggest_float(..., log=True) instead.\n",
      "  'alpha': lambda trial: trial.suggest_loguniform('alpha', 1e-5, 1e-1),\n",
      "C:\\Users\\Administrator\\AppData\\Local\\Temp\\ipykernel_14812\\1653340466.py:16: FutureWarning: suggest_loguniform has been deprecated in v3.0.0. This feature will be removed in v6.0.0. See https://github.com/optuna/optuna/releases/tag/v3.0.0. Use suggest_float(..., log=True) instead.\n",
      "  'learning_rate_init': lambda trial: trial.suggest_loguniform('learning_rate_init', 1e-4, 1e-1)\n"
     ]
    },
    {
     "name": "stdout",
     "output_type": "stream",
     "text": [
      "Optimized parameters: {'hidden_layer_sizes': (114, 49), 'alpha': 0.041249773914695184, 'learning_rate_init': 0.00021391885955707364}\n"
     ]
    },
    {
     "name": "stderr",
     "output_type": "stream",
     "text": [
      "c:\\Users\\Administrator\\Desktop\\Proyecto_ML Refuerzo\\ML_Refuerzo_Esther\\venv\\Lib\\site-packages\\sklearn\\neural_network\\_multilayer_perceptron.py:690: ConvergenceWarning: Stochastic Optimizer: Maximum iterations (200) reached and the optimization hasn't converged yet.\n",
      "  warnings.warn(\n",
      "c:\\Users\\Administrator\\Desktop\\Proyecto_ML Refuerzo\\ML_Refuerzo_Esther\\venv\\Lib\\site-packages\\sklearn\\neural_network\\_multilayer_perceptron.py:690: ConvergenceWarning: Stochastic Optimizer: Maximum iterations (200) reached and the optimization hasn't converged yet.\n",
      "  warnings.warn(\n",
      "c:\\Users\\Administrator\\Desktop\\Proyecto_ML Refuerzo\\ML_Refuerzo_Esther\\venv\\Lib\\site-packages\\sklearn\\neural_network\\_multilayer_perceptron.py:690: ConvergenceWarning: Stochastic Optimizer: Maximum iterations (200) reached and the optimization hasn't converged yet.\n",
      "  warnings.warn(\n",
      "c:\\Users\\Administrator\\Desktop\\Proyecto_ML Refuerzo\\ML_Refuerzo_Esther\\venv\\Lib\\site-packages\\sklearn\\neural_network\\_multilayer_perceptron.py:690: ConvergenceWarning: Stochastic Optimizer: Maximum iterations (200) reached and the optimization hasn't converged yet.\n",
      "  warnings.warn(\n",
      "c:\\Users\\Administrator\\Desktop\\Proyecto_ML Refuerzo\\ML_Refuerzo_Esther\\venv\\Lib\\site-packages\\sklearn\\neural_network\\_multilayer_perceptron.py:690: ConvergenceWarning: Stochastic Optimizer: Maximum iterations (200) reached and the optimization hasn't converged yet.\n",
      "  warnings.warn(\n",
      "[I 2024-12-09 16:39:34,875] Trial 23 finished with value: 0.40875000000000006 and parameters: {'n_units_l1': 114, 'n_units_l2': 49, 'alpha': 0.041249773914695184, 'learning_rate_init': 0.00021391885955707364}. Best is trial 15 with value: 0.40875000000000006.\n",
      "C:\\Users\\Administrator\\AppData\\Local\\Temp\\ipykernel_14812\\1653340466.py:15: FutureWarning: suggest_loguniform has been deprecated in v3.0.0. This feature will be removed in v6.0.0. See https://github.com/optuna/optuna/releases/tag/v3.0.0. Use suggest_float(..., log=True) instead.\n",
      "  'alpha': lambda trial: trial.suggest_loguniform('alpha', 1e-5, 1e-1),\n",
      "C:\\Users\\Administrator\\AppData\\Local\\Temp\\ipykernel_14812\\1653340466.py:16: FutureWarning: suggest_loguniform has been deprecated in v3.0.0. This feature will be removed in v6.0.0. See https://github.com/optuna/optuna/releases/tag/v3.0.0. Use suggest_float(..., log=True) instead.\n",
      "  'learning_rate_init': lambda trial: trial.suggest_loguniform('learning_rate_init', 1e-4, 1e-1)\n"
     ]
    },
    {
     "name": "stdout",
     "output_type": "stream",
     "text": [
      "Optimized parameters: {'hidden_layer_sizes': (113, 59), 'alpha': 0.010273642991635133, 'learning_rate_init': 0.0008986689070603091}\n"
     ]
    },
    {
     "name": "stderr",
     "output_type": "stream",
     "text": [
      "c:\\Users\\Administrator\\Desktop\\Proyecto_ML Refuerzo\\ML_Refuerzo_Esther\\venv\\Lib\\site-packages\\sklearn\\neural_network\\_multilayer_perceptron.py:690: ConvergenceWarning: Stochastic Optimizer: Maximum iterations (200) reached and the optimization hasn't converged yet.\n",
      "  warnings.warn(\n",
      "c:\\Users\\Administrator\\Desktop\\Proyecto_ML Refuerzo\\ML_Refuerzo_Esther\\venv\\Lib\\site-packages\\sklearn\\neural_network\\_multilayer_perceptron.py:690: ConvergenceWarning: Stochastic Optimizer: Maximum iterations (200) reached and the optimization hasn't converged yet.\n",
      "  warnings.warn(\n",
      "c:\\Users\\Administrator\\Desktop\\Proyecto_ML Refuerzo\\ML_Refuerzo_Esther\\venv\\Lib\\site-packages\\sklearn\\neural_network\\_multilayer_perceptron.py:690: ConvergenceWarning: Stochastic Optimizer: Maximum iterations (200) reached and the optimization hasn't converged yet.\n",
      "  warnings.warn(\n",
      "c:\\Users\\Administrator\\Desktop\\Proyecto_ML Refuerzo\\ML_Refuerzo_Esther\\venv\\Lib\\site-packages\\sklearn\\neural_network\\_multilayer_perceptron.py:690: ConvergenceWarning: Stochastic Optimizer: Maximum iterations (200) reached and the optimization hasn't converged yet.\n",
      "  warnings.warn(\n",
      "c:\\Users\\Administrator\\Desktop\\Proyecto_ML Refuerzo\\ML_Refuerzo_Esther\\venv\\Lib\\site-packages\\sklearn\\neural_network\\_multilayer_perceptron.py:690: ConvergenceWarning: Stochastic Optimizer: Maximum iterations (200) reached and the optimization hasn't converged yet.\n",
      "  warnings.warn(\n",
      "[I 2024-12-09 16:39:40,126] Trial 24 finished with value: 0.36375 and parameters: {'n_units_l1': 113, 'n_units_l2': 59, 'alpha': 0.010273642991635133, 'learning_rate_init': 0.0008986689070603091}. Best is trial 15 with value: 0.40875000000000006.\n",
      "C:\\Users\\Administrator\\AppData\\Local\\Temp\\ipykernel_14812\\1653340466.py:15: FutureWarning: suggest_loguniform has been deprecated in v3.0.0. This feature will be removed in v6.0.0. See https://github.com/optuna/optuna/releases/tag/v3.0.0. Use suggest_float(..., log=True) instead.\n",
      "  'alpha': lambda trial: trial.suggest_loguniform('alpha', 1e-5, 1e-1),\n",
      "C:\\Users\\Administrator\\AppData\\Local\\Temp\\ipykernel_14812\\1653340466.py:16: FutureWarning: suggest_loguniform has been deprecated in v3.0.0. This feature will be removed in v6.0.0. See https://github.com/optuna/optuna/releases/tag/v3.0.0. Use suggest_float(..., log=True) instead.\n",
      "  'learning_rate_init': lambda trial: trial.suggest_loguniform('learning_rate_init', 1e-4, 1e-1)\n"
     ]
    },
    {
     "name": "stdout",
     "output_type": "stream",
     "text": [
      "Optimized parameters: {'hidden_layer_sizes': (104, 49), 'alpha': 0.08828103659218704, 'learning_rate_init': 0.00010381919874436923}\n"
     ]
    },
    {
     "name": "stderr",
     "output_type": "stream",
     "text": [
      "c:\\Users\\Administrator\\Desktop\\Proyecto_ML Refuerzo\\ML_Refuerzo_Esther\\venv\\Lib\\site-packages\\sklearn\\neural_network\\_multilayer_perceptron.py:690: ConvergenceWarning: Stochastic Optimizer: Maximum iterations (200) reached and the optimization hasn't converged yet.\n",
      "  warnings.warn(\n",
      "c:\\Users\\Administrator\\Desktop\\Proyecto_ML Refuerzo\\ML_Refuerzo_Esther\\venv\\Lib\\site-packages\\sklearn\\neural_network\\_multilayer_perceptron.py:690: ConvergenceWarning: Stochastic Optimizer: Maximum iterations (200) reached and the optimization hasn't converged yet.\n",
      "  warnings.warn(\n",
      "c:\\Users\\Administrator\\Desktop\\Proyecto_ML Refuerzo\\ML_Refuerzo_Esther\\venv\\Lib\\site-packages\\sklearn\\neural_network\\_multilayer_perceptron.py:690: ConvergenceWarning: Stochastic Optimizer: Maximum iterations (200) reached and the optimization hasn't converged yet.\n",
      "  warnings.warn(\n",
      "c:\\Users\\Administrator\\Desktop\\Proyecto_ML Refuerzo\\ML_Refuerzo_Esther\\venv\\Lib\\site-packages\\sklearn\\neural_network\\_multilayer_perceptron.py:690: ConvergenceWarning: Stochastic Optimizer: Maximum iterations (200) reached and the optimization hasn't converged yet.\n",
      "  warnings.warn(\n",
      "c:\\Users\\Administrator\\Desktop\\Proyecto_ML Refuerzo\\ML_Refuerzo_Esther\\venv\\Lib\\site-packages\\sklearn\\neural_network\\_multilayer_perceptron.py:690: ConvergenceWarning: Stochastic Optimizer: Maximum iterations (200) reached and the optimization hasn't converged yet.\n",
      "  warnings.warn(\n",
      "[I 2024-12-09 16:39:44,929] Trial 25 finished with value: 0.4050000000000001 and parameters: {'n_units_l1': 104, 'n_units_l2': 49, 'alpha': 0.08828103659218704, 'learning_rate_init': 0.00010381919874436923}. Best is trial 15 with value: 0.40875000000000006.\n",
      "C:\\Users\\Administrator\\AppData\\Local\\Temp\\ipykernel_14812\\1653340466.py:15: FutureWarning: suggest_loguniform has been deprecated in v3.0.0. This feature will be removed in v6.0.0. See https://github.com/optuna/optuna/releases/tag/v3.0.0. Use suggest_float(..., log=True) instead.\n",
      "  'alpha': lambda trial: trial.suggest_loguniform('alpha', 1e-5, 1e-1),\n",
      "C:\\Users\\Administrator\\AppData\\Local\\Temp\\ipykernel_14812\\1653340466.py:16: FutureWarning: suggest_loguniform has been deprecated in v3.0.0. This feature will be removed in v6.0.0. See https://github.com/optuna/optuna/releases/tag/v3.0.0. Use suggest_float(..., log=True) instead.\n",
      "  'learning_rate_init': lambda trial: trial.suggest_loguniform('learning_rate_init', 1e-4, 1e-1)\n"
     ]
    },
    {
     "name": "stdout",
     "output_type": "stream",
     "text": [
      "Optimized parameters: {'hidden_layer_sizes': (69, 49), 'alpha': 0.04417912310983935, 'learning_rate_init': 0.00028858310083418727}\n"
     ]
    },
    {
     "name": "stderr",
     "output_type": "stream",
     "text": [
      "c:\\Users\\Administrator\\Desktop\\Proyecto_ML Refuerzo\\ML_Refuerzo_Esther\\venv\\Lib\\site-packages\\sklearn\\neural_network\\_multilayer_perceptron.py:690: ConvergenceWarning: Stochastic Optimizer: Maximum iterations (200) reached and the optimization hasn't converged yet.\n",
      "  warnings.warn(\n",
      "c:\\Users\\Administrator\\Desktop\\Proyecto_ML Refuerzo\\ML_Refuerzo_Esther\\venv\\Lib\\site-packages\\sklearn\\neural_network\\_multilayer_perceptron.py:690: ConvergenceWarning: Stochastic Optimizer: Maximum iterations (200) reached and the optimization hasn't converged yet.\n",
      "  warnings.warn(\n",
      "c:\\Users\\Administrator\\Desktop\\Proyecto_ML Refuerzo\\ML_Refuerzo_Esther\\venv\\Lib\\site-packages\\sklearn\\neural_network\\_multilayer_perceptron.py:690: ConvergenceWarning: Stochastic Optimizer: Maximum iterations (200) reached and the optimization hasn't converged yet.\n",
      "  warnings.warn(\n",
      "c:\\Users\\Administrator\\Desktop\\Proyecto_ML Refuerzo\\ML_Refuerzo_Esther\\venv\\Lib\\site-packages\\sklearn\\neural_network\\_multilayer_perceptron.py:690: ConvergenceWarning: Stochastic Optimizer: Maximum iterations (200) reached and the optimization hasn't converged yet.\n",
      "  warnings.warn(\n",
      "c:\\Users\\Administrator\\Desktop\\Proyecto_ML Refuerzo\\ML_Refuerzo_Esther\\venv\\Lib\\site-packages\\sklearn\\neural_network\\_multilayer_perceptron.py:690: ConvergenceWarning: Stochastic Optimizer: Maximum iterations (200) reached and the optimization hasn't converged yet.\n",
      "  warnings.warn(\n",
      "[I 2024-12-09 16:39:48,979] Trial 26 finished with value: 0.395 and parameters: {'n_units_l1': 69, 'n_units_l2': 49, 'alpha': 0.04417912310983935, 'learning_rate_init': 0.00028858310083418727}. Best is trial 15 with value: 0.40875000000000006.\n",
      "C:\\Users\\Administrator\\AppData\\Local\\Temp\\ipykernel_14812\\1653340466.py:15: FutureWarning: suggest_loguniform has been deprecated in v3.0.0. This feature will be removed in v6.0.0. See https://github.com/optuna/optuna/releases/tag/v3.0.0. Use suggest_float(..., log=True) instead.\n",
      "  'alpha': lambda trial: trial.suggest_loguniform('alpha', 1e-5, 1e-1),\n",
      "C:\\Users\\Administrator\\AppData\\Local\\Temp\\ipykernel_14812\\1653340466.py:16: FutureWarning: suggest_loguniform has been deprecated in v3.0.0. This feature will be removed in v6.0.0. See https://github.com/optuna/optuna/releases/tag/v3.0.0. Use suggest_float(..., log=True) instead.\n",
      "  'learning_rate_init': lambda trial: trial.suggest_loguniform('learning_rate_init', 1e-4, 1e-1)\n"
     ]
    },
    {
     "name": "stdout",
     "output_type": "stream",
     "text": [
      "Optimized parameters: {'hidden_layer_sizes': (99, 67), 'alpha': 0.002054924493413694, 'learning_rate_init': 0.0005149751658403602}\n"
     ]
    },
    {
     "name": "stderr",
     "output_type": "stream",
     "text": [
      "c:\\Users\\Administrator\\Desktop\\Proyecto_ML Refuerzo\\ML_Refuerzo_Esther\\venv\\Lib\\site-packages\\sklearn\\neural_network\\_multilayer_perceptron.py:690: ConvergenceWarning: Stochastic Optimizer: Maximum iterations (200) reached and the optimization hasn't converged yet.\n",
      "  warnings.warn(\n",
      "c:\\Users\\Administrator\\Desktop\\Proyecto_ML Refuerzo\\ML_Refuerzo_Esther\\venv\\Lib\\site-packages\\sklearn\\neural_network\\_multilayer_perceptron.py:690: ConvergenceWarning: Stochastic Optimizer: Maximum iterations (200) reached and the optimization hasn't converged yet.\n",
      "  warnings.warn(\n",
      "c:\\Users\\Administrator\\Desktop\\Proyecto_ML Refuerzo\\ML_Refuerzo_Esther\\venv\\Lib\\site-packages\\sklearn\\neural_network\\_multilayer_perceptron.py:690: ConvergenceWarning: Stochastic Optimizer: Maximum iterations (200) reached and the optimization hasn't converged yet.\n",
      "  warnings.warn(\n",
      "c:\\Users\\Administrator\\Desktop\\Proyecto_ML Refuerzo\\ML_Refuerzo_Esther\\venv\\Lib\\site-packages\\sklearn\\neural_network\\_multilayer_perceptron.py:690: ConvergenceWarning: Stochastic Optimizer: Maximum iterations (200) reached and the optimization hasn't converged yet.\n",
      "  warnings.warn(\n",
      "c:\\Users\\Administrator\\Desktop\\Proyecto_ML Refuerzo\\ML_Refuerzo_Esther\\venv\\Lib\\site-packages\\sklearn\\neural_network\\_multilayer_perceptron.py:690: ConvergenceWarning: Stochastic Optimizer: Maximum iterations (200) reached and the optimization hasn't converged yet.\n",
      "  warnings.warn(\n",
      "[I 2024-12-09 16:39:54,621] Trial 27 finished with value: 0.38 and parameters: {'n_units_l1': 99, 'n_units_l2': 67, 'alpha': 0.002054924493413694, 'learning_rate_init': 0.0005149751658403602}. Best is trial 15 with value: 0.40875000000000006.\n",
      "C:\\Users\\Administrator\\AppData\\Local\\Temp\\ipykernel_14812\\1653340466.py:15: FutureWarning: suggest_loguniform has been deprecated in v3.0.0. This feature will be removed in v6.0.0. See https://github.com/optuna/optuna/releases/tag/v3.0.0. Use suggest_float(..., log=True) instead.\n",
      "  'alpha': lambda trial: trial.suggest_loguniform('alpha', 1e-5, 1e-1),\n",
      "C:\\Users\\Administrator\\AppData\\Local\\Temp\\ipykernel_14812\\1653340466.py:16: FutureWarning: suggest_loguniform has been deprecated in v3.0.0. This feature will be removed in v6.0.0. See https://github.com/optuna/optuna/releases/tag/v3.0.0. Use suggest_float(..., log=True) instead.\n",
      "  'learning_rate_init': lambda trial: trial.suggest_loguniform('learning_rate_init', 1e-4, 1e-1)\n"
     ]
    },
    {
     "name": "stdout",
     "output_type": "stream",
     "text": [
      "Optimized parameters: {'hidden_layer_sizes': (120, 63), 'alpha': 0.008405359378270432, 'learning_rate_init': 0.00010809215036995352}\n"
     ]
    },
    {
     "name": "stderr",
     "output_type": "stream",
     "text": [
      "c:\\Users\\Administrator\\Desktop\\Proyecto_ML Refuerzo\\ML_Refuerzo_Esther\\venv\\Lib\\site-packages\\sklearn\\neural_network\\_multilayer_perceptron.py:690: ConvergenceWarning: Stochastic Optimizer: Maximum iterations (200) reached and the optimization hasn't converged yet.\n",
      "  warnings.warn(\n",
      "c:\\Users\\Administrator\\Desktop\\Proyecto_ML Refuerzo\\ML_Refuerzo_Esther\\venv\\Lib\\site-packages\\sklearn\\neural_network\\_multilayer_perceptron.py:690: ConvergenceWarning: Stochastic Optimizer: Maximum iterations (200) reached and the optimization hasn't converged yet.\n",
      "  warnings.warn(\n",
      "c:\\Users\\Administrator\\Desktop\\Proyecto_ML Refuerzo\\ML_Refuerzo_Esther\\venv\\Lib\\site-packages\\sklearn\\neural_network\\_multilayer_perceptron.py:690: ConvergenceWarning: Stochastic Optimizer: Maximum iterations (200) reached and the optimization hasn't converged yet.\n",
      "  warnings.warn(\n",
      "c:\\Users\\Administrator\\Desktop\\Proyecto_ML Refuerzo\\ML_Refuerzo_Esther\\venv\\Lib\\site-packages\\sklearn\\neural_network\\_multilayer_perceptron.py:690: ConvergenceWarning: Stochastic Optimizer: Maximum iterations (200) reached and the optimization hasn't converged yet.\n",
      "  warnings.warn(\n",
      "c:\\Users\\Administrator\\Desktop\\Proyecto_ML Refuerzo\\ML_Refuerzo_Esther\\venv\\Lib\\site-packages\\sklearn\\neural_network\\_multilayer_perceptron.py:690: ConvergenceWarning: Stochastic Optimizer: Maximum iterations (200) reached and the optimization hasn't converged yet.\n",
      "  warnings.warn(\n",
      "[I 2024-12-09 16:40:00,270] Trial 28 finished with value: 0.39624999999999994 and parameters: {'n_units_l1': 120, 'n_units_l2': 63, 'alpha': 0.008405359378270432, 'learning_rate_init': 0.00010809215036995352}. Best is trial 15 with value: 0.40875000000000006.\n",
      "C:\\Users\\Administrator\\AppData\\Local\\Temp\\ipykernel_14812\\1653340466.py:15: FutureWarning: suggest_loguniform has been deprecated in v3.0.0. This feature will be removed in v6.0.0. See https://github.com/optuna/optuna/releases/tag/v3.0.0. Use suggest_float(..., log=True) instead.\n",
      "  'alpha': lambda trial: trial.suggest_loguniform('alpha', 1e-5, 1e-1),\n",
      "C:\\Users\\Administrator\\AppData\\Local\\Temp\\ipykernel_14812\\1653340466.py:16: FutureWarning: suggest_loguniform has been deprecated in v3.0.0. This feature will be removed in v6.0.0. See https://github.com/optuna/optuna/releases/tag/v3.0.0. Use suggest_float(..., log=True) instead.\n",
      "  'learning_rate_init': lambda trial: trial.suggest_loguniform('learning_rate_init', 1e-4, 1e-1)\n"
     ]
    },
    {
     "name": "stdout",
     "output_type": "stream",
     "text": [
      "Optimized parameters: {'hidden_layer_sizes': (134, 48), 'alpha': 0.047004982712750144, 'learning_rate_init': 0.0025945513326344535}\n"
     ]
    },
    {
     "name": "stderr",
     "output_type": "stream",
     "text": [
      "c:\\Users\\Administrator\\Desktop\\Proyecto_ML Refuerzo\\ML_Refuerzo_Esther\\venv\\Lib\\site-packages\\sklearn\\neural_network\\_multilayer_perceptron.py:690: ConvergenceWarning: Stochastic Optimizer: Maximum iterations (200) reached and the optimization hasn't converged yet.\n",
      "  warnings.warn(\n",
      "c:\\Users\\Administrator\\Desktop\\Proyecto_ML Refuerzo\\ML_Refuerzo_Esther\\venv\\Lib\\site-packages\\sklearn\\neural_network\\_multilayer_perceptron.py:690: ConvergenceWarning: Stochastic Optimizer: Maximum iterations (200) reached and the optimization hasn't converged yet.\n",
      "  warnings.warn(\n",
      "c:\\Users\\Administrator\\Desktop\\Proyecto_ML Refuerzo\\ML_Refuerzo_Esther\\venv\\Lib\\site-packages\\sklearn\\neural_network\\_multilayer_perceptron.py:690: ConvergenceWarning: Stochastic Optimizer: Maximum iterations (200) reached and the optimization hasn't converged yet.\n",
      "  warnings.warn(\n",
      "c:\\Users\\Administrator\\Desktop\\Proyecto_ML Refuerzo\\ML_Refuerzo_Esther\\venv\\Lib\\site-packages\\sklearn\\neural_network\\_multilayer_perceptron.py:690: ConvergenceWarning: Stochastic Optimizer: Maximum iterations (200) reached and the optimization hasn't converged yet.\n",
      "  warnings.warn(\n",
      "c:\\Users\\Administrator\\Desktop\\Proyecto_ML Refuerzo\\ML_Refuerzo_Esther\\venv\\Lib\\site-packages\\sklearn\\neural_network\\_multilayer_perceptron.py:690: ConvergenceWarning: Stochastic Optimizer: Maximum iterations (200) reached and the optimization hasn't converged yet.\n",
      "  warnings.warn(\n",
      "[I 2024-12-09 16:40:05,772] Trial 29 finished with value: 0.345 and parameters: {'n_units_l1': 134, 'n_units_l2': 48, 'alpha': 0.047004982712750144, 'learning_rate_init': 0.0025945513326344535}. Best is trial 15 with value: 0.40875000000000006.\n",
      "C:\\Users\\Administrator\\AppData\\Local\\Temp\\ipykernel_14812\\1653340466.py:15: FutureWarning: suggest_loguniform has been deprecated in v3.0.0. This feature will be removed in v6.0.0. See https://github.com/optuna/optuna/releases/tag/v3.0.0. Use suggest_float(..., log=True) instead.\n",
      "  'alpha': lambda trial: trial.suggest_loguniform('alpha', 1e-5, 1e-1),\n",
      "C:\\Users\\Administrator\\AppData\\Local\\Temp\\ipykernel_14812\\1653340466.py:16: FutureWarning: suggest_loguniform has been deprecated in v3.0.0. This feature will be removed in v6.0.0. See https://github.com/optuna/optuna/releases/tag/v3.0.0. Use suggest_float(..., log=True) instead.\n",
      "  'learning_rate_init': lambda trial: trial.suggest_loguniform('learning_rate_init', 1e-4, 1e-1)\n"
     ]
    },
    {
     "name": "stdout",
     "output_type": "stream",
     "text": [
      "Optimized parameters: {'hidden_layer_sizes': (72, 88), 'alpha': 0.0003310636512889945, 'learning_rate_init': 0.0002573977198747485}\n"
     ]
    },
    {
     "name": "stderr",
     "output_type": "stream",
     "text": [
      "c:\\Users\\Administrator\\Desktop\\Proyecto_ML Refuerzo\\ML_Refuerzo_Esther\\venv\\Lib\\site-packages\\sklearn\\neural_network\\_multilayer_perceptron.py:690: ConvergenceWarning: Stochastic Optimizer: Maximum iterations (200) reached and the optimization hasn't converged yet.\n",
      "  warnings.warn(\n",
      "c:\\Users\\Administrator\\Desktop\\Proyecto_ML Refuerzo\\ML_Refuerzo_Esther\\venv\\Lib\\site-packages\\sklearn\\neural_network\\_multilayer_perceptron.py:690: ConvergenceWarning: Stochastic Optimizer: Maximum iterations (200) reached and the optimization hasn't converged yet.\n",
      "  warnings.warn(\n",
      "c:\\Users\\Administrator\\Desktop\\Proyecto_ML Refuerzo\\ML_Refuerzo_Esther\\venv\\Lib\\site-packages\\sklearn\\neural_network\\_multilayer_perceptron.py:690: ConvergenceWarning: Stochastic Optimizer: Maximum iterations (200) reached and the optimization hasn't converged yet.\n",
      "  warnings.warn(\n",
      "c:\\Users\\Administrator\\Desktop\\Proyecto_ML Refuerzo\\ML_Refuerzo_Esther\\venv\\Lib\\site-packages\\sklearn\\neural_network\\_multilayer_perceptron.py:690: ConvergenceWarning: Stochastic Optimizer: Maximum iterations (200) reached and the optimization hasn't converged yet.\n",
      "  warnings.warn(\n",
      "c:\\Users\\Administrator\\Desktop\\Proyecto_ML Refuerzo\\ML_Refuerzo_Esther\\venv\\Lib\\site-packages\\sklearn\\neural_network\\_multilayer_perceptron.py:690: ConvergenceWarning: Stochastic Optimizer: Maximum iterations (200) reached and the optimization hasn't converged yet.\n",
      "  warnings.warn(\n",
      "[I 2024-12-09 16:40:10,713] Trial 30 finished with value: 0.40125 and parameters: {'n_units_l1': 72, 'n_units_l2': 88, 'alpha': 0.0003310636512889945, 'learning_rate_init': 0.0002573977198747485}. Best is trial 15 with value: 0.40875000000000006.\n",
      "C:\\Users\\Administrator\\AppData\\Local\\Temp\\ipykernel_14812\\1653340466.py:15: FutureWarning: suggest_loguniform has been deprecated in v3.0.0. This feature will be removed in v6.0.0. See https://github.com/optuna/optuna/releases/tag/v3.0.0. Use suggest_float(..., log=True) instead.\n",
      "  'alpha': lambda trial: trial.suggest_loguniform('alpha', 1e-5, 1e-1),\n",
      "C:\\Users\\Administrator\\AppData\\Local\\Temp\\ipykernel_14812\\1653340466.py:16: FutureWarning: suggest_loguniform has been deprecated in v3.0.0. This feature will be removed in v6.0.0. See https://github.com/optuna/optuna/releases/tag/v3.0.0. Use suggest_float(..., log=True) instead.\n",
      "  'learning_rate_init': lambda trial: trial.suggest_loguniform('learning_rate_init', 1e-4, 1e-1)\n"
     ]
    },
    {
     "name": "stdout",
     "output_type": "stream",
     "text": [
      "Optimized parameters: {'hidden_layer_sizes': (103, 31), 'alpha': 0.0952900079197274, 'learning_rate_init': 0.00013577105753926168}\n"
     ]
    },
    {
     "name": "stderr",
     "output_type": "stream",
     "text": [
      "c:\\Users\\Administrator\\Desktop\\Proyecto_ML Refuerzo\\ML_Refuerzo_Esther\\venv\\Lib\\site-packages\\sklearn\\neural_network\\_multilayer_perceptron.py:690: ConvergenceWarning: Stochastic Optimizer: Maximum iterations (200) reached and the optimization hasn't converged yet.\n",
      "  warnings.warn(\n",
      "c:\\Users\\Administrator\\Desktop\\Proyecto_ML Refuerzo\\ML_Refuerzo_Esther\\venv\\Lib\\site-packages\\sklearn\\neural_network\\_multilayer_perceptron.py:690: ConvergenceWarning: Stochastic Optimizer: Maximum iterations (200) reached and the optimization hasn't converged yet.\n",
      "  warnings.warn(\n",
      "c:\\Users\\Administrator\\Desktop\\Proyecto_ML Refuerzo\\ML_Refuerzo_Esther\\venv\\Lib\\site-packages\\sklearn\\neural_network\\_multilayer_perceptron.py:690: ConvergenceWarning: Stochastic Optimizer: Maximum iterations (200) reached and the optimization hasn't converged yet.\n",
      "  warnings.warn(\n",
      "c:\\Users\\Administrator\\Desktop\\Proyecto_ML Refuerzo\\ML_Refuerzo_Esther\\venv\\Lib\\site-packages\\sklearn\\neural_network\\_multilayer_perceptron.py:690: ConvergenceWarning: Stochastic Optimizer: Maximum iterations (200) reached and the optimization hasn't converged yet.\n",
      "  warnings.warn(\n",
      "c:\\Users\\Administrator\\Desktop\\Proyecto_ML Refuerzo\\ML_Refuerzo_Esther\\venv\\Lib\\site-packages\\sklearn\\neural_network\\_multilayer_perceptron.py:690: ConvergenceWarning: Stochastic Optimizer: Maximum iterations (200) reached and the optimization hasn't converged yet.\n",
      "  warnings.warn(\n",
      "[I 2024-12-09 16:40:14,748] Trial 31 finished with value: 0.39125 and parameters: {'n_units_l1': 103, 'n_units_l2': 31, 'alpha': 0.0952900079197274, 'learning_rate_init': 0.00013577105753926168}. Best is trial 15 with value: 0.40875000000000006.\n",
      "C:\\Users\\Administrator\\AppData\\Local\\Temp\\ipykernel_14812\\1653340466.py:15: FutureWarning: suggest_loguniform has been deprecated in v3.0.0. This feature will be removed in v6.0.0. See https://github.com/optuna/optuna/releases/tag/v3.0.0. Use suggest_float(..., log=True) instead.\n",
      "  'alpha': lambda trial: trial.suggest_loguniform('alpha', 1e-5, 1e-1),\n",
      "C:\\Users\\Administrator\\AppData\\Local\\Temp\\ipykernel_14812\\1653340466.py:16: FutureWarning: suggest_loguniform has been deprecated in v3.0.0. This feature will be removed in v6.0.0. See https://github.com/optuna/optuna/releases/tag/v3.0.0. Use suggest_float(..., log=True) instead.\n",
      "  'learning_rate_init': lambda trial: trial.suggest_loguniform('learning_rate_init', 1e-4, 1e-1)\n"
     ]
    },
    {
     "name": "stdout",
     "output_type": "stream",
     "text": [
      "Optimized parameters: {'hidden_layer_sizes': (122, 38), 'alpha': 0.05331722107066267, 'learning_rate_init': 0.00016747270408575695}\n"
     ]
    },
    {
     "name": "stderr",
     "output_type": "stream",
     "text": [
      "c:\\Users\\Administrator\\Desktop\\Proyecto_ML Refuerzo\\ML_Refuerzo_Esther\\venv\\Lib\\site-packages\\sklearn\\neural_network\\_multilayer_perceptron.py:690: ConvergenceWarning: Stochastic Optimizer: Maximum iterations (200) reached and the optimization hasn't converged yet.\n",
      "  warnings.warn(\n",
      "c:\\Users\\Administrator\\Desktop\\Proyecto_ML Refuerzo\\ML_Refuerzo_Esther\\venv\\Lib\\site-packages\\sklearn\\neural_network\\_multilayer_perceptron.py:690: ConvergenceWarning: Stochastic Optimizer: Maximum iterations (200) reached and the optimization hasn't converged yet.\n",
      "  warnings.warn(\n",
      "c:\\Users\\Administrator\\Desktop\\Proyecto_ML Refuerzo\\ML_Refuerzo_Esther\\venv\\Lib\\site-packages\\sklearn\\neural_network\\_multilayer_perceptron.py:690: ConvergenceWarning: Stochastic Optimizer: Maximum iterations (200) reached and the optimization hasn't converged yet.\n",
      "  warnings.warn(\n",
      "c:\\Users\\Administrator\\Desktop\\Proyecto_ML Refuerzo\\ML_Refuerzo_Esther\\venv\\Lib\\site-packages\\sklearn\\neural_network\\_multilayer_perceptron.py:690: ConvergenceWarning: Stochastic Optimizer: Maximum iterations (200) reached and the optimization hasn't converged yet.\n",
      "  warnings.warn(\n",
      "c:\\Users\\Administrator\\Desktop\\Proyecto_ML Refuerzo\\ML_Refuerzo_Esther\\venv\\Lib\\site-packages\\sklearn\\neural_network\\_multilayer_perceptron.py:690: ConvergenceWarning: Stochastic Optimizer: Maximum iterations (200) reached and the optimization hasn't converged yet.\n",
      "  warnings.warn(\n",
      "[I 2024-12-09 16:40:19,395] Trial 32 finished with value: 0.38499999999999995 and parameters: {'n_units_l1': 122, 'n_units_l2': 38, 'alpha': 0.05331722107066267, 'learning_rate_init': 0.00016747270408575695}. Best is trial 15 with value: 0.40875000000000006.\n",
      "C:\\Users\\Administrator\\AppData\\Local\\Temp\\ipykernel_14812\\1653340466.py:15: FutureWarning: suggest_loguniform has been deprecated in v3.0.0. This feature will be removed in v6.0.0. See https://github.com/optuna/optuna/releases/tag/v3.0.0. Use suggest_float(..., log=True) instead.\n",
      "  'alpha': lambda trial: trial.suggest_loguniform('alpha', 1e-5, 1e-1),\n",
      "C:\\Users\\Administrator\\AppData\\Local\\Temp\\ipykernel_14812\\1653340466.py:16: FutureWarning: suggest_loguniform has been deprecated in v3.0.0. This feature will be removed in v6.0.0. See https://github.com/optuna/optuna/releases/tag/v3.0.0. Use suggest_float(..., log=True) instead.\n",
      "  'learning_rate_init': lambda trial: trial.suggest_loguniform('learning_rate_init', 1e-4, 1e-1)\n"
     ]
    },
    {
     "name": "stdout",
     "output_type": "stream",
     "text": [
      "Optimized parameters: {'hidden_layer_sizes': (80, 32), 'alpha': 0.016543784812652593, 'learning_rate_init': 0.0006408034316388799}\n"
     ]
    },
    {
     "name": "stderr",
     "output_type": "stream",
     "text": [
      "c:\\Users\\Administrator\\Desktop\\Proyecto_ML Refuerzo\\ML_Refuerzo_Esther\\venv\\Lib\\site-packages\\sklearn\\neural_network\\_multilayer_perceptron.py:690: ConvergenceWarning: Stochastic Optimizer: Maximum iterations (200) reached and the optimization hasn't converged yet.\n",
      "  warnings.warn(\n",
      "c:\\Users\\Administrator\\Desktop\\Proyecto_ML Refuerzo\\ML_Refuerzo_Esther\\venv\\Lib\\site-packages\\sklearn\\neural_network\\_multilayer_perceptron.py:690: ConvergenceWarning: Stochastic Optimizer: Maximum iterations (200) reached and the optimization hasn't converged yet.\n",
      "  warnings.warn(\n",
      "c:\\Users\\Administrator\\Desktop\\Proyecto_ML Refuerzo\\ML_Refuerzo_Esther\\venv\\Lib\\site-packages\\sklearn\\neural_network\\_multilayer_perceptron.py:690: ConvergenceWarning: Stochastic Optimizer: Maximum iterations (200) reached and the optimization hasn't converged yet.\n",
      "  warnings.warn(\n",
      "c:\\Users\\Administrator\\Desktop\\Proyecto_ML Refuerzo\\ML_Refuerzo_Esther\\venv\\Lib\\site-packages\\sklearn\\neural_network\\_multilayer_perceptron.py:690: ConvergenceWarning: Stochastic Optimizer: Maximum iterations (200) reached and the optimization hasn't converged yet.\n",
      "  warnings.warn(\n",
      "c:\\Users\\Administrator\\Desktop\\Proyecto_ML Refuerzo\\ML_Refuerzo_Esther\\venv\\Lib\\site-packages\\sklearn\\neural_network\\_multilayer_perceptron.py:690: ConvergenceWarning: Stochastic Optimizer: Maximum iterations (200) reached and the optimization hasn't converged yet.\n",
      "  warnings.warn(\n",
      "[I 2024-12-09 16:40:22,444] Trial 33 finished with value: 0.375 and parameters: {'n_units_l1': 80, 'n_units_l2': 32, 'alpha': 0.016543784812652593, 'learning_rate_init': 0.0006408034316388799}. Best is trial 15 with value: 0.40875000000000006.\n",
      "C:\\Users\\Administrator\\AppData\\Local\\Temp\\ipykernel_14812\\1653340466.py:15: FutureWarning: suggest_loguniform has been deprecated in v3.0.0. This feature will be removed in v6.0.0. See https://github.com/optuna/optuna/releases/tag/v3.0.0. Use suggest_float(..., log=True) instead.\n",
      "  'alpha': lambda trial: trial.suggest_loguniform('alpha', 1e-5, 1e-1),\n",
      "C:\\Users\\Administrator\\AppData\\Local\\Temp\\ipykernel_14812\\1653340466.py:16: FutureWarning: suggest_loguniform has been deprecated in v3.0.0. This feature will be removed in v6.0.0. See https://github.com/optuna/optuna/releases/tag/v3.0.0. Use suggest_float(..., log=True) instead.\n",
      "  'learning_rate_init': lambda trial: trial.suggest_loguniform('learning_rate_init', 1e-4, 1e-1)\n"
     ]
    },
    {
     "name": "stdout",
     "output_type": "stream",
     "text": [
      "Optimized parameters: {'hidden_layer_sizes': (95, 25), 'alpha': 0.047653274926411276, 'learning_rate_init': 0.0001016572900503223}\n"
     ]
    },
    {
     "name": "stderr",
     "output_type": "stream",
     "text": [
      "c:\\Users\\Administrator\\Desktop\\Proyecto_ML Refuerzo\\ML_Refuerzo_Esther\\venv\\Lib\\site-packages\\sklearn\\neural_network\\_multilayer_perceptron.py:690: ConvergenceWarning: Stochastic Optimizer: Maximum iterations (200) reached and the optimization hasn't converged yet.\n",
      "  warnings.warn(\n",
      "c:\\Users\\Administrator\\Desktop\\Proyecto_ML Refuerzo\\ML_Refuerzo_Esther\\venv\\Lib\\site-packages\\sklearn\\neural_network\\_multilayer_perceptron.py:690: ConvergenceWarning: Stochastic Optimizer: Maximum iterations (200) reached and the optimization hasn't converged yet.\n",
      "  warnings.warn(\n",
      "c:\\Users\\Administrator\\Desktop\\Proyecto_ML Refuerzo\\ML_Refuerzo_Esther\\venv\\Lib\\site-packages\\sklearn\\neural_network\\_multilayer_perceptron.py:690: ConvergenceWarning: Stochastic Optimizer: Maximum iterations (200) reached and the optimization hasn't converged yet.\n",
      "  warnings.warn(\n",
      "c:\\Users\\Administrator\\Desktop\\Proyecto_ML Refuerzo\\ML_Refuerzo_Esther\\venv\\Lib\\site-packages\\sklearn\\neural_network\\_multilayer_perceptron.py:690: ConvergenceWarning: Stochastic Optimizer: Maximum iterations (200) reached and the optimization hasn't converged yet.\n",
      "  warnings.warn(\n",
      "c:\\Users\\Administrator\\Desktop\\Proyecto_ML Refuerzo\\ML_Refuerzo_Esther\\venv\\Lib\\site-packages\\sklearn\\neural_network\\_multilayer_perceptron.py:690: ConvergenceWarning: Stochastic Optimizer: Maximum iterations (200) reached and the optimization hasn't converged yet.\n",
      "  warnings.warn(\n",
      "[I 2024-12-09 16:40:25,629] Trial 34 finished with value: 0.3875 and parameters: {'n_units_l1': 95, 'n_units_l2': 25, 'alpha': 0.047653274926411276, 'learning_rate_init': 0.0001016572900503223}. Best is trial 15 with value: 0.40875000000000006.\n",
      "C:\\Users\\Administrator\\AppData\\Local\\Temp\\ipykernel_14812\\1653340466.py:15: FutureWarning: suggest_loguniform has been deprecated in v3.0.0. This feature will be removed in v6.0.0. See https://github.com/optuna/optuna/releases/tag/v3.0.0. Use suggest_float(..., log=True) instead.\n",
      "  'alpha': lambda trial: trial.suggest_loguniform('alpha', 1e-5, 1e-1),\n",
      "C:\\Users\\Administrator\\AppData\\Local\\Temp\\ipykernel_14812\\1653340466.py:16: FutureWarning: suggest_loguniform has been deprecated in v3.0.0. This feature will be removed in v6.0.0. See https://github.com/optuna/optuna/releases/tag/v3.0.0. Use suggest_float(..., log=True) instead.\n",
      "  'learning_rate_init': lambda trial: trial.suggest_loguniform('learning_rate_init', 1e-4, 1e-1)\n"
     ]
    },
    {
     "name": "stdout",
     "output_type": "stream",
     "text": [
      "Optimized parameters: {'hidden_layer_sizes': (118, 57), 'alpha': 0.09763766894130271, 'learning_rate_init': 0.00030633866806276913}\n"
     ]
    },
    {
     "name": "stderr",
     "output_type": "stream",
     "text": [
      "c:\\Users\\Administrator\\Desktop\\Proyecto_ML Refuerzo\\ML_Refuerzo_Esther\\venv\\Lib\\site-packages\\sklearn\\neural_network\\_multilayer_perceptron.py:690: ConvergenceWarning: Stochastic Optimizer: Maximum iterations (200) reached and the optimization hasn't converged yet.\n",
      "  warnings.warn(\n",
      "c:\\Users\\Administrator\\Desktop\\Proyecto_ML Refuerzo\\ML_Refuerzo_Esther\\venv\\Lib\\site-packages\\sklearn\\neural_network\\_multilayer_perceptron.py:690: ConvergenceWarning: Stochastic Optimizer: Maximum iterations (200) reached and the optimization hasn't converged yet.\n",
      "  warnings.warn(\n",
      "c:\\Users\\Administrator\\Desktop\\Proyecto_ML Refuerzo\\ML_Refuerzo_Esther\\venv\\Lib\\site-packages\\sklearn\\neural_network\\_multilayer_perceptron.py:690: ConvergenceWarning: Stochastic Optimizer: Maximum iterations (200) reached and the optimization hasn't converged yet.\n",
      "  warnings.warn(\n",
      "c:\\Users\\Administrator\\Desktop\\Proyecto_ML Refuerzo\\ML_Refuerzo_Esther\\venv\\Lib\\site-packages\\sklearn\\neural_network\\_multilayer_perceptron.py:690: ConvergenceWarning: Stochastic Optimizer: Maximum iterations (200) reached and the optimization hasn't converged yet.\n",
      "  warnings.warn(\n",
      "c:\\Users\\Administrator\\Desktop\\Proyecto_ML Refuerzo\\ML_Refuerzo_Esther\\venv\\Lib\\site-packages\\sklearn\\neural_network\\_multilayer_perceptron.py:690: ConvergenceWarning: Stochastic Optimizer: Maximum iterations (200) reached and the optimization hasn't converged yet.\n",
      "  warnings.warn(\n",
      "[I 2024-12-09 16:40:31,402] Trial 35 finished with value: 0.3975000000000001 and parameters: {'n_units_l1': 118, 'n_units_l2': 57, 'alpha': 0.09763766894130271, 'learning_rate_init': 0.00030633866806276913}. Best is trial 15 with value: 0.40875000000000006.\n",
      "C:\\Users\\Administrator\\AppData\\Local\\Temp\\ipykernel_14812\\1653340466.py:15: FutureWarning: suggest_loguniform has been deprecated in v3.0.0. This feature will be removed in v6.0.0. See https://github.com/optuna/optuna/releases/tag/v3.0.0. Use suggest_float(..., log=True) instead.\n",
      "  'alpha': lambda trial: trial.suggest_loguniform('alpha', 1e-5, 1e-1),\n",
      "C:\\Users\\Administrator\\AppData\\Local\\Temp\\ipykernel_14812\\1653340466.py:16: FutureWarning: suggest_loguniform has been deprecated in v3.0.0. This feature will be removed in v6.0.0. See https://github.com/optuna/optuna/releases/tag/v3.0.0. Use suggest_float(..., log=True) instead.\n",
      "  'learning_rate_init': lambda trial: trial.suggest_loguniform('learning_rate_init', 1e-4, 1e-1)\n"
     ]
    },
    {
     "name": "stdout",
     "output_type": "stream",
     "text": [
      "Optimized parameters: {'hidden_layer_sizes': (105, 47), 'alpha': 0.024854298542654515, 'learning_rate_init': 0.08811520638982387}\n"
     ]
    },
    {
     "name": "stderr",
     "output_type": "stream",
     "text": [
      "[I 2024-12-09 16:40:32,443] Trial 36 finished with value: 0.315 and parameters: {'n_units_l1': 105, 'n_units_l2': 47, 'alpha': 0.024854298542654515, 'learning_rate_init': 0.08811520638982387}. Best is trial 15 with value: 0.40875000000000006.\n",
      "C:\\Users\\Administrator\\AppData\\Local\\Temp\\ipykernel_14812\\1653340466.py:15: FutureWarning: suggest_loguniform has been deprecated in v3.0.0. This feature will be removed in v6.0.0. See https://github.com/optuna/optuna/releases/tag/v3.0.0. Use suggest_float(..., log=True) instead.\n",
      "  'alpha': lambda trial: trial.suggest_loguniform('alpha', 1e-5, 1e-1),\n",
      "C:\\Users\\Administrator\\AppData\\Local\\Temp\\ipykernel_14812\\1653340466.py:16: FutureWarning: suggest_loguniform has been deprecated in v3.0.0. This feature will be removed in v6.0.0. See https://github.com/optuna/optuna/releases/tag/v3.0.0. Use suggest_float(..., log=True) instead.\n",
      "  'learning_rate_init': lambda trial: trial.suggest_loguniform('learning_rate_init', 1e-4, 1e-1)\n"
     ]
    },
    {
     "name": "stdout",
     "output_type": "stream",
     "text": [
      "Optimized parameters: {'hidden_layer_sizes': (92, 39), 'alpha': 0.005343344453576201, 'learning_rate_init': 0.00014431163507430748}\n"
     ]
    },
    {
     "name": "stderr",
     "output_type": "stream",
     "text": [
      "c:\\Users\\Administrator\\Desktop\\Proyecto_ML Refuerzo\\ML_Refuerzo_Esther\\venv\\Lib\\site-packages\\sklearn\\neural_network\\_multilayer_perceptron.py:690: ConvergenceWarning: Stochastic Optimizer: Maximum iterations (200) reached and the optimization hasn't converged yet.\n",
      "  warnings.warn(\n",
      "c:\\Users\\Administrator\\Desktop\\Proyecto_ML Refuerzo\\ML_Refuerzo_Esther\\venv\\Lib\\site-packages\\sklearn\\neural_network\\_multilayer_perceptron.py:690: ConvergenceWarning: Stochastic Optimizer: Maximum iterations (200) reached and the optimization hasn't converged yet.\n",
      "  warnings.warn(\n",
      "c:\\Users\\Administrator\\Desktop\\Proyecto_ML Refuerzo\\ML_Refuerzo_Esther\\venv\\Lib\\site-packages\\sklearn\\neural_network\\_multilayer_perceptron.py:690: ConvergenceWarning: Stochastic Optimizer: Maximum iterations (200) reached and the optimization hasn't converged yet.\n",
      "  warnings.warn(\n",
      "c:\\Users\\Administrator\\Desktop\\Proyecto_ML Refuerzo\\ML_Refuerzo_Esther\\venv\\Lib\\site-packages\\sklearn\\neural_network\\_multilayer_perceptron.py:690: ConvergenceWarning: Stochastic Optimizer: Maximum iterations (200) reached and the optimization hasn't converged yet.\n",
      "  warnings.warn(\n",
      "c:\\Users\\Administrator\\Desktop\\Proyecto_ML Refuerzo\\ML_Refuerzo_Esther\\venv\\Lib\\site-packages\\sklearn\\neural_network\\_multilayer_perceptron.py:690: ConvergenceWarning: Stochastic Optimizer: Maximum iterations (200) reached and the optimization hasn't converged yet.\n",
      "  warnings.warn(\n",
      "[I 2024-12-09 16:40:36,445] Trial 37 finished with value: 0.42374999999999996 and parameters: {'n_units_l1': 92, 'n_units_l2': 39, 'alpha': 0.005343344453576201, 'learning_rate_init': 0.00014431163507430748}. Best is trial 37 with value: 0.42374999999999996.\n",
      "C:\\Users\\Administrator\\AppData\\Local\\Temp\\ipykernel_14812\\1653340466.py:15: FutureWarning: suggest_loguniform has been deprecated in v3.0.0. This feature will be removed in v6.0.0. See https://github.com/optuna/optuna/releases/tag/v3.0.0. Use suggest_float(..., log=True) instead.\n",
      "  'alpha': lambda trial: trial.suggest_loguniform('alpha', 1e-5, 1e-1),\n",
      "C:\\Users\\Administrator\\AppData\\Local\\Temp\\ipykernel_14812\\1653340466.py:16: FutureWarning: suggest_loguniform has been deprecated in v3.0.0. This feature will be removed in v6.0.0. See https://github.com/optuna/optuna/releases/tag/v3.0.0. Use suggest_float(..., log=True) instead.\n",
      "  'learning_rate_init': lambda trial: trial.suggest_loguniform('learning_rate_init', 1e-4, 1e-1)\n"
     ]
    },
    {
     "name": "stdout",
     "output_type": "stream",
     "text": [
      "Optimized parameters: {'hidden_layer_sizes': (91, 63), 'alpha': 0.006328339428395879, 'learning_rate_init': 0.026525353374749948}\n"
     ]
    },
    {
     "name": "stderr",
     "output_type": "stream",
     "text": [
      "[I 2024-12-09 16:40:38,600] Trial 38 finished with value: 0.32125 and parameters: {'n_units_l1': 91, 'n_units_l2': 63, 'alpha': 0.006328339428395879, 'learning_rate_init': 0.026525353374749948}. Best is trial 37 with value: 0.42374999999999996.\n",
      "C:\\Users\\Administrator\\AppData\\Local\\Temp\\ipykernel_14812\\1653340466.py:15: FutureWarning: suggest_loguniform has been deprecated in v3.0.0. This feature will be removed in v6.0.0. See https://github.com/optuna/optuna/releases/tag/v3.0.0. Use suggest_float(..., log=True) instead.\n",
      "  'alpha': lambda trial: trial.suggest_loguniform('alpha', 1e-5, 1e-1),\n",
      "C:\\Users\\Administrator\\AppData\\Local\\Temp\\ipykernel_14812\\1653340466.py:16: FutureWarning: suggest_loguniform has been deprecated in v3.0.0. This feature will be removed in v6.0.0. See https://github.com/optuna/optuna/releases/tag/v3.0.0. Use suggest_float(..., log=True) instead.\n",
      "  'learning_rate_init': lambda trial: trial.suggest_loguniform('learning_rate_init', 1e-4, 1e-1)\n"
     ]
    },
    {
     "name": "stdout",
     "output_type": "stream",
     "text": [
      "Optimized parameters: {'hidden_layer_sizes': (87, 56), 'alpha': 0.001817065706496547, 'learning_rate_init': 0.0004189002652834968}\n"
     ]
    },
    {
     "name": "stderr",
     "output_type": "stream",
     "text": [
      "c:\\Users\\Administrator\\Desktop\\Proyecto_ML Refuerzo\\ML_Refuerzo_Esther\\venv\\Lib\\site-packages\\sklearn\\neural_network\\_multilayer_perceptron.py:690: ConvergenceWarning: Stochastic Optimizer: Maximum iterations (200) reached and the optimization hasn't converged yet.\n",
      "  warnings.warn(\n",
      "c:\\Users\\Administrator\\Desktop\\Proyecto_ML Refuerzo\\ML_Refuerzo_Esther\\venv\\Lib\\site-packages\\sklearn\\neural_network\\_multilayer_perceptron.py:690: ConvergenceWarning: Stochastic Optimizer: Maximum iterations (200) reached and the optimization hasn't converged yet.\n",
      "  warnings.warn(\n",
      "c:\\Users\\Administrator\\Desktop\\Proyecto_ML Refuerzo\\ML_Refuerzo_Esther\\venv\\Lib\\site-packages\\sklearn\\neural_network\\_multilayer_perceptron.py:690: ConvergenceWarning: Stochastic Optimizer: Maximum iterations (200) reached and the optimization hasn't converged yet.\n",
      "  warnings.warn(\n",
      "c:\\Users\\Administrator\\Desktop\\Proyecto_ML Refuerzo\\ML_Refuerzo_Esther\\venv\\Lib\\site-packages\\sklearn\\neural_network\\_multilayer_perceptron.py:690: ConvergenceWarning: Stochastic Optimizer: Maximum iterations (200) reached and the optimization hasn't converged yet.\n",
      "  warnings.warn(\n",
      "c:\\Users\\Administrator\\Desktop\\Proyecto_ML Refuerzo\\ML_Refuerzo_Esther\\venv\\Lib\\site-packages\\sklearn\\neural_network\\_multilayer_perceptron.py:690: ConvergenceWarning: Stochastic Optimizer: Maximum iterations (200) reached and the optimization hasn't converged yet.\n",
      "  warnings.warn(\n",
      "[I 2024-12-09 16:40:43,211] Trial 39 finished with value: 0.36875 and parameters: {'n_units_l1': 87, 'n_units_l2': 56, 'alpha': 0.001817065706496547, 'learning_rate_init': 0.0004189002652834968}. Best is trial 37 with value: 0.42374999999999996.\n",
      "C:\\Users\\Administrator\\AppData\\Local\\Temp\\ipykernel_14812\\1653340466.py:15: FutureWarning: suggest_loguniform has been deprecated in v3.0.0. This feature will be removed in v6.0.0. See https://github.com/optuna/optuna/releases/tag/v3.0.0. Use suggest_float(..., log=True) instead.\n",
      "  'alpha': lambda trial: trial.suggest_loguniform('alpha', 1e-5, 1e-1),\n",
      "C:\\Users\\Administrator\\AppData\\Local\\Temp\\ipykernel_14812\\1653340466.py:16: FutureWarning: suggest_loguniform has been deprecated in v3.0.0. This feature will be removed in v6.0.0. See https://github.com/optuna/optuna/releases/tag/v3.0.0. Use suggest_float(..., log=True) instead.\n",
      "  'learning_rate_init': lambda trial: trial.suggest_loguniform('learning_rate_init', 1e-4, 1e-1)\n"
     ]
    },
    {
     "name": "stdout",
     "output_type": "stream",
     "text": [
      "Optimized parameters: {'hidden_layer_sizes': (198, 99), 'alpha': 0.005543164232974752, 'learning_rate_init': 0.007767172234823313}\n"
     ]
    },
    {
     "name": "stderr",
     "output_type": "stream",
     "text": [
      "[I 2024-12-09 16:40:47,658] Trial 40 finished with value: 0.325 and parameters: {'n_units_l1': 198, 'n_units_l2': 99, 'alpha': 0.005543164232974752, 'learning_rate_init': 0.007767172234823313}. Best is trial 37 with value: 0.42374999999999996.\n",
      "C:\\Users\\Administrator\\AppData\\Local\\Temp\\ipykernel_14812\\1653340466.py:15: FutureWarning: suggest_loguniform has been deprecated in v3.0.0. This feature will be removed in v6.0.0. See https://github.com/optuna/optuna/releases/tag/v3.0.0. Use suggest_float(..., log=True) instead.\n",
      "  'alpha': lambda trial: trial.suggest_loguniform('alpha', 1e-5, 1e-1),\n",
      "C:\\Users\\Administrator\\AppData\\Local\\Temp\\ipykernel_14812\\1653340466.py:16: FutureWarning: suggest_loguniform has been deprecated in v3.0.0. This feature will be removed in v6.0.0. See https://github.com/optuna/optuna/releases/tag/v3.0.0. Use suggest_float(..., log=True) instead.\n",
      "  'learning_rate_init': lambda trial: trial.suggest_loguniform('learning_rate_init', 1e-4, 1e-1)\n"
     ]
    },
    {
     "name": "stdout",
     "output_type": "stream",
     "text": [
      "Optimized parameters: {'hidden_layer_sizes': (127, 36), 'alpha': 0.012989708413248353, 'learning_rate_init': 0.00014680892115085157}\n"
     ]
    },
    {
     "name": "stderr",
     "output_type": "stream",
     "text": [
      "c:\\Users\\Administrator\\Desktop\\Proyecto_ML Refuerzo\\ML_Refuerzo_Esther\\venv\\Lib\\site-packages\\sklearn\\neural_network\\_multilayer_perceptron.py:690: ConvergenceWarning: Stochastic Optimizer: Maximum iterations (200) reached and the optimization hasn't converged yet.\n",
      "  warnings.warn(\n",
      "c:\\Users\\Administrator\\Desktop\\Proyecto_ML Refuerzo\\ML_Refuerzo_Esther\\venv\\Lib\\site-packages\\sklearn\\neural_network\\_multilayer_perceptron.py:690: ConvergenceWarning: Stochastic Optimizer: Maximum iterations (200) reached and the optimization hasn't converged yet.\n",
      "  warnings.warn(\n",
      "c:\\Users\\Administrator\\Desktop\\Proyecto_ML Refuerzo\\ML_Refuerzo_Esther\\venv\\Lib\\site-packages\\sklearn\\neural_network\\_multilayer_perceptron.py:690: ConvergenceWarning: Stochastic Optimizer: Maximum iterations (200) reached and the optimization hasn't converged yet.\n",
      "  warnings.warn(\n",
      "c:\\Users\\Administrator\\Desktop\\Proyecto_ML Refuerzo\\ML_Refuerzo_Esther\\venv\\Lib\\site-packages\\sklearn\\neural_network\\_multilayer_perceptron.py:690: ConvergenceWarning: Stochastic Optimizer: Maximum iterations (200) reached and the optimization hasn't converged yet.\n",
      "  warnings.warn(\n",
      "c:\\Users\\Administrator\\Desktop\\Proyecto_ML Refuerzo\\ML_Refuerzo_Esther\\venv\\Lib\\site-packages\\sklearn\\neural_network\\_multilayer_perceptron.py:690: ConvergenceWarning: Stochastic Optimizer: Maximum iterations (200) reached and the optimization hasn't converged yet.\n",
      "  warnings.warn(\n",
      "[I 2024-12-09 16:40:52,368] Trial 41 finished with value: 0.3925 and parameters: {'n_units_l1': 127, 'n_units_l2': 36, 'alpha': 0.012989708413248353, 'learning_rate_init': 0.00014680892115085157}. Best is trial 37 with value: 0.42374999999999996.\n",
      "C:\\Users\\Administrator\\AppData\\Local\\Temp\\ipykernel_14812\\1653340466.py:15: FutureWarning: suggest_loguniform has been deprecated in v3.0.0. This feature will be removed in v6.0.0. See https://github.com/optuna/optuna/releases/tag/v3.0.0. Use suggest_float(..., log=True) instead.\n",
      "  'alpha': lambda trial: trial.suggest_loguniform('alpha', 1e-5, 1e-1),\n",
      "C:\\Users\\Administrator\\AppData\\Local\\Temp\\ipykernel_14812\\1653340466.py:16: FutureWarning: suggest_loguniform has been deprecated in v3.0.0. This feature will be removed in v6.0.0. See https://github.com/optuna/optuna/releases/tag/v3.0.0. Use suggest_float(..., log=True) instead.\n",
      "  'learning_rate_init': lambda trial: trial.suggest_loguniform('learning_rate_init', 1e-4, 1e-1)\n"
     ]
    },
    {
     "name": "stdout",
     "output_type": "stream",
     "text": [
      "Optimized parameters: {'hidden_layer_sizes': (98, 46), 'alpha': 0.061429033679913196, 'learning_rate_init': 0.00026204655894388623}\n"
     ]
    },
    {
     "name": "stderr",
     "output_type": "stream",
     "text": [
      "c:\\Users\\Administrator\\Desktop\\Proyecto_ML Refuerzo\\ML_Refuerzo_Esther\\venv\\Lib\\site-packages\\sklearn\\neural_network\\_multilayer_perceptron.py:690: ConvergenceWarning: Stochastic Optimizer: Maximum iterations (200) reached and the optimization hasn't converged yet.\n",
      "  warnings.warn(\n",
      "c:\\Users\\Administrator\\Desktop\\Proyecto_ML Refuerzo\\ML_Refuerzo_Esther\\venv\\Lib\\site-packages\\sklearn\\neural_network\\_multilayer_perceptron.py:690: ConvergenceWarning: Stochastic Optimizer: Maximum iterations (200) reached and the optimization hasn't converged yet.\n",
      "  warnings.warn(\n",
      "c:\\Users\\Administrator\\Desktop\\Proyecto_ML Refuerzo\\ML_Refuerzo_Esther\\venv\\Lib\\site-packages\\sklearn\\neural_network\\_multilayer_perceptron.py:690: ConvergenceWarning: Stochastic Optimizer: Maximum iterations (200) reached and the optimization hasn't converged yet.\n",
      "  warnings.warn(\n",
      "c:\\Users\\Administrator\\Desktop\\Proyecto_ML Refuerzo\\ML_Refuerzo_Esther\\venv\\Lib\\site-packages\\sklearn\\neural_network\\_multilayer_perceptron.py:690: ConvergenceWarning: Stochastic Optimizer: Maximum iterations (200) reached and the optimization hasn't converged yet.\n",
      "  warnings.warn(\n",
      "c:\\Users\\Administrator\\Desktop\\Proyecto_ML Refuerzo\\ML_Refuerzo_Esther\\venv\\Lib\\site-packages\\sklearn\\neural_network\\_multilayer_perceptron.py:690: ConvergenceWarning: Stochastic Optimizer: Maximum iterations (200) reached and the optimization hasn't converged yet.\n",
      "  warnings.warn(\n",
      "[I 2024-12-09 16:40:56,897] Trial 42 finished with value: 0.3875 and parameters: {'n_units_l1': 98, 'n_units_l2': 46, 'alpha': 0.061429033679913196, 'learning_rate_init': 0.00026204655894388623}. Best is trial 37 with value: 0.42374999999999996.\n",
      "C:\\Users\\Administrator\\AppData\\Local\\Temp\\ipykernel_14812\\1653340466.py:15: FutureWarning: suggest_loguniform has been deprecated in v3.0.0. This feature will be removed in v6.0.0. See https://github.com/optuna/optuna/releases/tag/v3.0.0. Use suggest_float(..., log=True) instead.\n",
      "  'alpha': lambda trial: trial.suggest_loguniform('alpha', 1e-5, 1e-1),\n",
      "C:\\Users\\Administrator\\AppData\\Local\\Temp\\ipykernel_14812\\1653340466.py:16: FutureWarning: suggest_loguniform has been deprecated in v3.0.0. This feature will be removed in v6.0.0. See https://github.com/optuna/optuna/releases/tag/v3.0.0. Use suggest_float(..., log=True) instead.\n",
      "  'learning_rate_init': lambda trial: trial.suggest_loguniform('learning_rate_init', 1e-4, 1e-1)\n"
     ]
    },
    {
     "name": "stdout",
     "output_type": "stream",
     "text": [
      "Optimized parameters: {'hidden_layer_sizes': (82, 41), 'alpha': 0.003202577173901999, 'learning_rate_init': 0.00014470295121388478}\n"
     ]
    },
    {
     "name": "stderr",
     "output_type": "stream",
     "text": [
      "c:\\Users\\Administrator\\Desktop\\Proyecto_ML Refuerzo\\ML_Refuerzo_Esther\\venv\\Lib\\site-packages\\sklearn\\neural_network\\_multilayer_perceptron.py:690: ConvergenceWarning: Stochastic Optimizer: Maximum iterations (200) reached and the optimization hasn't converged yet.\n",
      "  warnings.warn(\n",
      "c:\\Users\\Administrator\\Desktop\\Proyecto_ML Refuerzo\\ML_Refuerzo_Esther\\venv\\Lib\\site-packages\\sklearn\\neural_network\\_multilayer_perceptron.py:690: ConvergenceWarning: Stochastic Optimizer: Maximum iterations (200) reached and the optimization hasn't converged yet.\n",
      "  warnings.warn(\n",
      "c:\\Users\\Administrator\\Desktop\\Proyecto_ML Refuerzo\\ML_Refuerzo_Esther\\venv\\Lib\\site-packages\\sklearn\\neural_network\\_multilayer_perceptron.py:690: ConvergenceWarning: Stochastic Optimizer: Maximum iterations (200) reached and the optimization hasn't converged yet.\n",
      "  warnings.warn(\n",
      "c:\\Users\\Administrator\\Desktop\\Proyecto_ML Refuerzo\\ML_Refuerzo_Esther\\venv\\Lib\\site-packages\\sklearn\\neural_network\\_multilayer_perceptron.py:690: ConvergenceWarning: Stochastic Optimizer: Maximum iterations (200) reached and the optimization hasn't converged yet.\n",
      "  warnings.warn(\n",
      "c:\\Users\\Administrator\\Desktop\\Proyecto_ML Refuerzo\\ML_Refuerzo_Esther\\venv\\Lib\\site-packages\\sklearn\\neural_network\\_multilayer_perceptron.py:690: ConvergenceWarning: Stochastic Optimizer: Maximum iterations (200) reached and the optimization hasn't converged yet.\n",
      "  warnings.warn(\n",
      "[I 2024-12-09 16:41:00,936] Trial 43 finished with value: 0.39875 and parameters: {'n_units_l1': 82, 'n_units_l2': 41, 'alpha': 0.003202577173901999, 'learning_rate_init': 0.00014470295121388478}. Best is trial 37 with value: 0.42374999999999996.\n",
      "C:\\Users\\Administrator\\AppData\\Local\\Temp\\ipykernel_14812\\1653340466.py:15: FutureWarning: suggest_loguniform has been deprecated in v3.0.0. This feature will be removed in v6.0.0. See https://github.com/optuna/optuna/releases/tag/v3.0.0. Use suggest_float(..., log=True) instead.\n",
      "  'alpha': lambda trial: trial.suggest_loguniform('alpha', 1e-5, 1e-1),\n",
      "C:\\Users\\Administrator\\AppData\\Local\\Temp\\ipykernel_14812\\1653340466.py:16: FutureWarning: suggest_loguniform has been deprecated in v3.0.0. This feature will be removed in v6.0.0. See https://github.com/optuna/optuna/releases/tag/v3.0.0. Use suggest_float(..., log=True) instead.\n",
      "  'learning_rate_init': lambda trial: trial.suggest_loguniform('learning_rate_init', 1e-4, 1e-1)\n"
     ]
    },
    {
     "name": "stdout",
     "output_type": "stream",
     "text": [
      "Optimized parameters: {'hidden_layer_sizes': (115, 50), 'alpha': 0.03383557944316378, 'learning_rate_init': 0.0006622310712023448}\n"
     ]
    },
    {
     "name": "stderr",
     "output_type": "stream",
     "text": [
      "c:\\Users\\Administrator\\Desktop\\Proyecto_ML Refuerzo\\ML_Refuerzo_Esther\\venv\\Lib\\site-packages\\sklearn\\neural_network\\_multilayer_perceptron.py:690: ConvergenceWarning: Stochastic Optimizer: Maximum iterations (200) reached and the optimization hasn't converged yet.\n",
      "  warnings.warn(\n",
      "c:\\Users\\Administrator\\Desktop\\Proyecto_ML Refuerzo\\ML_Refuerzo_Esther\\venv\\Lib\\site-packages\\sklearn\\neural_network\\_multilayer_perceptron.py:690: ConvergenceWarning: Stochastic Optimizer: Maximum iterations (200) reached and the optimization hasn't converged yet.\n",
      "  warnings.warn(\n",
      "c:\\Users\\Administrator\\Desktop\\Proyecto_ML Refuerzo\\ML_Refuerzo_Esther\\venv\\Lib\\site-packages\\sklearn\\neural_network\\_multilayer_perceptron.py:690: ConvergenceWarning: Stochastic Optimizer: Maximum iterations (200) reached and the optimization hasn't converged yet.\n",
      "  warnings.warn(\n",
      "c:\\Users\\Administrator\\Desktop\\Proyecto_ML Refuerzo\\ML_Refuerzo_Esther\\venv\\Lib\\site-packages\\sklearn\\neural_network\\_multilayer_perceptron.py:690: ConvergenceWarning: Stochastic Optimizer: Maximum iterations (200) reached and the optimization hasn't converged yet.\n",
      "  warnings.warn(\n",
      "c:\\Users\\Administrator\\Desktop\\Proyecto_ML Refuerzo\\ML_Refuerzo_Esther\\venv\\Lib\\site-packages\\sklearn\\neural_network\\_multilayer_perceptron.py:690: ConvergenceWarning: Stochastic Optimizer: Maximum iterations (200) reached and the optimization hasn't converged yet.\n",
      "  warnings.warn(\n",
      "[I 2024-12-09 16:41:06,454] Trial 44 finished with value: 0.36875 and parameters: {'n_units_l1': 115, 'n_units_l2': 50, 'alpha': 0.03383557944316378, 'learning_rate_init': 0.0006622310712023448}. Best is trial 37 with value: 0.42374999999999996.\n",
      "C:\\Users\\Administrator\\AppData\\Local\\Temp\\ipykernel_14812\\1653340466.py:15: FutureWarning: suggest_loguniform has been deprecated in v3.0.0. This feature will be removed in v6.0.0. See https://github.com/optuna/optuna/releases/tag/v3.0.0. Use suggest_float(..., log=True) instead.\n",
      "  'alpha': lambda trial: trial.suggest_loguniform('alpha', 1e-5, 1e-1),\n",
      "C:\\Users\\Administrator\\AppData\\Local\\Temp\\ipykernel_14812\\1653340466.py:16: FutureWarning: suggest_loguniform has been deprecated in v3.0.0. This feature will be removed in v6.0.0. See https://github.com/optuna/optuna/releases/tag/v3.0.0. Use suggest_float(..., log=True) instead.\n",
      "  'learning_rate_init': lambda trial: trial.suggest_loguniform('learning_rate_init', 1e-4, 1e-1)\n"
     ]
    },
    {
     "name": "stdout",
     "output_type": "stream",
     "text": [
      "Optimized parameters: {'hidden_layer_sizes': (106, 38), 'alpha': 0.01848730493934267, 'learning_rate_init': 0.00023283511753076767}\n"
     ]
    },
    {
     "name": "stderr",
     "output_type": "stream",
     "text": [
      "c:\\Users\\Administrator\\Desktop\\Proyecto_ML Refuerzo\\ML_Refuerzo_Esther\\venv\\Lib\\site-packages\\sklearn\\neural_network\\_multilayer_perceptron.py:690: ConvergenceWarning: Stochastic Optimizer: Maximum iterations (200) reached and the optimization hasn't converged yet.\n",
      "  warnings.warn(\n",
      "c:\\Users\\Administrator\\Desktop\\Proyecto_ML Refuerzo\\ML_Refuerzo_Esther\\venv\\Lib\\site-packages\\sklearn\\neural_network\\_multilayer_perceptron.py:690: ConvergenceWarning: Stochastic Optimizer: Maximum iterations (200) reached and the optimization hasn't converged yet.\n",
      "  warnings.warn(\n",
      "c:\\Users\\Administrator\\Desktop\\Proyecto_ML Refuerzo\\ML_Refuerzo_Esther\\venv\\Lib\\site-packages\\sklearn\\neural_network\\_multilayer_perceptron.py:690: ConvergenceWarning: Stochastic Optimizer: Maximum iterations (200) reached and the optimization hasn't converged yet.\n",
      "  warnings.warn(\n",
      "c:\\Users\\Administrator\\Desktop\\Proyecto_ML Refuerzo\\ML_Refuerzo_Esther\\venv\\Lib\\site-packages\\sklearn\\neural_network\\_multilayer_perceptron.py:690: ConvergenceWarning: Stochastic Optimizer: Maximum iterations (200) reached and the optimization hasn't converged yet.\n",
      "  warnings.warn(\n",
      "c:\\Users\\Administrator\\Desktop\\Proyecto_ML Refuerzo\\ML_Refuerzo_Esther\\venv\\Lib\\site-packages\\sklearn\\neural_network\\_multilayer_perceptron.py:690: ConvergenceWarning: Stochastic Optimizer: Maximum iterations (200) reached and the optimization hasn't converged yet.\n",
      "  warnings.warn(\n",
      "[I 2024-12-09 16:41:11,059] Trial 45 finished with value: 0.40750000000000003 and parameters: {'n_units_l1': 106, 'n_units_l2': 38, 'alpha': 0.01848730493934267, 'learning_rate_init': 0.00023283511753076767}. Best is trial 37 with value: 0.42374999999999996.\n",
      "C:\\Users\\Administrator\\AppData\\Local\\Temp\\ipykernel_14812\\1653340466.py:15: FutureWarning: suggest_loguniform has been deprecated in v3.0.0. This feature will be removed in v6.0.0. See https://github.com/optuna/optuna/releases/tag/v3.0.0. Use suggest_float(..., log=True) instead.\n",
      "  'alpha': lambda trial: trial.suggest_loguniform('alpha', 1e-5, 1e-1),\n",
      "C:\\Users\\Administrator\\AppData\\Local\\Temp\\ipykernel_14812\\1653340466.py:16: FutureWarning: suggest_loguniform has been deprecated in v3.0.0. This feature will be removed in v6.0.0. See https://github.com/optuna/optuna/releases/tag/v3.0.0. Use suggest_float(..., log=True) instead.\n",
      "  'learning_rate_init': lambda trial: trial.suggest_loguniform('learning_rate_init', 1e-4, 1e-1)\n"
     ]
    },
    {
     "name": "stdout",
     "output_type": "stream",
     "text": [
      "Optimized parameters: {'hidden_layer_sizes': (105, 29), 'alpha': 0.020944921659671874, 'learning_rate_init': 0.0009409925158975215}\n"
     ]
    },
    {
     "name": "stderr",
     "output_type": "stream",
     "text": [
      "c:\\Users\\Administrator\\Desktop\\Proyecto_ML Refuerzo\\ML_Refuerzo_Esther\\venv\\Lib\\site-packages\\sklearn\\neural_network\\_multilayer_perceptron.py:690: ConvergenceWarning: Stochastic Optimizer: Maximum iterations (200) reached and the optimization hasn't converged yet.\n",
      "  warnings.warn(\n",
      "c:\\Users\\Administrator\\Desktop\\Proyecto_ML Refuerzo\\ML_Refuerzo_Esther\\venv\\Lib\\site-packages\\sklearn\\neural_network\\_multilayer_perceptron.py:690: ConvergenceWarning: Stochastic Optimizer: Maximum iterations (200) reached and the optimization hasn't converged yet.\n",
      "  warnings.warn(\n",
      "c:\\Users\\Administrator\\Desktop\\Proyecto_ML Refuerzo\\ML_Refuerzo_Esther\\venv\\Lib\\site-packages\\sklearn\\neural_network\\_multilayer_perceptron.py:690: ConvergenceWarning: Stochastic Optimizer: Maximum iterations (200) reached and the optimization hasn't converged yet.\n",
      "  warnings.warn(\n",
      "c:\\Users\\Administrator\\Desktop\\Proyecto_ML Refuerzo\\ML_Refuerzo_Esther\\venv\\Lib\\site-packages\\sklearn\\neural_network\\_multilayer_perceptron.py:690: ConvergenceWarning: Stochastic Optimizer: Maximum iterations (200) reached and the optimization hasn't converged yet.\n",
      "  warnings.warn(\n",
      "c:\\Users\\Administrator\\Desktop\\Proyecto_ML Refuerzo\\ML_Refuerzo_Esther\\venv\\Lib\\site-packages\\sklearn\\neural_network\\_multilayer_perceptron.py:690: ConvergenceWarning: Stochastic Optimizer: Maximum iterations (200) reached and the optimization hasn't converged yet.\n",
      "  warnings.warn(\n",
      "[I 2024-12-09 16:41:15,096] Trial 46 finished with value: 0.35375 and parameters: {'n_units_l1': 105, 'n_units_l2': 29, 'alpha': 0.020944921659671874, 'learning_rate_init': 0.0009409925158975215}. Best is trial 37 with value: 0.42374999999999996.\n",
      "C:\\Users\\Administrator\\AppData\\Local\\Temp\\ipykernel_14812\\1653340466.py:15: FutureWarning: suggest_loguniform has been deprecated in v3.0.0. This feature will be removed in v6.0.0. See https://github.com/optuna/optuna/releases/tag/v3.0.0. Use suggest_float(..., log=True) instead.\n",
      "  'alpha': lambda trial: trial.suggest_loguniform('alpha', 1e-5, 1e-1),\n",
      "C:\\Users\\Administrator\\AppData\\Local\\Temp\\ipykernel_14812\\1653340466.py:16: FutureWarning: suggest_loguniform has been deprecated in v3.0.0. This feature will be removed in v6.0.0. See https://github.com/optuna/optuna/releases/tag/v3.0.0. Use suggest_float(..., log=True) instead.\n",
      "  'learning_rate_init': lambda trial: trial.suggest_loguniform('learning_rate_init', 1e-4, 1e-1)\n"
     ]
    },
    {
     "name": "stdout",
     "output_type": "stream",
     "text": [
      "Optimized parameters: {'hidden_layer_sizes': (73, 68), 'alpha': 0.008278704431230183, 'learning_rate_init': 0.00037497520576807824}\n"
     ]
    },
    {
     "name": "stderr",
     "output_type": "stream",
     "text": [
      "c:\\Users\\Administrator\\Desktop\\Proyecto_ML Refuerzo\\ML_Refuerzo_Esther\\venv\\Lib\\site-packages\\sklearn\\neural_network\\_multilayer_perceptron.py:690: ConvergenceWarning: Stochastic Optimizer: Maximum iterations (200) reached and the optimization hasn't converged yet.\n",
      "  warnings.warn(\n",
      "c:\\Users\\Administrator\\Desktop\\Proyecto_ML Refuerzo\\ML_Refuerzo_Esther\\venv\\Lib\\site-packages\\sklearn\\neural_network\\_multilayer_perceptron.py:690: ConvergenceWarning: Stochastic Optimizer: Maximum iterations (200) reached and the optimization hasn't converged yet.\n",
      "  warnings.warn(\n",
      "c:\\Users\\Administrator\\Desktop\\Proyecto_ML Refuerzo\\ML_Refuerzo_Esther\\venv\\Lib\\site-packages\\sklearn\\neural_network\\_multilayer_perceptron.py:690: ConvergenceWarning: Stochastic Optimizer: Maximum iterations (200) reached and the optimization hasn't converged yet.\n",
      "  warnings.warn(\n",
      "c:\\Users\\Administrator\\Desktop\\Proyecto_ML Refuerzo\\ML_Refuerzo_Esther\\venv\\Lib\\site-packages\\sklearn\\neural_network\\_multilayer_perceptron.py:690: ConvergenceWarning: Stochastic Optimizer: Maximum iterations (200) reached and the optimization hasn't converged yet.\n",
      "  warnings.warn(\n",
      "c:\\Users\\Administrator\\Desktop\\Proyecto_ML Refuerzo\\ML_Refuerzo_Esther\\venv\\Lib\\site-packages\\sklearn\\neural_network\\_multilayer_perceptron.py:690: ConvergenceWarning: Stochastic Optimizer: Maximum iterations (200) reached and the optimization hasn't converged yet.\n",
      "  warnings.warn(\n",
      "[I 2024-12-09 16:41:19,679] Trial 47 finished with value: 0.37124999999999997 and parameters: {'n_units_l1': 73, 'n_units_l2': 68, 'alpha': 0.008278704431230183, 'learning_rate_init': 0.00037497520576807824}. Best is trial 37 with value: 0.42374999999999996.\n",
      "C:\\Users\\Administrator\\AppData\\Local\\Temp\\ipykernel_14812\\1653340466.py:15: FutureWarning: suggest_loguniform has been deprecated in v3.0.0. This feature will be removed in v6.0.0. See https://github.com/optuna/optuna/releases/tag/v3.0.0. Use suggest_float(..., log=True) instead.\n",
      "  'alpha': lambda trial: trial.suggest_loguniform('alpha', 1e-5, 1e-1),\n",
      "C:\\Users\\Administrator\\AppData\\Local\\Temp\\ipykernel_14812\\1653340466.py:16: FutureWarning: suggest_loguniform has been deprecated in v3.0.0. This feature will be removed in v6.0.0. See https://github.com/optuna/optuna/releases/tag/v3.0.0. Use suggest_float(..., log=True) instead.\n",
      "  'learning_rate_init': lambda trial: trial.suggest_loguniform('learning_rate_init', 1e-4, 1e-1)\n"
     ]
    },
    {
     "name": "stdout",
     "output_type": "stream",
     "text": [
      "Optimized parameters: {'hidden_layer_sizes': (138, 33), 'alpha': 0.005559805286740691, 'learning_rate_init': 0.00024317401979002224}\n"
     ]
    },
    {
     "name": "stderr",
     "output_type": "stream",
     "text": [
      "c:\\Users\\Administrator\\Desktop\\Proyecto_ML Refuerzo\\ML_Refuerzo_Esther\\venv\\Lib\\site-packages\\sklearn\\neural_network\\_multilayer_perceptron.py:690: ConvergenceWarning: Stochastic Optimizer: Maximum iterations (200) reached and the optimization hasn't converged yet.\n",
      "  warnings.warn(\n",
      "c:\\Users\\Administrator\\Desktop\\Proyecto_ML Refuerzo\\ML_Refuerzo_Esther\\venv\\Lib\\site-packages\\sklearn\\neural_network\\_multilayer_perceptron.py:690: ConvergenceWarning: Stochastic Optimizer: Maximum iterations (200) reached and the optimization hasn't converged yet.\n",
      "  warnings.warn(\n",
      "c:\\Users\\Administrator\\Desktop\\Proyecto_ML Refuerzo\\ML_Refuerzo_Esther\\venv\\Lib\\site-packages\\sklearn\\neural_network\\_multilayer_perceptron.py:690: ConvergenceWarning: Stochastic Optimizer: Maximum iterations (200) reached and the optimization hasn't converged yet.\n",
      "  warnings.warn(\n",
      "c:\\Users\\Administrator\\Desktop\\Proyecto_ML Refuerzo\\ML_Refuerzo_Esther\\venv\\Lib\\site-packages\\sklearn\\neural_network\\_multilayer_perceptron.py:690: ConvergenceWarning: Stochastic Optimizer: Maximum iterations (200) reached and the optimization hasn't converged yet.\n",
      "  warnings.warn(\n",
      "c:\\Users\\Administrator\\Desktop\\Proyecto_ML Refuerzo\\ML_Refuerzo_Esther\\venv\\Lib\\site-packages\\sklearn\\neural_network\\_multilayer_perceptron.py:690: ConvergenceWarning: Stochastic Optimizer: Maximum iterations (200) reached and the optimization hasn't converged yet.\n",
      "  warnings.warn(\n",
      "[I 2024-12-09 16:41:25,090] Trial 48 finished with value: 0.40750000000000003 and parameters: {'n_units_l1': 138, 'n_units_l2': 33, 'alpha': 0.005559805286740691, 'learning_rate_init': 0.00024317401979002224}. Best is trial 37 with value: 0.42374999999999996.\n",
      "C:\\Users\\Administrator\\AppData\\Local\\Temp\\ipykernel_14812\\1653340466.py:15: FutureWarning: suggest_loguniform has been deprecated in v3.0.0. This feature will be removed in v6.0.0. See https://github.com/optuna/optuna/releases/tag/v3.0.0. Use suggest_float(..., log=True) instead.\n",
      "  'alpha': lambda trial: trial.suggest_loguniform('alpha', 1e-5, 1e-1),\n",
      "C:\\Users\\Administrator\\AppData\\Local\\Temp\\ipykernel_14812\\1653340466.py:16: FutureWarning: suggest_loguniform has been deprecated in v3.0.0. This feature will be removed in v6.0.0. See https://github.com/optuna/optuna/releases/tag/v3.0.0. Use suggest_float(..., log=True) instead.\n",
      "  'learning_rate_init': lambda trial: trial.suggest_loguniform('learning_rate_init', 1e-4, 1e-1)\n"
     ]
    },
    {
     "name": "stdout",
     "output_type": "stream",
     "text": [
      "Optimized parameters: {'hidden_layer_sizes': (143, 33), 'alpha': 0.0012445761966149856, 'learning_rate_init': 0.00024052500003981142}\n"
     ]
    },
    {
     "name": "stderr",
     "output_type": "stream",
     "text": [
      "c:\\Users\\Administrator\\Desktop\\Proyecto_ML Refuerzo\\ML_Refuerzo_Esther\\venv\\Lib\\site-packages\\sklearn\\neural_network\\_multilayer_perceptron.py:690: ConvergenceWarning: Stochastic Optimizer: Maximum iterations (200) reached and the optimization hasn't converged yet.\n",
      "  warnings.warn(\n",
      "c:\\Users\\Administrator\\Desktop\\Proyecto_ML Refuerzo\\ML_Refuerzo_Esther\\venv\\Lib\\site-packages\\sklearn\\neural_network\\_multilayer_perceptron.py:690: ConvergenceWarning: Stochastic Optimizer: Maximum iterations (200) reached and the optimization hasn't converged yet.\n",
      "  warnings.warn(\n",
      "c:\\Users\\Administrator\\Desktop\\Proyecto_ML Refuerzo\\ML_Refuerzo_Esther\\venv\\Lib\\site-packages\\sklearn\\neural_network\\_multilayer_perceptron.py:690: ConvergenceWarning: Stochastic Optimizer: Maximum iterations (200) reached and the optimization hasn't converged yet.\n",
      "  warnings.warn(\n",
      "c:\\Users\\Administrator\\Desktop\\Proyecto_ML Refuerzo\\ML_Refuerzo_Esther\\venv\\Lib\\site-packages\\sklearn\\neural_network\\_multilayer_perceptron.py:690: ConvergenceWarning: Stochastic Optimizer: Maximum iterations (200) reached and the optimization hasn't converged yet.\n",
      "  warnings.warn(\n",
      "c:\\Users\\Administrator\\Desktop\\Proyecto_ML Refuerzo\\ML_Refuerzo_Esther\\venv\\Lib\\site-packages\\sklearn\\neural_network\\_multilayer_perceptron.py:690: ConvergenceWarning: Stochastic Optimizer: Maximum iterations (200) reached and the optimization hasn't converged yet.\n",
      "  warnings.warn(\n",
      "[I 2024-12-09 16:41:30,062] Trial 49 finished with value: 0.40750000000000003 and parameters: {'n_units_l1': 143, 'n_units_l2': 33, 'alpha': 0.0012445761966149856, 'learning_rate_init': 0.00024052500003981142}. Best is trial 37 with value: 0.42374999999999996.\n",
      "C:\\Users\\Administrator\\AppData\\Local\\Temp\\ipykernel_14812\\1653340466.py:15: FutureWarning: suggest_loguniform has been deprecated in v3.0.0. This feature will be removed in v6.0.0. See https://github.com/optuna/optuna/releases/tag/v3.0.0. Use suggest_float(..., log=True) instead.\n",
      "  'alpha': lambda trial: trial.suggest_loguniform('alpha', 1e-5, 1e-1),\n",
      "C:\\Users\\Administrator\\AppData\\Local\\Temp\\ipykernel_14812\\1653340466.py:16: FutureWarning: suggest_loguniform has been deprecated in v3.0.0. This feature will be removed in v6.0.0. See https://github.com/optuna/optuna/releases/tag/v3.0.0. Use suggest_float(..., log=True) instead.\n",
      "  'learning_rate_init': lambda trial: trial.suggest_loguniform('learning_rate_init', 1e-4, 1e-1)\n"
     ]
    },
    {
     "name": "stdout",
     "output_type": "stream",
     "text": [
      "Optimized parameters: {'hidden_layer_sizes': (131, 28), 'alpha': 0.005212902392629811, 'learning_rate_init': 0.0005561355009567187}\n"
     ]
    },
    {
     "name": "stderr",
     "output_type": "stream",
     "text": [
      "c:\\Users\\Administrator\\Desktop\\Proyecto_ML Refuerzo\\ML_Refuerzo_Esther\\venv\\Lib\\site-packages\\sklearn\\neural_network\\_multilayer_perceptron.py:690: ConvergenceWarning: Stochastic Optimizer: Maximum iterations (200) reached and the optimization hasn't converged yet.\n",
      "  warnings.warn(\n",
      "c:\\Users\\Administrator\\Desktop\\Proyecto_ML Refuerzo\\ML_Refuerzo_Esther\\venv\\Lib\\site-packages\\sklearn\\neural_network\\_multilayer_perceptron.py:690: ConvergenceWarning: Stochastic Optimizer: Maximum iterations (200) reached and the optimization hasn't converged yet.\n",
      "  warnings.warn(\n",
      "c:\\Users\\Administrator\\Desktop\\Proyecto_ML Refuerzo\\ML_Refuerzo_Esther\\venv\\Lib\\site-packages\\sklearn\\neural_network\\_multilayer_perceptron.py:690: ConvergenceWarning: Stochastic Optimizer: Maximum iterations (200) reached and the optimization hasn't converged yet.\n",
      "  warnings.warn(\n",
      "c:\\Users\\Administrator\\Desktop\\Proyecto_ML Refuerzo\\ML_Refuerzo_Esther\\venv\\Lib\\site-packages\\sklearn\\neural_network\\_multilayer_perceptron.py:690: ConvergenceWarning: Stochastic Optimizer: Maximum iterations (200) reached and the optimization hasn't converged yet.\n",
      "  warnings.warn(\n",
      "c:\\Users\\Administrator\\Desktop\\Proyecto_ML Refuerzo\\ML_Refuerzo_Esther\\venv\\Lib\\site-packages\\sklearn\\neural_network\\_multilayer_perceptron.py:690: ConvergenceWarning: Stochastic Optimizer: Maximum iterations (200) reached and the optimization hasn't converged yet.\n",
      "  warnings.warn(\n",
      "[I 2024-12-09 16:41:34,246] Trial 50 finished with value: 0.37875 and parameters: {'n_units_l1': 131, 'n_units_l2': 28, 'alpha': 0.005212902392629811, 'learning_rate_init': 0.0005561355009567187}. Best is trial 37 with value: 0.42374999999999996.\n",
      "C:\\Users\\Administrator\\AppData\\Local\\Temp\\ipykernel_14812\\1653340466.py:15: FutureWarning: suggest_loguniform has been deprecated in v3.0.0. This feature will be removed in v6.0.0. See https://github.com/optuna/optuna/releases/tag/v3.0.0. Use suggest_float(..., log=True) instead.\n",
      "  'alpha': lambda trial: trial.suggest_loguniform('alpha', 1e-5, 1e-1),\n",
      "C:\\Users\\Administrator\\AppData\\Local\\Temp\\ipykernel_14812\\1653340466.py:16: FutureWarning: suggest_loguniform has been deprecated in v3.0.0. This feature will be removed in v6.0.0. See https://github.com/optuna/optuna/releases/tag/v3.0.0. Use suggest_float(..., log=True) instead.\n",
      "  'learning_rate_init': lambda trial: trial.suggest_loguniform('learning_rate_init', 1e-4, 1e-1)\n"
     ]
    },
    {
     "name": "stdout",
     "output_type": "stream",
     "text": [
      "Optimized parameters: {'hidden_layer_sizes': (140, 33), 'alpha': 0.0010686006294448587, 'learning_rate_init': 0.0002353730213939109}\n"
     ]
    },
    {
     "name": "stderr",
     "output_type": "stream",
     "text": [
      "c:\\Users\\Administrator\\Desktop\\Proyecto_ML Refuerzo\\ML_Refuerzo_Esther\\venv\\Lib\\site-packages\\sklearn\\neural_network\\_multilayer_perceptron.py:690: ConvergenceWarning: Stochastic Optimizer: Maximum iterations (200) reached and the optimization hasn't converged yet.\n",
      "  warnings.warn(\n",
      "c:\\Users\\Administrator\\Desktop\\Proyecto_ML Refuerzo\\ML_Refuerzo_Esther\\venv\\Lib\\site-packages\\sklearn\\neural_network\\_multilayer_perceptron.py:690: ConvergenceWarning: Stochastic Optimizer: Maximum iterations (200) reached and the optimization hasn't converged yet.\n",
      "  warnings.warn(\n",
      "c:\\Users\\Administrator\\Desktop\\Proyecto_ML Refuerzo\\ML_Refuerzo_Esther\\venv\\Lib\\site-packages\\sklearn\\neural_network\\_multilayer_perceptron.py:690: ConvergenceWarning: Stochastic Optimizer: Maximum iterations (200) reached and the optimization hasn't converged yet.\n",
      "  warnings.warn(\n",
      "c:\\Users\\Administrator\\Desktop\\Proyecto_ML Refuerzo\\ML_Refuerzo_Esther\\venv\\Lib\\site-packages\\sklearn\\neural_network\\_multilayer_perceptron.py:690: ConvergenceWarning: Stochastic Optimizer: Maximum iterations (200) reached and the optimization hasn't converged yet.\n",
      "  warnings.warn(\n",
      "c:\\Users\\Administrator\\Desktop\\Proyecto_ML Refuerzo\\ML_Refuerzo_Esther\\venv\\Lib\\site-packages\\sklearn\\neural_network\\_multilayer_perceptron.py:690: ConvergenceWarning: Stochastic Optimizer: Maximum iterations (200) reached and the optimization hasn't converged yet.\n",
      "  warnings.warn(\n",
      "[I 2024-12-09 16:41:39,445] Trial 51 finished with value: 0.41 and parameters: {'n_units_l1': 140, 'n_units_l2': 33, 'alpha': 0.0010686006294448587, 'learning_rate_init': 0.0002353730213939109}. Best is trial 37 with value: 0.42374999999999996.\n",
      "C:\\Users\\Administrator\\AppData\\Local\\Temp\\ipykernel_14812\\1653340466.py:15: FutureWarning: suggest_loguniform has been deprecated in v3.0.0. This feature will be removed in v6.0.0. See https://github.com/optuna/optuna/releases/tag/v3.0.0. Use suggest_float(..., log=True) instead.\n",
      "  'alpha': lambda trial: trial.suggest_loguniform('alpha', 1e-5, 1e-1),\n",
      "C:\\Users\\Administrator\\AppData\\Local\\Temp\\ipykernel_14812\\1653340466.py:16: FutureWarning: suggest_loguniform has been deprecated in v3.0.0. This feature will be removed in v6.0.0. See https://github.com/optuna/optuna/releases/tag/v3.0.0. Use suggest_float(..., log=True) instead.\n",
      "  'learning_rate_init': lambda trial: trial.suggest_loguniform('learning_rate_init', 1e-4, 1e-1)\n"
     ]
    },
    {
     "name": "stdout",
     "output_type": "stream",
     "text": [
      "Optimized parameters: {'hidden_layer_sizes': (159, 37), 'alpha': 0.0003618523393300902, 'learning_rate_init': 0.00032371879256482184}\n"
     ]
    },
    {
     "name": "stderr",
     "output_type": "stream",
     "text": [
      "c:\\Users\\Administrator\\Desktop\\Proyecto_ML Refuerzo\\ML_Refuerzo_Esther\\venv\\Lib\\site-packages\\sklearn\\neural_network\\_multilayer_perceptron.py:690: ConvergenceWarning: Stochastic Optimizer: Maximum iterations (200) reached and the optimization hasn't converged yet.\n",
      "  warnings.warn(\n",
      "c:\\Users\\Administrator\\Desktop\\Proyecto_ML Refuerzo\\ML_Refuerzo_Esther\\venv\\Lib\\site-packages\\sklearn\\neural_network\\_multilayer_perceptron.py:690: ConvergenceWarning: Stochastic Optimizer: Maximum iterations (200) reached and the optimization hasn't converged yet.\n",
      "  warnings.warn(\n",
      "c:\\Users\\Administrator\\Desktop\\Proyecto_ML Refuerzo\\ML_Refuerzo_Esther\\venv\\Lib\\site-packages\\sklearn\\neural_network\\_multilayer_perceptron.py:690: ConvergenceWarning: Stochastic Optimizer: Maximum iterations (200) reached and the optimization hasn't converged yet.\n",
      "  warnings.warn(\n",
      "c:\\Users\\Administrator\\Desktop\\Proyecto_ML Refuerzo\\ML_Refuerzo_Esther\\venv\\Lib\\site-packages\\sklearn\\neural_network\\_multilayer_perceptron.py:690: ConvergenceWarning: Stochastic Optimizer: Maximum iterations (200) reached and the optimization hasn't converged yet.\n",
      "  warnings.warn(\n",
      "c:\\Users\\Administrator\\Desktop\\Proyecto_ML Refuerzo\\ML_Refuerzo_Esther\\venv\\Lib\\site-packages\\sklearn\\neural_network\\_multilayer_perceptron.py:690: ConvergenceWarning: Stochastic Optimizer: Maximum iterations (200) reached and the optimization hasn't converged yet.\n",
      "  warnings.warn(\n",
      "[I 2024-12-09 16:41:45,133] Trial 52 finished with value: 0.37750000000000006 and parameters: {'n_units_l1': 159, 'n_units_l2': 37, 'alpha': 0.0003618523393300902, 'learning_rate_init': 0.00032371879256482184}. Best is trial 37 with value: 0.42374999999999996.\n",
      "C:\\Users\\Administrator\\AppData\\Local\\Temp\\ipykernel_14812\\1653340466.py:15: FutureWarning: suggest_loguniform has been deprecated in v3.0.0. This feature will be removed in v6.0.0. See https://github.com/optuna/optuna/releases/tag/v3.0.0. Use suggest_float(..., log=True) instead.\n",
      "  'alpha': lambda trial: trial.suggest_loguniform('alpha', 1e-5, 1e-1),\n",
      "C:\\Users\\Administrator\\AppData\\Local\\Temp\\ipykernel_14812\\1653340466.py:16: FutureWarning: suggest_loguniform has been deprecated in v3.0.0. This feature will be removed in v6.0.0. See https://github.com/optuna/optuna/releases/tag/v3.0.0. Use suggest_float(..., log=True) instead.\n",
      "  'learning_rate_init': lambda trial: trial.suggest_loguniform('learning_rate_init', 1e-4, 1e-1)\n"
     ]
    },
    {
     "name": "stdout",
     "output_type": "stream",
     "text": [
      "Optimized parameters: {'hidden_layer_sizes': (138, 34), 'alpha': 0.0006756930069029546, 'learning_rate_init': 0.00016118594150051893}\n"
     ]
    },
    {
     "name": "stderr",
     "output_type": "stream",
     "text": [
      "c:\\Users\\Administrator\\Desktop\\Proyecto_ML Refuerzo\\ML_Refuerzo_Esther\\venv\\Lib\\site-packages\\sklearn\\neural_network\\_multilayer_perceptron.py:690: ConvergenceWarning: Stochastic Optimizer: Maximum iterations (200) reached and the optimization hasn't converged yet.\n",
      "  warnings.warn(\n",
      "c:\\Users\\Administrator\\Desktop\\Proyecto_ML Refuerzo\\ML_Refuerzo_Esther\\venv\\Lib\\site-packages\\sklearn\\neural_network\\_multilayer_perceptron.py:690: ConvergenceWarning: Stochastic Optimizer: Maximum iterations (200) reached and the optimization hasn't converged yet.\n",
      "  warnings.warn(\n",
      "c:\\Users\\Administrator\\Desktop\\Proyecto_ML Refuerzo\\ML_Refuerzo_Esther\\venv\\Lib\\site-packages\\sklearn\\neural_network\\_multilayer_perceptron.py:690: ConvergenceWarning: Stochastic Optimizer: Maximum iterations (200) reached and the optimization hasn't converged yet.\n",
      "  warnings.warn(\n",
      "c:\\Users\\Administrator\\Desktop\\Proyecto_ML Refuerzo\\ML_Refuerzo_Esther\\venv\\Lib\\site-packages\\sklearn\\neural_network\\_multilayer_perceptron.py:690: ConvergenceWarning: Stochastic Optimizer: Maximum iterations (200) reached and the optimization hasn't converged yet.\n",
      "  warnings.warn(\n",
      "c:\\Users\\Administrator\\Desktop\\Proyecto_ML Refuerzo\\ML_Refuerzo_Esther\\venv\\Lib\\site-packages\\sklearn\\neural_network\\_multilayer_perceptron.py:690: ConvergenceWarning: Stochastic Optimizer: Maximum iterations (200) reached and the optimization hasn't converged yet.\n",
      "  warnings.warn(\n",
      "[I 2024-12-09 16:41:50,171] Trial 53 finished with value: 0.4025 and parameters: {'n_units_l1': 138, 'n_units_l2': 34, 'alpha': 0.0006756930069029546, 'learning_rate_init': 0.00016118594150051893}. Best is trial 37 with value: 0.42374999999999996.\n",
      "C:\\Users\\Administrator\\AppData\\Local\\Temp\\ipykernel_14812\\1653340466.py:15: FutureWarning: suggest_loguniform has been deprecated in v3.0.0. This feature will be removed in v6.0.0. See https://github.com/optuna/optuna/releases/tag/v3.0.0. Use suggest_float(..., log=True) instead.\n",
      "  'alpha': lambda trial: trial.suggest_loguniform('alpha', 1e-5, 1e-1),\n",
      "C:\\Users\\Administrator\\AppData\\Local\\Temp\\ipykernel_14812\\1653340466.py:16: FutureWarning: suggest_loguniform has been deprecated in v3.0.0. This feature will be removed in v6.0.0. See https://github.com/optuna/optuna/releases/tag/v3.0.0. Use suggest_float(..., log=True) instead.\n",
      "  'learning_rate_init': lambda trial: trial.suggest_loguniform('learning_rate_init', 1e-4, 1e-1)\n"
     ]
    },
    {
     "name": "stdout",
     "output_type": "stream",
     "text": [
      "Optimized parameters: {'hidden_layer_sizes': (149, 25), 'alpha': 0.0013498072457124818, 'learning_rate_init': 0.0002318998169922247}\n"
     ]
    },
    {
     "name": "stderr",
     "output_type": "stream",
     "text": [
      "c:\\Users\\Administrator\\Desktop\\Proyecto_ML Refuerzo\\ML_Refuerzo_Esther\\venv\\Lib\\site-packages\\sklearn\\neural_network\\_multilayer_perceptron.py:690: ConvergenceWarning: Stochastic Optimizer: Maximum iterations (200) reached and the optimization hasn't converged yet.\n",
      "  warnings.warn(\n",
      "c:\\Users\\Administrator\\Desktop\\Proyecto_ML Refuerzo\\ML_Refuerzo_Esther\\venv\\Lib\\site-packages\\sklearn\\neural_network\\_multilayer_perceptron.py:690: ConvergenceWarning: Stochastic Optimizer: Maximum iterations (200) reached and the optimization hasn't converged yet.\n",
      "  warnings.warn(\n",
      "c:\\Users\\Administrator\\Desktop\\Proyecto_ML Refuerzo\\ML_Refuerzo_Esther\\venv\\Lib\\site-packages\\sklearn\\neural_network\\_multilayer_perceptron.py:690: ConvergenceWarning: Stochastic Optimizer: Maximum iterations (200) reached and the optimization hasn't converged yet.\n",
      "  warnings.warn(\n",
      "c:\\Users\\Administrator\\Desktop\\Proyecto_ML Refuerzo\\ML_Refuerzo_Esther\\venv\\Lib\\site-packages\\sklearn\\neural_network\\_multilayer_perceptron.py:690: ConvergenceWarning: Stochastic Optimizer: Maximum iterations (200) reached and the optimization hasn't converged yet.\n",
      "  warnings.warn(\n",
      "c:\\Users\\Administrator\\Desktop\\Proyecto_ML Refuerzo\\ML_Refuerzo_Esther\\venv\\Lib\\site-packages\\sklearn\\neural_network\\_multilayer_perceptron.py:690: ConvergenceWarning: Stochastic Optimizer: Maximum iterations (200) reached and the optimization hasn't converged yet.\n",
      "  warnings.warn(\n",
      "[I 2024-12-09 16:41:55,056] Trial 54 finished with value: 0.3975 and parameters: {'n_units_l1': 149, 'n_units_l2': 25, 'alpha': 0.0013498072457124818, 'learning_rate_init': 0.0002318998169922247}. Best is trial 37 with value: 0.42374999999999996.\n",
      "C:\\Users\\Administrator\\AppData\\Local\\Temp\\ipykernel_14812\\1653340466.py:15: FutureWarning: suggest_loguniform has been deprecated in v3.0.0. This feature will be removed in v6.0.0. See https://github.com/optuna/optuna/releases/tag/v3.0.0. Use suggest_float(..., log=True) instead.\n",
      "  'alpha': lambda trial: trial.suggest_loguniform('alpha', 1e-5, 1e-1),\n",
      "C:\\Users\\Administrator\\AppData\\Local\\Temp\\ipykernel_14812\\1653340466.py:16: FutureWarning: suggest_loguniform has been deprecated in v3.0.0. This feature will be removed in v6.0.0. See https://github.com/optuna/optuna/releases/tag/v3.0.0. Use suggest_float(..., log=True) instead.\n",
      "  'learning_rate_init': lambda trial: trial.suggest_loguniform('learning_rate_init', 1e-4, 1e-1)\n"
     ]
    },
    {
     "name": "stdout",
     "output_type": "stream",
     "text": [
      "Optimized parameters: {'hidden_layer_sizes': (165, 39), 'alpha': 0.003474360112034026, 'learning_rate_init': 0.0014818162470710001}\n"
     ]
    },
    {
     "name": "stderr",
     "output_type": "stream",
     "text": [
      "c:\\Users\\Administrator\\Desktop\\Proyecto_ML Refuerzo\\ML_Refuerzo_Esther\\venv\\Lib\\site-packages\\sklearn\\neural_network\\_multilayer_perceptron.py:690: ConvergenceWarning: Stochastic Optimizer: Maximum iterations (200) reached and the optimization hasn't converged yet.\n",
      "  warnings.warn(\n",
      "c:\\Users\\Administrator\\Desktop\\Proyecto_ML Refuerzo\\ML_Refuerzo_Esther\\venv\\Lib\\site-packages\\sklearn\\neural_network\\_multilayer_perceptron.py:690: ConvergenceWarning: Stochastic Optimizer: Maximum iterations (200) reached and the optimization hasn't converged yet.\n",
      "  warnings.warn(\n",
      "c:\\Users\\Administrator\\Desktop\\Proyecto_ML Refuerzo\\ML_Refuerzo_Esther\\venv\\Lib\\site-packages\\sklearn\\neural_network\\_multilayer_perceptron.py:690: ConvergenceWarning: Stochastic Optimizer: Maximum iterations (200) reached and the optimization hasn't converged yet.\n",
      "  warnings.warn(\n",
      "c:\\Users\\Administrator\\Desktop\\Proyecto_ML Refuerzo\\ML_Refuerzo_Esther\\venv\\Lib\\site-packages\\sklearn\\neural_network\\_multilayer_perceptron.py:690: ConvergenceWarning: Stochastic Optimizer: Maximum iterations (200) reached and the optimization hasn't converged yet.\n",
      "  warnings.warn(\n",
      "c:\\Users\\Administrator\\Desktop\\Proyecto_ML Refuerzo\\ML_Refuerzo_Esther\\venv\\Lib\\site-packages\\sklearn\\neural_network\\_multilayer_perceptron.py:690: ConvergenceWarning: Stochastic Optimizer: Maximum iterations (200) reached and the optimization hasn't converged yet.\n",
      "  warnings.warn(\n",
      "[I 2024-12-09 16:42:01,093] Trial 55 finished with value: 0.31875 and parameters: {'n_units_l1': 165, 'n_units_l2': 39, 'alpha': 0.003474360112034026, 'learning_rate_init': 0.0014818162470710001}. Best is trial 37 with value: 0.42374999999999996.\n",
      "C:\\Users\\Administrator\\AppData\\Local\\Temp\\ipykernel_14812\\1653340466.py:15: FutureWarning: suggest_loguniform has been deprecated in v3.0.0. This feature will be removed in v6.0.0. See https://github.com/optuna/optuna/releases/tag/v3.0.0. Use suggest_float(..., log=True) instead.\n",
      "  'alpha': lambda trial: trial.suggest_loguniform('alpha', 1e-5, 1e-1),\n",
      "C:\\Users\\Administrator\\AppData\\Local\\Temp\\ipykernel_14812\\1653340466.py:16: FutureWarning: suggest_loguniform has been deprecated in v3.0.0. This feature will be removed in v6.0.0. See https://github.com/optuna/optuna/releases/tag/v3.0.0. Use suggest_float(..., log=True) instead.\n",
      "  'learning_rate_init': lambda trial: trial.suggest_loguniform('learning_rate_init', 1e-4, 1e-1)\n"
     ]
    },
    {
     "name": "stdout",
     "output_type": "stream",
     "text": [
      "Optimized parameters: {'hidden_layer_sizes': (127, 32), 'alpha': 0.004394449153474653, 'learning_rate_init': 0.0004248344191628063}\n"
     ]
    },
    {
     "name": "stderr",
     "output_type": "stream",
     "text": [
      "c:\\Users\\Administrator\\Desktop\\Proyecto_ML Refuerzo\\ML_Refuerzo_Esther\\venv\\Lib\\site-packages\\sklearn\\neural_network\\_multilayer_perceptron.py:690: ConvergenceWarning: Stochastic Optimizer: Maximum iterations (200) reached and the optimization hasn't converged yet.\n",
      "  warnings.warn(\n",
      "c:\\Users\\Administrator\\Desktop\\Proyecto_ML Refuerzo\\ML_Refuerzo_Esther\\venv\\Lib\\site-packages\\sklearn\\neural_network\\_multilayer_perceptron.py:690: ConvergenceWarning: Stochastic Optimizer: Maximum iterations (200) reached and the optimization hasn't converged yet.\n",
      "  warnings.warn(\n",
      "c:\\Users\\Administrator\\Desktop\\Proyecto_ML Refuerzo\\ML_Refuerzo_Esther\\venv\\Lib\\site-packages\\sklearn\\neural_network\\_multilayer_perceptron.py:690: ConvergenceWarning: Stochastic Optimizer: Maximum iterations (200) reached and the optimization hasn't converged yet.\n",
      "  warnings.warn(\n",
      "c:\\Users\\Administrator\\Desktop\\Proyecto_ML Refuerzo\\ML_Refuerzo_Esther\\venv\\Lib\\site-packages\\sklearn\\neural_network\\_multilayer_perceptron.py:690: ConvergenceWarning: Stochastic Optimizer: Maximum iterations (200) reached and the optimization hasn't converged yet.\n",
      "  warnings.warn(\n",
      "c:\\Users\\Administrator\\Desktop\\Proyecto_ML Refuerzo\\ML_Refuerzo_Esther\\venv\\Lib\\site-packages\\sklearn\\neural_network\\_multilayer_perceptron.py:690: ConvergenceWarning: Stochastic Optimizer: Maximum iterations (200) reached and the optimization hasn't converged yet.\n",
      "  warnings.warn(\n",
      "[I 2024-12-09 16:42:05,698] Trial 56 finished with value: 0.39375 and parameters: {'n_units_l1': 127, 'n_units_l2': 32, 'alpha': 0.004394449153474653, 'learning_rate_init': 0.0004248344191628063}. Best is trial 37 with value: 0.42374999999999996.\n",
      "C:\\Users\\Administrator\\AppData\\Local\\Temp\\ipykernel_14812\\1653340466.py:15: FutureWarning: suggest_loguniform has been deprecated in v3.0.0. This feature will be removed in v6.0.0. See https://github.com/optuna/optuna/releases/tag/v3.0.0. Use suggest_float(..., log=True) instead.\n",
      "  'alpha': lambda trial: trial.suggest_loguniform('alpha', 1e-5, 1e-1),\n",
      "C:\\Users\\Administrator\\AppData\\Local\\Temp\\ipykernel_14812\\1653340466.py:16: FutureWarning: suggest_loguniform has been deprecated in v3.0.0. This feature will be removed in v6.0.0. See https://github.com/optuna/optuna/releases/tag/v3.0.0. Use suggest_float(..., log=True) instead.\n",
      "  'learning_rate_init': lambda trial: trial.suggest_loguniform('learning_rate_init', 1e-4, 1e-1)\n"
     ]
    },
    {
     "name": "stdout",
     "output_type": "stream",
     "text": [
      "Optimized parameters: {'hidden_layer_sizes': (175, 29), 'alpha': 0.00021623735993916914, 'learning_rate_init': 0.00020680895178073547}\n"
     ]
    },
    {
     "name": "stderr",
     "output_type": "stream",
     "text": [
      "c:\\Users\\Administrator\\Desktop\\Proyecto_ML Refuerzo\\ML_Refuerzo_Esther\\venv\\Lib\\site-packages\\sklearn\\neural_network\\_multilayer_perceptron.py:690: ConvergenceWarning: Stochastic Optimizer: Maximum iterations (200) reached and the optimization hasn't converged yet.\n",
      "  warnings.warn(\n",
      "c:\\Users\\Administrator\\Desktop\\Proyecto_ML Refuerzo\\ML_Refuerzo_Esther\\venv\\Lib\\site-packages\\sklearn\\neural_network\\_multilayer_perceptron.py:690: ConvergenceWarning: Stochastic Optimizer: Maximum iterations (200) reached and the optimization hasn't converged yet.\n",
      "  warnings.warn(\n",
      "c:\\Users\\Administrator\\Desktop\\Proyecto_ML Refuerzo\\ML_Refuerzo_Esther\\venv\\Lib\\site-packages\\sklearn\\neural_network\\_multilayer_perceptron.py:690: ConvergenceWarning: Stochastic Optimizer: Maximum iterations (200) reached and the optimization hasn't converged yet.\n",
      "  warnings.warn(\n",
      "c:\\Users\\Administrator\\Desktop\\Proyecto_ML Refuerzo\\ML_Refuerzo_Esther\\venv\\Lib\\site-packages\\sklearn\\neural_network\\_multilayer_perceptron.py:690: ConvergenceWarning: Stochastic Optimizer: Maximum iterations (200) reached and the optimization hasn't converged yet.\n",
      "  warnings.warn(\n",
      "c:\\Users\\Administrator\\Desktop\\Proyecto_ML Refuerzo\\ML_Refuerzo_Esther\\venv\\Lib\\site-packages\\sklearn\\neural_network\\_multilayer_perceptron.py:690: ConvergenceWarning: Stochastic Optimizer: Maximum iterations (200) reached and the optimization hasn't converged yet.\n",
      "  warnings.warn(\n",
      "[I 2024-12-09 16:42:11,057] Trial 57 finished with value: 0.38875000000000004 and parameters: {'n_units_l1': 175, 'n_units_l2': 29, 'alpha': 0.00021623735993916914, 'learning_rate_init': 0.00020680895178073547}. Best is trial 37 with value: 0.42374999999999996.\n",
      "C:\\Users\\Administrator\\AppData\\Local\\Temp\\ipykernel_14812\\1653340466.py:15: FutureWarning: suggest_loguniform has been deprecated in v3.0.0. This feature will be removed in v6.0.0. See https://github.com/optuna/optuna/releases/tag/v3.0.0. Use suggest_float(..., log=True) instead.\n",
      "  'alpha': lambda trial: trial.suggest_loguniform('alpha', 1e-5, 1e-1),\n",
      "C:\\Users\\Administrator\\AppData\\Local\\Temp\\ipykernel_14812\\1653340466.py:16: FutureWarning: suggest_loguniform has been deprecated in v3.0.0. This feature will be removed in v6.0.0. See https://github.com/optuna/optuna/releases/tag/v3.0.0. Use suggest_float(..., log=True) instead.\n",
      "  'learning_rate_init': lambda trial: trial.suggest_loguniform('learning_rate_init', 1e-4, 1e-1)\n"
     ]
    },
    {
     "name": "stdout",
     "output_type": "stream",
     "text": [
      "Optimized parameters: {'hidden_layer_sizes': (152, 42), 'alpha': 0.002685026880658586, 'learning_rate_init': 0.0007706743438871764}\n"
     ]
    },
    {
     "name": "stderr",
     "output_type": "stream",
     "text": [
      "c:\\Users\\Administrator\\Desktop\\Proyecto_ML Refuerzo\\ML_Refuerzo_Esther\\venv\\Lib\\site-packages\\sklearn\\neural_network\\_multilayer_perceptron.py:690: ConvergenceWarning: Stochastic Optimizer: Maximum iterations (200) reached and the optimization hasn't converged yet.\n",
      "  warnings.warn(\n",
      "c:\\Users\\Administrator\\Desktop\\Proyecto_ML Refuerzo\\ML_Refuerzo_Esther\\venv\\Lib\\site-packages\\sklearn\\neural_network\\_multilayer_perceptron.py:690: ConvergenceWarning: Stochastic Optimizer: Maximum iterations (200) reached and the optimization hasn't converged yet.\n",
      "  warnings.warn(\n",
      "c:\\Users\\Administrator\\Desktop\\Proyecto_ML Refuerzo\\ML_Refuerzo_Esther\\venv\\Lib\\site-packages\\sklearn\\neural_network\\_multilayer_perceptron.py:690: ConvergenceWarning: Stochastic Optimizer: Maximum iterations (200) reached and the optimization hasn't converged yet.\n",
      "  warnings.warn(\n",
      "c:\\Users\\Administrator\\Desktop\\Proyecto_ML Refuerzo\\ML_Refuerzo_Esther\\venv\\Lib\\site-packages\\sklearn\\neural_network\\_multilayer_perceptron.py:690: ConvergenceWarning: Stochastic Optimizer: Maximum iterations (200) reached and the optimization hasn't converged yet.\n",
      "  warnings.warn(\n",
      "c:\\Users\\Administrator\\Desktop\\Proyecto_ML Refuerzo\\ML_Refuerzo_Esther\\venv\\Lib\\site-packages\\sklearn\\neural_network\\_multilayer_perceptron.py:690: ConvergenceWarning: Stochastic Optimizer: Maximum iterations (200) reached and the optimization hasn't converged yet.\n",
      "  warnings.warn(\n",
      "[I 2024-12-09 16:42:16,940] Trial 58 finished with value: 0.3675 and parameters: {'n_units_l1': 152, 'n_units_l2': 42, 'alpha': 0.002685026880658586, 'learning_rate_init': 0.0007706743438871764}. Best is trial 37 with value: 0.42374999999999996.\n",
      "C:\\Users\\Administrator\\AppData\\Local\\Temp\\ipykernel_14812\\1653340466.py:15: FutureWarning: suggest_loguniform has been deprecated in v3.0.0. This feature will be removed in v6.0.0. See https://github.com/optuna/optuna/releases/tag/v3.0.0. Use suggest_float(..., log=True) instead.\n",
      "  'alpha': lambda trial: trial.suggest_loguniform('alpha', 1e-5, 1e-1),\n",
      "C:\\Users\\Administrator\\AppData\\Local\\Temp\\ipykernel_14812\\1653340466.py:16: FutureWarning: suggest_loguniform has been deprecated in v3.0.0. This feature will be removed in v6.0.0. See https://github.com/optuna/optuna/releases/tag/v3.0.0. Use suggest_float(..., log=True) instead.\n",
      "  'learning_rate_init': lambda trial: trial.suggest_loguniform('learning_rate_init', 1e-4, 1e-1)\n"
     ]
    },
    {
     "name": "stdout",
     "output_type": "stream",
     "text": [
      "Optimized parameters: {'hidden_layer_sizes': (137, 44), 'alpha': 0.009686078942565709, 'learning_rate_init': 0.00018321802053213152}\n"
     ]
    },
    {
     "name": "stderr",
     "output_type": "stream",
     "text": [
      "c:\\Users\\Administrator\\Desktop\\Proyecto_ML Refuerzo\\ML_Refuerzo_Esther\\venv\\Lib\\site-packages\\sklearn\\neural_network\\_multilayer_perceptron.py:690: ConvergenceWarning: Stochastic Optimizer: Maximum iterations (200) reached and the optimization hasn't converged yet.\n",
      "  warnings.warn(\n",
      "c:\\Users\\Administrator\\Desktop\\Proyecto_ML Refuerzo\\ML_Refuerzo_Esther\\venv\\Lib\\site-packages\\sklearn\\neural_network\\_multilayer_perceptron.py:690: ConvergenceWarning: Stochastic Optimizer: Maximum iterations (200) reached and the optimization hasn't converged yet.\n",
      "  warnings.warn(\n",
      "c:\\Users\\Administrator\\Desktop\\Proyecto_ML Refuerzo\\ML_Refuerzo_Esther\\venv\\Lib\\site-packages\\sklearn\\neural_network\\_multilayer_perceptron.py:690: ConvergenceWarning: Stochastic Optimizer: Maximum iterations (200) reached and the optimization hasn't converged yet.\n",
      "  warnings.warn(\n",
      "c:\\Users\\Administrator\\Desktop\\Proyecto_ML Refuerzo\\ML_Refuerzo_Esther\\venv\\Lib\\site-packages\\sklearn\\neural_network\\_multilayer_perceptron.py:690: ConvergenceWarning: Stochastic Optimizer: Maximum iterations (200) reached and the optimization hasn't converged yet.\n",
      "  warnings.warn(\n",
      "c:\\Users\\Administrator\\Desktop\\Proyecto_ML Refuerzo\\ML_Refuerzo_Esther\\venv\\Lib\\site-packages\\sklearn\\neural_network\\_multilayer_perceptron.py:690: ConvergenceWarning: Stochastic Optimizer: Maximum iterations (200) reached and the optimization hasn't converged yet.\n",
      "  warnings.warn(\n",
      "[I 2024-12-09 16:42:22,553] Trial 59 finished with value: 0.3875 and parameters: {'n_units_l1': 137, 'n_units_l2': 44, 'alpha': 0.009686078942565709, 'learning_rate_init': 0.00018321802053213152}. Best is trial 37 with value: 0.42374999999999996.\n",
      "C:\\Users\\Administrator\\AppData\\Local\\Temp\\ipykernel_14812\\1653340466.py:15: FutureWarning: suggest_loguniform has been deprecated in v3.0.0. This feature will be removed in v6.0.0. See https://github.com/optuna/optuna/releases/tag/v3.0.0. Use suggest_float(..., log=True) instead.\n",
      "  'alpha': lambda trial: trial.suggest_loguniform('alpha', 1e-5, 1e-1),\n",
      "C:\\Users\\Administrator\\AppData\\Local\\Temp\\ipykernel_14812\\1653340466.py:16: FutureWarning: suggest_loguniform has been deprecated in v3.0.0. This feature will be removed in v6.0.0. See https://github.com/optuna/optuna/releases/tag/v3.0.0. Use suggest_float(..., log=True) instead.\n",
      "  'learning_rate_init': lambda trial: trial.suggest_loguniform('learning_rate_init', 1e-4, 1e-1)\n"
     ]
    },
    {
     "name": "stdout",
     "output_type": "stream",
     "text": [
      "Optimized parameters: {'hidden_layer_sizes': (160, 30), 'alpha': 0.0015171420897752241, 'learning_rate_init': 0.0003227495218995992}\n"
     ]
    },
    {
     "name": "stderr",
     "output_type": "stream",
     "text": [
      "c:\\Users\\Administrator\\Desktop\\Proyecto_ML Refuerzo\\ML_Refuerzo_Esther\\venv\\Lib\\site-packages\\sklearn\\neural_network\\_multilayer_perceptron.py:690: ConvergenceWarning: Stochastic Optimizer: Maximum iterations (200) reached and the optimization hasn't converged yet.\n",
      "  warnings.warn(\n",
      "c:\\Users\\Administrator\\Desktop\\Proyecto_ML Refuerzo\\ML_Refuerzo_Esther\\venv\\Lib\\site-packages\\sklearn\\neural_network\\_multilayer_perceptron.py:690: ConvergenceWarning: Stochastic Optimizer: Maximum iterations (200) reached and the optimization hasn't converged yet.\n",
      "  warnings.warn(\n",
      "c:\\Users\\Administrator\\Desktop\\Proyecto_ML Refuerzo\\ML_Refuerzo_Esther\\venv\\Lib\\site-packages\\sklearn\\neural_network\\_multilayer_perceptron.py:690: ConvergenceWarning: Stochastic Optimizer: Maximum iterations (200) reached and the optimization hasn't converged yet.\n",
      "  warnings.warn(\n",
      "c:\\Users\\Administrator\\Desktop\\Proyecto_ML Refuerzo\\ML_Refuerzo_Esther\\venv\\Lib\\site-packages\\sklearn\\neural_network\\_multilayer_perceptron.py:690: ConvergenceWarning: Stochastic Optimizer: Maximum iterations (200) reached and the optimization hasn't converged yet.\n",
      "  warnings.warn(\n",
      "c:\\Users\\Administrator\\Desktop\\Proyecto_ML Refuerzo\\ML_Refuerzo_Esther\\venv\\Lib\\site-packages\\sklearn\\neural_network\\_multilayer_perceptron.py:690: ConvergenceWarning: Stochastic Optimizer: Maximum iterations (200) reached and the optimization hasn't converged yet.\n",
      "  warnings.warn(\n",
      "[I 2024-12-09 16:42:27,606] Trial 60 finished with value: 0.395 and parameters: {'n_units_l1': 160, 'n_units_l2': 30, 'alpha': 0.0015171420897752241, 'learning_rate_init': 0.0003227495218995992}. Best is trial 37 with value: 0.42374999999999996.\n",
      "C:\\Users\\Administrator\\AppData\\Local\\Temp\\ipykernel_14812\\1653340466.py:15: FutureWarning: suggest_loguniform has been deprecated in v3.0.0. This feature will be removed in v6.0.0. See https://github.com/optuna/optuna/releases/tag/v3.0.0. Use suggest_float(..., log=True) instead.\n",
      "  'alpha': lambda trial: trial.suggest_loguniform('alpha', 1e-5, 1e-1),\n",
      "C:\\Users\\Administrator\\AppData\\Local\\Temp\\ipykernel_14812\\1653340466.py:16: FutureWarning: suggest_loguniform has been deprecated in v3.0.0. This feature will be removed in v6.0.0. See https://github.com/optuna/optuna/releases/tag/v3.0.0. Use suggest_float(..., log=True) instead.\n",
      "  'learning_rate_init': lambda trial: trial.suggest_loguniform('learning_rate_init', 1e-4, 1e-1)\n"
     ]
    },
    {
     "name": "stdout",
     "output_type": "stream",
     "text": [
      "Optimized parameters: {'hidden_layer_sizes': (144, 35), 'alpha': 0.0008330771189399538, 'learning_rate_init': 0.00026799957456107184}\n"
     ]
    },
    {
     "name": "stderr",
     "output_type": "stream",
     "text": [
      "c:\\Users\\Administrator\\Desktop\\Proyecto_ML Refuerzo\\ML_Refuerzo_Esther\\venv\\Lib\\site-packages\\sklearn\\neural_network\\_multilayer_perceptron.py:690: ConvergenceWarning: Stochastic Optimizer: Maximum iterations (200) reached and the optimization hasn't converged yet.\n",
      "  warnings.warn(\n",
      "c:\\Users\\Administrator\\Desktop\\Proyecto_ML Refuerzo\\ML_Refuerzo_Esther\\venv\\Lib\\site-packages\\sklearn\\neural_network\\_multilayer_perceptron.py:690: ConvergenceWarning: Stochastic Optimizer: Maximum iterations (200) reached and the optimization hasn't converged yet.\n",
      "  warnings.warn(\n",
      "c:\\Users\\Administrator\\Desktop\\Proyecto_ML Refuerzo\\ML_Refuerzo_Esther\\venv\\Lib\\site-packages\\sklearn\\neural_network\\_multilayer_perceptron.py:690: ConvergenceWarning: Stochastic Optimizer: Maximum iterations (200) reached and the optimization hasn't converged yet.\n",
      "  warnings.warn(\n",
      "c:\\Users\\Administrator\\Desktop\\Proyecto_ML Refuerzo\\ML_Refuerzo_Esther\\venv\\Lib\\site-packages\\sklearn\\neural_network\\_multilayer_perceptron.py:690: ConvergenceWarning: Stochastic Optimizer: Maximum iterations (200) reached and the optimization hasn't converged yet.\n",
      "  warnings.warn(\n",
      "c:\\Users\\Administrator\\Desktop\\Proyecto_ML Refuerzo\\ML_Refuerzo_Esther\\venv\\Lib\\site-packages\\sklearn\\neural_network\\_multilayer_perceptron.py:690: ConvergenceWarning: Stochastic Optimizer: Maximum iterations (200) reached and the optimization hasn't converged yet.\n",
      "  warnings.warn(\n",
      "[I 2024-12-09 16:42:32,610] Trial 61 finished with value: 0.38625 and parameters: {'n_units_l1': 144, 'n_units_l2': 35, 'alpha': 0.0008330771189399538, 'learning_rate_init': 0.00026799957456107184}. Best is trial 37 with value: 0.42374999999999996.\n",
      "C:\\Users\\Administrator\\AppData\\Local\\Temp\\ipykernel_14812\\1653340466.py:15: FutureWarning: suggest_loguniform has been deprecated in v3.0.0. This feature will be removed in v6.0.0. See https://github.com/optuna/optuna/releases/tag/v3.0.0. Use suggest_float(..., log=True) instead.\n",
      "  'alpha': lambda trial: trial.suggest_loguniform('alpha', 1e-5, 1e-1),\n",
      "C:\\Users\\Administrator\\AppData\\Local\\Temp\\ipykernel_14812\\1653340466.py:16: FutureWarning: suggest_loguniform has been deprecated in v3.0.0. This feature will be removed in v6.0.0. See https://github.com/optuna/optuna/releases/tag/v3.0.0. Use suggest_float(..., log=True) instead.\n",
      "  'learning_rate_init': lambda trial: trial.suggest_loguniform('learning_rate_init', 1e-4, 1e-1)\n"
     ]
    },
    {
     "name": "stdout",
     "output_type": "stream",
     "text": [
      "Optimized parameters: {'hidden_layer_sizes': (143, 33), 'alpha': 0.0010804362628579803, 'learning_rate_init': 0.00022432293093507837}\n"
     ]
    },
    {
     "name": "stderr",
     "output_type": "stream",
     "text": [
      "c:\\Users\\Administrator\\Desktop\\Proyecto_ML Refuerzo\\ML_Refuerzo_Esther\\venv\\Lib\\site-packages\\sklearn\\neural_network\\_multilayer_perceptron.py:690: ConvergenceWarning: Stochastic Optimizer: Maximum iterations (200) reached and the optimization hasn't converged yet.\n",
      "  warnings.warn(\n",
      "c:\\Users\\Administrator\\Desktop\\Proyecto_ML Refuerzo\\ML_Refuerzo_Esther\\venv\\Lib\\site-packages\\sklearn\\neural_network\\_multilayer_perceptron.py:690: ConvergenceWarning: Stochastic Optimizer: Maximum iterations (200) reached and the optimization hasn't converged yet.\n",
      "  warnings.warn(\n",
      "c:\\Users\\Administrator\\Desktop\\Proyecto_ML Refuerzo\\ML_Refuerzo_Esther\\venv\\Lib\\site-packages\\sklearn\\neural_network\\_multilayer_perceptron.py:690: ConvergenceWarning: Stochastic Optimizer: Maximum iterations (200) reached and the optimization hasn't converged yet.\n",
      "  warnings.warn(\n",
      "c:\\Users\\Administrator\\Desktop\\Proyecto_ML Refuerzo\\ML_Refuerzo_Esther\\venv\\Lib\\site-packages\\sklearn\\neural_network\\_multilayer_perceptron.py:690: ConvergenceWarning: Stochastic Optimizer: Maximum iterations (200) reached and the optimization hasn't converged yet.\n",
      "  warnings.warn(\n",
      "c:\\Users\\Administrator\\Desktop\\Proyecto_ML Refuerzo\\ML_Refuerzo_Esther\\venv\\Lib\\site-packages\\sklearn\\neural_network\\_multilayer_perceptron.py:690: ConvergenceWarning: Stochastic Optimizer: Maximum iterations (200) reached and the optimization hasn't converged yet.\n",
      "  warnings.warn(\n",
      "[I 2024-12-09 16:42:37,507] Trial 62 finished with value: 0.4 and parameters: {'n_units_l1': 143, 'n_units_l2': 33, 'alpha': 0.0010804362628579803, 'learning_rate_init': 0.00022432293093507837}. Best is trial 37 with value: 0.42374999999999996.\n",
      "C:\\Users\\Administrator\\AppData\\Local\\Temp\\ipykernel_14812\\1653340466.py:15: FutureWarning: suggest_loguniform has been deprecated in v3.0.0. This feature will be removed in v6.0.0. See https://github.com/optuna/optuna/releases/tag/v3.0.0. Use suggest_float(..., log=True) instead.\n",
      "  'alpha': lambda trial: trial.suggest_loguniform('alpha', 1e-5, 1e-1),\n",
      "C:\\Users\\Administrator\\AppData\\Local\\Temp\\ipykernel_14812\\1653340466.py:16: FutureWarning: suggest_loguniform has been deprecated in v3.0.0. This feature will be removed in v6.0.0. See https://github.com/optuna/optuna/releases/tag/v3.0.0. Use suggest_float(..., log=True) instead.\n",
      "  'learning_rate_init': lambda trial: trial.suggest_loguniform('learning_rate_init', 1e-4, 1e-1)\n"
     ]
    },
    {
     "name": "stdout",
     "output_type": "stream",
     "text": [
      "Optimized parameters: {'hidden_layer_sizes': (142, 27), 'alpha': 0.012560726541333136, 'learning_rate_init': 0.00013049638801335397}\n"
     ]
    },
    {
     "name": "stderr",
     "output_type": "stream",
     "text": [
      "c:\\Users\\Administrator\\Desktop\\Proyecto_ML Refuerzo\\ML_Refuerzo_Esther\\venv\\Lib\\site-packages\\sklearn\\neural_network\\_multilayer_perceptron.py:690: ConvergenceWarning: Stochastic Optimizer: Maximum iterations (200) reached and the optimization hasn't converged yet.\n",
      "  warnings.warn(\n",
      "c:\\Users\\Administrator\\Desktop\\Proyecto_ML Refuerzo\\ML_Refuerzo_Esther\\venv\\Lib\\site-packages\\sklearn\\neural_network\\_multilayer_perceptron.py:690: ConvergenceWarning: Stochastic Optimizer: Maximum iterations (200) reached and the optimization hasn't converged yet.\n",
      "  warnings.warn(\n",
      "c:\\Users\\Administrator\\Desktop\\Proyecto_ML Refuerzo\\ML_Refuerzo_Esther\\venv\\Lib\\site-packages\\sklearn\\neural_network\\_multilayer_perceptron.py:690: ConvergenceWarning: Stochastic Optimizer: Maximum iterations (200) reached and the optimization hasn't converged yet.\n",
      "  warnings.warn(\n",
      "c:\\Users\\Administrator\\Desktop\\Proyecto_ML Refuerzo\\ML_Refuerzo_Esther\\venv\\Lib\\site-packages\\sklearn\\neural_network\\_multilayer_perceptron.py:690: ConvergenceWarning: Stochastic Optimizer: Maximum iterations (200) reached and the optimization hasn't converged yet.\n",
      "  warnings.warn(\n",
      "c:\\Users\\Administrator\\Desktop\\Proyecto_ML Refuerzo\\ML_Refuerzo_Esther\\venv\\Lib\\site-packages\\sklearn\\neural_network\\_multilayer_perceptron.py:690: ConvergenceWarning: Stochastic Optimizer: Maximum iterations (200) reached and the optimization hasn't converged yet.\n",
      "  warnings.warn(\n",
      "[I 2024-12-09 16:42:41,872] Trial 63 finished with value: 0.39374999999999993 and parameters: {'n_units_l1': 142, 'n_units_l2': 27, 'alpha': 0.012560726541333136, 'learning_rate_init': 0.00013049638801335397}. Best is trial 37 with value: 0.42374999999999996.\n",
      "C:\\Users\\Administrator\\AppData\\Local\\Temp\\ipykernel_14812\\1653340466.py:15: FutureWarning: suggest_loguniform has been deprecated in v3.0.0. This feature will be removed in v6.0.0. See https://github.com/optuna/optuna/releases/tag/v3.0.0. Use suggest_float(..., log=True) instead.\n",
      "  'alpha': lambda trial: trial.suggest_loguniform('alpha', 1e-5, 1e-1),\n",
      "C:\\Users\\Administrator\\AppData\\Local\\Temp\\ipykernel_14812\\1653340466.py:16: FutureWarning: suggest_loguniform has been deprecated in v3.0.0. This feature will be removed in v6.0.0. See https://github.com/optuna/optuna/releases/tag/v3.0.0. Use suggest_float(..., log=True) instead.\n",
      "  'learning_rate_init': lambda trial: trial.suggest_loguniform('learning_rate_init', 1e-4, 1e-1)\n"
     ]
    },
    {
     "name": "stdout",
     "output_type": "stream",
     "text": [
      "Optimized parameters: {'hidden_layer_sizes': (133, 39), 'alpha': 0.0005705298741546776, 'learning_rate_init': 0.00048010700817002473}\n"
     ]
    },
    {
     "name": "stderr",
     "output_type": "stream",
     "text": [
      "c:\\Users\\Administrator\\Desktop\\Proyecto_ML Refuerzo\\ML_Refuerzo_Esther\\venv\\Lib\\site-packages\\sklearn\\neural_network\\_multilayer_perceptron.py:690: ConvergenceWarning: Stochastic Optimizer: Maximum iterations (200) reached and the optimization hasn't converged yet.\n",
      "  warnings.warn(\n",
      "c:\\Users\\Administrator\\Desktop\\Proyecto_ML Refuerzo\\ML_Refuerzo_Esther\\venv\\Lib\\site-packages\\sklearn\\neural_network\\_multilayer_perceptron.py:690: ConvergenceWarning: Stochastic Optimizer: Maximum iterations (200) reached and the optimization hasn't converged yet.\n",
      "  warnings.warn(\n",
      "c:\\Users\\Administrator\\Desktop\\Proyecto_ML Refuerzo\\ML_Refuerzo_Esther\\venv\\Lib\\site-packages\\sklearn\\neural_network\\_multilayer_perceptron.py:690: ConvergenceWarning: Stochastic Optimizer: Maximum iterations (200) reached and the optimization hasn't converged yet.\n",
      "  warnings.warn(\n",
      "c:\\Users\\Administrator\\Desktop\\Proyecto_ML Refuerzo\\ML_Refuerzo_Esther\\venv\\Lib\\site-packages\\sklearn\\neural_network\\_multilayer_perceptron.py:690: ConvergenceWarning: Stochastic Optimizer: Maximum iterations (200) reached and the optimization hasn't converged yet.\n",
      "  warnings.warn(\n",
      "c:\\Users\\Administrator\\Desktop\\Proyecto_ML Refuerzo\\ML_Refuerzo_Esther\\venv\\Lib\\site-packages\\sklearn\\neural_network\\_multilayer_perceptron.py:690: ConvergenceWarning: Stochastic Optimizer: Maximum iterations (200) reached and the optimization hasn't converged yet.\n",
      "  warnings.warn(\n",
      "[I 2024-12-09 16:42:46,798] Trial 64 finished with value: 0.39125000000000004 and parameters: {'n_units_l1': 133, 'n_units_l2': 39, 'alpha': 0.0005705298741546776, 'learning_rate_init': 0.00048010700817002473}. Best is trial 37 with value: 0.42374999999999996.\n",
      "C:\\Users\\Administrator\\AppData\\Local\\Temp\\ipykernel_14812\\1653340466.py:15: FutureWarning: suggest_loguniform has been deprecated in v3.0.0. This feature will be removed in v6.0.0. See https://github.com/optuna/optuna/releases/tag/v3.0.0. Use suggest_float(..., log=True) instead.\n",
      "  'alpha': lambda trial: trial.suggest_loguniform('alpha', 1e-5, 1e-1),\n",
      "C:\\Users\\Administrator\\AppData\\Local\\Temp\\ipykernel_14812\\1653340466.py:16: FutureWarning: suggest_loguniform has been deprecated in v3.0.0. This feature will be removed in v6.0.0. See https://github.com/optuna/optuna/releases/tag/v3.0.0. Use suggest_float(..., log=True) instead.\n",
      "  'learning_rate_init': lambda trial: trial.suggest_loguniform('learning_rate_init', 1e-4, 1e-1)\n"
     ]
    },
    {
     "name": "stdout",
     "output_type": "stream",
     "text": [
      "Optimized parameters: {'hidden_layer_sizes': (123, 36), 'alpha': 0.007186507033589265, 'learning_rate_init': 0.0001739339466894687}\n"
     ]
    },
    {
     "name": "stderr",
     "output_type": "stream",
     "text": [
      "c:\\Users\\Administrator\\Desktop\\Proyecto_ML Refuerzo\\ML_Refuerzo_Esther\\venv\\Lib\\site-packages\\sklearn\\neural_network\\_multilayer_perceptron.py:690: ConvergenceWarning: Stochastic Optimizer: Maximum iterations (200) reached and the optimization hasn't converged yet.\n",
      "  warnings.warn(\n",
      "c:\\Users\\Administrator\\Desktop\\Proyecto_ML Refuerzo\\ML_Refuerzo_Esther\\venv\\Lib\\site-packages\\sklearn\\neural_network\\_multilayer_perceptron.py:690: ConvergenceWarning: Stochastic Optimizer: Maximum iterations (200) reached and the optimization hasn't converged yet.\n",
      "  warnings.warn(\n",
      "c:\\Users\\Administrator\\Desktop\\Proyecto_ML Refuerzo\\ML_Refuerzo_Esther\\venv\\Lib\\site-packages\\sklearn\\neural_network\\_multilayer_perceptron.py:690: ConvergenceWarning: Stochastic Optimizer: Maximum iterations (200) reached and the optimization hasn't converged yet.\n",
      "  warnings.warn(\n",
      "c:\\Users\\Administrator\\Desktop\\Proyecto_ML Refuerzo\\ML_Refuerzo_Esther\\venv\\Lib\\site-packages\\sklearn\\neural_network\\_multilayer_perceptron.py:690: ConvergenceWarning: Stochastic Optimizer: Maximum iterations (200) reached and the optimization hasn't converged yet.\n",
      "  warnings.warn(\n",
      "c:\\Users\\Administrator\\Desktop\\Proyecto_ML Refuerzo\\ML_Refuerzo_Esther\\venv\\Lib\\site-packages\\sklearn\\neural_network\\_multilayer_perceptron.py:690: ConvergenceWarning: Stochastic Optimizer: Maximum iterations (200) reached and the optimization hasn't converged yet.\n",
      "  warnings.warn(\n",
      "[I 2024-12-09 16:42:51,468] Trial 65 finished with value: 0.39499999999999996 and parameters: {'n_units_l1': 123, 'n_units_l2': 36, 'alpha': 0.007186507033589265, 'learning_rate_init': 0.0001739339466894687}. Best is trial 37 with value: 0.42374999999999996.\n",
      "C:\\Users\\Administrator\\AppData\\Local\\Temp\\ipykernel_14812\\1653340466.py:15: FutureWarning: suggest_loguniform has been deprecated in v3.0.0. This feature will be removed in v6.0.0. See https://github.com/optuna/optuna/releases/tag/v3.0.0. Use suggest_float(..., log=True) instead.\n",
      "  'alpha': lambda trial: trial.suggest_loguniform('alpha', 1e-5, 1e-1),\n",
      "C:\\Users\\Administrator\\AppData\\Local\\Temp\\ipykernel_14812\\1653340466.py:16: FutureWarning: suggest_loguniform has been deprecated in v3.0.0. This feature will be removed in v6.0.0. See https://github.com/optuna/optuna/releases/tag/v3.0.0. Use suggest_float(..., log=True) instead.\n",
      "  'learning_rate_init': lambda trial: trial.suggest_loguniform('learning_rate_init', 1e-4, 1e-1)\n"
     ]
    },
    {
     "name": "stdout",
     "output_type": "stream",
     "text": [
      "Optimized parameters: {'hidden_layer_sizes': (110, 33), 'alpha': 0.002383126875871097, 'learning_rate_init': 0.00037540630746451235}\n"
     ]
    },
    {
     "name": "stderr",
     "output_type": "stream",
     "text": [
      "c:\\Users\\Administrator\\Desktop\\Proyecto_ML Refuerzo\\ML_Refuerzo_Esther\\venv\\Lib\\site-packages\\sklearn\\neural_network\\_multilayer_perceptron.py:690: ConvergenceWarning: Stochastic Optimizer: Maximum iterations (200) reached and the optimization hasn't converged yet.\n",
      "  warnings.warn(\n",
      "c:\\Users\\Administrator\\Desktop\\Proyecto_ML Refuerzo\\ML_Refuerzo_Esther\\venv\\Lib\\site-packages\\sklearn\\neural_network\\_multilayer_perceptron.py:690: ConvergenceWarning: Stochastic Optimizer: Maximum iterations (200) reached and the optimization hasn't converged yet.\n",
      "  warnings.warn(\n",
      "c:\\Users\\Administrator\\Desktop\\Proyecto_ML Refuerzo\\ML_Refuerzo_Esther\\venv\\Lib\\site-packages\\sklearn\\neural_network\\_multilayer_perceptron.py:690: ConvergenceWarning: Stochastic Optimizer: Maximum iterations (200) reached and the optimization hasn't converged yet.\n",
      "  warnings.warn(\n",
      "c:\\Users\\Administrator\\Desktop\\Proyecto_ML Refuerzo\\ML_Refuerzo_Esther\\venv\\Lib\\site-packages\\sklearn\\neural_network\\_multilayer_perceptron.py:690: ConvergenceWarning: Stochastic Optimizer: Maximum iterations (200) reached and the optimization hasn't converged yet.\n",
      "  warnings.warn(\n",
      "c:\\Users\\Administrator\\Desktop\\Proyecto_ML Refuerzo\\ML_Refuerzo_Esther\\venv\\Lib\\site-packages\\sklearn\\neural_network\\_multilayer_perceptron.py:690: ConvergenceWarning: Stochastic Optimizer: Maximum iterations (200) reached and the optimization hasn't converged yet.\n",
      "  warnings.warn(\n",
      "[I 2024-12-09 16:42:55,554] Trial 66 finished with value: 0.38499999999999995 and parameters: {'n_units_l1': 110, 'n_units_l2': 33, 'alpha': 0.002383126875871097, 'learning_rate_init': 0.00037540630746451235}. Best is trial 37 with value: 0.42374999999999996.\n",
      "C:\\Users\\Administrator\\AppData\\Local\\Temp\\ipykernel_14812\\1653340466.py:15: FutureWarning: suggest_loguniform has been deprecated in v3.0.0. This feature will be removed in v6.0.0. See https://github.com/optuna/optuna/releases/tag/v3.0.0. Use suggest_float(..., log=True) instead.\n",
      "  'alpha': lambda trial: trial.suggest_loguniform('alpha', 1e-5, 1e-1),\n",
      "C:\\Users\\Administrator\\AppData\\Local\\Temp\\ipykernel_14812\\1653340466.py:16: FutureWarning: suggest_loguniform has been deprecated in v3.0.0. This feature will be removed in v6.0.0. See https://github.com/optuna/optuna/releases/tag/v3.0.0. Use suggest_float(..., log=True) instead.\n",
      "  'learning_rate_init': lambda trial: trial.suggest_loguniform('learning_rate_init', 1e-4, 1e-1)\n"
     ]
    },
    {
     "name": "stdout",
     "output_type": "stream",
     "text": [
      "Optimized parameters: {'hidden_layer_sizes': (154, 44), 'alpha': 0.004352144000704491, 'learning_rate_init': 0.00022363928928350604}\n"
     ]
    },
    {
     "name": "stderr",
     "output_type": "stream",
     "text": [
      "c:\\Users\\Administrator\\Desktop\\Proyecto_ML Refuerzo\\ML_Refuerzo_Esther\\venv\\Lib\\site-packages\\sklearn\\neural_network\\_multilayer_perceptron.py:690: ConvergenceWarning: Stochastic Optimizer: Maximum iterations (200) reached and the optimization hasn't converged yet.\n",
      "  warnings.warn(\n",
      "c:\\Users\\Administrator\\Desktop\\Proyecto_ML Refuerzo\\ML_Refuerzo_Esther\\venv\\Lib\\site-packages\\sklearn\\neural_network\\_multilayer_perceptron.py:690: ConvergenceWarning: Stochastic Optimizer: Maximum iterations (200) reached and the optimization hasn't converged yet.\n",
      "  warnings.warn(\n",
      "c:\\Users\\Administrator\\Desktop\\Proyecto_ML Refuerzo\\ML_Refuerzo_Esther\\venv\\Lib\\site-packages\\sklearn\\neural_network\\_multilayer_perceptron.py:690: ConvergenceWarning: Stochastic Optimizer: Maximum iterations (200) reached and the optimization hasn't converged yet.\n",
      "  warnings.warn(\n",
      "c:\\Users\\Administrator\\Desktop\\Proyecto_ML Refuerzo\\ML_Refuerzo_Esther\\venv\\Lib\\site-packages\\sklearn\\neural_network\\_multilayer_perceptron.py:690: ConvergenceWarning: Stochastic Optimizer: Maximum iterations (200) reached and the optimization hasn't converged yet.\n",
      "  warnings.warn(\n",
      "c:\\Users\\Administrator\\Desktop\\Proyecto_ML Refuerzo\\ML_Refuerzo_Esther\\venv\\Lib\\site-packages\\sklearn\\neural_network\\_multilayer_perceptron.py:690: ConvergenceWarning: Stochastic Optimizer: Maximum iterations (200) reached and the optimization hasn't converged yet.\n",
      "  warnings.warn(\n",
      "[I 2024-12-09 16:43:01,409] Trial 67 finished with value: 0.4025 and parameters: {'n_units_l1': 154, 'n_units_l2': 44, 'alpha': 0.004352144000704491, 'learning_rate_init': 0.00022363928928350604}. Best is trial 37 with value: 0.42374999999999996.\n",
      "C:\\Users\\Administrator\\AppData\\Local\\Temp\\ipykernel_14812\\1653340466.py:15: FutureWarning: suggest_loguniform has been deprecated in v3.0.0. This feature will be removed in v6.0.0. See https://github.com/optuna/optuna/releases/tag/v3.0.0. Use suggest_float(..., log=True) instead.\n",
      "  'alpha': lambda trial: trial.suggest_loguniform('alpha', 1e-5, 1e-1),\n",
      "C:\\Users\\Administrator\\AppData\\Local\\Temp\\ipykernel_14812\\1653340466.py:16: FutureWarning: suggest_loguniform has been deprecated in v3.0.0. This feature will be removed in v6.0.0. See https://github.com/optuna/optuna/releases/tag/v3.0.0. Use suggest_float(..., log=True) instead.\n",
      "  'learning_rate_init': lambda trial: trial.suggest_loguniform('learning_rate_init', 1e-4, 1e-1)\n"
     ]
    },
    {
     "name": "stdout",
     "output_type": "stream",
     "text": [
      "Optimized parameters: {'hidden_layer_sizes': (119, 52), 'alpha': 0.01739918853601286, 'learning_rate_init': 0.003892661924115904}\n"
     ]
    },
    {
     "name": "stderr",
     "output_type": "stream",
     "text": [
      "c:\\Users\\Administrator\\Desktop\\Proyecto_ML Refuerzo\\ML_Refuerzo_Esther\\venv\\Lib\\site-packages\\sklearn\\neural_network\\_multilayer_perceptron.py:690: ConvergenceWarning: Stochastic Optimizer: Maximum iterations (200) reached and the optimization hasn't converged yet.\n",
      "  warnings.warn(\n",
      "c:\\Users\\Administrator\\Desktop\\Proyecto_ML Refuerzo\\ML_Refuerzo_Esther\\venv\\Lib\\site-packages\\sklearn\\neural_network\\_multilayer_perceptron.py:690: ConvergenceWarning: Stochastic Optimizer: Maximum iterations (200) reached and the optimization hasn't converged yet.\n",
      "  warnings.warn(\n",
      "c:\\Users\\Administrator\\Desktop\\Proyecto_ML Refuerzo\\ML_Refuerzo_Esther\\venv\\Lib\\site-packages\\sklearn\\neural_network\\_multilayer_perceptron.py:690: ConvergenceWarning: Stochastic Optimizer: Maximum iterations (200) reached and the optimization hasn't converged yet.\n",
      "  warnings.warn(\n",
      "[I 2024-12-09 16:43:06,637] Trial 68 finished with value: 0.325 and parameters: {'n_units_l1': 119, 'n_units_l2': 52, 'alpha': 0.01739918853601286, 'learning_rate_init': 0.003892661924115904}. Best is trial 37 with value: 0.42374999999999996.\n",
      "C:\\Users\\Administrator\\AppData\\Local\\Temp\\ipykernel_14812\\1653340466.py:15: FutureWarning: suggest_loguniform has been deprecated in v3.0.0. This feature will be removed in v6.0.0. See https://github.com/optuna/optuna/releases/tag/v3.0.0. Use suggest_float(..., log=True) instead.\n",
      "  'alpha': lambda trial: trial.suggest_loguniform('alpha', 1e-5, 1e-1),\n",
      "C:\\Users\\Administrator\\AppData\\Local\\Temp\\ipykernel_14812\\1653340466.py:16: FutureWarning: suggest_loguniform has been deprecated in v3.0.0. This feature will be removed in v6.0.0. See https://github.com/optuna/optuna/releases/tag/v3.0.0. Use suggest_float(..., log=True) instead.\n",
      "  'learning_rate_init': lambda trial: trial.suggest_loguniform('learning_rate_init', 1e-4, 1e-1)\n"
     ]
    },
    {
     "name": "stdout",
     "output_type": "stream",
     "text": [
      "Optimized parameters: {'hidden_layer_sizes': (129, 31), 'alpha': 0.0004605357440536832, 'learning_rate_init': 0.00011815409699233839}\n"
     ]
    },
    {
     "name": "stderr",
     "output_type": "stream",
     "text": [
      "c:\\Users\\Administrator\\Desktop\\Proyecto_ML Refuerzo\\ML_Refuerzo_Esther\\venv\\Lib\\site-packages\\sklearn\\neural_network\\_multilayer_perceptron.py:690: ConvergenceWarning: Stochastic Optimizer: Maximum iterations (200) reached and the optimization hasn't converged yet.\n",
      "  warnings.warn(\n",
      "c:\\Users\\Administrator\\Desktop\\Proyecto_ML Refuerzo\\ML_Refuerzo_Esther\\venv\\Lib\\site-packages\\sklearn\\neural_network\\_multilayer_perceptron.py:690: ConvergenceWarning: Stochastic Optimizer: Maximum iterations (200) reached and the optimization hasn't converged yet.\n",
      "  warnings.warn(\n",
      "c:\\Users\\Administrator\\Desktop\\Proyecto_ML Refuerzo\\ML_Refuerzo_Esther\\venv\\Lib\\site-packages\\sklearn\\neural_network\\_multilayer_perceptron.py:690: ConvergenceWarning: Stochastic Optimizer: Maximum iterations (200) reached and the optimization hasn't converged yet.\n",
      "  warnings.warn(\n",
      "c:\\Users\\Administrator\\Desktop\\Proyecto_ML Refuerzo\\ML_Refuerzo_Esther\\venv\\Lib\\site-packages\\sklearn\\neural_network\\_multilayer_perceptron.py:690: ConvergenceWarning: Stochastic Optimizer: Maximum iterations (200) reached and the optimization hasn't converged yet.\n",
      "  warnings.warn(\n",
      "c:\\Users\\Administrator\\Desktop\\Proyecto_ML Refuerzo\\ML_Refuerzo_Esther\\venv\\Lib\\site-packages\\sklearn\\neural_network\\_multilayer_perceptron.py:690: ConvergenceWarning: Stochastic Optimizer: Maximum iterations (200) reached and the optimization hasn't converged yet.\n",
      "  warnings.warn(\n",
      "[I 2024-12-09 16:43:11,297] Trial 69 finished with value: 0.4025 and parameters: {'n_units_l1': 129, 'n_units_l2': 31, 'alpha': 0.0004605357440536832, 'learning_rate_init': 0.00011815409699233839}. Best is trial 37 with value: 0.42374999999999996.\n",
      "C:\\Users\\Administrator\\AppData\\Local\\Temp\\ipykernel_14812\\1653340466.py:15: FutureWarning: suggest_loguniform has been deprecated in v3.0.0. This feature will be removed in v6.0.0. See https://github.com/optuna/optuna/releases/tag/v3.0.0. Use suggest_float(..., log=True) instead.\n",
      "  'alpha': lambda trial: trial.suggest_loguniform('alpha', 1e-5, 1e-1),\n",
      "C:\\Users\\Administrator\\AppData\\Local\\Temp\\ipykernel_14812\\1653340466.py:16: FutureWarning: suggest_loguniform has been deprecated in v3.0.0. This feature will be removed in v6.0.0. See https://github.com/optuna/optuna/releases/tag/v3.0.0. Use suggest_float(..., log=True) instead.\n",
      "  'learning_rate_init': lambda trial: trial.suggest_loguniform('learning_rate_init', 1e-4, 1e-1)\n"
     ]
    },
    {
     "name": "stdout",
     "output_type": "stream",
     "text": [
      "Optimized parameters: {'hidden_layer_sizes': (91, 80), 'alpha': 0.0011770025295144444, 'learning_rate_init': 0.00027790767492443934}\n"
     ]
    },
    {
     "name": "stderr",
     "output_type": "stream",
     "text": [
      "c:\\Users\\Administrator\\Desktop\\Proyecto_ML Refuerzo\\ML_Refuerzo_Esther\\venv\\Lib\\site-packages\\sklearn\\neural_network\\_multilayer_perceptron.py:690: ConvergenceWarning: Stochastic Optimizer: Maximum iterations (200) reached and the optimization hasn't converged yet.\n",
      "  warnings.warn(\n",
      "c:\\Users\\Administrator\\Desktop\\Proyecto_ML Refuerzo\\ML_Refuerzo_Esther\\venv\\Lib\\site-packages\\sklearn\\neural_network\\_multilayer_perceptron.py:690: ConvergenceWarning: Stochastic Optimizer: Maximum iterations (200) reached and the optimization hasn't converged yet.\n",
      "  warnings.warn(\n",
      "c:\\Users\\Administrator\\Desktop\\Proyecto_ML Refuerzo\\ML_Refuerzo_Esther\\venv\\Lib\\site-packages\\sklearn\\neural_network\\_multilayer_perceptron.py:690: ConvergenceWarning: Stochastic Optimizer: Maximum iterations (200) reached and the optimization hasn't converged yet.\n",
      "  warnings.warn(\n",
      "c:\\Users\\Administrator\\Desktop\\Proyecto_ML Refuerzo\\ML_Refuerzo_Esther\\venv\\Lib\\site-packages\\sklearn\\neural_network\\_multilayer_perceptron.py:690: ConvergenceWarning: Stochastic Optimizer: Maximum iterations (200) reached and the optimization hasn't converged yet.\n",
      "  warnings.warn(\n",
      "c:\\Users\\Administrator\\Desktop\\Proyecto_ML Refuerzo\\ML_Refuerzo_Esther\\venv\\Lib\\site-packages\\sklearn\\neural_network\\_multilayer_perceptron.py:690: ConvergenceWarning: Stochastic Optimizer: Maximum iterations (200) reached and the optimization hasn't converged yet.\n",
      "  warnings.warn(\n",
      "[I 2024-12-09 16:43:16,941] Trial 70 finished with value: 0.37625000000000003 and parameters: {'n_units_l1': 91, 'n_units_l2': 80, 'alpha': 0.0011770025295144444, 'learning_rate_init': 0.00027790767492443934}. Best is trial 37 with value: 0.42374999999999996.\n",
      "C:\\Users\\Administrator\\AppData\\Local\\Temp\\ipykernel_14812\\1653340466.py:15: FutureWarning: suggest_loguniform has been deprecated in v3.0.0. This feature will be removed in v6.0.0. See https://github.com/optuna/optuna/releases/tag/v3.0.0. Use suggest_float(..., log=True) instead.\n",
      "  'alpha': lambda trial: trial.suggest_loguniform('alpha', 1e-5, 1e-1),\n",
      "C:\\Users\\Administrator\\AppData\\Local\\Temp\\ipykernel_14812\\1653340466.py:16: FutureWarning: suggest_loguniform has been deprecated in v3.0.0. This feature will be removed in v6.0.0. See https://github.com/optuna/optuna/releases/tag/v3.0.0. Use suggest_float(..., log=True) instead.\n",
      "  'learning_rate_init': lambda trial: trial.suggest_loguniform('learning_rate_init', 1e-4, 1e-1)\n"
     ]
    },
    {
     "name": "stdout",
     "output_type": "stream",
     "text": [
      "Optimized parameters: {'hidden_layer_sizes': (100, 46), 'alpha': 0.03714640175627948, 'learning_rate_init': 0.00010363975099405052}\n"
     ]
    },
    {
     "name": "stderr",
     "output_type": "stream",
     "text": [
      "c:\\Users\\Administrator\\Desktop\\Proyecto_ML Refuerzo\\ML_Refuerzo_Esther\\venv\\Lib\\site-packages\\sklearn\\neural_network\\_multilayer_perceptron.py:690: ConvergenceWarning: Stochastic Optimizer: Maximum iterations (200) reached and the optimization hasn't converged yet.\n",
      "  warnings.warn(\n",
      "c:\\Users\\Administrator\\Desktop\\Proyecto_ML Refuerzo\\ML_Refuerzo_Esther\\venv\\Lib\\site-packages\\sklearn\\neural_network\\_multilayer_perceptron.py:690: ConvergenceWarning: Stochastic Optimizer: Maximum iterations (200) reached and the optimization hasn't converged yet.\n",
      "  warnings.warn(\n",
      "c:\\Users\\Administrator\\Desktop\\Proyecto_ML Refuerzo\\ML_Refuerzo_Esther\\venv\\Lib\\site-packages\\sklearn\\neural_network\\_multilayer_perceptron.py:690: ConvergenceWarning: Stochastic Optimizer: Maximum iterations (200) reached and the optimization hasn't converged yet.\n",
      "  warnings.warn(\n",
      "c:\\Users\\Administrator\\Desktop\\Proyecto_ML Refuerzo\\ML_Refuerzo_Esther\\venv\\Lib\\site-packages\\sklearn\\neural_network\\_multilayer_perceptron.py:690: ConvergenceWarning: Stochastic Optimizer: Maximum iterations (200) reached and the optimization hasn't converged yet.\n",
      "  warnings.warn(\n",
      "c:\\Users\\Administrator\\Desktop\\Proyecto_ML Refuerzo\\ML_Refuerzo_Esther\\venv\\Lib\\site-packages\\sklearn\\neural_network\\_multilayer_perceptron.py:690: ConvergenceWarning: Stochastic Optimizer: Maximum iterations (200) reached and the optimization hasn't converged yet.\n",
      "  warnings.warn(\n",
      "[I 2024-12-09 16:43:21,529] Trial 71 finished with value: 0.40374999999999994 and parameters: {'n_units_l1': 100, 'n_units_l2': 46, 'alpha': 0.03714640175627948, 'learning_rate_init': 0.00010363975099405052}. Best is trial 37 with value: 0.42374999999999996.\n",
      "C:\\Users\\Administrator\\AppData\\Local\\Temp\\ipykernel_14812\\1653340466.py:15: FutureWarning: suggest_loguniform has been deprecated in v3.0.0. This feature will be removed in v6.0.0. See https://github.com/optuna/optuna/releases/tag/v3.0.0. Use suggest_float(..., log=True) instead.\n",
      "  'alpha': lambda trial: trial.suggest_loguniform('alpha', 1e-5, 1e-1),\n",
      "C:\\Users\\Administrator\\AppData\\Local\\Temp\\ipykernel_14812\\1653340466.py:16: FutureWarning: suggest_loguniform has been deprecated in v3.0.0. This feature will be removed in v6.0.0. See https://github.com/optuna/optuna/releases/tag/v3.0.0. Use suggest_float(..., log=True) instead.\n",
      "  'learning_rate_init': lambda trial: trial.suggest_loguniform('learning_rate_init', 1e-4, 1e-1)\n"
     ]
    },
    {
     "name": "stdout",
     "output_type": "stream",
     "text": [
      "Optimized parameters: {'hidden_layer_sizes': (108, 41), 'alpha': 0.06799840045964985, 'learning_rate_init': 0.00014695814217559198}\n"
     ]
    },
    {
     "name": "stderr",
     "output_type": "stream",
     "text": [
      "c:\\Users\\Administrator\\Desktop\\Proyecto_ML Refuerzo\\ML_Refuerzo_Esther\\venv\\Lib\\site-packages\\sklearn\\neural_network\\_multilayer_perceptron.py:690: ConvergenceWarning: Stochastic Optimizer: Maximum iterations (200) reached and the optimization hasn't converged yet.\n",
      "  warnings.warn(\n",
      "c:\\Users\\Administrator\\Desktop\\Proyecto_ML Refuerzo\\ML_Refuerzo_Esther\\venv\\Lib\\site-packages\\sklearn\\neural_network\\_multilayer_perceptron.py:690: ConvergenceWarning: Stochastic Optimizer: Maximum iterations (200) reached and the optimization hasn't converged yet.\n",
      "  warnings.warn(\n",
      "c:\\Users\\Administrator\\Desktop\\Proyecto_ML Refuerzo\\ML_Refuerzo_Esther\\venv\\Lib\\site-packages\\sklearn\\neural_network\\_multilayer_perceptron.py:690: ConvergenceWarning: Stochastic Optimizer: Maximum iterations (200) reached and the optimization hasn't converged yet.\n",
      "  warnings.warn(\n",
      "c:\\Users\\Administrator\\Desktop\\Proyecto_ML Refuerzo\\ML_Refuerzo_Esther\\venv\\Lib\\site-packages\\sklearn\\neural_network\\_multilayer_perceptron.py:690: ConvergenceWarning: Stochastic Optimizer: Maximum iterations (200) reached and the optimization hasn't converged yet.\n",
      "  warnings.warn(\n",
      "c:\\Users\\Administrator\\Desktop\\Proyecto_ML Refuerzo\\ML_Refuerzo_Esther\\venv\\Lib\\site-packages\\sklearn\\neural_network\\_multilayer_perceptron.py:690: ConvergenceWarning: Stochastic Optimizer: Maximum iterations (200) reached and the optimization hasn't converged yet.\n",
      "  warnings.warn(\n",
      "[I 2024-12-09 16:43:26,096] Trial 72 finished with value: 0.38125 and parameters: {'n_units_l1': 108, 'n_units_l2': 41, 'alpha': 0.06799840045964985, 'learning_rate_init': 0.00014695814217559198}. Best is trial 37 with value: 0.42374999999999996.\n",
      "C:\\Users\\Administrator\\AppData\\Local\\Temp\\ipykernel_14812\\1653340466.py:15: FutureWarning: suggest_loguniform has been deprecated in v3.0.0. This feature will be removed in v6.0.0. See https://github.com/optuna/optuna/releases/tag/v3.0.0. Use suggest_float(..., log=True) instead.\n",
      "  'alpha': lambda trial: trial.suggest_loguniform('alpha', 1e-5, 1e-1),\n",
      "C:\\Users\\Administrator\\AppData\\Local\\Temp\\ipykernel_14812\\1653340466.py:16: FutureWarning: suggest_loguniform has been deprecated in v3.0.0. This feature will be removed in v6.0.0. See https://github.com/optuna/optuna/releases/tag/v3.0.0. Use suggest_float(..., log=True) instead.\n",
      "  'learning_rate_init': lambda trial: trial.suggest_loguniform('learning_rate_init', 1e-4, 1e-1)\n"
     ]
    },
    {
     "name": "stdout",
     "output_type": "stream",
     "text": [
      "Optimized parameters: {'hidden_layer_sizes': (95, 26), 'alpha': 0.0017133870503945748, 'learning_rate_init': 0.00017549822730579653}\n"
     ]
    },
    {
     "name": "stderr",
     "output_type": "stream",
     "text": [
      "c:\\Users\\Administrator\\Desktop\\Proyecto_ML Refuerzo\\ML_Refuerzo_Esther\\venv\\Lib\\site-packages\\sklearn\\neural_network\\_multilayer_perceptron.py:690: ConvergenceWarning: Stochastic Optimizer: Maximum iterations (200) reached and the optimization hasn't converged yet.\n",
      "  warnings.warn(\n",
      "c:\\Users\\Administrator\\Desktop\\Proyecto_ML Refuerzo\\ML_Refuerzo_Esther\\venv\\Lib\\site-packages\\sklearn\\neural_network\\_multilayer_perceptron.py:690: ConvergenceWarning: Stochastic Optimizer: Maximum iterations (200) reached and the optimization hasn't converged yet.\n",
      "  warnings.warn(\n",
      "c:\\Users\\Administrator\\Desktop\\Proyecto_ML Refuerzo\\ML_Refuerzo_Esther\\venv\\Lib\\site-packages\\sklearn\\neural_network\\_multilayer_perceptron.py:690: ConvergenceWarning: Stochastic Optimizer: Maximum iterations (200) reached and the optimization hasn't converged yet.\n",
      "  warnings.warn(\n",
      "c:\\Users\\Administrator\\Desktop\\Proyecto_ML Refuerzo\\ML_Refuerzo_Esther\\venv\\Lib\\site-packages\\sklearn\\neural_network\\_multilayer_perceptron.py:690: ConvergenceWarning: Stochastic Optimizer: Maximum iterations (200) reached and the optimization hasn't converged yet.\n",
      "  warnings.warn(\n",
      "c:\\Users\\Administrator\\Desktop\\Proyecto_ML Refuerzo\\ML_Refuerzo_Esther\\venv\\Lib\\site-packages\\sklearn\\neural_network\\_multilayer_perceptron.py:690: ConvergenceWarning: Stochastic Optimizer: Maximum iterations (200) reached and the optimization hasn't converged yet.\n",
      "  warnings.warn(\n",
      "[I 2024-12-09 16:43:29,273] Trial 73 finished with value: 0.3875 and parameters: {'n_units_l1': 95, 'n_units_l2': 26, 'alpha': 0.0017133870503945748, 'learning_rate_init': 0.00017549822730579653}. Best is trial 37 with value: 0.42374999999999996.\n",
      "C:\\Users\\Administrator\\AppData\\Local\\Temp\\ipykernel_14812\\1653340466.py:15: FutureWarning: suggest_loguniform has been deprecated in v3.0.0. This feature will be removed in v6.0.0. See https://github.com/optuna/optuna/releases/tag/v3.0.0. Use suggest_float(..., log=True) instead.\n",
      "  'alpha': lambda trial: trial.suggest_loguniform('alpha', 1e-5, 1e-1),\n",
      "C:\\Users\\Administrator\\AppData\\Local\\Temp\\ipykernel_14812\\1653340466.py:16: FutureWarning: suggest_loguniform has been deprecated in v3.0.0. This feature will be removed in v6.0.0. See https://github.com/optuna/optuna/releases/tag/v3.0.0. Use suggest_float(..., log=True) instead.\n",
      "  'learning_rate_init': lambda trial: trial.suggest_loguniform('learning_rate_init', 1e-4, 1e-1)\n"
     ]
    },
    {
     "name": "stdout",
     "output_type": "stream",
     "text": [
      "Optimized parameters: {'hidden_layer_sizes': (116, 38), 'alpha': 0.07303686776299252, 'learning_rate_init': 0.014416502062044412}\n"
     ]
    },
    {
     "name": "stderr",
     "output_type": "stream",
     "text": [
      "[I 2024-12-09 16:43:31,407] Trial 74 finished with value: 0.36125 and parameters: {'n_units_l1': 116, 'n_units_l2': 38, 'alpha': 0.07303686776299252, 'learning_rate_init': 0.014416502062044412}. Best is trial 37 with value: 0.42374999999999996.\n",
      "C:\\Users\\Administrator\\AppData\\Local\\Temp\\ipykernel_14812\\1653340466.py:15: FutureWarning: suggest_loguniform has been deprecated in v3.0.0. This feature will be removed in v6.0.0. See https://github.com/optuna/optuna/releases/tag/v3.0.0. Use suggest_float(..., log=True) instead.\n",
      "  'alpha': lambda trial: trial.suggest_loguniform('alpha', 1e-5, 1e-1),\n",
      "C:\\Users\\Administrator\\AppData\\Local\\Temp\\ipykernel_14812\\1653340466.py:16: FutureWarning: suggest_loguniform has been deprecated in v3.0.0. This feature will be removed in v6.0.0. See https://github.com/optuna/optuna/releases/tag/v3.0.0. Use suggest_float(..., log=True) instead.\n",
      "  'learning_rate_init': lambda trial: trial.suggest_loguniform('learning_rate_init', 1e-4, 1e-1)\n"
     ]
    },
    {
     "name": "stdout",
     "output_type": "stream",
     "text": [
      "Optimized parameters: {'hidden_layer_sizes': (135, 54), 'alpha': 0.002640172109574374, 'learning_rate_init': 0.00012501848232151916}\n"
     ]
    },
    {
     "name": "stderr",
     "output_type": "stream",
     "text": [
      "c:\\Users\\Administrator\\Desktop\\Proyecto_ML Refuerzo\\ML_Refuerzo_Esther\\venv\\Lib\\site-packages\\sklearn\\neural_network\\_multilayer_perceptron.py:690: ConvergenceWarning: Stochastic Optimizer: Maximum iterations (200) reached and the optimization hasn't converged yet.\n",
      "  warnings.warn(\n",
      "c:\\Users\\Administrator\\Desktop\\Proyecto_ML Refuerzo\\ML_Refuerzo_Esther\\venv\\Lib\\site-packages\\sklearn\\neural_network\\_multilayer_perceptron.py:690: ConvergenceWarning: Stochastic Optimizer: Maximum iterations (200) reached and the optimization hasn't converged yet.\n",
      "  warnings.warn(\n",
      "c:\\Users\\Administrator\\Desktop\\Proyecto_ML Refuerzo\\ML_Refuerzo_Esther\\venv\\Lib\\site-packages\\sklearn\\neural_network\\_multilayer_perceptron.py:690: ConvergenceWarning: Stochastic Optimizer: Maximum iterations (200) reached and the optimization hasn't converged yet.\n",
      "  warnings.warn(\n",
      "c:\\Users\\Administrator\\Desktop\\Proyecto_ML Refuerzo\\ML_Refuerzo_Esther\\venv\\Lib\\site-packages\\sklearn\\neural_network\\_multilayer_perceptron.py:690: ConvergenceWarning: Stochastic Optimizer: Maximum iterations (200) reached and the optimization hasn't converged yet.\n",
      "  warnings.warn(\n",
      "c:\\Users\\Administrator\\Desktop\\Proyecto_ML Refuerzo\\ML_Refuerzo_Esther\\venv\\Lib\\site-packages\\sklearn\\neural_network\\_multilayer_perceptron.py:690: ConvergenceWarning: Stochastic Optimizer: Maximum iterations (200) reached and the optimization hasn't converged yet.\n",
      "  warnings.warn(\n",
      "[I 2024-12-09 16:43:37,261] Trial 75 finished with value: 0.38375000000000004 and parameters: {'n_units_l1': 135, 'n_units_l2': 54, 'alpha': 0.002640172109574374, 'learning_rate_init': 0.00012501848232151916}. Best is trial 37 with value: 0.42374999999999996.\n",
      "C:\\Users\\Administrator\\AppData\\Local\\Temp\\ipykernel_14812\\1653340466.py:15: FutureWarning: suggest_loguniform has been deprecated in v3.0.0. This feature will be removed in v6.0.0. See https://github.com/optuna/optuna/releases/tag/v3.0.0. Use suggest_float(..., log=True) instead.\n",
      "  'alpha': lambda trial: trial.suggest_loguniform('alpha', 1e-5, 1e-1),\n",
      "C:\\Users\\Administrator\\AppData\\Local\\Temp\\ipykernel_14812\\1653340466.py:16: FutureWarning: suggest_loguniform has been deprecated in v3.0.0. This feature will be removed in v6.0.0. See https://github.com/optuna/optuna/releases/tag/v3.0.0. Use suggest_float(..., log=True) instead.\n",
      "  'learning_rate_init': lambda trial: trial.suggest_loguniform('learning_rate_init', 1e-4, 1e-1)\n"
     ]
    },
    {
     "name": "stdout",
     "output_type": "stream",
     "text": [
      "Optimized parameters: {'hidden_layer_sizes': (149, 35), 'alpha': 0.021182414527777714, 'learning_rate_init': 0.000254495791224196}\n"
     ]
    },
    {
     "name": "stderr",
     "output_type": "stream",
     "text": [
      "c:\\Users\\Administrator\\Desktop\\Proyecto_ML Refuerzo\\ML_Refuerzo_Esther\\venv\\Lib\\site-packages\\sklearn\\neural_network\\_multilayer_perceptron.py:690: ConvergenceWarning: Stochastic Optimizer: Maximum iterations (200) reached and the optimization hasn't converged yet.\n",
      "  warnings.warn(\n",
      "c:\\Users\\Administrator\\Desktop\\Proyecto_ML Refuerzo\\ML_Refuerzo_Esther\\venv\\Lib\\site-packages\\sklearn\\neural_network\\_multilayer_perceptron.py:690: ConvergenceWarning: Stochastic Optimizer: Maximum iterations (200) reached and the optimization hasn't converged yet.\n",
      "  warnings.warn(\n",
      "c:\\Users\\Administrator\\Desktop\\Proyecto_ML Refuerzo\\ML_Refuerzo_Esther\\venv\\Lib\\site-packages\\sklearn\\neural_network\\_multilayer_perceptron.py:690: ConvergenceWarning: Stochastic Optimizer: Maximum iterations (200) reached and the optimization hasn't converged yet.\n",
      "  warnings.warn(\n",
      "c:\\Users\\Administrator\\Desktop\\Proyecto_ML Refuerzo\\ML_Refuerzo_Esther\\venv\\Lib\\site-packages\\sklearn\\neural_network\\_multilayer_perceptron.py:690: ConvergenceWarning: Stochastic Optimizer: Maximum iterations (200) reached and the optimization hasn't converged yet.\n",
      "  warnings.warn(\n",
      "c:\\Users\\Administrator\\Desktop\\Proyecto_ML Refuerzo\\ML_Refuerzo_Esther\\venv\\Lib\\site-packages\\sklearn\\neural_network\\_multilayer_perceptron.py:690: ConvergenceWarning: Stochastic Optimizer: Maximum iterations (200) reached and the optimization hasn't converged yet.\n",
      "  warnings.warn(\n",
      "[I 2024-12-09 16:43:42,658] Trial 76 finished with value: 0.40125 and parameters: {'n_units_l1': 149, 'n_units_l2': 35, 'alpha': 0.021182414527777714, 'learning_rate_init': 0.000254495791224196}. Best is trial 37 with value: 0.42374999999999996.\n",
      "C:\\Users\\Administrator\\AppData\\Local\\Temp\\ipykernel_14812\\1653340466.py:15: FutureWarning: suggest_loguniform has been deprecated in v3.0.0. This feature will be removed in v6.0.0. See https://github.com/optuna/optuna/releases/tag/v3.0.0. Use suggest_float(..., log=True) instead.\n",
      "  'alpha': lambda trial: trial.suggest_loguniform('alpha', 1e-5, 1e-1),\n",
      "C:\\Users\\Administrator\\AppData\\Local\\Temp\\ipykernel_14812\\1653340466.py:16: FutureWarning: suggest_loguniform has been deprecated in v3.0.0. This feature will be removed in v6.0.0. See https://github.com/optuna/optuna/releases/tag/v3.0.0. Use suggest_float(..., log=True) instead.\n",
      "  'learning_rate_init': lambda trial: trial.suggest_loguniform('learning_rate_init', 1e-4, 1e-1)\n"
     ]
    },
    {
     "name": "stdout",
     "output_type": "stream",
     "text": [
      "Optimized parameters: {'hidden_layer_sizes': (124, 50), 'alpha': 0.03662350638115007, 'learning_rate_init': 0.0003529072959145952}\n"
     ]
    },
    {
     "name": "stderr",
     "output_type": "stream",
     "text": [
      "c:\\Users\\Administrator\\Desktop\\Proyecto_ML Refuerzo\\ML_Refuerzo_Esther\\venv\\Lib\\site-packages\\sklearn\\neural_network\\_multilayer_perceptron.py:690: ConvergenceWarning: Stochastic Optimizer: Maximum iterations (200) reached and the optimization hasn't converged yet.\n",
      "  warnings.warn(\n",
      "c:\\Users\\Administrator\\Desktop\\Proyecto_ML Refuerzo\\ML_Refuerzo_Esther\\venv\\Lib\\site-packages\\sklearn\\neural_network\\_multilayer_perceptron.py:690: ConvergenceWarning: Stochastic Optimizer: Maximum iterations (200) reached and the optimization hasn't converged yet.\n",
      "  warnings.warn(\n",
      "c:\\Users\\Administrator\\Desktop\\Proyecto_ML Refuerzo\\ML_Refuerzo_Esther\\venv\\Lib\\site-packages\\sklearn\\neural_network\\_multilayer_perceptron.py:690: ConvergenceWarning: Stochastic Optimizer: Maximum iterations (200) reached and the optimization hasn't converged yet.\n",
      "  warnings.warn(\n",
      "c:\\Users\\Administrator\\Desktop\\Proyecto_ML Refuerzo\\ML_Refuerzo_Esther\\venv\\Lib\\site-packages\\sklearn\\neural_network\\_multilayer_perceptron.py:690: ConvergenceWarning: Stochastic Optimizer: Maximum iterations (200) reached and the optimization hasn't converged yet.\n",
      "  warnings.warn(\n",
      "c:\\Users\\Administrator\\Desktop\\Proyecto_ML Refuerzo\\ML_Refuerzo_Esther\\venv\\Lib\\site-packages\\sklearn\\neural_network\\_multilayer_perceptron.py:690: ConvergenceWarning: Stochastic Optimizer: Maximum iterations (200) reached and the optimization hasn't converged yet.\n",
      "  warnings.warn(\n",
      "[I 2024-12-09 16:43:48,162] Trial 77 finished with value: 0.39 and parameters: {'n_units_l1': 124, 'n_units_l2': 50, 'alpha': 0.03662350638115007, 'learning_rate_init': 0.0003529072959145952}. Best is trial 37 with value: 0.42374999999999996.\n",
      "C:\\Users\\Administrator\\AppData\\Local\\Temp\\ipykernel_14812\\1653340466.py:15: FutureWarning: suggest_loguniform has been deprecated in v3.0.0. This feature will be removed in v6.0.0. See https://github.com/optuna/optuna/releases/tag/v3.0.0. Use suggest_float(..., log=True) instead.\n",
      "  'alpha': lambda trial: trial.suggest_loguniform('alpha', 1e-5, 1e-1),\n",
      "C:\\Users\\Administrator\\AppData\\Local\\Temp\\ipykernel_14812\\1653340466.py:16: FutureWarning: suggest_loguniform has been deprecated in v3.0.0. This feature will be removed in v6.0.0. See https://github.com/optuna/optuna/releases/tag/v3.0.0. Use suggest_float(..., log=True) instead.\n",
      "  'learning_rate_init': lambda trial: trial.suggest_loguniform('learning_rate_init', 1e-4, 1e-1)\n"
     ]
    },
    {
     "name": "stdout",
     "output_type": "stream",
     "text": [
      "Optimized parameters: {'hidden_layer_sizes': (83, 31), 'alpha': 0.00019969303347481827, 'learning_rate_init': 0.00020093162781149577}\n"
     ]
    },
    {
     "name": "stderr",
     "output_type": "stream",
     "text": [
      "c:\\Users\\Administrator\\Desktop\\Proyecto_ML Refuerzo\\ML_Refuerzo_Esther\\venv\\Lib\\site-packages\\sklearn\\neural_network\\_multilayer_perceptron.py:690: ConvergenceWarning: Stochastic Optimizer: Maximum iterations (200) reached and the optimization hasn't converged yet.\n",
      "  warnings.warn(\n",
      "c:\\Users\\Administrator\\Desktop\\Proyecto_ML Refuerzo\\ML_Refuerzo_Esther\\venv\\Lib\\site-packages\\sklearn\\neural_network\\_multilayer_perceptron.py:690: ConvergenceWarning: Stochastic Optimizer: Maximum iterations (200) reached and the optimization hasn't converged yet.\n",
      "  warnings.warn(\n",
      "c:\\Users\\Administrator\\Desktop\\Proyecto_ML Refuerzo\\ML_Refuerzo_Esther\\venv\\Lib\\site-packages\\sklearn\\neural_network\\_multilayer_perceptron.py:690: ConvergenceWarning: Stochastic Optimizer: Maximum iterations (200) reached and the optimization hasn't converged yet.\n",
      "  warnings.warn(\n",
      "c:\\Users\\Administrator\\Desktop\\Proyecto_ML Refuerzo\\ML_Refuerzo_Esther\\venv\\Lib\\site-packages\\sklearn\\neural_network\\_multilayer_perceptron.py:690: ConvergenceWarning: Stochastic Optimizer: Maximum iterations (200) reached and the optimization hasn't converged yet.\n",
      "  warnings.warn(\n",
      "c:\\Users\\Administrator\\Desktop\\Proyecto_ML Refuerzo\\ML_Refuerzo_Esther\\venv\\Lib\\site-packages\\sklearn\\neural_network\\_multilayer_perceptron.py:690: ConvergenceWarning: Stochastic Optimizer: Maximum iterations (200) reached and the optimization hasn't converged yet.\n",
      "  warnings.warn(\n",
      "[I 2024-12-09 16:43:51,294] Trial 78 finished with value: 0.4 and parameters: {'n_units_l1': 83, 'n_units_l2': 31, 'alpha': 0.00019969303347481827, 'learning_rate_init': 0.00020093162781149577}. Best is trial 37 with value: 0.42374999999999996.\n",
      "C:\\Users\\Administrator\\AppData\\Local\\Temp\\ipykernel_14812\\1653340466.py:15: FutureWarning: suggest_loguniform has been deprecated in v3.0.0. This feature will be removed in v6.0.0. See https://github.com/optuna/optuna/releases/tag/v3.0.0. Use suggest_float(..., log=True) instead.\n",
      "  'alpha': lambda trial: trial.suggest_loguniform('alpha', 1e-5, 1e-1),\n",
      "C:\\Users\\Administrator\\AppData\\Local\\Temp\\ipykernel_14812\\1653340466.py:16: FutureWarning: suggest_loguniform has been deprecated in v3.0.0. This feature will be removed in v6.0.0. See https://github.com/optuna/optuna/releases/tag/v3.0.0. Use suggest_float(..., log=True) instead.\n",
      "  'learning_rate_init': lambda trial: trial.suggest_loguniform('learning_rate_init', 1e-4, 1e-1)\n"
     ]
    },
    {
     "name": "stdout",
     "output_type": "stream",
     "text": [
      "Optimized parameters: {'hidden_layer_sizes': (101, 27), 'alpha': 0.0007972705366300759, 'learning_rate_init': 0.0005439565166953608}\n"
     ]
    },
    {
     "name": "stderr",
     "output_type": "stream",
     "text": [
      "c:\\Users\\Administrator\\Desktop\\Proyecto_ML Refuerzo\\ML_Refuerzo_Esther\\venv\\Lib\\site-packages\\sklearn\\neural_network\\_multilayer_perceptron.py:690: ConvergenceWarning: Stochastic Optimizer: Maximum iterations (200) reached and the optimization hasn't converged yet.\n",
      "  warnings.warn(\n",
      "c:\\Users\\Administrator\\Desktop\\Proyecto_ML Refuerzo\\ML_Refuerzo_Esther\\venv\\Lib\\site-packages\\sklearn\\neural_network\\_multilayer_perceptron.py:690: ConvergenceWarning: Stochastic Optimizer: Maximum iterations (200) reached and the optimization hasn't converged yet.\n",
      "  warnings.warn(\n",
      "c:\\Users\\Administrator\\Desktop\\Proyecto_ML Refuerzo\\ML_Refuerzo_Esther\\venv\\Lib\\site-packages\\sklearn\\neural_network\\_multilayer_perceptron.py:690: ConvergenceWarning: Stochastic Optimizer: Maximum iterations (200) reached and the optimization hasn't converged yet.\n",
      "  warnings.warn(\n",
      "c:\\Users\\Administrator\\Desktop\\Proyecto_ML Refuerzo\\ML_Refuerzo_Esther\\venv\\Lib\\site-packages\\sklearn\\neural_network\\_multilayer_perceptron.py:690: ConvergenceWarning: Stochastic Optimizer: Maximum iterations (200) reached and the optimization hasn't converged yet.\n",
      "  warnings.warn(\n",
      "c:\\Users\\Administrator\\Desktop\\Proyecto_ML Refuerzo\\ML_Refuerzo_Esther\\venv\\Lib\\site-packages\\sklearn\\neural_network\\_multilayer_perceptron.py:690: ConvergenceWarning: Stochastic Optimizer: Maximum iterations (200) reached and the optimization hasn't converged yet.\n",
      "  warnings.warn(\n",
      "[I 2024-12-09 16:43:55,181] Trial 79 finished with value: 0.40374999999999994 and parameters: {'n_units_l1': 101, 'n_units_l2': 27, 'alpha': 0.0007972705366300759, 'learning_rate_init': 0.0005439565166953608}. Best is trial 37 with value: 0.42374999999999996.\n",
      "C:\\Users\\Administrator\\AppData\\Local\\Temp\\ipykernel_14812\\1653340466.py:15: FutureWarning: suggest_loguniform has been deprecated in v3.0.0. This feature will be removed in v6.0.0. See https://github.com/optuna/optuna/releases/tag/v3.0.0. Use suggest_float(..., log=True) instead.\n",
      "  'alpha': lambda trial: trial.suggest_loguniform('alpha', 1e-5, 1e-1),\n",
      "C:\\Users\\Administrator\\AppData\\Local\\Temp\\ipykernel_14812\\1653340466.py:16: FutureWarning: suggest_loguniform has been deprecated in v3.0.0. This feature will be removed in v6.0.0. See https://github.com/optuna/optuna/releases/tag/v3.0.0. Use suggest_float(..., log=True) instead.\n",
      "  'learning_rate_init': lambda trial: trial.suggest_loguniform('learning_rate_init', 1e-4, 1e-1)\n"
     ]
    },
    {
     "name": "stdout",
     "output_type": "stream",
     "text": [
      "Optimized parameters: {'hidden_layer_sizes': (112, 59), 'alpha': 0.004630954686153183, 'learning_rate_init': 0.0073181521310651506}\n"
     ]
    },
    {
     "name": "stderr",
     "output_type": "stream",
     "text": [
      "[I 2024-12-09 16:43:58,800] Trial 80 finished with value: 0.34125 and parameters: {'n_units_l1': 112, 'n_units_l2': 59, 'alpha': 0.004630954686153183, 'learning_rate_init': 0.0073181521310651506}. Best is trial 37 with value: 0.42374999999999996.\n",
      "C:\\Users\\Administrator\\AppData\\Local\\Temp\\ipykernel_14812\\1653340466.py:15: FutureWarning: suggest_loguniform has been deprecated in v3.0.0. This feature will be removed in v6.0.0. See https://github.com/optuna/optuna/releases/tag/v3.0.0. Use suggest_float(..., log=True) instead.\n",
      "  'alpha': lambda trial: trial.suggest_loguniform('alpha', 1e-5, 1e-1),\n",
      "C:\\Users\\Administrator\\AppData\\Local\\Temp\\ipykernel_14812\\1653340466.py:16: FutureWarning: suggest_loguniform has been deprecated in v3.0.0. This feature will be removed in v6.0.0. See https://github.com/optuna/optuna/releases/tag/v3.0.0. Use suggest_float(..., log=True) instead.\n",
      "  'learning_rate_init': lambda trial: trial.suggest_loguniform('learning_rate_init', 1e-4, 1e-1)\n"
     ]
    },
    {
     "name": "stdout",
     "output_type": "stream",
     "text": [
      "Optimized parameters: {'hidden_layer_sizes': (104, 37), 'alpha': 0.054599311877891146, 'learning_rate_init': 0.00014255664063662666}\n"
     ]
    },
    {
     "name": "stderr",
     "output_type": "stream",
     "text": [
      "c:\\Users\\Administrator\\Desktop\\Proyecto_ML Refuerzo\\ML_Refuerzo_Esther\\venv\\Lib\\site-packages\\sklearn\\neural_network\\_multilayer_perceptron.py:690: ConvergenceWarning: Stochastic Optimizer: Maximum iterations (200) reached and the optimization hasn't converged yet.\n",
      "  warnings.warn(\n",
      "c:\\Users\\Administrator\\Desktop\\Proyecto_ML Refuerzo\\ML_Refuerzo_Esther\\venv\\Lib\\site-packages\\sklearn\\neural_network\\_multilayer_perceptron.py:690: ConvergenceWarning: Stochastic Optimizer: Maximum iterations (200) reached and the optimization hasn't converged yet.\n",
      "  warnings.warn(\n",
      "c:\\Users\\Administrator\\Desktop\\Proyecto_ML Refuerzo\\ML_Refuerzo_Esther\\venv\\Lib\\site-packages\\sklearn\\neural_network\\_multilayer_perceptron.py:690: ConvergenceWarning: Stochastic Optimizer: Maximum iterations (200) reached and the optimization hasn't converged yet.\n",
      "  warnings.warn(\n",
      "c:\\Users\\Administrator\\Desktop\\Proyecto_ML Refuerzo\\ML_Refuerzo_Esther\\venv\\Lib\\site-packages\\sklearn\\neural_network\\_multilayer_perceptron.py:690: ConvergenceWarning: Stochastic Optimizer: Maximum iterations (200) reached and the optimization hasn't converged yet.\n",
      "  warnings.warn(\n",
      "c:\\Users\\Administrator\\Desktop\\Proyecto_ML Refuerzo\\ML_Refuerzo_Esther\\venv\\Lib\\site-packages\\sklearn\\neural_network\\_multilayer_perceptron.py:690: ConvergenceWarning: Stochastic Optimizer: Maximum iterations (200) reached and the optimization hasn't converged yet.\n",
      "  warnings.warn(\n",
      "[I 2024-12-09 16:44:02,896] Trial 81 finished with value: 0.41 and parameters: {'n_units_l1': 104, 'n_units_l2': 37, 'alpha': 0.054599311877891146, 'learning_rate_init': 0.00014255664063662666}. Best is trial 37 with value: 0.42374999999999996.\n",
      "C:\\Users\\Administrator\\AppData\\Local\\Temp\\ipykernel_14812\\1653340466.py:15: FutureWarning: suggest_loguniform has been deprecated in v3.0.0. This feature will be removed in v6.0.0. See https://github.com/optuna/optuna/releases/tag/v3.0.0. Use suggest_float(..., log=True) instead.\n",
      "  'alpha': lambda trial: trial.suggest_loguniform('alpha', 1e-5, 1e-1),\n",
      "C:\\Users\\Administrator\\AppData\\Local\\Temp\\ipykernel_14812\\1653340466.py:16: FutureWarning: suggest_loguniform has been deprecated in v3.0.0. This feature will be removed in v6.0.0. See https://github.com/optuna/optuna/releases/tag/v3.0.0. Use suggest_float(..., log=True) instead.\n",
      "  'learning_rate_init': lambda trial: trial.suggest_loguniform('learning_rate_init', 1e-4, 1e-1)\n"
     ]
    },
    {
     "name": "stdout",
     "output_type": "stream",
     "text": [
      "Optimized parameters: {'hidden_layer_sizes': (105, 40), 'alpha': 0.05439498473343243, 'learning_rate_init': 0.00010010355911173778}\n"
     ]
    },
    {
     "name": "stderr",
     "output_type": "stream",
     "text": [
      "c:\\Users\\Administrator\\Desktop\\Proyecto_ML Refuerzo\\ML_Refuerzo_Esther\\venv\\Lib\\site-packages\\sklearn\\neural_network\\_multilayer_perceptron.py:690: ConvergenceWarning: Stochastic Optimizer: Maximum iterations (200) reached and the optimization hasn't converged yet.\n",
      "  warnings.warn(\n",
      "c:\\Users\\Administrator\\Desktop\\Proyecto_ML Refuerzo\\ML_Refuerzo_Esther\\venv\\Lib\\site-packages\\sklearn\\neural_network\\_multilayer_perceptron.py:690: ConvergenceWarning: Stochastic Optimizer: Maximum iterations (200) reached and the optimization hasn't converged yet.\n",
      "  warnings.warn(\n",
      "c:\\Users\\Administrator\\Desktop\\Proyecto_ML Refuerzo\\ML_Refuerzo_Esther\\venv\\Lib\\site-packages\\sklearn\\neural_network\\_multilayer_perceptron.py:690: ConvergenceWarning: Stochastic Optimizer: Maximum iterations (200) reached and the optimization hasn't converged yet.\n",
      "  warnings.warn(\n",
      "c:\\Users\\Administrator\\Desktop\\Proyecto_ML Refuerzo\\ML_Refuerzo_Esther\\venv\\Lib\\site-packages\\sklearn\\neural_network\\_multilayer_perceptron.py:690: ConvergenceWarning: Stochastic Optimizer: Maximum iterations (200) reached and the optimization hasn't converged yet.\n",
      "  warnings.warn(\n",
      "c:\\Users\\Administrator\\Desktop\\Proyecto_ML Refuerzo\\ML_Refuerzo_Esther\\venv\\Lib\\site-packages\\sklearn\\neural_network\\_multilayer_perceptron.py:690: ConvergenceWarning: Stochastic Optimizer: Maximum iterations (200) reached and the optimization hasn't converged yet.\n",
      "  warnings.warn(\n",
      "[I 2024-12-09 16:44:07,417] Trial 82 finished with value: 0.40625 and parameters: {'n_units_l1': 105, 'n_units_l2': 40, 'alpha': 0.05439498473343243, 'learning_rate_init': 0.00010010355911173778}. Best is trial 37 with value: 0.42374999999999996.\n",
      "C:\\Users\\Administrator\\AppData\\Local\\Temp\\ipykernel_14812\\1653340466.py:15: FutureWarning: suggest_loguniform has been deprecated in v3.0.0. This feature will be removed in v6.0.0. See https://github.com/optuna/optuna/releases/tag/v3.0.0. Use suggest_float(..., log=True) instead.\n",
      "  'alpha': lambda trial: trial.suggest_loguniform('alpha', 1e-5, 1e-1),\n",
      "C:\\Users\\Administrator\\AppData\\Local\\Temp\\ipykernel_14812\\1653340466.py:16: FutureWarning: suggest_loguniform has been deprecated in v3.0.0. This feature will be removed in v6.0.0. See https://github.com/optuna/optuna/releases/tag/v3.0.0. Use suggest_float(..., log=True) instead.\n",
      "  'learning_rate_init': lambda trial: trial.suggest_loguniform('learning_rate_init', 1e-4, 1e-1)\n"
     ]
    },
    {
     "name": "stdout",
     "output_type": "stream",
     "text": [
      "Optimized parameters: {'hidden_layer_sizes': (96, 40), 'alpha': 0.012663276696114537, 'learning_rate_init': 0.00015500296569303298}\n"
     ]
    },
    {
     "name": "stderr",
     "output_type": "stream",
     "text": [
      "c:\\Users\\Administrator\\Desktop\\Proyecto_ML Refuerzo\\ML_Refuerzo_Esther\\venv\\Lib\\site-packages\\sklearn\\neural_network\\_multilayer_perceptron.py:690: ConvergenceWarning: Stochastic Optimizer: Maximum iterations (200) reached and the optimization hasn't converged yet.\n",
      "  warnings.warn(\n",
      "c:\\Users\\Administrator\\Desktop\\Proyecto_ML Refuerzo\\ML_Refuerzo_Esther\\venv\\Lib\\site-packages\\sklearn\\neural_network\\_multilayer_perceptron.py:690: ConvergenceWarning: Stochastic Optimizer: Maximum iterations (200) reached and the optimization hasn't converged yet.\n",
      "  warnings.warn(\n",
      "c:\\Users\\Administrator\\Desktop\\Proyecto_ML Refuerzo\\ML_Refuerzo_Esther\\venv\\Lib\\site-packages\\sklearn\\neural_network\\_multilayer_perceptron.py:690: ConvergenceWarning: Stochastic Optimizer: Maximum iterations (200) reached and the optimization hasn't converged yet.\n",
      "  warnings.warn(\n",
      "c:\\Users\\Administrator\\Desktop\\Proyecto_ML Refuerzo\\ML_Refuerzo_Esther\\venv\\Lib\\site-packages\\sklearn\\neural_network\\_multilayer_perceptron.py:690: ConvergenceWarning: Stochastic Optimizer: Maximum iterations (200) reached and the optimization hasn't converged yet.\n",
      "  warnings.warn(\n",
      "c:\\Users\\Administrator\\Desktop\\Proyecto_ML Refuerzo\\ML_Refuerzo_Esther\\venv\\Lib\\site-packages\\sklearn\\neural_network\\_multilayer_perceptron.py:690: ConvergenceWarning: Stochastic Optimizer: Maximum iterations (200) reached and the optimization hasn't converged yet.\n",
      "  warnings.warn(\n",
      "[I 2024-12-09 16:44:11,373] Trial 83 finished with value: 0.40374999999999994 and parameters: {'n_units_l1': 96, 'n_units_l2': 40, 'alpha': 0.012663276696114537, 'learning_rate_init': 0.00015500296569303298}. Best is trial 37 with value: 0.42374999999999996.\n",
      "C:\\Users\\Administrator\\AppData\\Local\\Temp\\ipykernel_14812\\1653340466.py:15: FutureWarning: suggest_loguniform has been deprecated in v3.0.0. This feature will be removed in v6.0.0. See https://github.com/optuna/optuna/releases/tag/v3.0.0. Use suggest_float(..., log=True) instead.\n",
      "  'alpha': lambda trial: trial.suggest_loguniform('alpha', 1e-5, 1e-1),\n",
      "C:\\Users\\Administrator\\AppData\\Local\\Temp\\ipykernel_14812\\1653340466.py:16: FutureWarning: suggest_loguniform has been deprecated in v3.0.0. This feature will be removed in v6.0.0. See https://github.com/optuna/optuna/releases/tag/v3.0.0. Use suggest_float(..., log=True) instead.\n",
      "  'learning_rate_init': lambda trial: trial.suggest_loguniform('learning_rate_init', 1e-4, 1e-1)\n"
     ]
    },
    {
     "name": "stdout",
     "output_type": "stream",
     "text": [
      "Optimized parameters: {'hidden_layer_sizes': (105, 36), 'alpha': 0.04724944811254317, 'learning_rate_init': 0.04663403343007869}\n"
     ]
    },
    {
     "name": "stderr",
     "output_type": "stream",
     "text": [
      "[I 2024-12-09 16:44:12,710] Trial 84 finished with value: 0.35374999999999995 and parameters: {'n_units_l1': 105, 'n_units_l2': 36, 'alpha': 0.04724944811254317, 'learning_rate_init': 0.04663403343007869}. Best is trial 37 with value: 0.42374999999999996.\n",
      "C:\\Users\\Administrator\\AppData\\Local\\Temp\\ipykernel_14812\\1653340466.py:15: FutureWarning: suggest_loguniform has been deprecated in v3.0.0. This feature will be removed in v6.0.0. See https://github.com/optuna/optuna/releases/tag/v3.0.0. Use suggest_float(..., log=True) instead.\n",
      "  'alpha': lambda trial: trial.suggest_loguniform('alpha', 1e-5, 1e-1),\n",
      "C:\\Users\\Administrator\\AppData\\Local\\Temp\\ipykernel_14812\\1653340466.py:16: FutureWarning: suggest_loguniform has been deprecated in v3.0.0. This feature will be removed in v6.0.0. See https://github.com/optuna/optuna/releases/tag/v3.0.0. Use suggest_float(..., log=True) instead.\n",
      "  'learning_rate_init': lambda trial: trial.suggest_loguniform('learning_rate_init', 1e-4, 1e-1)\n"
     ]
    },
    {
     "name": "stdout",
     "output_type": "stream",
     "text": [
      "Optimized parameters: {'hidden_layer_sizes': (144, 43), 'alpha': 0.024089690584529703, 'learning_rate_init': 0.00011946944701531068}\n"
     ]
    },
    {
     "name": "stderr",
     "output_type": "stream",
     "text": [
      "c:\\Users\\Administrator\\Desktop\\Proyecto_ML Refuerzo\\ML_Refuerzo_Esther\\venv\\Lib\\site-packages\\sklearn\\neural_network\\_multilayer_perceptron.py:690: ConvergenceWarning: Stochastic Optimizer: Maximum iterations (200) reached and the optimization hasn't converged yet.\n",
      "  warnings.warn(\n",
      "c:\\Users\\Administrator\\Desktop\\Proyecto_ML Refuerzo\\ML_Refuerzo_Esther\\venv\\Lib\\site-packages\\sklearn\\neural_network\\_multilayer_perceptron.py:690: ConvergenceWarning: Stochastic Optimizer: Maximum iterations (200) reached and the optimization hasn't converged yet.\n",
      "  warnings.warn(\n",
      "c:\\Users\\Administrator\\Desktop\\Proyecto_ML Refuerzo\\ML_Refuerzo_Esther\\venv\\Lib\\site-packages\\sklearn\\neural_network\\_multilayer_perceptron.py:690: ConvergenceWarning: Stochastic Optimizer: Maximum iterations (200) reached and the optimization hasn't converged yet.\n",
      "  warnings.warn(\n",
      "c:\\Users\\Administrator\\Desktop\\Proyecto_ML Refuerzo\\ML_Refuerzo_Esther\\venv\\Lib\\site-packages\\sklearn\\neural_network\\_multilayer_perceptron.py:690: ConvergenceWarning: Stochastic Optimizer: Maximum iterations (200) reached and the optimization hasn't converged yet.\n",
      "  warnings.warn(\n",
      "c:\\Users\\Administrator\\Desktop\\Proyecto_ML Refuerzo\\ML_Refuerzo_Esther\\venv\\Lib\\site-packages\\sklearn\\neural_network\\_multilayer_perceptron.py:690: ConvergenceWarning: Stochastic Optimizer: Maximum iterations (200) reached and the optimization hasn't converged yet.\n",
      "  warnings.warn(\n",
      "[I 2024-12-09 16:44:18,426] Trial 85 finished with value: 0.3949999999999999 and parameters: {'n_units_l1': 144, 'n_units_l2': 43, 'alpha': 0.024089690584529703, 'learning_rate_init': 0.00011946944701531068}. Best is trial 37 with value: 0.42374999999999996.\n",
      "C:\\Users\\Administrator\\AppData\\Local\\Temp\\ipykernel_14812\\1653340466.py:15: FutureWarning: suggest_loguniform has been deprecated in v3.0.0. This feature will be removed in v6.0.0. See https://github.com/optuna/optuna/releases/tag/v3.0.0. Use suggest_float(..., log=True) instead.\n",
      "  'alpha': lambda trial: trial.suggest_loguniform('alpha', 1e-5, 1e-1),\n",
      "C:\\Users\\Administrator\\AppData\\Local\\Temp\\ipykernel_14812\\1653340466.py:16: FutureWarning: suggest_loguniform has been deprecated in v3.0.0. This feature will be removed in v6.0.0. See https://github.com/optuna/optuna/releases/tag/v3.0.0. Use suggest_float(..., log=True) instead.\n",
      "  'learning_rate_init': lambda trial: trial.suggest_loguniform('learning_rate_init', 1e-4, 1e-1)\n"
     ]
    },
    {
     "name": "stdout",
     "output_type": "stream",
     "text": [
      "Optimized parameters: {'hidden_layer_sizes': (92, 34), 'alpha': 0.05501029833121363, 'learning_rate_init': 0.00017391834376821453}\n"
     ]
    },
    {
     "name": "stderr",
     "output_type": "stream",
     "text": [
      "c:\\Users\\Administrator\\Desktop\\Proyecto_ML Refuerzo\\ML_Refuerzo_Esther\\venv\\Lib\\site-packages\\sklearn\\neural_network\\_multilayer_perceptron.py:690: ConvergenceWarning: Stochastic Optimizer: Maximum iterations (200) reached and the optimization hasn't converged yet.\n",
      "  warnings.warn(\n",
      "c:\\Users\\Administrator\\Desktop\\Proyecto_ML Refuerzo\\ML_Refuerzo_Esther\\venv\\Lib\\site-packages\\sklearn\\neural_network\\_multilayer_perceptron.py:690: ConvergenceWarning: Stochastic Optimizer: Maximum iterations (200) reached and the optimization hasn't converged yet.\n",
      "  warnings.warn(\n",
      "c:\\Users\\Administrator\\Desktop\\Proyecto_ML Refuerzo\\ML_Refuerzo_Esther\\venv\\Lib\\site-packages\\sklearn\\neural_network\\_multilayer_perceptron.py:690: ConvergenceWarning: Stochastic Optimizer: Maximum iterations (200) reached and the optimization hasn't converged yet.\n",
      "  warnings.warn(\n",
      "c:\\Users\\Administrator\\Desktop\\Proyecto_ML Refuerzo\\ML_Refuerzo_Esther\\venv\\Lib\\site-packages\\sklearn\\neural_network\\_multilayer_perceptron.py:690: ConvergenceWarning: Stochastic Optimizer: Maximum iterations (200) reached and the optimization hasn't converged yet.\n",
      "  warnings.warn(\n",
      "c:\\Users\\Administrator\\Desktop\\Proyecto_ML Refuerzo\\ML_Refuerzo_Esther\\venv\\Lib\\site-packages\\sklearn\\neural_network\\_multilayer_perceptron.py:690: ConvergenceWarning: Stochastic Optimizer: Maximum iterations (200) reached and the optimization hasn't converged yet.\n",
      "  warnings.warn(\n",
      "[I 2024-12-09 16:44:22,337] Trial 86 finished with value: 0.38125000000000003 and parameters: {'n_units_l1': 92, 'n_units_l2': 34, 'alpha': 0.05501029833121363, 'learning_rate_init': 0.00017391834376821453}. Best is trial 37 with value: 0.42374999999999996.\n",
      "C:\\Users\\Administrator\\AppData\\Local\\Temp\\ipykernel_14812\\1653340466.py:15: FutureWarning: suggest_loguniform has been deprecated in v3.0.0. This feature will be removed in v6.0.0. See https://github.com/optuna/optuna/releases/tag/v3.0.0. Use suggest_float(..., log=True) instead.\n",
      "  'alpha': lambda trial: trial.suggest_loguniform('alpha', 1e-5, 1e-1),\n",
      "C:\\Users\\Administrator\\AppData\\Local\\Temp\\ipykernel_14812\\1653340466.py:16: FutureWarning: suggest_loguniform has been deprecated in v3.0.0. This feature will be removed in v6.0.0. See https://github.com/optuna/optuna/releases/tag/v3.0.0. Use suggest_float(..., log=True) instead.\n",
      "  'learning_rate_init': lambda trial: trial.suggest_loguniform('learning_rate_init', 1e-4, 1e-1)\n"
     ]
    },
    {
     "name": "stdout",
     "output_type": "stream",
     "text": [
      "Optimized parameters: {'hidden_layer_sizes': (108, 38), 'alpha': 0.03445518661742184, 'learning_rate_init': 0.0002378665771143454}\n"
     ]
    },
    {
     "name": "stderr",
     "output_type": "stream",
     "text": [
      "c:\\Users\\Administrator\\Desktop\\Proyecto_ML Refuerzo\\ML_Refuerzo_Esther\\venv\\Lib\\site-packages\\sklearn\\neural_network\\_multilayer_perceptron.py:690: ConvergenceWarning: Stochastic Optimizer: Maximum iterations (200) reached and the optimization hasn't converged yet.\n",
      "  warnings.warn(\n",
      "c:\\Users\\Administrator\\Desktop\\Proyecto_ML Refuerzo\\ML_Refuerzo_Esther\\venv\\Lib\\site-packages\\sklearn\\neural_network\\_multilayer_perceptron.py:690: ConvergenceWarning: Stochastic Optimizer: Maximum iterations (200) reached and the optimization hasn't converged yet.\n",
      "  warnings.warn(\n",
      "c:\\Users\\Administrator\\Desktop\\Proyecto_ML Refuerzo\\ML_Refuerzo_Esther\\venv\\Lib\\site-packages\\sklearn\\neural_network\\_multilayer_perceptron.py:690: ConvergenceWarning: Stochastic Optimizer: Maximum iterations (200) reached and the optimization hasn't converged yet.\n",
      "  warnings.warn(\n",
      "c:\\Users\\Administrator\\Desktop\\Proyecto_ML Refuerzo\\ML_Refuerzo_Esther\\venv\\Lib\\site-packages\\sklearn\\neural_network\\_multilayer_perceptron.py:690: ConvergenceWarning: Stochastic Optimizer: Maximum iterations (200) reached and the optimization hasn't converged yet.\n",
      "  warnings.warn(\n",
      "c:\\Users\\Administrator\\Desktop\\Proyecto_ML Refuerzo\\ML_Refuerzo_Esther\\venv\\Lib\\site-packages\\sklearn\\neural_network\\_multilayer_perceptron.py:690: ConvergenceWarning: Stochastic Optimizer: Maximum iterations (200) reached and the optimization hasn't converged yet.\n",
      "  warnings.warn(\n",
      "[I 2024-12-09 16:44:26,828] Trial 87 finished with value: 0.39249999999999996 and parameters: {'n_units_l1': 108, 'n_units_l2': 38, 'alpha': 0.03445518661742184, 'learning_rate_init': 0.0002378665771143454}. Best is trial 37 with value: 0.42374999999999996.\n",
      "C:\\Users\\Administrator\\AppData\\Local\\Temp\\ipykernel_14812\\1653340466.py:15: FutureWarning: suggest_loguniform has been deprecated in v3.0.0. This feature will be removed in v6.0.0. See https://github.com/optuna/optuna/releases/tag/v3.0.0. Use suggest_float(..., log=True) instead.\n",
      "  'alpha': lambda trial: trial.suggest_loguniform('alpha', 1e-5, 1e-1),\n",
      "C:\\Users\\Administrator\\AppData\\Local\\Temp\\ipykernel_14812\\1653340466.py:16: FutureWarning: suggest_loguniform has been deprecated in v3.0.0. This feature will be removed in v6.0.0. See https://github.com/optuna/optuna/releases/tag/v3.0.0. Use suggest_float(..., log=True) instead.\n",
      "  'learning_rate_init': lambda trial: trial.suggest_loguniform('learning_rate_init', 1e-4, 1e-1)\n"
     ]
    },
    {
     "name": "stdout",
     "output_type": "stream",
     "text": [
      "Optimized parameters: {'hidden_layer_sizes': (160, 29), 'alpha': 0.0020091419953481298, 'learning_rate_init': 0.00030541112408304593}\n"
     ]
    },
    {
     "name": "stderr",
     "output_type": "stream",
     "text": [
      "c:\\Users\\Administrator\\Desktop\\Proyecto_ML Refuerzo\\ML_Refuerzo_Esther\\venv\\Lib\\site-packages\\sklearn\\neural_network\\_multilayer_perceptron.py:690: ConvergenceWarning: Stochastic Optimizer: Maximum iterations (200) reached and the optimization hasn't converged yet.\n",
      "  warnings.warn(\n",
      "c:\\Users\\Administrator\\Desktop\\Proyecto_ML Refuerzo\\ML_Refuerzo_Esther\\venv\\Lib\\site-packages\\sklearn\\neural_network\\_multilayer_perceptron.py:690: ConvergenceWarning: Stochastic Optimizer: Maximum iterations (200) reached and the optimization hasn't converged yet.\n",
      "  warnings.warn(\n",
      "c:\\Users\\Administrator\\Desktop\\Proyecto_ML Refuerzo\\ML_Refuerzo_Esther\\venv\\Lib\\site-packages\\sklearn\\neural_network\\_multilayer_perceptron.py:690: ConvergenceWarning: Stochastic Optimizer: Maximum iterations (200) reached and the optimization hasn't converged yet.\n",
      "  warnings.warn(\n",
      "c:\\Users\\Administrator\\Desktop\\Proyecto_ML Refuerzo\\ML_Refuerzo_Esther\\venv\\Lib\\site-packages\\sklearn\\neural_network\\_multilayer_perceptron.py:690: ConvergenceWarning: Stochastic Optimizer: Maximum iterations (200) reached and the optimization hasn't converged yet.\n",
      "  warnings.warn(\n",
      "c:\\Users\\Administrator\\Desktop\\Proyecto_ML Refuerzo\\ML_Refuerzo_Esther\\venv\\Lib\\site-packages\\sklearn\\neural_network\\_multilayer_perceptron.py:690: ConvergenceWarning: Stochastic Optimizer: Maximum iterations (200) reached and the optimization hasn't converged yet.\n",
      "  warnings.warn(\n",
      "[I 2024-12-09 16:44:31,817] Trial 88 finished with value: 0.38375000000000004 and parameters: {'n_units_l1': 160, 'n_units_l2': 29, 'alpha': 0.0020091419953481298, 'learning_rate_init': 0.00030541112408304593}. Best is trial 37 with value: 0.42374999999999996.\n",
      "C:\\Users\\Administrator\\AppData\\Local\\Temp\\ipykernel_14812\\1653340466.py:15: FutureWarning: suggest_loguniform has been deprecated in v3.0.0. This feature will be removed in v6.0.0. See https://github.com/optuna/optuna/releases/tag/v3.0.0. Use suggest_float(..., log=True) instead.\n",
      "  'alpha': lambda trial: trial.suggest_loguniform('alpha', 1e-5, 1e-1),\n",
      "C:\\Users\\Administrator\\AppData\\Local\\Temp\\ipykernel_14812\\1653340466.py:16: FutureWarning: suggest_loguniform has been deprecated in v3.0.0. This feature will be removed in v6.0.0. See https://github.com/optuna/optuna/releases/tag/v3.0.0. Use suggest_float(..., log=True) instead.\n",
      "  'learning_rate_init': lambda trial: trial.suggest_loguniform('learning_rate_init', 1e-4, 1e-1)\n"
     ]
    },
    {
     "name": "stdout",
     "output_type": "stream",
     "text": [
      "Optimized parameters: {'hidden_layer_sizes': (114, 45), 'alpha': 0.01912738813857842, 'learning_rate_init': 0.00013681183902867095}\n"
     ]
    },
    {
     "name": "stderr",
     "output_type": "stream",
     "text": [
      "c:\\Users\\Administrator\\Desktop\\Proyecto_ML Refuerzo\\ML_Refuerzo_Esther\\venv\\Lib\\site-packages\\sklearn\\neural_network\\_multilayer_perceptron.py:690: ConvergenceWarning: Stochastic Optimizer: Maximum iterations (200) reached and the optimization hasn't converged yet.\n",
      "  warnings.warn(\n",
      "c:\\Users\\Administrator\\Desktop\\Proyecto_ML Refuerzo\\ML_Refuerzo_Esther\\venv\\Lib\\site-packages\\sklearn\\neural_network\\_multilayer_perceptron.py:690: ConvergenceWarning: Stochastic Optimizer: Maximum iterations (200) reached and the optimization hasn't converged yet.\n",
      "  warnings.warn(\n",
      "c:\\Users\\Administrator\\Desktop\\Proyecto_ML Refuerzo\\ML_Refuerzo_Esther\\venv\\Lib\\site-packages\\sklearn\\neural_network\\_multilayer_perceptron.py:690: ConvergenceWarning: Stochastic Optimizer: Maximum iterations (200) reached and the optimization hasn't converged yet.\n",
      "  warnings.warn(\n",
      "c:\\Users\\Administrator\\Desktop\\Proyecto_ML Refuerzo\\ML_Refuerzo_Esther\\venv\\Lib\\site-packages\\sklearn\\neural_network\\_multilayer_perceptron.py:690: ConvergenceWarning: Stochastic Optimizer: Maximum iterations (200) reached and the optimization hasn't converged yet.\n",
      "  warnings.warn(\n",
      "c:\\Users\\Administrator\\Desktop\\Proyecto_ML Refuerzo\\ML_Refuerzo_Esther\\venv\\Lib\\site-packages\\sklearn\\neural_network\\_multilayer_perceptron.py:690: ConvergenceWarning: Stochastic Optimizer: Maximum iterations (200) reached and the optimization hasn't converged yet.\n",
      "  warnings.warn(\n",
      "[I 2024-12-09 16:44:36,591] Trial 89 finished with value: 0.4074999999999999 and parameters: {'n_units_l1': 114, 'n_units_l2': 45, 'alpha': 0.01912738813857842, 'learning_rate_init': 0.00013681183902867095}. Best is trial 37 with value: 0.42374999999999996.\n",
      "C:\\Users\\Administrator\\AppData\\Local\\Temp\\ipykernel_14812\\1653340466.py:15: FutureWarning: suggest_loguniform has been deprecated in v3.0.0. This feature will be removed in v6.0.0. See https://github.com/optuna/optuna/releases/tag/v3.0.0. Use suggest_float(..., log=True) instead.\n",
      "  'alpha': lambda trial: trial.suggest_loguniform('alpha', 1e-5, 1e-1),\n",
      "C:\\Users\\Administrator\\AppData\\Local\\Temp\\ipykernel_14812\\1653340466.py:16: FutureWarning: suggest_loguniform has been deprecated in v3.0.0. This feature will be removed in v6.0.0. See https://github.com/optuna/optuna/releases/tag/v3.0.0. Use suggest_float(..., log=True) instead.\n",
      "  'learning_rate_init': lambda trial: trial.suggest_loguniform('learning_rate_init', 1e-4, 1e-1)\n"
     ]
    },
    {
     "name": "stdout",
     "output_type": "stream",
     "text": [
      "Optimized parameters: {'hidden_layer_sizes': (140, 42), 'alpha': 0.00956593665603401, 'learning_rate_init': 0.00014723306615734843}\n"
     ]
    },
    {
     "name": "stderr",
     "output_type": "stream",
     "text": [
      "c:\\Users\\Administrator\\Desktop\\Proyecto_ML Refuerzo\\ML_Refuerzo_Esther\\venv\\Lib\\site-packages\\sklearn\\neural_network\\_multilayer_perceptron.py:690: ConvergenceWarning: Stochastic Optimizer: Maximum iterations (200) reached and the optimization hasn't converged yet.\n",
      "  warnings.warn(\n",
      "c:\\Users\\Administrator\\Desktop\\Proyecto_ML Refuerzo\\ML_Refuerzo_Esther\\venv\\Lib\\site-packages\\sklearn\\neural_network\\_multilayer_perceptron.py:690: ConvergenceWarning: Stochastic Optimizer: Maximum iterations (200) reached and the optimization hasn't converged yet.\n",
      "  warnings.warn(\n",
      "c:\\Users\\Administrator\\Desktop\\Proyecto_ML Refuerzo\\ML_Refuerzo_Esther\\venv\\Lib\\site-packages\\sklearn\\neural_network\\_multilayer_perceptron.py:690: ConvergenceWarning: Stochastic Optimizer: Maximum iterations (200) reached and the optimization hasn't converged yet.\n",
      "  warnings.warn(\n",
      "c:\\Users\\Administrator\\Desktop\\Proyecto_ML Refuerzo\\ML_Refuerzo_Esther\\venv\\Lib\\site-packages\\sklearn\\neural_network\\_multilayer_perceptron.py:690: ConvergenceWarning: Stochastic Optimizer: Maximum iterations (200) reached and the optimization hasn't converged yet.\n",
      "  warnings.warn(\n",
      "c:\\Users\\Administrator\\Desktop\\Proyecto_ML Refuerzo\\ML_Refuerzo_Esther\\venv\\Lib\\site-packages\\sklearn\\neural_network\\_multilayer_perceptron.py:690: ConvergenceWarning: Stochastic Optimizer: Maximum iterations (200) reached and the optimization hasn't converged yet.\n",
      "  warnings.warn(\n",
      "[I 2024-12-09 16:44:42,129] Trial 90 finished with value: 0.4125 and parameters: {'n_units_l1': 140, 'n_units_l2': 42, 'alpha': 0.00956593665603401, 'learning_rate_init': 0.00014723306615734843}. Best is trial 37 with value: 0.42374999999999996.\n",
      "C:\\Users\\Administrator\\AppData\\Local\\Temp\\ipykernel_14812\\1653340466.py:15: FutureWarning: suggest_loguniform has been deprecated in v3.0.0. This feature will be removed in v6.0.0. See https://github.com/optuna/optuna/releases/tag/v3.0.0. Use suggest_float(..., log=True) instead.\n",
      "  'alpha': lambda trial: trial.suggest_loguniform('alpha', 1e-5, 1e-1),\n",
      "C:\\Users\\Administrator\\AppData\\Local\\Temp\\ipykernel_14812\\1653340466.py:16: FutureWarning: suggest_loguniform has been deprecated in v3.0.0. This feature will be removed in v6.0.0. See https://github.com/optuna/optuna/releases/tag/v3.0.0. Use suggest_float(..., log=True) instead.\n",
      "  'learning_rate_init': lambda trial: trial.suggest_loguniform('learning_rate_init', 1e-4, 1e-1)\n"
     ]
    },
    {
     "name": "stdout",
     "output_type": "stream",
     "text": [
      "Optimized parameters: {'hidden_layer_sizes': (139, 47), 'alpha': 0.010071865807282598, 'learning_rate_init': 0.00014034533502676398}\n"
     ]
    },
    {
     "name": "stderr",
     "output_type": "stream",
     "text": [
      "c:\\Users\\Administrator\\Desktop\\Proyecto_ML Refuerzo\\ML_Refuerzo_Esther\\venv\\Lib\\site-packages\\sklearn\\neural_network\\_multilayer_perceptron.py:690: ConvergenceWarning: Stochastic Optimizer: Maximum iterations (200) reached and the optimization hasn't converged yet.\n",
      "  warnings.warn(\n",
      "c:\\Users\\Administrator\\Desktop\\Proyecto_ML Refuerzo\\ML_Refuerzo_Esther\\venv\\Lib\\site-packages\\sklearn\\neural_network\\_multilayer_perceptron.py:690: ConvergenceWarning: Stochastic Optimizer: Maximum iterations (200) reached and the optimization hasn't converged yet.\n",
      "  warnings.warn(\n",
      "c:\\Users\\Administrator\\Desktop\\Proyecto_ML Refuerzo\\ML_Refuerzo_Esther\\venv\\Lib\\site-packages\\sklearn\\neural_network\\_multilayer_perceptron.py:690: ConvergenceWarning: Stochastic Optimizer: Maximum iterations (200) reached and the optimization hasn't converged yet.\n",
      "  warnings.warn(\n",
      "c:\\Users\\Administrator\\Desktop\\Proyecto_ML Refuerzo\\ML_Refuerzo_Esther\\venv\\Lib\\site-packages\\sklearn\\neural_network\\_multilayer_perceptron.py:690: ConvergenceWarning: Stochastic Optimizer: Maximum iterations (200) reached and the optimization hasn't converged yet.\n",
      "  warnings.warn(\n",
      "c:\\Users\\Administrator\\Desktop\\Proyecto_ML Refuerzo\\ML_Refuerzo_Esther\\venv\\Lib\\site-packages\\sklearn\\neural_network\\_multilayer_perceptron.py:690: ConvergenceWarning: Stochastic Optimizer: Maximum iterations (200) reached and the optimization hasn't converged yet.\n",
      "  warnings.warn(\n",
      "[I 2024-12-09 16:44:47,788] Trial 91 finished with value: 0.4 and parameters: {'n_units_l1': 139, 'n_units_l2': 47, 'alpha': 0.010071865807282598, 'learning_rate_init': 0.00014034533502676398}. Best is trial 37 with value: 0.42374999999999996.\n",
      "C:\\Users\\Administrator\\AppData\\Local\\Temp\\ipykernel_14812\\1653340466.py:15: FutureWarning: suggest_loguniform has been deprecated in v3.0.0. This feature will be removed in v6.0.0. See https://github.com/optuna/optuna/releases/tag/v3.0.0. Use suggest_float(..., log=True) instead.\n",
      "  'alpha': lambda trial: trial.suggest_loguniform('alpha', 1e-5, 1e-1),\n",
      "C:\\Users\\Administrator\\AppData\\Local\\Temp\\ipykernel_14812\\1653340466.py:16: FutureWarning: suggest_loguniform has been deprecated in v3.0.0. This feature will be removed in v6.0.0. See https://github.com/optuna/optuna/releases/tag/v3.0.0. Use suggest_float(..., log=True) instead.\n",
      "  'learning_rate_init': lambda trial: trial.suggest_loguniform('learning_rate_init', 1e-4, 1e-1)\n"
     ]
    },
    {
     "name": "stdout",
     "output_type": "stream",
     "text": [
      "Optimized parameters: {'hidden_layer_sizes': (146, 45), 'alpha': 0.008690825182379418, 'learning_rate_init': 0.0002069001960640045}\n"
     ]
    },
    {
     "name": "stderr",
     "output_type": "stream",
     "text": [
      "c:\\Users\\Administrator\\Desktop\\Proyecto_ML Refuerzo\\ML_Refuerzo_Esther\\venv\\Lib\\site-packages\\sklearn\\neural_network\\_multilayer_perceptron.py:690: ConvergenceWarning: Stochastic Optimizer: Maximum iterations (200) reached and the optimization hasn't converged yet.\n",
      "  warnings.warn(\n",
      "c:\\Users\\Administrator\\Desktop\\Proyecto_ML Refuerzo\\ML_Refuerzo_Esther\\venv\\Lib\\site-packages\\sklearn\\neural_network\\_multilayer_perceptron.py:690: ConvergenceWarning: Stochastic Optimizer: Maximum iterations (200) reached and the optimization hasn't converged yet.\n",
      "  warnings.warn(\n",
      "c:\\Users\\Administrator\\Desktop\\Proyecto_ML Refuerzo\\ML_Refuerzo_Esther\\venv\\Lib\\site-packages\\sklearn\\neural_network\\_multilayer_perceptron.py:690: ConvergenceWarning: Stochastic Optimizer: Maximum iterations (200) reached and the optimization hasn't converged yet.\n",
      "  warnings.warn(\n",
      "c:\\Users\\Administrator\\Desktop\\Proyecto_ML Refuerzo\\ML_Refuerzo_Esther\\venv\\Lib\\site-packages\\sklearn\\neural_network\\_multilayer_perceptron.py:690: ConvergenceWarning: Stochastic Optimizer: Maximum iterations (200) reached and the optimization hasn't converged yet.\n",
      "  warnings.warn(\n",
      "c:\\Users\\Administrator\\Desktop\\Proyecto_ML Refuerzo\\ML_Refuerzo_Esther\\venv\\Lib\\site-packages\\sklearn\\neural_network\\_multilayer_perceptron.py:690: ConvergenceWarning: Stochastic Optimizer: Maximum iterations (200) reached and the optimization hasn't converged yet.\n",
      "  warnings.warn(\n",
      "[I 2024-12-09 16:44:53,641] Trial 92 finished with value: 0.39125000000000004 and parameters: {'n_units_l1': 146, 'n_units_l2': 45, 'alpha': 0.008690825182379418, 'learning_rate_init': 0.0002069001960640045}. Best is trial 37 with value: 0.42374999999999996.\n",
      "C:\\Users\\Administrator\\AppData\\Local\\Temp\\ipykernel_14812\\1653340466.py:15: FutureWarning: suggest_loguniform has been deprecated in v3.0.0. This feature will be removed in v6.0.0. See https://github.com/optuna/optuna/releases/tag/v3.0.0. Use suggest_float(..., log=True) instead.\n",
      "  'alpha': lambda trial: trial.suggest_loguniform('alpha', 1e-5, 1e-1),\n",
      "C:\\Users\\Administrator\\AppData\\Local\\Temp\\ipykernel_14812\\1653340466.py:16: FutureWarning: suggest_loguniform has been deprecated in v3.0.0. This feature will be removed in v6.0.0. See https://github.com/optuna/optuna/releases/tag/v3.0.0. Use suggest_float(..., log=True) instead.\n",
      "  'learning_rate_init': lambda trial: trial.suggest_loguniform('learning_rate_init', 1e-4, 1e-1)\n"
     ]
    },
    {
     "name": "stdout",
     "output_type": "stream",
     "text": [
      "Optimized parameters: {'hidden_layer_sizes': (130, 42), 'alpha': 0.006872743263327156, 'learning_rate_init': 0.00016102228461172978}\n"
     ]
    },
    {
     "name": "stderr",
     "output_type": "stream",
     "text": [
      "c:\\Users\\Administrator\\Desktop\\Proyecto_ML Refuerzo\\ML_Refuerzo_Esther\\venv\\Lib\\site-packages\\sklearn\\neural_network\\_multilayer_perceptron.py:690: ConvergenceWarning: Stochastic Optimizer: Maximum iterations (200) reached and the optimization hasn't converged yet.\n",
      "  warnings.warn(\n",
      "c:\\Users\\Administrator\\Desktop\\Proyecto_ML Refuerzo\\ML_Refuerzo_Esther\\venv\\Lib\\site-packages\\sklearn\\neural_network\\_multilayer_perceptron.py:690: ConvergenceWarning: Stochastic Optimizer: Maximum iterations (200) reached and the optimization hasn't converged yet.\n",
      "  warnings.warn(\n",
      "c:\\Users\\Administrator\\Desktop\\Proyecto_ML Refuerzo\\ML_Refuerzo_Esther\\venv\\Lib\\site-packages\\sklearn\\neural_network\\_multilayer_perceptron.py:690: ConvergenceWarning: Stochastic Optimizer: Maximum iterations (200) reached and the optimization hasn't converged yet.\n",
      "  warnings.warn(\n",
      "c:\\Users\\Administrator\\Desktop\\Proyecto_ML Refuerzo\\ML_Refuerzo_Esther\\venv\\Lib\\site-packages\\sklearn\\neural_network\\_multilayer_perceptron.py:690: ConvergenceWarning: Stochastic Optimizer: Maximum iterations (200) reached and the optimization hasn't converged yet.\n",
      "  warnings.warn(\n",
      "c:\\Users\\Administrator\\Desktop\\Proyecto_ML Refuerzo\\ML_Refuerzo_Esther\\venv\\Lib\\site-packages\\sklearn\\neural_network\\_multilayer_perceptron.py:690: ConvergenceWarning: Stochastic Optimizer: Maximum iterations (200) reached and the optimization hasn't converged yet.\n",
      "  warnings.warn(\n",
      "[I 2024-12-09 16:44:59,048] Trial 93 finished with value: 0.4 and parameters: {'n_units_l1': 130, 'n_units_l2': 42, 'alpha': 0.006872743263327156, 'learning_rate_init': 0.00016102228461172978}. Best is trial 37 with value: 0.42374999999999996.\n",
      "C:\\Users\\Administrator\\AppData\\Local\\Temp\\ipykernel_14812\\1653340466.py:15: FutureWarning: suggest_loguniform has been deprecated in v3.0.0. This feature will be removed in v6.0.0. See https://github.com/optuna/optuna/releases/tag/v3.0.0. Use suggest_float(..., log=True) instead.\n",
      "  'alpha': lambda trial: trial.suggest_loguniform('alpha', 1e-5, 1e-1),\n",
      "C:\\Users\\Administrator\\AppData\\Local\\Temp\\ipykernel_14812\\1653340466.py:16: FutureWarning: suggest_loguniform has been deprecated in v3.0.0. This feature will be removed in v6.0.0. See https://github.com/optuna/optuna/releases/tag/v3.0.0. Use suggest_float(..., log=True) instead.\n",
      "  'learning_rate_init': lambda trial: trial.suggest_loguniform('learning_rate_init', 1e-4, 1e-1)\n"
     ]
    },
    {
     "name": "stdout",
     "output_type": "stream",
     "text": [
      "Optimized parameters: {'hidden_layer_sizes': (116, 32), 'alpha': 0.01823127328293521, 'learning_rate_init': 0.00024063232508473833}\n"
     ]
    },
    {
     "name": "stderr",
     "output_type": "stream",
     "text": [
      "c:\\Users\\Administrator\\Desktop\\Proyecto_ML Refuerzo\\ML_Refuerzo_Esther\\venv\\Lib\\site-packages\\sklearn\\neural_network\\_multilayer_perceptron.py:690: ConvergenceWarning: Stochastic Optimizer: Maximum iterations (200) reached and the optimization hasn't converged yet.\n",
      "  warnings.warn(\n",
      "c:\\Users\\Administrator\\Desktop\\Proyecto_ML Refuerzo\\ML_Refuerzo_Esther\\venv\\Lib\\site-packages\\sklearn\\neural_network\\_multilayer_perceptron.py:690: ConvergenceWarning: Stochastic Optimizer: Maximum iterations (200) reached and the optimization hasn't converged yet.\n",
      "  warnings.warn(\n",
      "c:\\Users\\Administrator\\Desktop\\Proyecto_ML Refuerzo\\ML_Refuerzo_Esther\\venv\\Lib\\site-packages\\sklearn\\neural_network\\_multilayer_perceptron.py:690: ConvergenceWarning: Stochastic Optimizer: Maximum iterations (200) reached and the optimization hasn't converged yet.\n",
      "  warnings.warn(\n",
      "c:\\Users\\Administrator\\Desktop\\Proyecto_ML Refuerzo\\ML_Refuerzo_Esther\\venv\\Lib\\site-packages\\sklearn\\neural_network\\_multilayer_perceptron.py:690: ConvergenceWarning: Stochastic Optimizer: Maximum iterations (200) reached and the optimization hasn't converged yet.\n",
      "  warnings.warn(\n",
      "c:\\Users\\Administrator\\Desktop\\Proyecto_ML Refuerzo\\ML_Refuerzo_Esther\\venv\\Lib\\site-packages\\sklearn\\neural_network\\_multilayer_perceptron.py:690: ConvergenceWarning: Stochastic Optimizer: Maximum iterations (200) reached and the optimization hasn't converged yet.\n",
      "  warnings.warn(\n",
      "[I 2024-12-09 16:45:03,157] Trial 94 finished with value: 0.41625000000000006 and parameters: {'n_units_l1': 116, 'n_units_l2': 32, 'alpha': 0.01823127328293521, 'learning_rate_init': 0.00024063232508473833}. Best is trial 37 with value: 0.42374999999999996.\n",
      "C:\\Users\\Administrator\\AppData\\Local\\Temp\\ipykernel_14812\\1653340466.py:15: FutureWarning: suggest_loguniform has been deprecated in v3.0.0. This feature will be removed in v6.0.0. See https://github.com/optuna/optuna/releases/tag/v3.0.0. Use suggest_float(..., log=True) instead.\n",
      "  'alpha': lambda trial: trial.suggest_loguniform('alpha', 1e-5, 1e-1),\n",
      "C:\\Users\\Administrator\\AppData\\Local\\Temp\\ipykernel_14812\\1653340466.py:16: FutureWarning: suggest_loguniform has been deprecated in v3.0.0. This feature will be removed in v6.0.0. See https://github.com/optuna/optuna/releases/tag/v3.0.0. Use suggest_float(..., log=True) instead.\n",
      "  'learning_rate_init': lambda trial: trial.suggest_loguniform('learning_rate_init', 1e-4, 1e-1)\n"
     ]
    },
    {
     "name": "stdout",
     "output_type": "stream",
     "text": [
      "Optimized parameters: {'hidden_layer_sizes': (121, 33), 'alpha': 0.014406865324498272, 'learning_rate_init': 0.0004000334950660651}\n"
     ]
    },
    {
     "name": "stderr",
     "output_type": "stream",
     "text": [
      "c:\\Users\\Administrator\\Desktop\\Proyecto_ML Refuerzo\\ML_Refuerzo_Esther\\venv\\Lib\\site-packages\\sklearn\\neural_network\\_multilayer_perceptron.py:690: ConvergenceWarning: Stochastic Optimizer: Maximum iterations (200) reached and the optimization hasn't converged yet.\n",
      "  warnings.warn(\n",
      "c:\\Users\\Administrator\\Desktop\\Proyecto_ML Refuerzo\\ML_Refuerzo_Esther\\venv\\Lib\\site-packages\\sklearn\\neural_network\\_multilayer_perceptron.py:690: ConvergenceWarning: Stochastic Optimizer: Maximum iterations (200) reached and the optimization hasn't converged yet.\n",
      "  warnings.warn(\n",
      "c:\\Users\\Administrator\\Desktop\\Proyecto_ML Refuerzo\\ML_Refuerzo_Esther\\venv\\Lib\\site-packages\\sklearn\\neural_network\\_multilayer_perceptron.py:690: ConvergenceWarning: Stochastic Optimizer: Maximum iterations (200) reached and the optimization hasn't converged yet.\n",
      "  warnings.warn(\n",
      "c:\\Users\\Administrator\\Desktop\\Proyecto_ML Refuerzo\\ML_Refuerzo_Esther\\venv\\Lib\\site-packages\\sklearn\\neural_network\\_multilayer_perceptron.py:690: ConvergenceWarning: Stochastic Optimizer: Maximum iterations (200) reached and the optimization hasn't converged yet.\n",
      "  warnings.warn(\n",
      "c:\\Users\\Administrator\\Desktop\\Proyecto_ML Refuerzo\\ML_Refuerzo_Esther\\venv\\Lib\\site-packages\\sklearn\\neural_network\\_multilayer_perceptron.py:690: ConvergenceWarning: Stochastic Optimizer: Maximum iterations (200) reached and the optimization hasn't converged yet.\n",
      "  warnings.warn(\n",
      "[I 2024-12-09 16:45:07,759] Trial 95 finished with value: 0.375 and parameters: {'n_units_l1': 121, 'n_units_l2': 33, 'alpha': 0.014406865324498272, 'learning_rate_init': 0.0004000334950660651}. Best is trial 37 with value: 0.42374999999999996.\n",
      "C:\\Users\\Administrator\\AppData\\Local\\Temp\\ipykernel_14812\\1653340466.py:15: FutureWarning: suggest_loguniform has been deprecated in v3.0.0. This feature will be removed in v6.0.0. See https://github.com/optuna/optuna/releases/tag/v3.0.0. Use suggest_float(..., log=True) instead.\n",
      "  'alpha': lambda trial: trial.suggest_loguniform('alpha', 1e-5, 1e-1),\n",
      "C:\\Users\\Administrator\\AppData\\Local\\Temp\\ipykernel_14812\\1653340466.py:16: FutureWarning: suggest_loguniform has been deprecated in v3.0.0. This feature will be removed in v6.0.0. See https://github.com/optuna/optuna/releases/tag/v3.0.0. Use suggest_float(..., log=True) instead.\n",
      "  'learning_rate_init': lambda trial: trial.suggest_loguniform('learning_rate_init', 1e-4, 1e-1)\n"
     ]
    },
    {
     "name": "stdout",
     "output_type": "stream",
     "text": [
      "Optimized parameters: {'hidden_layer_sizes': (140, 37), 'alpha': 0.0032364503065941412, 'learning_rate_init': 0.0002677688654951854}\n"
     ]
    },
    {
     "name": "stderr",
     "output_type": "stream",
     "text": [
      "c:\\Users\\Administrator\\Desktop\\Proyecto_ML Refuerzo\\ML_Refuerzo_Esther\\venv\\Lib\\site-packages\\sklearn\\neural_network\\_multilayer_perceptron.py:690: ConvergenceWarning: Stochastic Optimizer: Maximum iterations (200) reached and the optimization hasn't converged yet.\n",
      "  warnings.warn(\n",
      "c:\\Users\\Administrator\\Desktop\\Proyecto_ML Refuerzo\\ML_Refuerzo_Esther\\venv\\Lib\\site-packages\\sklearn\\neural_network\\_multilayer_perceptron.py:690: ConvergenceWarning: Stochastic Optimizer: Maximum iterations (200) reached and the optimization hasn't converged yet.\n",
      "  warnings.warn(\n",
      "c:\\Users\\Administrator\\Desktop\\Proyecto_ML Refuerzo\\ML_Refuerzo_Esther\\venv\\Lib\\site-packages\\sklearn\\neural_network\\_multilayer_perceptron.py:690: ConvergenceWarning: Stochastic Optimizer: Maximum iterations (200) reached and the optimization hasn't converged yet.\n",
      "  warnings.warn(\n",
      "c:\\Users\\Administrator\\Desktop\\Proyecto_ML Refuerzo\\ML_Refuerzo_Esther\\venv\\Lib\\site-packages\\sklearn\\neural_network\\_multilayer_perceptron.py:690: ConvergenceWarning: Stochastic Optimizer: Maximum iterations (200) reached and the optimization hasn't converged yet.\n",
      "  warnings.warn(\n",
      "c:\\Users\\Administrator\\Desktop\\Proyecto_ML Refuerzo\\ML_Refuerzo_Esther\\venv\\Lib\\site-packages\\sklearn\\neural_network\\_multilayer_perceptron.py:690: ConvergenceWarning: Stochastic Optimizer: Maximum iterations (200) reached and the optimization hasn't converged yet.\n",
      "  warnings.warn(\n",
      "[I 2024-12-09 16:45:12,622] Trial 96 finished with value: 0.40625 and parameters: {'n_units_l1': 140, 'n_units_l2': 37, 'alpha': 0.0032364503065941412, 'learning_rate_init': 0.0002677688654951854}. Best is trial 37 with value: 0.42374999999999996.\n",
      "C:\\Users\\Administrator\\AppData\\Local\\Temp\\ipykernel_14812\\1653340466.py:15: FutureWarning: suggest_loguniform has been deprecated in v3.0.0. This feature will be removed in v6.0.0. See https://github.com/optuna/optuna/releases/tag/v3.0.0. Use suggest_float(..., log=True) instead.\n",
      "  'alpha': lambda trial: trial.suggest_loguniform('alpha', 1e-5, 1e-1),\n",
      "C:\\Users\\Administrator\\AppData\\Local\\Temp\\ipykernel_14812\\1653340466.py:16: FutureWarning: suggest_loguniform has been deprecated in v3.0.0. This feature will be removed in v6.0.0. See https://github.com/optuna/optuna/releases/tag/v3.0.0. Use suggest_float(..., log=True) instead.\n",
      "  'learning_rate_init': lambda trial: trial.suggest_loguniform('learning_rate_init', 1e-4, 1e-1)\n"
     ]
    },
    {
     "name": "stdout",
     "output_type": "stream",
     "text": [
      "Optimized parameters: {'hidden_layer_sizes': (133, 31), 'alpha': 0.027537635657870447, 'learning_rate_init': 0.00019194056358018226}\n"
     ]
    },
    {
     "name": "stderr",
     "output_type": "stream",
     "text": [
      "c:\\Users\\Administrator\\Desktop\\Proyecto_ML Refuerzo\\ML_Refuerzo_Esther\\venv\\Lib\\site-packages\\sklearn\\neural_network\\_multilayer_perceptron.py:690: ConvergenceWarning: Stochastic Optimizer: Maximum iterations (200) reached and the optimization hasn't converged yet.\n",
      "  warnings.warn(\n",
      "c:\\Users\\Administrator\\Desktop\\Proyecto_ML Refuerzo\\ML_Refuerzo_Esther\\venv\\Lib\\site-packages\\sklearn\\neural_network\\_multilayer_perceptron.py:690: ConvergenceWarning: Stochastic Optimizer: Maximum iterations (200) reached and the optimization hasn't converged yet.\n",
      "  warnings.warn(\n",
      "c:\\Users\\Administrator\\Desktop\\Proyecto_ML Refuerzo\\ML_Refuerzo_Esther\\venv\\Lib\\site-packages\\sklearn\\neural_network\\_multilayer_perceptron.py:690: ConvergenceWarning: Stochastic Optimizer: Maximum iterations (200) reached and the optimization hasn't converged yet.\n",
      "  warnings.warn(\n",
      "c:\\Users\\Administrator\\Desktop\\Proyecto_ML Refuerzo\\ML_Refuerzo_Esther\\venv\\Lib\\site-packages\\sklearn\\neural_network\\_multilayer_perceptron.py:690: ConvergenceWarning: Stochastic Optimizer: Maximum iterations (200) reached and the optimization hasn't converged yet.\n",
      "  warnings.warn(\n",
      "c:\\Users\\Administrator\\Desktop\\Proyecto_ML Refuerzo\\ML_Refuerzo_Esther\\venv\\Lib\\site-packages\\sklearn\\neural_network\\_multilayer_perceptron.py:690: ConvergenceWarning: Stochastic Optimizer: Maximum iterations (200) reached and the optimization hasn't converged yet.\n",
      "  warnings.warn(\n",
      "[I 2024-12-09 16:45:17,280] Trial 97 finished with value: 0.4 and parameters: {'n_units_l1': 133, 'n_units_l2': 31, 'alpha': 0.027537635657870447, 'learning_rate_init': 0.00019194056358018226}. Best is trial 37 with value: 0.42374999999999996.\n",
      "C:\\Users\\Administrator\\AppData\\Local\\Temp\\ipykernel_14812\\1653340466.py:15: FutureWarning: suggest_loguniform has been deprecated in v3.0.0. This feature will be removed in v6.0.0. See https://github.com/optuna/optuna/releases/tag/v3.0.0. Use suggest_float(..., log=True) instead.\n",
      "  'alpha': lambda trial: trial.suggest_loguniform('alpha', 1e-5, 1e-1),\n",
      "C:\\Users\\Administrator\\AppData\\Local\\Temp\\ipykernel_14812\\1653340466.py:16: FutureWarning: suggest_loguniform has been deprecated in v3.0.0. This feature will be removed in v6.0.0. See https://github.com/optuna/optuna/releases/tag/v3.0.0. Use suggest_float(..., log=True) instead.\n",
      "  'learning_rate_init': lambda trial: trial.suggest_loguniform('learning_rate_init', 1e-4, 1e-1)\n"
     ]
    },
    {
     "name": "stdout",
     "output_type": "stream",
     "text": [
      "Optimized parameters: {'hidden_layer_sizes': (157, 35), 'alpha': 0.01086012091759614, 'learning_rate_init': 0.00031516086386882195}\n"
     ]
    },
    {
     "name": "stderr",
     "output_type": "stream",
     "text": [
      "c:\\Users\\Administrator\\Desktop\\Proyecto_ML Refuerzo\\ML_Refuerzo_Esther\\venv\\Lib\\site-packages\\sklearn\\neural_network\\_multilayer_perceptron.py:690: ConvergenceWarning: Stochastic Optimizer: Maximum iterations (200) reached and the optimization hasn't converged yet.\n",
      "  warnings.warn(\n",
      "c:\\Users\\Administrator\\Desktop\\Proyecto_ML Refuerzo\\ML_Refuerzo_Esther\\venv\\Lib\\site-packages\\sklearn\\neural_network\\_multilayer_perceptron.py:690: ConvergenceWarning: Stochastic Optimizer: Maximum iterations (200) reached and the optimization hasn't converged yet.\n",
      "  warnings.warn(\n",
      "c:\\Users\\Administrator\\Desktop\\Proyecto_ML Refuerzo\\ML_Refuerzo_Esther\\venv\\Lib\\site-packages\\sklearn\\neural_network\\_multilayer_perceptron.py:690: ConvergenceWarning: Stochastic Optimizer: Maximum iterations (200) reached and the optimization hasn't converged yet.\n",
      "  warnings.warn(\n",
      "c:\\Users\\Administrator\\Desktop\\Proyecto_ML Refuerzo\\ML_Refuerzo_Esther\\venv\\Lib\\site-packages\\sklearn\\neural_network\\_multilayer_perceptron.py:690: ConvergenceWarning: Stochastic Optimizer: Maximum iterations (200) reached and the optimization hasn't converged yet.\n",
      "  warnings.warn(\n",
      "c:\\Users\\Administrator\\Desktop\\Proyecto_ML Refuerzo\\ML_Refuerzo_Esther\\venv\\Lib\\site-packages\\sklearn\\neural_network\\_multilayer_perceptron.py:690: ConvergenceWarning: Stochastic Optimizer: Maximum iterations (200) reached and the optimization hasn't converged yet.\n",
      "  warnings.warn(\n",
      "[I 2024-12-09 16:45:22,982] Trial 98 finished with value: 0.39749999999999996 and parameters: {'n_units_l1': 157, 'n_units_l2': 35, 'alpha': 0.01086012091759614, 'learning_rate_init': 0.00031516086386882195}. Best is trial 37 with value: 0.42374999999999996.\n",
      "C:\\Users\\Administrator\\AppData\\Local\\Temp\\ipykernel_14812\\1653340466.py:15: FutureWarning: suggest_loguniform has been deprecated in v3.0.0. This feature will be removed in v6.0.0. See https://github.com/optuna/optuna/releases/tag/v3.0.0. Use suggest_float(..., log=True) instead.\n",
      "  'alpha': lambda trial: trial.suggest_loguniform('alpha', 1e-5, 1e-1),\n",
      "C:\\Users\\Administrator\\AppData\\Local\\Temp\\ipykernel_14812\\1653340466.py:16: FutureWarning: suggest_loguniform has been deprecated in v3.0.0. This feature will be removed in v6.0.0. See https://github.com/optuna/optuna/releases/tag/v3.0.0. Use suggest_float(..., log=True) instead.\n",
      "  'learning_rate_init': lambda trial: trial.suggest_loguniform('learning_rate_init', 1e-4, 1e-1)\n"
     ]
    },
    {
     "name": "stdout",
     "output_type": "stream",
     "text": [
      "Optimized parameters: {'hidden_layer_sizes': (118, 28), 'alpha': 0.005611330123813928, 'learning_rate_init': 0.0004658411686775387}\n"
     ]
    },
    {
     "name": "stderr",
     "output_type": "stream",
     "text": [
      "c:\\Users\\Administrator\\Desktop\\Proyecto_ML Refuerzo\\ML_Refuerzo_Esther\\venv\\Lib\\site-packages\\sklearn\\neural_network\\_multilayer_perceptron.py:690: ConvergenceWarning: Stochastic Optimizer: Maximum iterations (200) reached and the optimization hasn't converged yet.\n",
      "  warnings.warn(\n",
      "c:\\Users\\Administrator\\Desktop\\Proyecto_ML Refuerzo\\ML_Refuerzo_Esther\\venv\\Lib\\site-packages\\sklearn\\neural_network\\_multilayer_perceptron.py:690: ConvergenceWarning: Stochastic Optimizer: Maximum iterations (200) reached and the optimization hasn't converged yet.\n",
      "  warnings.warn(\n",
      "c:\\Users\\Administrator\\Desktop\\Proyecto_ML Refuerzo\\ML_Refuerzo_Esther\\venv\\Lib\\site-packages\\sklearn\\neural_network\\_multilayer_perceptron.py:690: ConvergenceWarning: Stochastic Optimizer: Maximum iterations (200) reached and the optimization hasn't converged yet.\n",
      "  warnings.warn(\n",
      "c:\\Users\\Administrator\\Desktop\\Proyecto_ML Refuerzo\\ML_Refuerzo_Esther\\venv\\Lib\\site-packages\\sklearn\\neural_network\\_multilayer_perceptron.py:690: ConvergenceWarning: Stochastic Optimizer: Maximum iterations (200) reached and the optimization hasn't converged yet.\n",
      "  warnings.warn(\n",
      "c:\\Users\\Administrator\\Desktop\\Proyecto_ML Refuerzo\\ML_Refuerzo_Esther\\venv\\Lib\\site-packages\\sklearn\\neural_network\\_multilayer_perceptron.py:690: ConvergenceWarning: Stochastic Optimizer: Maximum iterations (200) reached and the optimization hasn't converged yet.\n",
      "  warnings.warn(\n",
      "[I 2024-12-09 16:45:27,079] Trial 99 finished with value: 0.39249999999999996 and parameters: {'n_units_l1': 118, 'n_units_l2': 28, 'alpha': 0.005611330123813928, 'learning_rate_init': 0.0004658411686775387}. Best is trial 37 with value: 0.42374999999999996.\n"
     ]
    },
    {
     "name": "stdout",
     "output_type": "stream",
     "text": [
      "Best parameters found: {'n_units_l1': 92, 'n_units_l2': 39, 'alpha': 0.005343344453576201, 'learning_rate_init': 0.00014431163507430748}\n",
      "Best Parameters for MLP:  {'n_units_l1': 92, 'n_units_l2': 39, 'alpha': 0.005343344453576201, 'learning_rate_init': 0.00014431163507430748}\n"
     ]
    },
    {
     "ename": "KeyError",
     "evalue": "'hidden_layer_sizes'",
     "output_type": "error",
     "traceback": [
      "\u001b[1;31m---------------------------------------------------------------------------\u001b[0m",
      "\u001b[1;31mKeyError\u001b[0m                                  Traceback (most recent call last)",
      "Cell \u001b[1;32mIn[10], line 50\u001b[0m\n\u001b[0;32m     47\u001b[0m \u001b[38;5;28mprint\u001b[39m(\u001b[38;5;124m\"\u001b[39m\u001b[38;5;124mBest Parameters for MLP: \u001b[39m\u001b[38;5;124m\"\u001b[39m, nn_best_params)\n\u001b[0;32m     49\u001b[0m \u001b[38;5;66;03m# Construir el pipeline con los mejores parámetros\u001b[39;00m\n\u001b[1;32m---> 50\u001b[0m hidden_layer_sizes \u001b[38;5;241m=\u001b[39m \u001b[43mnn_best_params\u001b[49m\u001b[43m[\u001b[49m\u001b[38;5;124;43m'\u001b[39;49m\u001b[38;5;124;43mhidden_layer_sizes\u001b[39;49m\u001b[38;5;124;43m'\u001b[39;49m\u001b[43m]\u001b[49m\n\u001b[0;32m     51\u001b[0m \u001b[38;5;28mprint\u001b[39m(\u001b[38;5;124m\"\u001b[39m\u001b[38;5;124mHidden layer sizes:\u001b[39m\u001b[38;5;124m\"\u001b[39m, hidden_layer_sizes)\n\u001b[0;32m     53\u001b[0m \u001b[38;5;66;03m# Verificar que los parámetros están correctamente formateados como tupla\u001b[39;00m\n",
      "\u001b[1;31mKeyError\u001b[0m: 'hidden_layer_sizes'"
     ]
    }
   ],
   "source": [
    "# Red Neuronal\n",
    "'''\n",
    "from sklearn.neural_network import MLPClassifier\n",
    "from sklearn.model_selection import cross_val_score\n",
    "from sklearn.pipeline import Pipeline\n",
    "from sklearn.preprocessing import StandardScaler\n",
    "import optuna\n",
    "\n",
    "# Parametros para la red neuronal\n",
    "nn_param_space = {\n",
    "    'hidden_layer_sizes': lambda trial: (\n",
    "        trial.suggest_int('n_units_l1', 50, 200),  # Primera capa entre 50 y 200 neuronas\n",
    "        trial.suggest_int('n_units_l2', 25, 100)   # Segunda capa entre 25 y 100 neuronas\n",
    "    ),\n",
    "    'alpha': lambda trial: trial.suggest_loguniform('alpha', 1e-5, 1e-1),\n",
    "    'learning_rate_init': lambda trial: trial.suggest_loguniform('learning_rate_init', 1e-4, 1e-1)\n",
    "}\n",
    "\n",
    "# Función de optimización con Optuna\n",
    "def optimize_model(model, param_space, X_train, y_train):\n",
    "    def objective(trial):\n",
    "        # Obtiene los parámetros del espacio de búsqueda\n",
    "        params = {k: v(trial) for k, v in param_space.items()}\n",
    "        \n",
    "        # Asegúrate de que los parámetros se devuelvan correctamente\n",
    "        print(f\"Optimized parameters: {params}\")\n",
    "        \n",
    "        # Realizar validación cruzada con 5 pliegues\n",
    "        return cross_val_score(Pipeline([\n",
    "            ('scaler', StandardScaler()),\n",
    "            ('classifier', model(**params))\n",
    "        ]), X_train, y_train, cv=5, scoring='accuracy').mean()\n",
    "\n",
    "    # Crear el estudio de Optuna y optimizar\n",
    "    study = optuna.create_study(direction='maximize')\n",
    "    study.optimize(objective, n_trials=100)\n",
    "    \n",
    "    # Asegurarse de que los mejores parámetros se devuelvan correctamente\n",
    "    best_params = study.best_params\n",
    "    print(f\"Best parameters found: {best_params}\")\n",
    "    return best_params\n",
    "\n",
    "# Evaluar el modelo con los mejores parámetros obtenidos\n",
    "nn_best_params = optimize_model(MLPClassifier, nn_param_space, X_train, y_train)\n",
    "\n",
    "# Comprobar los parámetros antes de pasarlos al modelo\n",
    "print(\"Best Parameters for MLP: \", nn_best_params)\n",
    "\n",
    "# Construir el pipeline con los mejores parámetros\n",
    "hidden_layer_sizes = nn_best_params['hidden_layer_sizes']\n",
    "print(\"Hidden layer sizes:\", hidden_layer_sizes)\n",
    "\n",
    "# Verificar que los parámetros están correctamente formateados como tupla\n",
    "if isinstance(hidden_layer_sizes, tuple):\n",
    "    nn_model = MLPClassifier(\n",
    "        hidden_layer_sizes=hidden_layer_sizes,\n",
    "        alpha=nn_best_params['alpha'],\n",
    "        learning_rate_init=nn_best_params['learning_rate_init']\n",
    "    )\n",
    "    # Evaluar el modelo\n",
    "    evaluate_model(nn_model, nn_best_params, \"Red Neuronal\")\n",
    "else:\n",
    "    print(\"Error: 'hidden_layer_sizes' debe ser una tupla.\")\n",
    "\n",
    "'''\n"
   ]
  },
  {
   "cell_type": "code",
   "execution_count": 26,
   "metadata": {},
   "outputs": [
    {
     "name": "stderr",
     "output_type": "stream",
     "text": [
      "[I 2024-12-09 17:02:53,161] A new study created in memory with name: no-name-c18a0660-3dc6-442f-9a56-1100d8a5e167\n",
      "C:\\Users\\Administrator\\AppData\\Local\\Temp\\ipykernel_14812\\1993323069.py:6: FutureWarning: suggest_loguniform has been deprecated in v3.0.0. This feature will be removed in v6.0.0. See https://github.com/optuna/optuna/releases/tag/v3.0.0. Use suggest_float(..., log=True) instead.\n",
      "  'C': lambda trial: trial.suggest_loguniform('C', 1e-5, 1e5),\n",
      "c:\\Users\\Administrator\\Desktop\\Proyecto_ML Refuerzo\\ML_Refuerzo_Esther\\venv\\Lib\\site-packages\\sklearn\\linear_model\\_logistic.py:1247: FutureWarning: 'multi_class' was deprecated in version 1.5 and will be removed in 1.7. From then on, it will always use 'multinomial'. Leave it to its default value to avoid this warning.\n",
      "  warnings.warn(\n",
      "c:\\Users\\Administrator\\Desktop\\Proyecto_ML Refuerzo\\ML_Refuerzo_Esther\\venv\\Lib\\site-packages\\sklearn\\linear_model\\_logistic.py:1247: FutureWarning: 'multi_class' was deprecated in version 1.5 and will be removed in 1.7. From then on, it will always use 'multinomial'. Leave it to its default value to avoid this warning.\n",
      "  warnings.warn(\n",
      "c:\\Users\\Administrator\\Desktop\\Proyecto_ML Refuerzo\\ML_Refuerzo_Esther\\venv\\Lib\\site-packages\\sklearn\\linear_model\\_logistic.py:1247: FutureWarning: 'multi_class' was deprecated in version 1.5 and will be removed in 1.7. From then on, it will always use 'multinomial'. Leave it to its default value to avoid this warning.\n",
      "  warnings.warn(\n",
      "c:\\Users\\Administrator\\Desktop\\Proyecto_ML Refuerzo\\ML_Refuerzo_Esther\\venv\\Lib\\site-packages\\sklearn\\linear_model\\_logistic.py:1247: FutureWarning: 'multi_class' was deprecated in version 1.5 and will be removed in 1.7. From then on, it will always use 'multinomial'. Leave it to its default value to avoid this warning.\n",
      "  warnings.warn(\n",
      "c:\\Users\\Administrator\\Desktop\\Proyecto_ML Refuerzo\\ML_Refuerzo_Esther\\venv\\Lib\\site-packages\\sklearn\\linear_model\\_logistic.py:1247: FutureWarning: 'multi_class' was deprecated in version 1.5 and will be removed in 1.7. From then on, it will always use 'multinomial'. Leave it to its default value to avoid this warning.\n",
      "  warnings.warn(\n",
      "[I 2024-12-09 17:02:53,273] Trial 0 finished with value: 0.395 and parameters: {'C': 0.26277835490842844, 'solver': 'lbfgs'}. Best is trial 0 with value: 0.395.\n",
      "C:\\Users\\Administrator\\AppData\\Local\\Temp\\ipykernel_14812\\1993323069.py:6: FutureWarning: suggest_loguniform has been deprecated in v3.0.0. This feature will be removed in v6.0.0. See https://github.com/optuna/optuna/releases/tag/v3.0.0. Use suggest_float(..., log=True) instead.\n",
      "  'C': lambda trial: trial.suggest_loguniform('C', 1e-5, 1e5),\n",
      "c:\\Users\\Administrator\\Desktop\\Proyecto_ML Refuerzo\\ML_Refuerzo_Esther\\venv\\Lib\\site-packages\\sklearn\\linear_model\\_logistic.py:1247: FutureWarning: 'multi_class' was deprecated in version 1.5 and will be removed in 1.7. From then on, it will always use 'multinomial'. Leave it to its default value to avoid this warning.\n",
      "  warnings.warn(\n",
      "c:\\Users\\Administrator\\Desktop\\Proyecto_ML Refuerzo\\ML_Refuerzo_Esther\\venv\\Lib\\site-packages\\sklearn\\linear_model\\_logistic.py:1247: FutureWarning: 'multi_class' was deprecated in version 1.5 and will be removed in 1.7. From then on, it will always use 'multinomial'. Leave it to its default value to avoid this warning.\n",
      "  warnings.warn(\n",
      "c:\\Users\\Administrator\\Desktop\\Proyecto_ML Refuerzo\\ML_Refuerzo_Esther\\venv\\Lib\\site-packages\\sklearn\\linear_model\\_logistic.py:1247: FutureWarning: 'multi_class' was deprecated in version 1.5 and will be removed in 1.7. From then on, it will always use 'multinomial'. Leave it to its default value to avoid this warning.\n",
      "  warnings.warn(\n",
      "c:\\Users\\Administrator\\Desktop\\Proyecto_ML Refuerzo\\ML_Refuerzo_Esther\\venv\\Lib\\site-packages\\sklearn\\linear_model\\_logistic.py:1247: FutureWarning: 'multi_class' was deprecated in version 1.5 and will be removed in 1.7. From then on, it will always use 'multinomial'. Leave it to its default value to avoid this warning.\n",
      "  warnings.warn(\n",
      "c:\\Users\\Administrator\\Desktop\\Proyecto_ML Refuerzo\\ML_Refuerzo_Esther\\venv\\Lib\\site-packages\\sklearn\\linear_model\\_logistic.py:1247: FutureWarning: 'multi_class' was deprecated in version 1.5 and will be removed in 1.7. From then on, it will always use 'multinomial'. Leave it to its default value to avoid this warning.\n",
      "  warnings.warn(\n",
      "[I 2024-12-09 17:02:53,407] Trial 1 finished with value: 0.39375 and parameters: {'C': 1998.9629857306043, 'solver': 'newton-cg'}. Best is trial 0 with value: 0.395.\n",
      "C:\\Users\\Administrator\\AppData\\Local\\Temp\\ipykernel_14812\\1993323069.py:6: FutureWarning: suggest_loguniform has been deprecated in v3.0.0. This feature will be removed in v6.0.0. See https://github.com/optuna/optuna/releases/tag/v3.0.0. Use suggest_float(..., log=True) instead.\n",
      "  'C': lambda trial: trial.suggest_loguniform('C', 1e-5, 1e5),\n",
      "c:\\Users\\Administrator\\Desktop\\Proyecto_ML Refuerzo\\ML_Refuerzo_Esther\\venv\\Lib\\site-packages\\sklearn\\linear_model\\_logistic.py:1247: FutureWarning: 'multi_class' was deprecated in version 1.5 and will be removed in 1.7. From then on, it will always use 'multinomial'. Leave it to its default value to avoid this warning.\n",
      "  warnings.warn(\n",
      "c:\\Users\\Administrator\\Desktop\\Proyecto_ML Refuerzo\\ML_Refuerzo_Esther\\venv\\Lib\\site-packages\\sklearn\\linear_model\\_logistic.py:1247: FutureWarning: 'multi_class' was deprecated in version 1.5 and will be removed in 1.7. From then on, it will always use 'multinomial'. Leave it to its default value to avoid this warning.\n",
      "  warnings.warn(\n",
      "c:\\Users\\Administrator\\Desktop\\Proyecto_ML Refuerzo\\ML_Refuerzo_Esther\\venv\\Lib\\site-packages\\sklearn\\linear_model\\_logistic.py:1247: FutureWarning: 'multi_class' was deprecated in version 1.5 and will be removed in 1.7. From then on, it will always use 'multinomial'. Leave it to its default value to avoid this warning.\n",
      "  warnings.warn(\n",
      "c:\\Users\\Administrator\\Desktop\\Proyecto_ML Refuerzo\\ML_Refuerzo_Esther\\venv\\Lib\\site-packages\\sklearn\\linear_model\\_logistic.py:1247: FutureWarning: 'multi_class' was deprecated in version 1.5 and will be removed in 1.7. From then on, it will always use 'multinomial'. Leave it to its default value to avoid this warning.\n",
      "  warnings.warn(\n",
      "c:\\Users\\Administrator\\Desktop\\Proyecto_ML Refuerzo\\ML_Refuerzo_Esther\\venv\\Lib\\site-packages\\sklearn\\linear_model\\_logistic.py:1247: FutureWarning: 'multi_class' was deprecated in version 1.5 and will be removed in 1.7. From then on, it will always use 'multinomial'. Leave it to its default value to avoid this warning.\n",
      "  warnings.warn(\n",
      "[I 2024-12-09 17:02:53,470] Trial 2 finished with value: 0.39375 and parameters: {'C': 745.8031729801064, 'solver': 'lbfgs'}. Best is trial 0 with value: 0.395.\n",
      "C:\\Users\\Administrator\\AppData\\Local\\Temp\\ipykernel_14812\\1993323069.py:6: FutureWarning: suggest_loguniform has been deprecated in v3.0.0. This feature will be removed in v6.0.0. See https://github.com/optuna/optuna/releases/tag/v3.0.0. Use suggest_float(..., log=True) instead.\n",
      "  'C': lambda trial: trial.suggest_loguniform('C', 1e-5, 1e5),\n",
      "c:\\Users\\Administrator\\Desktop\\Proyecto_ML Refuerzo\\ML_Refuerzo_Esther\\venv\\Lib\\site-packages\\sklearn\\linear_model\\_logistic.py:1247: FutureWarning: 'multi_class' was deprecated in version 1.5 and will be removed in 1.7. From then on, it will always use 'multinomial'. Leave it to its default value to avoid this warning.\n",
      "  warnings.warn(\n",
      "c:\\Users\\Administrator\\Desktop\\Proyecto_ML Refuerzo\\ML_Refuerzo_Esther\\venv\\Lib\\site-packages\\sklearn\\linear_model\\_logistic.py:1247: FutureWarning: 'multi_class' was deprecated in version 1.5 and will be removed in 1.7. From then on, it will always use 'multinomial'. Leave it to its default value to avoid this warning.\n",
      "  warnings.warn(\n",
      "c:\\Users\\Administrator\\Desktop\\Proyecto_ML Refuerzo\\ML_Refuerzo_Esther\\venv\\Lib\\site-packages\\sklearn\\linear_model\\_logistic.py:1247: FutureWarning: 'multi_class' was deprecated in version 1.5 and will be removed in 1.7. From then on, it will always use 'multinomial'. Leave it to its default value to avoid this warning.\n",
      "  warnings.warn(\n",
      "c:\\Users\\Administrator\\Desktop\\Proyecto_ML Refuerzo\\ML_Refuerzo_Esther\\venv\\Lib\\site-packages\\sklearn\\linear_model\\_logistic.py:1247: FutureWarning: 'multi_class' was deprecated in version 1.5 and will be removed in 1.7. From then on, it will always use 'multinomial'. Leave it to its default value to avoid this warning.\n",
      "  warnings.warn(\n",
      "c:\\Users\\Administrator\\Desktop\\Proyecto_ML Refuerzo\\ML_Refuerzo_Esther\\venv\\Lib\\site-packages\\sklearn\\linear_model\\_logistic.py:1247: FutureWarning: 'multi_class' was deprecated in version 1.5 and will be removed in 1.7. From then on, it will always use 'multinomial'. Leave it to its default value to avoid this warning.\n",
      "  warnings.warn(\n",
      "[I 2024-12-09 17:02:53,542] Trial 3 finished with value: 0.39625 and parameters: {'C': 0.02213719181473001, 'solver': 'newton-cg'}. Best is trial 3 with value: 0.39625.\n",
      "C:\\Users\\Administrator\\AppData\\Local\\Temp\\ipykernel_14812\\1993323069.py:6: FutureWarning: suggest_loguniform has been deprecated in v3.0.0. This feature will be removed in v6.0.0. See https://github.com/optuna/optuna/releases/tag/v3.0.0. Use suggest_float(..., log=True) instead.\n",
      "  'C': lambda trial: trial.suggest_loguniform('C', 1e-5, 1e5),\n",
      "c:\\Users\\Administrator\\Desktop\\Proyecto_ML Refuerzo\\ML_Refuerzo_Esther\\venv\\Lib\\site-packages\\sklearn\\linear_model\\_logistic.py:1247: FutureWarning: 'multi_class' was deprecated in version 1.5 and will be removed in 1.7. From then on, it will always use 'multinomial'. Leave it to its default value to avoid this warning.\n",
      "  warnings.warn(\n",
      "c:\\Users\\Administrator\\Desktop\\Proyecto_ML Refuerzo\\ML_Refuerzo_Esther\\venv\\Lib\\site-packages\\sklearn\\linear_model\\_logistic.py:1247: FutureWarning: 'multi_class' was deprecated in version 1.5 and will be removed in 1.7. From then on, it will always use 'multinomial'. Leave it to its default value to avoid this warning.\n",
      "  warnings.warn(\n",
      "c:\\Users\\Administrator\\Desktop\\Proyecto_ML Refuerzo\\ML_Refuerzo_Esther\\venv\\Lib\\site-packages\\sklearn\\linear_model\\_logistic.py:1247: FutureWarning: 'multi_class' was deprecated in version 1.5 and will be removed in 1.7. From then on, it will always use 'multinomial'. Leave it to its default value to avoid this warning.\n",
      "  warnings.warn(\n",
      "c:\\Users\\Administrator\\Desktop\\Proyecto_ML Refuerzo\\ML_Refuerzo_Esther\\venv\\Lib\\site-packages\\sklearn\\linear_model\\_logistic.py:1247: FutureWarning: 'multi_class' was deprecated in version 1.5 and will be removed in 1.7. From then on, it will always use 'multinomial'. Leave it to its default value to avoid this warning.\n",
      "  warnings.warn(\n",
      "c:\\Users\\Administrator\\Desktop\\Proyecto_ML Refuerzo\\ML_Refuerzo_Esther\\venv\\Lib\\site-packages\\sklearn\\linear_model\\_logistic.py:1247: FutureWarning: 'multi_class' was deprecated in version 1.5 and will be removed in 1.7. From then on, it will always use 'multinomial'. Leave it to its default value to avoid this warning.\n",
      "  warnings.warn(\n",
      "[I 2024-12-09 17:02:53,634] Trial 4 finished with value: 0.39375 and parameters: {'C': 6378.098132963503, 'solver': 'saga'}. Best is trial 3 with value: 0.39625.\n",
      "C:\\Users\\Administrator\\AppData\\Local\\Temp\\ipykernel_14812\\1993323069.py:6: FutureWarning: suggest_loguniform has been deprecated in v3.0.0. This feature will be removed in v6.0.0. See https://github.com/optuna/optuna/releases/tag/v3.0.0. Use suggest_float(..., log=True) instead.\n",
      "  'C': lambda trial: trial.suggest_loguniform('C', 1e-5, 1e5),\n",
      "c:\\Users\\Administrator\\Desktop\\Proyecto_ML Refuerzo\\ML_Refuerzo_Esther\\venv\\Lib\\site-packages\\sklearn\\linear_model\\_logistic.py:1247: FutureWarning: 'multi_class' was deprecated in version 1.5 and will be removed in 1.7. From then on, it will always use 'multinomial'. Leave it to its default value to avoid this warning.\n",
      "  warnings.warn(\n",
      "c:\\Users\\Administrator\\Desktop\\Proyecto_ML Refuerzo\\ML_Refuerzo_Esther\\venv\\Lib\\site-packages\\sklearn\\linear_model\\_logistic.py:1247: FutureWarning: 'multi_class' was deprecated in version 1.5 and will be removed in 1.7. From then on, it will always use 'multinomial'. Leave it to its default value to avoid this warning.\n",
      "  warnings.warn(\n",
      "c:\\Users\\Administrator\\Desktop\\Proyecto_ML Refuerzo\\ML_Refuerzo_Esther\\venv\\Lib\\site-packages\\sklearn\\linear_model\\_logistic.py:1247: FutureWarning: 'multi_class' was deprecated in version 1.5 and will be removed in 1.7. From then on, it will always use 'multinomial'. Leave it to its default value to avoid this warning.\n",
      "  warnings.warn(\n",
      "c:\\Users\\Administrator\\Desktop\\Proyecto_ML Refuerzo\\ML_Refuerzo_Esther\\venv\\Lib\\site-packages\\sklearn\\linear_model\\_logistic.py:1247: FutureWarning: 'multi_class' was deprecated in version 1.5 and will be removed in 1.7. From then on, it will always use 'multinomial'. Leave it to its default value to avoid this warning.\n",
      "  warnings.warn(\n",
      "c:\\Users\\Administrator\\Desktop\\Proyecto_ML Refuerzo\\ML_Refuerzo_Esther\\venv\\Lib\\site-packages\\sklearn\\linear_model\\_logistic.py:1247: FutureWarning: 'multi_class' was deprecated in version 1.5 and will be removed in 1.7. From then on, it will always use 'multinomial'. Leave it to its default value to avoid this warning.\n",
      "  warnings.warn(\n",
      "[I 2024-12-09 17:02:53,722] Trial 5 finished with value: 0.395 and parameters: {'C': 0.15896871641885563, 'solver': 'sag'}. Best is trial 3 with value: 0.39625.\n",
      "C:\\Users\\Administrator\\AppData\\Local\\Temp\\ipykernel_14812\\1993323069.py:6: FutureWarning: suggest_loguniform has been deprecated in v3.0.0. This feature will be removed in v6.0.0. See https://github.com/optuna/optuna/releases/tag/v3.0.0. Use suggest_float(..., log=True) instead.\n",
      "  'C': lambda trial: trial.suggest_loguniform('C', 1e-5, 1e5),\n",
      "c:\\Users\\Administrator\\Desktop\\Proyecto_ML Refuerzo\\ML_Refuerzo_Esther\\venv\\Lib\\site-packages\\sklearn\\linear_model\\_logistic.py:1247: FutureWarning: 'multi_class' was deprecated in version 1.5 and will be removed in 1.7. From then on, it will always use 'multinomial'. Leave it to its default value to avoid this warning.\n",
      "  warnings.warn(\n",
      "c:\\Users\\Administrator\\Desktop\\Proyecto_ML Refuerzo\\ML_Refuerzo_Esther\\venv\\Lib\\site-packages\\sklearn\\linear_model\\_logistic.py:1247: FutureWarning: 'multi_class' was deprecated in version 1.5 and will be removed in 1.7. From then on, it will always use 'multinomial'. Leave it to its default value to avoid this warning.\n",
      "  warnings.warn(\n",
      "c:\\Users\\Administrator\\Desktop\\Proyecto_ML Refuerzo\\ML_Refuerzo_Esther\\venv\\Lib\\site-packages\\sklearn\\linear_model\\_logistic.py:1247: FutureWarning: 'multi_class' was deprecated in version 1.5 and will be removed in 1.7. From then on, it will always use 'multinomial'. Leave it to its default value to avoid this warning.\n",
      "  warnings.warn(\n",
      "c:\\Users\\Administrator\\Desktop\\Proyecto_ML Refuerzo\\ML_Refuerzo_Esther\\venv\\Lib\\site-packages\\sklearn\\linear_model\\_logistic.py:1247: FutureWarning: 'multi_class' was deprecated in version 1.5 and will be removed in 1.7. From then on, it will always use 'multinomial'. Leave it to its default value to avoid this warning.\n",
      "  warnings.warn(\n",
      "c:\\Users\\Administrator\\Desktop\\Proyecto_ML Refuerzo\\ML_Refuerzo_Esther\\venv\\Lib\\site-packages\\sklearn\\linear_model\\_logistic.py:1247: FutureWarning: 'multi_class' was deprecated in version 1.5 and will be removed in 1.7. From then on, it will always use 'multinomial'. Leave it to its default value to avoid this warning.\n",
      "  warnings.warn(\n",
      "[I 2024-12-09 17:02:53,809] Trial 6 finished with value: 0.39499999999999996 and parameters: {'C': 0.9712436907918955, 'solver': 'newton-cg'}. Best is trial 3 with value: 0.39625.\n",
      "C:\\Users\\Administrator\\AppData\\Local\\Temp\\ipykernel_14812\\1993323069.py:6: FutureWarning: suggest_loguniform has been deprecated in v3.0.0. This feature will be removed in v6.0.0. See https://github.com/optuna/optuna/releases/tag/v3.0.0. Use suggest_float(..., log=True) instead.\n",
      "  'C': lambda trial: trial.suggest_loguniform('C', 1e-5, 1e5),\n",
      "c:\\Users\\Administrator\\Desktop\\Proyecto_ML Refuerzo\\ML_Refuerzo_Esther\\venv\\Lib\\site-packages\\sklearn\\linear_model\\_logistic.py:1247: FutureWarning: 'multi_class' was deprecated in version 1.5 and will be removed in 1.7. From then on, it will always use 'multinomial'. Leave it to its default value to avoid this warning.\n",
      "  warnings.warn(\n",
      "c:\\Users\\Administrator\\Desktop\\Proyecto_ML Refuerzo\\ML_Refuerzo_Esther\\venv\\Lib\\site-packages\\sklearn\\linear_model\\_logistic.py:1247: FutureWarning: 'multi_class' was deprecated in version 1.5 and will be removed in 1.7. From then on, it will always use 'multinomial'. Leave it to its default value to avoid this warning.\n",
      "  warnings.warn(\n",
      "c:\\Users\\Administrator\\Desktop\\Proyecto_ML Refuerzo\\ML_Refuerzo_Esther\\venv\\Lib\\site-packages\\sklearn\\linear_model\\_logistic.py:1247: FutureWarning: 'multi_class' was deprecated in version 1.5 and will be removed in 1.7. From then on, it will always use 'multinomial'. Leave it to its default value to avoid this warning.\n",
      "  warnings.warn(\n",
      "c:\\Users\\Administrator\\Desktop\\Proyecto_ML Refuerzo\\ML_Refuerzo_Esther\\venv\\Lib\\site-packages\\sklearn\\linear_model\\_logistic.py:1247: FutureWarning: 'multi_class' was deprecated in version 1.5 and will be removed in 1.7. From then on, it will always use 'multinomial'. Leave it to its default value to avoid this warning.\n",
      "  warnings.warn(\n",
      "c:\\Users\\Administrator\\Desktop\\Proyecto_ML Refuerzo\\ML_Refuerzo_Esther\\venv\\Lib\\site-packages\\sklearn\\linear_model\\_logistic.py:1247: FutureWarning: 'multi_class' was deprecated in version 1.5 and will be removed in 1.7. From then on, it will always use 'multinomial'. Leave it to its default value to avoid this warning.\n",
      "  warnings.warn(\n",
      "[I 2024-12-09 17:02:53,879] Trial 7 finished with value: 0.395 and parameters: {'C': 28.73577303834698, 'solver': 'newton-cg'}. Best is trial 3 with value: 0.39625.\n",
      "C:\\Users\\Administrator\\AppData\\Local\\Temp\\ipykernel_14812\\1993323069.py:6: FutureWarning: suggest_loguniform has been deprecated in v3.0.0. This feature will be removed in v6.0.0. See https://github.com/optuna/optuna/releases/tag/v3.0.0. Use suggest_float(..., log=True) instead.\n",
      "  'C': lambda trial: trial.suggest_loguniform('C', 1e-5, 1e5),\n",
      "c:\\Users\\Administrator\\Desktop\\Proyecto_ML Refuerzo\\ML_Refuerzo_Esther\\venv\\Lib\\site-packages\\sklearn\\linear_model\\_logistic.py:1247: FutureWarning: 'multi_class' was deprecated in version 1.5 and will be removed in 1.7. From then on, it will always use 'multinomial'. Leave it to its default value to avoid this warning.\n",
      "  warnings.warn(\n",
      "c:\\Users\\Administrator\\Desktop\\Proyecto_ML Refuerzo\\ML_Refuerzo_Esther\\venv\\Lib\\site-packages\\sklearn\\linear_model\\_logistic.py:1247: FutureWarning: 'multi_class' was deprecated in version 1.5 and will be removed in 1.7. From then on, it will always use 'multinomial'. Leave it to its default value to avoid this warning.\n",
      "  warnings.warn(\n",
      "c:\\Users\\Administrator\\Desktop\\Proyecto_ML Refuerzo\\ML_Refuerzo_Esther\\venv\\Lib\\site-packages\\sklearn\\linear_model\\_logistic.py:1247: FutureWarning: 'multi_class' was deprecated in version 1.5 and will be removed in 1.7. From then on, it will always use 'multinomial'. Leave it to its default value to avoid this warning.\n",
      "  warnings.warn(\n",
      "c:\\Users\\Administrator\\Desktop\\Proyecto_ML Refuerzo\\ML_Refuerzo_Esther\\venv\\Lib\\site-packages\\sklearn\\linear_model\\_logistic.py:1247: FutureWarning: 'multi_class' was deprecated in version 1.5 and will be removed in 1.7. From then on, it will always use 'multinomial'. Leave it to its default value to avoid this warning.\n",
      "  warnings.warn(\n",
      "c:\\Users\\Administrator\\Desktop\\Proyecto_ML Refuerzo\\ML_Refuerzo_Esther\\venv\\Lib\\site-packages\\sklearn\\linear_model\\_logistic.py:1247: FutureWarning: 'multi_class' was deprecated in version 1.5 and will be removed in 1.7. From then on, it will always use 'multinomial'. Leave it to its default value to avoid this warning.\n",
      "  warnings.warn(\n",
      "[I 2024-12-09 17:02:53,983] Trial 8 finished with value: 0.39375 and parameters: {'C': 30.60108692206137, 'solver': 'sag'}. Best is trial 3 with value: 0.39625.\n",
      "C:\\Users\\Administrator\\AppData\\Local\\Temp\\ipykernel_14812\\1993323069.py:6: FutureWarning: suggest_loguniform has been deprecated in v3.0.0. This feature will be removed in v6.0.0. See https://github.com/optuna/optuna/releases/tag/v3.0.0. Use suggest_float(..., log=True) instead.\n",
      "  'C': lambda trial: trial.suggest_loguniform('C', 1e-5, 1e5),\n",
      "c:\\Users\\Administrator\\Desktop\\Proyecto_ML Refuerzo\\ML_Refuerzo_Esther\\venv\\Lib\\site-packages\\sklearn\\linear_model\\_logistic.py:1247: FutureWarning: 'multi_class' was deprecated in version 1.5 and will be removed in 1.7. From then on, it will always use 'multinomial'. Leave it to its default value to avoid this warning.\n",
      "  warnings.warn(\n",
      "c:\\Users\\Administrator\\Desktop\\Proyecto_ML Refuerzo\\ML_Refuerzo_Esther\\venv\\Lib\\site-packages\\sklearn\\linear_model\\_logistic.py:1247: FutureWarning: 'multi_class' was deprecated in version 1.5 and will be removed in 1.7. From then on, it will always use 'multinomial'. Leave it to its default value to avoid this warning.\n",
      "  warnings.warn(\n",
      "c:\\Users\\Administrator\\Desktop\\Proyecto_ML Refuerzo\\ML_Refuerzo_Esther\\venv\\Lib\\site-packages\\sklearn\\linear_model\\_logistic.py:1247: FutureWarning: 'multi_class' was deprecated in version 1.5 and will be removed in 1.7. From then on, it will always use 'multinomial'. Leave it to its default value to avoid this warning.\n",
      "  warnings.warn(\n",
      "c:\\Users\\Administrator\\Desktop\\Proyecto_ML Refuerzo\\ML_Refuerzo_Esther\\venv\\Lib\\site-packages\\sklearn\\linear_model\\_logistic.py:1247: FutureWarning: 'multi_class' was deprecated in version 1.5 and will be removed in 1.7. From then on, it will always use 'multinomial'. Leave it to its default value to avoid this warning.\n",
      "  warnings.warn(\n",
      "c:\\Users\\Administrator\\Desktop\\Proyecto_ML Refuerzo\\ML_Refuerzo_Esther\\venv\\Lib\\site-packages\\sklearn\\linear_model\\_logistic.py:1247: FutureWarning: 'multi_class' was deprecated in version 1.5 and will be removed in 1.7. From then on, it will always use 'multinomial'. Leave it to its default value to avoid this warning.\n",
      "  warnings.warn(\n",
      "[I 2024-12-09 17:02:54,041] Trial 9 finished with value: 0.39375 and parameters: {'C': 1522.2796510846094, 'solver': 'newton-cg'}. Best is trial 3 with value: 0.39625.\n",
      "C:\\Users\\Administrator\\AppData\\Local\\Temp\\ipykernel_14812\\1993323069.py:6: FutureWarning: suggest_loguniform has been deprecated in v3.0.0. This feature will be removed in v6.0.0. See https://github.com/optuna/optuna/releases/tag/v3.0.0. Use suggest_float(..., log=True) instead.\n",
      "  'C': lambda trial: trial.suggest_loguniform('C', 1e-5, 1e5),\n",
      "c:\\Users\\Administrator\\Desktop\\Proyecto_ML Refuerzo\\ML_Refuerzo_Esther\\venv\\Lib\\site-packages\\sklearn\\linear_model\\_logistic.py:1247: FutureWarning: 'multi_class' was deprecated in version 1.5 and will be removed in 1.7. From then on, it will always use 'multinomial'. Leave it to its default value to avoid this warning.\n",
      "  warnings.warn(\n",
      "c:\\Users\\Administrator\\Desktop\\Proyecto_ML Refuerzo\\ML_Refuerzo_Esther\\venv\\Lib\\site-packages\\sklearn\\linear_model\\_logistic.py:1247: FutureWarning: 'multi_class' was deprecated in version 1.5 and will be removed in 1.7. From then on, it will always use 'multinomial'. Leave it to its default value to avoid this warning.\n",
      "  warnings.warn(\n",
      "c:\\Users\\Administrator\\Desktop\\Proyecto_ML Refuerzo\\ML_Refuerzo_Esther\\venv\\Lib\\site-packages\\sklearn\\linear_model\\_logistic.py:1247: FutureWarning: 'multi_class' was deprecated in version 1.5 and will be removed in 1.7. From then on, it will always use 'multinomial'. Leave it to its default value to avoid this warning.\n",
      "  warnings.warn(\n",
      "c:\\Users\\Administrator\\Desktop\\Proyecto_ML Refuerzo\\ML_Refuerzo_Esther\\venv\\Lib\\site-packages\\sklearn\\linear_model\\_logistic.py:1247: FutureWarning: 'multi_class' was deprecated in version 1.5 and will be removed in 1.7. From then on, it will always use 'multinomial'. Leave it to its default value to avoid this warning.\n",
      "  warnings.warn(\n",
      "c:\\Users\\Administrator\\Desktop\\Proyecto_ML Refuerzo\\ML_Refuerzo_Esther\\venv\\Lib\\site-packages\\sklearn\\linear_model\\_logistic.py:1247: FutureWarning: 'multi_class' was deprecated in version 1.5 and will be removed in 1.7. From then on, it will always use 'multinomial'. Leave it to its default value to avoid this warning.\n",
      "  warnings.warn(\n",
      "[I 2024-12-09 17:02:54,102] Trial 10 finished with value: 0.3075 and parameters: {'C': 0.00014093877577768695, 'solver': 'saga'}. Best is trial 3 with value: 0.39625.\n",
      "C:\\Users\\Administrator\\AppData\\Local\\Temp\\ipykernel_14812\\1993323069.py:6: FutureWarning: suggest_loguniform has been deprecated in v3.0.0. This feature will be removed in v6.0.0. See https://github.com/optuna/optuna/releases/tag/v3.0.0. Use suggest_float(..., log=True) instead.\n",
      "  'C': lambda trial: trial.suggest_loguniform('C', 1e-5, 1e5),\n",
      "c:\\Users\\Administrator\\Desktop\\Proyecto_ML Refuerzo\\ML_Refuerzo_Esther\\venv\\Lib\\site-packages\\sklearn\\linear_model\\_logistic.py:1247: FutureWarning: 'multi_class' was deprecated in version 1.5 and will be removed in 1.7. From then on, it will always use 'multinomial'. Leave it to its default value to avoid this warning.\n",
      "  warnings.warn(\n",
      "c:\\Users\\Administrator\\Desktop\\Proyecto_ML Refuerzo\\ML_Refuerzo_Esther\\venv\\Lib\\site-packages\\sklearn\\linear_model\\_logistic.py:1247: FutureWarning: 'multi_class' was deprecated in version 1.5 and will be removed in 1.7. From then on, it will always use 'multinomial'. Leave it to its default value to avoid this warning.\n",
      "  warnings.warn(\n",
      "c:\\Users\\Administrator\\Desktop\\Proyecto_ML Refuerzo\\ML_Refuerzo_Esther\\venv\\Lib\\site-packages\\sklearn\\linear_model\\_logistic.py:1247: FutureWarning: 'multi_class' was deprecated in version 1.5 and will be removed in 1.7. From then on, it will always use 'multinomial'. Leave it to its default value to avoid this warning.\n",
      "  warnings.warn(\n",
      "c:\\Users\\Administrator\\Desktop\\Proyecto_ML Refuerzo\\ML_Refuerzo_Esther\\venv\\Lib\\site-packages\\sklearn\\linear_model\\_logistic.py:1247: FutureWarning: 'multi_class' was deprecated in version 1.5 and will be removed in 1.7. From then on, it will always use 'multinomial'. Leave it to its default value to avoid this warning.\n",
      "  warnings.warn(\n",
      "c:\\Users\\Administrator\\Desktop\\Proyecto_ML Refuerzo\\ML_Refuerzo_Esther\\venv\\Lib\\site-packages\\sklearn\\linear_model\\_logistic.py:1247: FutureWarning: 'multi_class' was deprecated in version 1.5 and will be removed in 1.7. From then on, it will always use 'multinomial'. Leave it to its default value to avoid this warning.\n",
      "  warnings.warn(\n",
      "[I 2024-12-09 17:02:54,165] Trial 11 finished with value: 0.38499999999999995 and parameters: {'C': 0.003453497231566776, 'solver': 'lbfgs'}. Best is trial 3 with value: 0.39625.\n",
      "C:\\Users\\Administrator\\AppData\\Local\\Temp\\ipykernel_14812\\1993323069.py:6: FutureWarning: suggest_loguniform has been deprecated in v3.0.0. This feature will be removed in v6.0.0. See https://github.com/optuna/optuna/releases/tag/v3.0.0. Use suggest_float(..., log=True) instead.\n",
      "  'C': lambda trial: trial.suggest_loguniform('C', 1e-5, 1e5),\n",
      "c:\\Users\\Administrator\\Desktop\\Proyecto_ML Refuerzo\\ML_Refuerzo_Esther\\venv\\Lib\\site-packages\\sklearn\\linear_model\\_logistic.py:1247: FutureWarning: 'multi_class' was deprecated in version 1.5 and will be removed in 1.7. From then on, it will always use 'multinomial'. Leave it to its default value to avoid this warning.\n",
      "  warnings.warn(\n",
      "c:\\Users\\Administrator\\Desktop\\Proyecto_ML Refuerzo\\ML_Refuerzo_Esther\\venv\\Lib\\site-packages\\sklearn\\linear_model\\_logistic.py:1247: FutureWarning: 'multi_class' was deprecated in version 1.5 and will be removed in 1.7. From then on, it will always use 'multinomial'. Leave it to its default value to avoid this warning.\n",
      "  warnings.warn(\n",
      "c:\\Users\\Administrator\\Desktop\\Proyecto_ML Refuerzo\\ML_Refuerzo_Esther\\venv\\Lib\\site-packages\\sklearn\\linear_model\\_logistic.py:1247: FutureWarning: 'multi_class' was deprecated in version 1.5 and will be removed in 1.7. From then on, it will always use 'multinomial'. Leave it to its default value to avoid this warning.\n",
      "  warnings.warn(\n",
      "c:\\Users\\Administrator\\Desktop\\Proyecto_ML Refuerzo\\ML_Refuerzo_Esther\\venv\\Lib\\site-packages\\sklearn\\linear_model\\_logistic.py:1247: FutureWarning: 'multi_class' was deprecated in version 1.5 and will be removed in 1.7. From then on, it will always use 'multinomial'. Leave it to its default value to avoid this warning.\n",
      "  warnings.warn(\n",
      "c:\\Users\\Administrator\\Desktop\\Proyecto_ML Refuerzo\\ML_Refuerzo_Esther\\venv\\Lib\\site-packages\\sklearn\\linear_model\\_logistic.py:1247: FutureWarning: 'multi_class' was deprecated in version 1.5 and will be removed in 1.7. From then on, it will always use 'multinomial'. Leave it to its default value to avoid this warning.\n",
      "  warnings.warn(\n",
      "[I 2024-12-09 17:02:54,221] Trial 12 finished with value: 0.3975 and parameters: {'C': 0.0329571578787315, 'solver': 'lbfgs'}. Best is trial 12 with value: 0.3975.\n",
      "C:\\Users\\Administrator\\AppData\\Local\\Temp\\ipykernel_14812\\1993323069.py:6: FutureWarning: suggest_loguniform has been deprecated in v3.0.0. This feature will be removed in v6.0.0. See https://github.com/optuna/optuna/releases/tag/v3.0.0. Use suggest_float(..., log=True) instead.\n",
      "  'C': lambda trial: trial.suggest_loguniform('C', 1e-5, 1e5),\n",
      "c:\\Users\\Administrator\\Desktop\\Proyecto_ML Refuerzo\\ML_Refuerzo_Esther\\venv\\Lib\\site-packages\\sklearn\\linear_model\\_logistic.py:1247: FutureWarning: 'multi_class' was deprecated in version 1.5 and will be removed in 1.7. From then on, it will always use 'multinomial'. Leave it to its default value to avoid this warning.\n",
      "  warnings.warn(\n",
      "c:\\Users\\Administrator\\Desktop\\Proyecto_ML Refuerzo\\ML_Refuerzo_Esther\\venv\\Lib\\site-packages\\sklearn\\linear_model\\_logistic.py:1247: FutureWarning: 'multi_class' was deprecated in version 1.5 and will be removed in 1.7. From then on, it will always use 'multinomial'. Leave it to its default value to avoid this warning.\n",
      "  warnings.warn(\n",
      "c:\\Users\\Administrator\\Desktop\\Proyecto_ML Refuerzo\\ML_Refuerzo_Esther\\venv\\Lib\\site-packages\\sklearn\\linear_model\\_logistic.py:1247: FutureWarning: 'multi_class' was deprecated in version 1.5 and will be removed in 1.7. From then on, it will always use 'multinomial'. Leave it to its default value to avoid this warning.\n",
      "  warnings.warn(\n",
      "c:\\Users\\Administrator\\Desktop\\Proyecto_ML Refuerzo\\ML_Refuerzo_Esther\\venv\\Lib\\site-packages\\sklearn\\linear_model\\_logistic.py:1247: FutureWarning: 'multi_class' was deprecated in version 1.5 and will be removed in 1.7. From then on, it will always use 'multinomial'. Leave it to its default value to avoid this warning.\n",
      "  warnings.warn(\n",
      "c:\\Users\\Administrator\\Desktop\\Proyecto_ML Refuerzo\\ML_Refuerzo_Esther\\venv\\Lib\\site-packages\\sklearn\\linear_model\\_logistic.py:1247: FutureWarning: 'multi_class' was deprecated in version 1.5 and will be removed in 1.7. From then on, it will always use 'multinomial'. Leave it to its default value to avoid this warning.\n",
      "  warnings.warn(\n",
      "[I 2024-12-09 17:02:54,288] Trial 13 finished with value: 0.38375000000000004 and parameters: {'C': 0.004880409214187424, 'solver': 'lbfgs'}. Best is trial 12 with value: 0.3975.\n",
      "C:\\Users\\Administrator\\AppData\\Local\\Temp\\ipykernel_14812\\1993323069.py:6: FutureWarning: suggest_loguniform has been deprecated in v3.0.0. This feature will be removed in v6.0.0. See https://github.com/optuna/optuna/releases/tag/v3.0.0. Use suggest_float(..., log=True) instead.\n",
      "  'C': lambda trial: trial.suggest_loguniform('C', 1e-5, 1e5),\n",
      "c:\\Users\\Administrator\\Desktop\\Proyecto_ML Refuerzo\\ML_Refuerzo_Esther\\venv\\Lib\\site-packages\\sklearn\\linear_model\\_logistic.py:1247: FutureWarning: 'multi_class' was deprecated in version 1.5 and will be removed in 1.7. From then on, it will always use 'multinomial'. Leave it to its default value to avoid this warning.\n",
      "  warnings.warn(\n",
      "c:\\Users\\Administrator\\Desktop\\Proyecto_ML Refuerzo\\ML_Refuerzo_Esther\\venv\\Lib\\site-packages\\sklearn\\linear_model\\_logistic.py:1247: FutureWarning: 'multi_class' was deprecated in version 1.5 and will be removed in 1.7. From then on, it will always use 'multinomial'. Leave it to its default value to avoid this warning.\n",
      "  warnings.warn(\n",
      "c:\\Users\\Administrator\\Desktop\\Proyecto_ML Refuerzo\\ML_Refuerzo_Esther\\venv\\Lib\\site-packages\\sklearn\\linear_model\\_logistic.py:1247: FutureWarning: 'multi_class' was deprecated in version 1.5 and will be removed in 1.7. From then on, it will always use 'multinomial'. Leave it to its default value to avoid this warning.\n",
      "  warnings.warn(\n",
      "c:\\Users\\Administrator\\Desktop\\Proyecto_ML Refuerzo\\ML_Refuerzo_Esther\\venv\\Lib\\site-packages\\sklearn\\linear_model\\_logistic.py:1247: FutureWarning: 'multi_class' was deprecated in version 1.5 and will be removed in 1.7. From then on, it will always use 'multinomial'. Leave it to its default value to avoid this warning.\n",
      "  warnings.warn(\n",
      "c:\\Users\\Administrator\\Desktop\\Proyecto_ML Refuerzo\\ML_Refuerzo_Esther\\venv\\Lib\\site-packages\\sklearn\\linear_model\\_logistic.py:1247: FutureWarning: 'multi_class' was deprecated in version 1.5 and will be removed in 1.7. From then on, it will always use 'multinomial'. Leave it to its default value to avoid this warning.\n",
      "  warnings.warn(\n",
      "[I 2024-12-09 17:02:54,357] Trial 14 finished with value: 0.39 and parameters: {'C': 0.006085218653285846, 'solver': 'newton-cg'}. Best is trial 12 with value: 0.3975.\n",
      "C:\\Users\\Administrator\\AppData\\Local\\Temp\\ipykernel_14812\\1993323069.py:6: FutureWarning: suggest_loguniform has been deprecated in v3.0.0. This feature will be removed in v6.0.0. See https://github.com/optuna/optuna/releases/tag/v3.0.0. Use suggest_float(..., log=True) instead.\n",
      "  'C': lambda trial: trial.suggest_loguniform('C', 1e-5, 1e5),\n",
      "c:\\Users\\Administrator\\Desktop\\Proyecto_ML Refuerzo\\ML_Refuerzo_Esther\\venv\\Lib\\site-packages\\sklearn\\linear_model\\_logistic.py:1247: FutureWarning: 'multi_class' was deprecated in version 1.5 and will be removed in 1.7. From then on, it will always use 'multinomial'. Leave it to its default value to avoid this warning.\n",
      "  warnings.warn(\n",
      "c:\\Users\\Administrator\\Desktop\\Proyecto_ML Refuerzo\\ML_Refuerzo_Esther\\venv\\Lib\\site-packages\\sklearn\\linear_model\\_logistic.py:1247: FutureWarning: 'multi_class' was deprecated in version 1.5 and will be removed in 1.7. From then on, it will always use 'multinomial'. Leave it to its default value to avoid this warning.\n",
      "  warnings.warn(\n",
      "c:\\Users\\Administrator\\Desktop\\Proyecto_ML Refuerzo\\ML_Refuerzo_Esther\\venv\\Lib\\site-packages\\sklearn\\linear_model\\_logistic.py:1247: FutureWarning: 'multi_class' was deprecated in version 1.5 and will be removed in 1.7. From then on, it will always use 'multinomial'. Leave it to its default value to avoid this warning.\n",
      "  warnings.warn(\n",
      "c:\\Users\\Administrator\\Desktop\\Proyecto_ML Refuerzo\\ML_Refuerzo_Esther\\venv\\Lib\\site-packages\\sklearn\\linear_model\\_logistic.py:1247: FutureWarning: 'multi_class' was deprecated in version 1.5 and will be removed in 1.7. From then on, it will always use 'multinomial'. Leave it to its default value to avoid this warning.\n",
      "  warnings.warn(\n",
      "c:\\Users\\Administrator\\Desktop\\Proyecto_ML Refuerzo\\ML_Refuerzo_Esther\\venv\\Lib\\site-packages\\sklearn\\linear_model\\_logistic.py:1247: FutureWarning: 'multi_class' was deprecated in version 1.5 and will be removed in 1.7. From then on, it will always use 'multinomial'. Leave it to its default value to avoid this warning.\n",
      "  warnings.warn(\n",
      "[I 2024-12-09 17:02:54,424] Trial 15 finished with value: 0.28125 and parameters: {'C': 1.8105398846654102e-05, 'solver': 'lbfgs'}. Best is trial 12 with value: 0.3975.\n",
      "C:\\Users\\Administrator\\AppData\\Local\\Temp\\ipykernel_14812\\1993323069.py:6: FutureWarning: suggest_loguniform has been deprecated in v3.0.0. This feature will be removed in v6.0.0. See https://github.com/optuna/optuna/releases/tag/v3.0.0. Use suggest_float(..., log=True) instead.\n",
      "  'C': lambda trial: trial.suggest_loguniform('C', 1e-5, 1e5),\n",
      "c:\\Users\\Administrator\\Desktop\\Proyecto_ML Refuerzo\\ML_Refuerzo_Esther\\venv\\Lib\\site-packages\\sklearn\\linear_model\\_logistic.py:1247: FutureWarning: 'multi_class' was deprecated in version 1.5 and will be removed in 1.7. From then on, it will always use 'multinomial'. Leave it to its default value to avoid this warning.\n",
      "  warnings.warn(\n",
      "c:\\Users\\Administrator\\Desktop\\Proyecto_ML Refuerzo\\ML_Refuerzo_Esther\\venv\\Lib\\site-packages\\sklearn\\linear_model\\_logistic.py:1247: FutureWarning: 'multi_class' was deprecated in version 1.5 and will be removed in 1.7. From then on, it will always use 'multinomial'. Leave it to its default value to avoid this warning.\n",
      "  warnings.warn(\n",
      "c:\\Users\\Administrator\\Desktop\\Proyecto_ML Refuerzo\\ML_Refuerzo_Esther\\venv\\Lib\\site-packages\\sklearn\\linear_model\\_logistic.py:1247: FutureWarning: 'multi_class' was deprecated in version 1.5 and will be removed in 1.7. From then on, it will always use 'multinomial'. Leave it to its default value to avoid this warning.\n",
      "  warnings.warn(\n",
      "c:\\Users\\Administrator\\Desktop\\Proyecto_ML Refuerzo\\ML_Refuerzo_Esther\\venv\\Lib\\site-packages\\sklearn\\linear_model\\_logistic.py:1247: FutureWarning: 'multi_class' was deprecated in version 1.5 and will be removed in 1.7. From then on, it will always use 'multinomial'. Leave it to its default value to avoid this warning.\n",
      "  warnings.warn(\n",
      "c:\\Users\\Administrator\\Desktop\\Proyecto_ML Refuerzo\\ML_Refuerzo_Esther\\venv\\Lib\\site-packages\\sklearn\\linear_model\\_logistic.py:1247: FutureWarning: 'multi_class' was deprecated in version 1.5 and will be removed in 1.7. From then on, it will always use 'multinomial'. Leave it to its default value to avoid this warning.\n",
      "  warnings.warn(\n",
      "[I 2024-12-09 17:02:54,485] Trial 16 finished with value: 0.4 and parameters: {'C': 0.03486595685798221, 'solver': 'sag'}. Best is trial 16 with value: 0.4.\n",
      "C:\\Users\\Administrator\\AppData\\Local\\Temp\\ipykernel_14812\\1993323069.py:6: FutureWarning: suggest_loguniform has been deprecated in v3.0.0. This feature will be removed in v6.0.0. See https://github.com/optuna/optuna/releases/tag/v3.0.0. Use suggest_float(..., log=True) instead.\n",
      "  'C': lambda trial: trial.suggest_loguniform('C', 1e-5, 1e5),\n",
      "c:\\Users\\Administrator\\Desktop\\Proyecto_ML Refuerzo\\ML_Refuerzo_Esther\\venv\\Lib\\site-packages\\sklearn\\linear_model\\_logistic.py:1247: FutureWarning: 'multi_class' was deprecated in version 1.5 and will be removed in 1.7. From then on, it will always use 'multinomial'. Leave it to its default value to avoid this warning.\n",
      "  warnings.warn(\n",
      "c:\\Users\\Administrator\\Desktop\\Proyecto_ML Refuerzo\\ML_Refuerzo_Esther\\venv\\Lib\\site-packages\\sklearn\\linear_model\\_logistic.py:1247: FutureWarning: 'multi_class' was deprecated in version 1.5 and will be removed in 1.7. From then on, it will always use 'multinomial'. Leave it to its default value to avoid this warning.\n",
      "  warnings.warn(\n",
      "c:\\Users\\Administrator\\Desktop\\Proyecto_ML Refuerzo\\ML_Refuerzo_Esther\\venv\\Lib\\site-packages\\sklearn\\linear_model\\_logistic.py:1247: FutureWarning: 'multi_class' was deprecated in version 1.5 and will be removed in 1.7. From then on, it will always use 'multinomial'. Leave it to its default value to avoid this warning.\n",
      "  warnings.warn(\n",
      "c:\\Users\\Administrator\\Desktop\\Proyecto_ML Refuerzo\\ML_Refuerzo_Esther\\venv\\Lib\\site-packages\\sklearn\\linear_model\\_logistic.py:1247: FutureWarning: 'multi_class' was deprecated in version 1.5 and will be removed in 1.7. From then on, it will always use 'multinomial'. Leave it to its default value to avoid this warning.\n",
      "  warnings.warn(\n",
      "c:\\Users\\Administrator\\Desktop\\Proyecto_ML Refuerzo\\ML_Refuerzo_Esther\\venv\\Lib\\site-packages\\sklearn\\linear_model\\_logistic.py:1247: FutureWarning: 'multi_class' was deprecated in version 1.5 and will be removed in 1.7. From then on, it will always use 'multinomial'. Leave it to its default value to avoid this warning.\n",
      "  warnings.warn(\n",
      "[I 2024-12-09 17:02:54,576] Trial 17 finished with value: 0.395 and parameters: {'C': 8.39572533101094, 'solver': 'sag'}. Best is trial 16 with value: 0.4.\n",
      "C:\\Users\\Administrator\\AppData\\Local\\Temp\\ipykernel_14812\\1993323069.py:6: FutureWarning: suggest_loguniform has been deprecated in v3.0.0. This feature will be removed in v6.0.0. See https://github.com/optuna/optuna/releases/tag/v3.0.0. Use suggest_float(..., log=True) instead.\n",
      "  'C': lambda trial: trial.suggest_loguniform('C', 1e-5, 1e5),\n",
      "c:\\Users\\Administrator\\Desktop\\Proyecto_ML Refuerzo\\ML_Refuerzo_Esther\\venv\\Lib\\site-packages\\sklearn\\linear_model\\_logistic.py:1247: FutureWarning: 'multi_class' was deprecated in version 1.5 and will be removed in 1.7. From then on, it will always use 'multinomial'. Leave it to its default value to avoid this warning.\n",
      "  warnings.warn(\n",
      "c:\\Users\\Administrator\\Desktop\\Proyecto_ML Refuerzo\\ML_Refuerzo_Esther\\venv\\Lib\\site-packages\\sklearn\\linear_model\\_logistic.py:1247: FutureWarning: 'multi_class' was deprecated in version 1.5 and will be removed in 1.7. From then on, it will always use 'multinomial'. Leave it to its default value to avoid this warning.\n",
      "  warnings.warn(\n",
      "c:\\Users\\Administrator\\Desktop\\Proyecto_ML Refuerzo\\ML_Refuerzo_Esther\\venv\\Lib\\site-packages\\sklearn\\linear_model\\_logistic.py:1247: FutureWarning: 'multi_class' was deprecated in version 1.5 and will be removed in 1.7. From then on, it will always use 'multinomial'. Leave it to its default value to avoid this warning.\n",
      "  warnings.warn(\n",
      "c:\\Users\\Administrator\\Desktop\\Proyecto_ML Refuerzo\\ML_Refuerzo_Esther\\venv\\Lib\\site-packages\\sklearn\\linear_model\\_logistic.py:1247: FutureWarning: 'multi_class' was deprecated in version 1.5 and will be removed in 1.7. From then on, it will always use 'multinomial'. Leave it to its default value to avoid this warning.\n",
      "  warnings.warn(\n",
      "c:\\Users\\Administrator\\Desktop\\Proyecto_ML Refuerzo\\ML_Refuerzo_Esther\\venv\\Lib\\site-packages\\sklearn\\linear_model\\_logistic.py:1247: FutureWarning: 'multi_class' was deprecated in version 1.5 and will be removed in 1.7. From then on, it will always use 'multinomial'. Leave it to its default value to avoid this warning.\n",
      "  warnings.warn(\n",
      "[I 2024-12-09 17:02:54,635] Trial 18 finished with value: 0.30875 and parameters: {'C': 0.0001386084691021409, 'solver': 'sag'}. Best is trial 16 with value: 0.4.\n",
      "C:\\Users\\Administrator\\AppData\\Local\\Temp\\ipykernel_14812\\1993323069.py:6: FutureWarning: suggest_loguniform has been deprecated in v3.0.0. This feature will be removed in v6.0.0. See https://github.com/optuna/optuna/releases/tag/v3.0.0. Use suggest_float(..., log=True) instead.\n",
      "  'C': lambda trial: trial.suggest_loguniform('C', 1e-5, 1e5),\n",
      "c:\\Users\\Administrator\\Desktop\\Proyecto_ML Refuerzo\\ML_Refuerzo_Esther\\venv\\Lib\\site-packages\\sklearn\\linear_model\\_logistic.py:1247: FutureWarning: 'multi_class' was deprecated in version 1.5 and will be removed in 1.7. From then on, it will always use 'multinomial'. Leave it to its default value to avoid this warning.\n",
      "  warnings.warn(\n",
      "c:\\Users\\Administrator\\Desktop\\Proyecto_ML Refuerzo\\ML_Refuerzo_Esther\\venv\\Lib\\site-packages\\sklearn\\linear_model\\_logistic.py:1247: FutureWarning: 'multi_class' was deprecated in version 1.5 and will be removed in 1.7. From then on, it will always use 'multinomial'. Leave it to its default value to avoid this warning.\n",
      "  warnings.warn(\n",
      "c:\\Users\\Administrator\\Desktop\\Proyecto_ML Refuerzo\\ML_Refuerzo_Esther\\venv\\Lib\\site-packages\\sklearn\\linear_model\\_logistic.py:1247: FutureWarning: 'multi_class' was deprecated in version 1.5 and will be removed in 1.7. From then on, it will always use 'multinomial'. Leave it to its default value to avoid this warning.\n",
      "  warnings.warn(\n",
      "c:\\Users\\Administrator\\Desktop\\Proyecto_ML Refuerzo\\ML_Refuerzo_Esther\\venv\\Lib\\site-packages\\sklearn\\linear_model\\_logistic.py:1247: FutureWarning: 'multi_class' was deprecated in version 1.5 and will be removed in 1.7. From then on, it will always use 'multinomial'. Leave it to its default value to avoid this warning.\n",
      "  warnings.warn(\n",
      "c:\\Users\\Administrator\\Desktop\\Proyecto_ML Refuerzo\\ML_Refuerzo_Esther\\venv\\Lib\\site-packages\\sklearn\\linear_model\\_logistic.py:1247: FutureWarning: 'multi_class' was deprecated in version 1.5 and will be removed in 1.7. From then on, it will always use 'multinomial'. Leave it to its default value to avoid this warning.\n",
      "  warnings.warn(\n",
      "[I 2024-12-09 17:02:54,697] Trial 19 finished with value: 0.39875 and parameters: {'C': 0.03668805234446761, 'solver': 'sag'}. Best is trial 16 with value: 0.4.\n",
      "C:\\Users\\Administrator\\AppData\\Local\\Temp\\ipykernel_14812\\1993323069.py:6: FutureWarning: suggest_loguniform has been deprecated in v3.0.0. This feature will be removed in v6.0.0. See https://github.com/optuna/optuna/releases/tag/v3.0.0. Use suggest_float(..., log=True) instead.\n",
      "  'C': lambda trial: trial.suggest_loguniform('C', 1e-5, 1e5),\n",
      "c:\\Users\\Administrator\\Desktop\\Proyecto_ML Refuerzo\\ML_Refuerzo_Esther\\venv\\Lib\\site-packages\\sklearn\\linear_model\\_logistic.py:1247: FutureWarning: 'multi_class' was deprecated in version 1.5 and will be removed in 1.7. From then on, it will always use 'multinomial'. Leave it to its default value to avoid this warning.\n",
      "  warnings.warn(\n",
      "c:\\Users\\Administrator\\Desktop\\Proyecto_ML Refuerzo\\ML_Refuerzo_Esther\\venv\\Lib\\site-packages\\sklearn\\linear_model\\_logistic.py:1247: FutureWarning: 'multi_class' was deprecated in version 1.5 and will be removed in 1.7. From then on, it will always use 'multinomial'. Leave it to its default value to avoid this warning.\n",
      "  warnings.warn(\n",
      "c:\\Users\\Administrator\\Desktop\\Proyecto_ML Refuerzo\\ML_Refuerzo_Esther\\venv\\Lib\\site-packages\\sklearn\\linear_model\\_logistic.py:1247: FutureWarning: 'multi_class' was deprecated in version 1.5 and will be removed in 1.7. From then on, it will always use 'multinomial'. Leave it to its default value to avoid this warning.\n",
      "  warnings.warn(\n",
      "c:\\Users\\Administrator\\Desktop\\Proyecto_ML Refuerzo\\ML_Refuerzo_Esther\\venv\\Lib\\site-packages\\sklearn\\linear_model\\_logistic.py:1247: FutureWarning: 'multi_class' was deprecated in version 1.5 and will be removed in 1.7. From then on, it will always use 'multinomial'. Leave it to its default value to avoid this warning.\n",
      "  warnings.warn(\n",
      "c:\\Users\\Administrator\\Desktop\\Proyecto_ML Refuerzo\\ML_Refuerzo_Esther\\venv\\Lib\\site-packages\\sklearn\\linear_model\\_logistic.py:1247: FutureWarning: 'multi_class' was deprecated in version 1.5 and will be removed in 1.7. From then on, it will always use 'multinomial'. Leave it to its default value to avoid this warning.\n",
      "  warnings.warn(\n",
      "[I 2024-12-09 17:02:54,757] Trial 20 finished with value: 0.34 and parameters: {'C': 0.0003838757534595757, 'solver': 'sag'}. Best is trial 16 with value: 0.4.\n",
      "C:\\Users\\Administrator\\AppData\\Local\\Temp\\ipykernel_14812\\1993323069.py:6: FutureWarning: suggest_loguniform has been deprecated in v3.0.0. This feature will be removed in v6.0.0. See https://github.com/optuna/optuna/releases/tag/v3.0.0. Use suggest_float(..., log=True) instead.\n",
      "  'C': lambda trial: trial.suggest_loguniform('C', 1e-5, 1e5),\n",
      "c:\\Users\\Administrator\\Desktop\\Proyecto_ML Refuerzo\\ML_Refuerzo_Esther\\venv\\Lib\\site-packages\\sklearn\\linear_model\\_logistic.py:1247: FutureWarning: 'multi_class' was deprecated in version 1.5 and will be removed in 1.7. From then on, it will always use 'multinomial'. Leave it to its default value to avoid this warning.\n",
      "  warnings.warn(\n",
      "c:\\Users\\Administrator\\Desktop\\Proyecto_ML Refuerzo\\ML_Refuerzo_Esther\\venv\\Lib\\site-packages\\sklearn\\linear_model\\_logistic.py:1247: FutureWarning: 'multi_class' was deprecated in version 1.5 and will be removed in 1.7. From then on, it will always use 'multinomial'. Leave it to its default value to avoid this warning.\n",
      "  warnings.warn(\n",
      "c:\\Users\\Administrator\\Desktop\\Proyecto_ML Refuerzo\\ML_Refuerzo_Esther\\venv\\Lib\\site-packages\\sklearn\\linear_model\\_logistic.py:1247: FutureWarning: 'multi_class' was deprecated in version 1.5 and will be removed in 1.7. From then on, it will always use 'multinomial'. Leave it to its default value to avoid this warning.\n",
      "  warnings.warn(\n",
      "c:\\Users\\Administrator\\Desktop\\Proyecto_ML Refuerzo\\ML_Refuerzo_Esther\\venv\\Lib\\site-packages\\sklearn\\linear_model\\_logistic.py:1247: FutureWarning: 'multi_class' was deprecated in version 1.5 and will be removed in 1.7. From then on, it will always use 'multinomial'. Leave it to its default value to avoid this warning.\n",
      "  warnings.warn(\n",
      "c:\\Users\\Administrator\\Desktop\\Proyecto_ML Refuerzo\\ML_Refuerzo_Esther\\venv\\Lib\\site-packages\\sklearn\\linear_model\\_logistic.py:1247: FutureWarning: 'multi_class' was deprecated in version 1.5 and will be removed in 1.7. From then on, it will always use 'multinomial'. Leave it to its default value to avoid this warning.\n",
      "  warnings.warn(\n",
      "[I 2024-12-09 17:02:54,822] Trial 21 finished with value: 0.39625000000000005 and parameters: {'C': 0.04235454487600628, 'solver': 'sag'}. Best is trial 16 with value: 0.4.\n",
      "C:\\Users\\Administrator\\AppData\\Local\\Temp\\ipykernel_14812\\1993323069.py:6: FutureWarning: suggest_loguniform has been deprecated in v3.0.0. This feature will be removed in v6.0.0. See https://github.com/optuna/optuna/releases/tag/v3.0.0. Use suggest_float(..., log=True) instead.\n",
      "  'C': lambda trial: trial.suggest_loguniform('C', 1e-5, 1e5),\n",
      "c:\\Users\\Administrator\\Desktop\\Proyecto_ML Refuerzo\\ML_Refuerzo_Esther\\venv\\Lib\\site-packages\\sklearn\\linear_model\\_logistic.py:1247: FutureWarning: 'multi_class' was deprecated in version 1.5 and will be removed in 1.7. From then on, it will always use 'multinomial'. Leave it to its default value to avoid this warning.\n",
      "  warnings.warn(\n",
      "c:\\Users\\Administrator\\Desktop\\Proyecto_ML Refuerzo\\ML_Refuerzo_Esther\\venv\\Lib\\site-packages\\sklearn\\linear_model\\_logistic.py:1247: FutureWarning: 'multi_class' was deprecated in version 1.5 and will be removed in 1.7. From then on, it will always use 'multinomial'. Leave it to its default value to avoid this warning.\n",
      "  warnings.warn(\n",
      "c:\\Users\\Administrator\\Desktop\\Proyecto_ML Refuerzo\\ML_Refuerzo_Esther\\venv\\Lib\\site-packages\\sklearn\\linear_model\\_logistic.py:1247: FutureWarning: 'multi_class' was deprecated in version 1.5 and will be removed in 1.7. From then on, it will always use 'multinomial'. Leave it to its default value to avoid this warning.\n",
      "  warnings.warn(\n",
      "c:\\Users\\Administrator\\Desktop\\Proyecto_ML Refuerzo\\ML_Refuerzo_Esther\\venv\\Lib\\site-packages\\sklearn\\linear_model\\_logistic.py:1247: FutureWarning: 'multi_class' was deprecated in version 1.5 and will be removed in 1.7. From then on, it will always use 'multinomial'. Leave it to its default value to avoid this warning.\n",
      "  warnings.warn(\n",
      "c:\\Users\\Administrator\\Desktop\\Proyecto_ML Refuerzo\\ML_Refuerzo_Esther\\venv\\Lib\\site-packages\\sklearn\\linear_model\\_logistic.py:1247: FutureWarning: 'multi_class' was deprecated in version 1.5 and will be removed in 1.7. From then on, it will always use 'multinomial'. Leave it to its default value to avoid this warning.\n",
      "  warnings.warn(\n",
      "[I 2024-12-09 17:02:54,916] Trial 22 finished with value: 0.39499999999999996 and parameters: {'C': 1.6107139820102525, 'solver': 'sag'}. Best is trial 16 with value: 0.4.\n",
      "C:\\Users\\Administrator\\AppData\\Local\\Temp\\ipykernel_14812\\1993323069.py:6: FutureWarning: suggest_loguniform has been deprecated in v3.0.0. This feature will be removed in v6.0.0. See https://github.com/optuna/optuna/releases/tag/v3.0.0. Use suggest_float(..., log=True) instead.\n",
      "  'C': lambda trial: trial.suggest_loguniform('C', 1e-5, 1e5),\n",
      "c:\\Users\\Administrator\\Desktop\\Proyecto_ML Refuerzo\\ML_Refuerzo_Esther\\venv\\Lib\\site-packages\\sklearn\\linear_model\\_logistic.py:1247: FutureWarning: 'multi_class' was deprecated in version 1.5 and will be removed in 1.7. From then on, it will always use 'multinomial'. Leave it to its default value to avoid this warning.\n",
      "  warnings.warn(\n",
      "c:\\Users\\Administrator\\Desktop\\Proyecto_ML Refuerzo\\ML_Refuerzo_Esther\\venv\\Lib\\site-packages\\sklearn\\linear_model\\_logistic.py:1247: FutureWarning: 'multi_class' was deprecated in version 1.5 and will be removed in 1.7. From then on, it will always use 'multinomial'. Leave it to its default value to avoid this warning.\n",
      "  warnings.warn(\n",
      "c:\\Users\\Administrator\\Desktop\\Proyecto_ML Refuerzo\\ML_Refuerzo_Esther\\venv\\Lib\\site-packages\\sklearn\\linear_model\\_logistic.py:1247: FutureWarning: 'multi_class' was deprecated in version 1.5 and will be removed in 1.7. From then on, it will always use 'multinomial'. Leave it to its default value to avoid this warning.\n",
      "  warnings.warn(\n",
      "c:\\Users\\Administrator\\Desktop\\Proyecto_ML Refuerzo\\ML_Refuerzo_Esther\\venv\\Lib\\site-packages\\sklearn\\linear_model\\_logistic.py:1247: FutureWarning: 'multi_class' was deprecated in version 1.5 and will be removed in 1.7. From then on, it will always use 'multinomial'. Leave it to its default value to avoid this warning.\n",
      "  warnings.warn(\n",
      "c:\\Users\\Administrator\\Desktop\\Proyecto_ML Refuerzo\\ML_Refuerzo_Esther\\venv\\Lib\\site-packages\\sklearn\\linear_model\\_logistic.py:1247: FutureWarning: 'multi_class' was deprecated in version 1.5 and will be removed in 1.7. From then on, it will always use 'multinomial'. Leave it to its default value to avoid this warning.\n",
      "  warnings.warn(\n",
      "[I 2024-12-09 17:02:54,977] Trial 23 finished with value: 0.38125 and parameters: {'C': 0.0010969062724234136, 'solver': 'sag'}. Best is trial 16 with value: 0.4.\n",
      "C:\\Users\\Administrator\\AppData\\Local\\Temp\\ipykernel_14812\\1993323069.py:6: FutureWarning: suggest_loguniform has been deprecated in v3.0.0. This feature will be removed in v6.0.0. See https://github.com/optuna/optuna/releases/tag/v3.0.0. Use suggest_float(..., log=True) instead.\n",
      "  'C': lambda trial: trial.suggest_loguniform('C', 1e-5, 1e5),\n",
      "c:\\Users\\Administrator\\Desktop\\Proyecto_ML Refuerzo\\ML_Refuerzo_Esther\\venv\\Lib\\site-packages\\sklearn\\linear_model\\_logistic.py:1247: FutureWarning: 'multi_class' was deprecated in version 1.5 and will be removed in 1.7. From then on, it will always use 'multinomial'. Leave it to its default value to avoid this warning.\n",
      "  warnings.warn(\n",
      "c:\\Users\\Administrator\\Desktop\\Proyecto_ML Refuerzo\\ML_Refuerzo_Esther\\venv\\Lib\\site-packages\\sklearn\\linear_model\\_logistic.py:1247: FutureWarning: 'multi_class' was deprecated in version 1.5 and will be removed in 1.7. From then on, it will always use 'multinomial'. Leave it to its default value to avoid this warning.\n",
      "  warnings.warn(\n",
      "c:\\Users\\Administrator\\Desktop\\Proyecto_ML Refuerzo\\ML_Refuerzo_Esther\\venv\\Lib\\site-packages\\sklearn\\linear_model\\_logistic.py:1247: FutureWarning: 'multi_class' was deprecated in version 1.5 and will be removed in 1.7. From then on, it will always use 'multinomial'. Leave it to its default value to avoid this warning.\n",
      "  warnings.warn(\n",
      "c:\\Users\\Administrator\\Desktop\\Proyecto_ML Refuerzo\\ML_Refuerzo_Esther\\venv\\Lib\\site-packages\\sklearn\\linear_model\\_logistic.py:1247: FutureWarning: 'multi_class' was deprecated in version 1.5 and will be removed in 1.7. From then on, it will always use 'multinomial'. Leave it to its default value to avoid this warning.\n",
      "  warnings.warn(\n",
      "c:\\Users\\Administrator\\Desktop\\Proyecto_ML Refuerzo\\ML_Refuerzo_Esther\\venv\\Lib\\site-packages\\sklearn\\linear_model\\_logistic.py:1247: FutureWarning: 'multi_class' was deprecated in version 1.5 and will be removed in 1.7. From then on, it will always use 'multinomial'. Leave it to its default value to avoid this warning.\n",
      "  warnings.warn(\n",
      "[I 2024-12-09 17:02:55,041] Trial 24 finished with value: 0.39375 and parameters: {'C': 0.053132053439589946, 'solver': 'saga'}. Best is trial 16 with value: 0.4.\n",
      "C:\\Users\\Administrator\\AppData\\Local\\Temp\\ipykernel_14812\\1993323069.py:6: FutureWarning: suggest_loguniform has been deprecated in v3.0.0. This feature will be removed in v6.0.0. See https://github.com/optuna/optuna/releases/tag/v3.0.0. Use suggest_float(..., log=True) instead.\n",
      "  'C': lambda trial: trial.suggest_loguniform('C', 1e-5, 1e5),\n",
      "c:\\Users\\Administrator\\Desktop\\Proyecto_ML Refuerzo\\ML_Refuerzo_Esther\\venv\\Lib\\site-packages\\sklearn\\linear_model\\_logistic.py:1247: FutureWarning: 'multi_class' was deprecated in version 1.5 and will be removed in 1.7. From then on, it will always use 'multinomial'. Leave it to its default value to avoid this warning.\n",
      "  warnings.warn(\n",
      "c:\\Users\\Administrator\\Desktop\\Proyecto_ML Refuerzo\\ML_Refuerzo_Esther\\venv\\Lib\\site-packages\\sklearn\\linear_model\\_logistic.py:1247: FutureWarning: 'multi_class' was deprecated in version 1.5 and will be removed in 1.7. From then on, it will always use 'multinomial'. Leave it to its default value to avoid this warning.\n",
      "  warnings.warn(\n",
      "c:\\Users\\Administrator\\Desktop\\Proyecto_ML Refuerzo\\ML_Refuerzo_Esther\\venv\\Lib\\site-packages\\sklearn\\linear_model\\_logistic.py:1247: FutureWarning: 'multi_class' was deprecated in version 1.5 and will be removed in 1.7. From then on, it will always use 'multinomial'. Leave it to its default value to avoid this warning.\n",
      "  warnings.warn(\n",
      "c:\\Users\\Administrator\\Desktop\\Proyecto_ML Refuerzo\\ML_Refuerzo_Esther\\venv\\Lib\\site-packages\\sklearn\\linear_model\\_logistic.py:1247: FutureWarning: 'multi_class' was deprecated in version 1.5 and will be removed in 1.7. From then on, it will always use 'multinomial'. Leave it to its default value to avoid this warning.\n",
      "  warnings.warn(\n",
      "c:\\Users\\Administrator\\Desktop\\Proyecto_ML Refuerzo\\ML_Refuerzo_Esther\\venv\\Lib\\site-packages\\sklearn\\linear_model\\_logistic.py:1247: FutureWarning: 'multi_class' was deprecated in version 1.5 and will be removed in 1.7. From then on, it will always use 'multinomial'. Leave it to its default value to avoid this warning.\n",
      "  warnings.warn(\n",
      "[I 2024-12-09 17:02:55,098] Trial 25 finished with value: 0.39374999999999993 and parameters: {'C': 0.929452263508954, 'solver': 'lbfgs'}. Best is trial 16 with value: 0.4.\n",
      "C:\\Users\\Administrator\\AppData\\Local\\Temp\\ipykernel_14812\\1993323069.py:6: FutureWarning: suggest_loguniform has been deprecated in v3.0.0. This feature will be removed in v6.0.0. See https://github.com/optuna/optuna/releases/tag/v3.0.0. Use suggest_float(..., log=True) instead.\n",
      "  'C': lambda trial: trial.suggest_loguniform('C', 1e-5, 1e5),\n",
      "c:\\Users\\Administrator\\Desktop\\Proyecto_ML Refuerzo\\ML_Refuerzo_Esther\\venv\\Lib\\site-packages\\sklearn\\linear_model\\_logistic.py:1247: FutureWarning: 'multi_class' was deprecated in version 1.5 and will be removed in 1.7. From then on, it will always use 'multinomial'. Leave it to its default value to avoid this warning.\n",
      "  warnings.warn(\n",
      "c:\\Users\\Administrator\\Desktop\\Proyecto_ML Refuerzo\\ML_Refuerzo_Esther\\venv\\Lib\\site-packages\\sklearn\\linear_model\\_logistic.py:1247: FutureWarning: 'multi_class' was deprecated in version 1.5 and will be removed in 1.7. From then on, it will always use 'multinomial'. Leave it to its default value to avoid this warning.\n",
      "  warnings.warn(\n",
      "c:\\Users\\Administrator\\Desktop\\Proyecto_ML Refuerzo\\ML_Refuerzo_Esther\\venv\\Lib\\site-packages\\sklearn\\linear_model\\_logistic.py:1247: FutureWarning: 'multi_class' was deprecated in version 1.5 and will be removed in 1.7. From then on, it will always use 'multinomial'. Leave it to its default value to avoid this warning.\n",
      "  warnings.warn(\n",
      "c:\\Users\\Administrator\\Desktop\\Proyecto_ML Refuerzo\\ML_Refuerzo_Esther\\venv\\Lib\\site-packages\\sklearn\\linear_model\\_logistic.py:1247: FutureWarning: 'multi_class' was deprecated in version 1.5 and will be removed in 1.7. From then on, it will always use 'multinomial'. Leave it to its default value to avoid this warning.\n",
      "  warnings.warn(\n",
      "c:\\Users\\Administrator\\Desktop\\Proyecto_ML Refuerzo\\ML_Refuerzo_Esther\\venv\\Lib\\site-packages\\sklearn\\linear_model\\_logistic.py:1247: FutureWarning: 'multi_class' was deprecated in version 1.5 and will be removed in 1.7. From then on, it will always use 'multinomial'. Leave it to its default value to avoid this warning.\n",
      "  warnings.warn(\n",
      "[I 2024-12-09 17:02:55,159] Trial 26 finished with value: 0.39749999999999996 and parameters: {'C': 0.01577506334331026, 'solver': 'sag'}. Best is trial 16 with value: 0.4.\n",
      "C:\\Users\\Administrator\\AppData\\Local\\Temp\\ipykernel_14812\\1993323069.py:6: FutureWarning: suggest_loguniform has been deprecated in v3.0.0. This feature will be removed in v6.0.0. See https://github.com/optuna/optuna/releases/tag/v3.0.0. Use suggest_float(..., log=True) instead.\n",
      "  'C': lambda trial: trial.suggest_loguniform('C', 1e-5, 1e5),\n",
      "c:\\Users\\Administrator\\Desktop\\Proyecto_ML Refuerzo\\ML_Refuerzo_Esther\\venv\\Lib\\site-packages\\sklearn\\linear_model\\_logistic.py:1247: FutureWarning: 'multi_class' was deprecated in version 1.5 and will be removed in 1.7. From then on, it will always use 'multinomial'. Leave it to its default value to avoid this warning.\n",
      "  warnings.warn(\n",
      "c:\\Users\\Administrator\\Desktop\\Proyecto_ML Refuerzo\\ML_Refuerzo_Esther\\venv\\Lib\\site-packages\\sklearn\\linear_model\\_logistic.py:1247: FutureWarning: 'multi_class' was deprecated in version 1.5 and will be removed in 1.7. From then on, it will always use 'multinomial'. Leave it to its default value to avoid this warning.\n",
      "  warnings.warn(\n",
      "c:\\Users\\Administrator\\Desktop\\Proyecto_ML Refuerzo\\ML_Refuerzo_Esther\\venv\\Lib\\site-packages\\sklearn\\linear_model\\_logistic.py:1247: FutureWarning: 'multi_class' was deprecated in version 1.5 and will be removed in 1.7. From then on, it will always use 'multinomial'. Leave it to its default value to avoid this warning.\n",
      "  warnings.warn(\n",
      "c:\\Users\\Administrator\\Desktop\\Proyecto_ML Refuerzo\\ML_Refuerzo_Esther\\venv\\Lib\\site-packages\\sklearn\\linear_model\\_logistic.py:1247: FutureWarning: 'multi_class' was deprecated in version 1.5 and will be removed in 1.7. From then on, it will always use 'multinomial'. Leave it to its default value to avoid this warning.\n",
      "  warnings.warn(\n",
      "c:\\Users\\Administrator\\Desktop\\Proyecto_ML Refuerzo\\ML_Refuerzo_Esther\\venv\\Lib\\site-packages\\sklearn\\linear_model\\_logistic.py:1247: FutureWarning: 'multi_class' was deprecated in version 1.5 and will be removed in 1.7. From then on, it will always use 'multinomial'. Leave it to its default value to avoid this warning.\n",
      "  warnings.warn(\n",
      "[I 2024-12-09 17:02:55,260] Trial 27 finished with value: 0.39375 and parameters: {'C': 78879.32815256993, 'solver': 'sag'}. Best is trial 16 with value: 0.4.\n",
      "C:\\Users\\Administrator\\AppData\\Local\\Temp\\ipykernel_14812\\1993323069.py:6: FutureWarning: suggest_loguniform has been deprecated in v3.0.0. This feature will be removed in v6.0.0. See https://github.com/optuna/optuna/releases/tag/v3.0.0. Use suggest_float(..., log=True) instead.\n",
      "  'C': lambda trial: trial.suggest_loguniform('C', 1e-5, 1e5),\n",
      "c:\\Users\\Administrator\\Desktop\\Proyecto_ML Refuerzo\\ML_Refuerzo_Esther\\venv\\Lib\\site-packages\\sklearn\\linear_model\\_logistic.py:1247: FutureWarning: 'multi_class' was deprecated in version 1.5 and will be removed in 1.7. From then on, it will always use 'multinomial'. Leave it to its default value to avoid this warning.\n",
      "  warnings.warn(\n",
      "c:\\Users\\Administrator\\Desktop\\Proyecto_ML Refuerzo\\ML_Refuerzo_Esther\\venv\\Lib\\site-packages\\sklearn\\linear_model\\_logistic.py:1247: FutureWarning: 'multi_class' was deprecated in version 1.5 and will be removed in 1.7. From then on, it will always use 'multinomial'. Leave it to its default value to avoid this warning.\n",
      "  warnings.warn(\n",
      "c:\\Users\\Administrator\\Desktop\\Proyecto_ML Refuerzo\\ML_Refuerzo_Esther\\venv\\Lib\\site-packages\\sklearn\\linear_model\\_logistic.py:1247: FutureWarning: 'multi_class' was deprecated in version 1.5 and will be removed in 1.7. From then on, it will always use 'multinomial'. Leave it to its default value to avoid this warning.\n",
      "  warnings.warn(\n",
      "c:\\Users\\Administrator\\Desktop\\Proyecto_ML Refuerzo\\ML_Refuerzo_Esther\\venv\\Lib\\site-packages\\sklearn\\linear_model\\_logistic.py:1247: FutureWarning: 'multi_class' was deprecated in version 1.5 and will be removed in 1.7. From then on, it will always use 'multinomial'. Leave it to its default value to avoid this warning.\n",
      "  warnings.warn(\n",
      "c:\\Users\\Administrator\\Desktop\\Proyecto_ML Refuerzo\\ML_Refuerzo_Esther\\venv\\Lib\\site-packages\\sklearn\\linear_model\\_logistic.py:1247: FutureWarning: 'multi_class' was deprecated in version 1.5 and will be removed in 1.7. From then on, it will always use 'multinomial'. Leave it to its default value to avoid this warning.\n",
      "  warnings.warn(\n",
      "[I 2024-12-09 17:02:55,320] Trial 28 finished with value: 0.395 and parameters: {'C': 5.5604714875931665, 'solver': 'lbfgs'}. Best is trial 16 with value: 0.4.\n",
      "C:\\Users\\Administrator\\AppData\\Local\\Temp\\ipykernel_14812\\1993323069.py:6: FutureWarning: suggest_loguniform has been deprecated in v3.0.0. This feature will be removed in v6.0.0. See https://github.com/optuna/optuna/releases/tag/v3.0.0. Use suggest_float(..., log=True) instead.\n",
      "  'C': lambda trial: trial.suggest_loguniform('C', 1e-5, 1e5),\n",
      "c:\\Users\\Administrator\\Desktop\\Proyecto_ML Refuerzo\\ML_Refuerzo_Esther\\venv\\Lib\\site-packages\\sklearn\\linear_model\\_logistic.py:1247: FutureWarning: 'multi_class' was deprecated in version 1.5 and will be removed in 1.7. From then on, it will always use 'multinomial'. Leave it to its default value to avoid this warning.\n",
      "  warnings.warn(\n",
      "c:\\Users\\Administrator\\Desktop\\Proyecto_ML Refuerzo\\ML_Refuerzo_Esther\\venv\\Lib\\site-packages\\sklearn\\linear_model\\_logistic.py:1247: FutureWarning: 'multi_class' was deprecated in version 1.5 and will be removed in 1.7. From then on, it will always use 'multinomial'. Leave it to its default value to avoid this warning.\n",
      "  warnings.warn(\n",
      "c:\\Users\\Administrator\\Desktop\\Proyecto_ML Refuerzo\\ML_Refuerzo_Esther\\venv\\Lib\\site-packages\\sklearn\\linear_model\\_logistic.py:1247: FutureWarning: 'multi_class' was deprecated in version 1.5 and will be removed in 1.7. From then on, it will always use 'multinomial'. Leave it to its default value to avoid this warning.\n",
      "  warnings.warn(\n",
      "c:\\Users\\Administrator\\Desktop\\Proyecto_ML Refuerzo\\ML_Refuerzo_Esther\\venv\\Lib\\site-packages\\sklearn\\linear_model\\_logistic.py:1247: FutureWarning: 'multi_class' was deprecated in version 1.5 and will be removed in 1.7. From then on, it will always use 'multinomial'. Leave it to its default value to avoid this warning.\n",
      "  warnings.warn(\n",
      "c:\\Users\\Administrator\\Desktop\\Proyecto_ML Refuerzo\\ML_Refuerzo_Esther\\venv\\Lib\\site-packages\\sklearn\\linear_model\\_logistic.py:1247: FutureWarning: 'multi_class' was deprecated in version 1.5 and will be removed in 1.7. From then on, it will always use 'multinomial'. Leave it to its default value to avoid this warning.\n",
      "  warnings.warn(\n",
      "[I 2024-12-09 17:02:55,380] Trial 29 finished with value: 0.39249999999999996 and parameters: {'C': 0.14178967818125449, 'solver': 'lbfgs'}. Best is trial 16 with value: 0.4.\n",
      "C:\\Users\\Administrator\\AppData\\Local\\Temp\\ipykernel_14812\\1993323069.py:6: FutureWarning: suggest_loguniform has been deprecated in v3.0.0. This feature will be removed in v6.0.0. See https://github.com/optuna/optuna/releases/tag/v3.0.0. Use suggest_float(..., log=True) instead.\n",
      "  'C': lambda trial: trial.suggest_loguniform('C', 1e-5, 1e5),\n",
      "c:\\Users\\Administrator\\Desktop\\Proyecto_ML Refuerzo\\ML_Refuerzo_Esther\\venv\\Lib\\site-packages\\sklearn\\linear_model\\_logistic.py:1247: FutureWarning: 'multi_class' was deprecated in version 1.5 and will be removed in 1.7. From then on, it will always use 'multinomial'. Leave it to its default value to avoid this warning.\n",
      "  warnings.warn(\n",
      "c:\\Users\\Administrator\\Desktop\\Proyecto_ML Refuerzo\\ML_Refuerzo_Esther\\venv\\Lib\\site-packages\\sklearn\\linear_model\\_logistic.py:1247: FutureWarning: 'multi_class' was deprecated in version 1.5 and will be removed in 1.7. From then on, it will always use 'multinomial'. Leave it to its default value to avoid this warning.\n",
      "  warnings.warn(\n",
      "c:\\Users\\Administrator\\Desktop\\Proyecto_ML Refuerzo\\ML_Refuerzo_Esther\\venv\\Lib\\site-packages\\sklearn\\linear_model\\_logistic.py:1247: FutureWarning: 'multi_class' was deprecated in version 1.5 and will be removed in 1.7. From then on, it will always use 'multinomial'. Leave it to its default value to avoid this warning.\n",
      "  warnings.warn(\n",
      "c:\\Users\\Administrator\\Desktop\\Proyecto_ML Refuerzo\\ML_Refuerzo_Esther\\venv\\Lib\\site-packages\\sklearn\\linear_model\\_logistic.py:1247: FutureWarning: 'multi_class' was deprecated in version 1.5 and will be removed in 1.7. From then on, it will always use 'multinomial'. Leave it to its default value to avoid this warning.\n",
      "  warnings.warn(\n",
      "c:\\Users\\Administrator\\Desktop\\Proyecto_ML Refuerzo\\ML_Refuerzo_Esther\\venv\\Lib\\site-packages\\sklearn\\linear_model\\_logistic.py:1247: FutureWarning: 'multi_class' was deprecated in version 1.5 and will be removed in 1.7. From then on, it will always use 'multinomial'. Leave it to its default value to avoid this warning.\n",
      "  warnings.warn(\n",
      "[I 2024-12-09 17:02:55,450] Trial 30 finished with value: 0.39249999999999996 and parameters: {'C': 0.3987882592351398, 'solver': 'saga'}. Best is trial 16 with value: 0.4.\n",
      "C:\\Users\\Administrator\\AppData\\Local\\Temp\\ipykernel_14812\\1993323069.py:6: FutureWarning: suggest_loguniform has been deprecated in v3.0.0. This feature will be removed in v6.0.0. See https://github.com/optuna/optuna/releases/tag/v3.0.0. Use suggest_float(..., log=True) instead.\n",
      "  'C': lambda trial: trial.suggest_loguniform('C', 1e-5, 1e5),\n",
      "c:\\Users\\Administrator\\Desktop\\Proyecto_ML Refuerzo\\ML_Refuerzo_Esther\\venv\\Lib\\site-packages\\sklearn\\linear_model\\_logistic.py:1247: FutureWarning: 'multi_class' was deprecated in version 1.5 and will be removed in 1.7. From then on, it will always use 'multinomial'. Leave it to its default value to avoid this warning.\n",
      "  warnings.warn(\n",
      "c:\\Users\\Administrator\\Desktop\\Proyecto_ML Refuerzo\\ML_Refuerzo_Esther\\venv\\Lib\\site-packages\\sklearn\\linear_model\\_logistic.py:1247: FutureWarning: 'multi_class' was deprecated in version 1.5 and will be removed in 1.7. From then on, it will always use 'multinomial'. Leave it to its default value to avoid this warning.\n",
      "  warnings.warn(\n",
      "c:\\Users\\Administrator\\Desktop\\Proyecto_ML Refuerzo\\ML_Refuerzo_Esther\\venv\\Lib\\site-packages\\sklearn\\linear_model\\_logistic.py:1247: FutureWarning: 'multi_class' was deprecated in version 1.5 and will be removed in 1.7. From then on, it will always use 'multinomial'. Leave it to its default value to avoid this warning.\n",
      "  warnings.warn(\n",
      "c:\\Users\\Administrator\\Desktop\\Proyecto_ML Refuerzo\\ML_Refuerzo_Esther\\venv\\Lib\\site-packages\\sklearn\\linear_model\\_logistic.py:1247: FutureWarning: 'multi_class' was deprecated in version 1.5 and will be removed in 1.7. From then on, it will always use 'multinomial'. Leave it to its default value to avoid this warning.\n",
      "  warnings.warn(\n",
      "c:\\Users\\Administrator\\Desktop\\Proyecto_ML Refuerzo\\ML_Refuerzo_Esther\\venv\\Lib\\site-packages\\sklearn\\linear_model\\_logistic.py:1247: FutureWarning: 'multi_class' was deprecated in version 1.5 and will be removed in 1.7. From then on, it will always use 'multinomial'. Leave it to its default value to avoid this warning.\n",
      "  warnings.warn(\n",
      "[I 2024-12-09 17:02:55,517] Trial 31 finished with value: 0.39749999999999996 and parameters: {'C': 0.015355061107147662, 'solver': 'sag'}. Best is trial 16 with value: 0.4.\n",
      "C:\\Users\\Administrator\\AppData\\Local\\Temp\\ipykernel_14812\\1993323069.py:6: FutureWarning: suggest_loguniform has been deprecated in v3.0.0. This feature will be removed in v6.0.0. See https://github.com/optuna/optuna/releases/tag/v3.0.0. Use suggest_float(..., log=True) instead.\n",
      "  'C': lambda trial: trial.suggest_loguniform('C', 1e-5, 1e5),\n",
      "c:\\Users\\Administrator\\Desktop\\Proyecto_ML Refuerzo\\ML_Refuerzo_Esther\\venv\\Lib\\site-packages\\sklearn\\linear_model\\_logistic.py:1247: FutureWarning: 'multi_class' was deprecated in version 1.5 and will be removed in 1.7. From then on, it will always use 'multinomial'. Leave it to its default value to avoid this warning.\n",
      "  warnings.warn(\n",
      "c:\\Users\\Administrator\\Desktop\\Proyecto_ML Refuerzo\\ML_Refuerzo_Esther\\venv\\Lib\\site-packages\\sklearn\\linear_model\\_logistic.py:1247: FutureWarning: 'multi_class' was deprecated in version 1.5 and will be removed in 1.7. From then on, it will always use 'multinomial'. Leave it to its default value to avoid this warning.\n",
      "  warnings.warn(\n",
      "c:\\Users\\Administrator\\Desktop\\Proyecto_ML Refuerzo\\ML_Refuerzo_Esther\\venv\\Lib\\site-packages\\sklearn\\linear_model\\_logistic.py:1247: FutureWarning: 'multi_class' was deprecated in version 1.5 and will be removed in 1.7. From then on, it will always use 'multinomial'. Leave it to its default value to avoid this warning.\n",
      "  warnings.warn(\n",
      "c:\\Users\\Administrator\\Desktop\\Proyecto_ML Refuerzo\\ML_Refuerzo_Esther\\venv\\Lib\\site-packages\\sklearn\\linear_model\\_logistic.py:1247: FutureWarning: 'multi_class' was deprecated in version 1.5 and will be removed in 1.7. From then on, it will always use 'multinomial'. Leave it to its default value to avoid this warning.\n",
      "  warnings.warn(\n",
      "c:\\Users\\Administrator\\Desktop\\Proyecto_ML Refuerzo\\ML_Refuerzo_Esther\\venv\\Lib\\site-packages\\sklearn\\linear_model\\_logistic.py:1247: FutureWarning: 'multi_class' was deprecated in version 1.5 and will be removed in 1.7. From then on, it will always use 'multinomial'. Leave it to its default value to avoid this warning.\n",
      "  warnings.warn(\n",
      "[I 2024-12-09 17:02:55,576] Trial 32 finished with value: 0.37625000000000003 and parameters: {'C': 0.0018178412457676174, 'solver': 'sag'}. Best is trial 16 with value: 0.4.\n",
      "C:\\Users\\Administrator\\AppData\\Local\\Temp\\ipykernel_14812\\1993323069.py:6: FutureWarning: suggest_loguniform has been deprecated in v3.0.0. This feature will be removed in v6.0.0. See https://github.com/optuna/optuna/releases/tag/v3.0.0. Use suggest_float(..., log=True) instead.\n",
      "  'C': lambda trial: trial.suggest_loguniform('C', 1e-5, 1e5),\n",
      "c:\\Users\\Administrator\\Desktop\\Proyecto_ML Refuerzo\\ML_Refuerzo_Esther\\venv\\Lib\\site-packages\\sklearn\\linear_model\\_logistic.py:1247: FutureWarning: 'multi_class' was deprecated in version 1.5 and will be removed in 1.7. From then on, it will always use 'multinomial'. Leave it to its default value to avoid this warning.\n",
      "  warnings.warn(\n",
      "c:\\Users\\Administrator\\Desktop\\Proyecto_ML Refuerzo\\ML_Refuerzo_Esther\\venv\\Lib\\site-packages\\sklearn\\linear_model\\_logistic.py:1247: FutureWarning: 'multi_class' was deprecated in version 1.5 and will be removed in 1.7. From then on, it will always use 'multinomial'. Leave it to its default value to avoid this warning.\n",
      "  warnings.warn(\n",
      "c:\\Users\\Administrator\\Desktop\\Proyecto_ML Refuerzo\\ML_Refuerzo_Esther\\venv\\Lib\\site-packages\\sklearn\\linear_model\\_logistic.py:1247: FutureWarning: 'multi_class' was deprecated in version 1.5 and will be removed in 1.7. From then on, it will always use 'multinomial'. Leave it to its default value to avoid this warning.\n",
      "  warnings.warn(\n",
      "c:\\Users\\Administrator\\Desktop\\Proyecto_ML Refuerzo\\ML_Refuerzo_Esther\\venv\\Lib\\site-packages\\sklearn\\linear_model\\_logistic.py:1247: FutureWarning: 'multi_class' was deprecated in version 1.5 and will be removed in 1.7. From then on, it will always use 'multinomial'. Leave it to its default value to avoid this warning.\n",
      "  warnings.warn(\n",
      "c:\\Users\\Administrator\\Desktop\\Proyecto_ML Refuerzo\\ML_Refuerzo_Esther\\venv\\Lib\\site-packages\\sklearn\\linear_model\\_logistic.py:1247: FutureWarning: 'multi_class' was deprecated in version 1.5 and will be removed in 1.7. From then on, it will always use 'multinomial'. Leave it to its default value to avoid this warning.\n",
      "  warnings.warn(\n",
      "[I 2024-12-09 17:02:55,651] Trial 33 finished with value: 0.395 and parameters: {'C': 0.10627250392133732, 'solver': 'sag'}. Best is trial 16 with value: 0.4.\n",
      "C:\\Users\\Administrator\\AppData\\Local\\Temp\\ipykernel_14812\\1993323069.py:6: FutureWarning: suggest_loguniform has been deprecated in v3.0.0. This feature will be removed in v6.0.0. See https://github.com/optuna/optuna/releases/tag/v3.0.0. Use suggest_float(..., log=True) instead.\n",
      "  'C': lambda trial: trial.suggest_loguniform('C', 1e-5, 1e5),\n",
      "c:\\Users\\Administrator\\Desktop\\Proyecto_ML Refuerzo\\ML_Refuerzo_Esther\\venv\\Lib\\site-packages\\sklearn\\linear_model\\_logistic.py:1247: FutureWarning: 'multi_class' was deprecated in version 1.5 and will be removed in 1.7. From then on, it will always use 'multinomial'. Leave it to its default value to avoid this warning.\n",
      "  warnings.warn(\n",
      "c:\\Users\\Administrator\\Desktop\\Proyecto_ML Refuerzo\\ML_Refuerzo_Esther\\venv\\Lib\\site-packages\\sklearn\\linear_model\\_logistic.py:1247: FutureWarning: 'multi_class' was deprecated in version 1.5 and will be removed in 1.7. From then on, it will always use 'multinomial'. Leave it to its default value to avoid this warning.\n",
      "  warnings.warn(\n",
      "c:\\Users\\Administrator\\Desktop\\Proyecto_ML Refuerzo\\ML_Refuerzo_Esther\\venv\\Lib\\site-packages\\sklearn\\linear_model\\_logistic.py:1247: FutureWarning: 'multi_class' was deprecated in version 1.5 and will be removed in 1.7. From then on, it will always use 'multinomial'. Leave it to its default value to avoid this warning.\n",
      "  warnings.warn(\n",
      "c:\\Users\\Administrator\\Desktop\\Proyecto_ML Refuerzo\\ML_Refuerzo_Esther\\venv\\Lib\\site-packages\\sklearn\\linear_model\\_logistic.py:1247: FutureWarning: 'multi_class' was deprecated in version 1.5 and will be removed in 1.7. From then on, it will always use 'multinomial'. Leave it to its default value to avoid this warning.\n",
      "  warnings.warn(\n",
      "c:\\Users\\Administrator\\Desktop\\Proyecto_ML Refuerzo\\ML_Refuerzo_Esther\\venv\\Lib\\site-packages\\sklearn\\linear_model\\_logistic.py:1247: FutureWarning: 'multi_class' was deprecated in version 1.5 and will be removed in 1.7. From then on, it will always use 'multinomial'. Leave it to its default value to avoid this warning.\n",
      "  warnings.warn(\n",
      "[I 2024-12-09 17:02:55,713] Trial 34 finished with value: 0.4 and parameters: {'C': 0.013838535913501501, 'solver': 'sag'}. Best is trial 16 with value: 0.4.\n",
      "C:\\Users\\Administrator\\AppData\\Local\\Temp\\ipykernel_14812\\1993323069.py:6: FutureWarning: suggest_loguniform has been deprecated in v3.0.0. This feature will be removed in v6.0.0. See https://github.com/optuna/optuna/releases/tag/v3.0.0. Use suggest_float(..., log=True) instead.\n",
      "  'C': lambda trial: trial.suggest_loguniform('C', 1e-5, 1e5),\n",
      "c:\\Users\\Administrator\\Desktop\\Proyecto_ML Refuerzo\\ML_Refuerzo_Esther\\venv\\Lib\\site-packages\\sklearn\\linear_model\\_logistic.py:1247: FutureWarning: 'multi_class' was deprecated in version 1.5 and will be removed in 1.7. From then on, it will always use 'multinomial'. Leave it to its default value to avoid this warning.\n",
      "  warnings.warn(\n",
      "c:\\Users\\Administrator\\Desktop\\Proyecto_ML Refuerzo\\ML_Refuerzo_Esther\\venv\\Lib\\site-packages\\sklearn\\linear_model\\_logistic.py:1247: FutureWarning: 'multi_class' was deprecated in version 1.5 and will be removed in 1.7. From then on, it will always use 'multinomial'. Leave it to its default value to avoid this warning.\n",
      "  warnings.warn(\n",
      "c:\\Users\\Administrator\\Desktop\\Proyecto_ML Refuerzo\\ML_Refuerzo_Esther\\venv\\Lib\\site-packages\\sklearn\\linear_model\\_logistic.py:1247: FutureWarning: 'multi_class' was deprecated in version 1.5 and will be removed in 1.7. From then on, it will always use 'multinomial'. Leave it to its default value to avoid this warning.\n",
      "  warnings.warn(\n",
      "c:\\Users\\Administrator\\Desktop\\Proyecto_ML Refuerzo\\ML_Refuerzo_Esther\\venv\\Lib\\site-packages\\sklearn\\linear_model\\_logistic.py:1247: FutureWarning: 'multi_class' was deprecated in version 1.5 and will be removed in 1.7. From then on, it will always use 'multinomial'. Leave it to its default value to avoid this warning.\n",
      "  warnings.warn(\n",
      "c:\\Users\\Administrator\\Desktop\\Proyecto_ML Refuerzo\\ML_Refuerzo_Esther\\venv\\Lib\\site-packages\\sklearn\\linear_model\\_logistic.py:1247: FutureWarning: 'multi_class' was deprecated in version 1.5 and will be removed in 1.7. From then on, it will always use 'multinomial'. Leave it to its default value to avoid this warning.\n",
      "  warnings.warn(\n",
      "[I 2024-12-09 17:02:55,776] Trial 35 finished with value: 0.365 and parameters: {'C': 0.0007389258901651204, 'solver': 'sag'}. Best is trial 16 with value: 0.4.\n",
      "C:\\Users\\Administrator\\AppData\\Local\\Temp\\ipykernel_14812\\1993323069.py:6: FutureWarning: suggest_loguniform has been deprecated in v3.0.0. This feature will be removed in v6.0.0. See https://github.com/optuna/optuna/releases/tag/v3.0.0. Use suggest_float(..., log=True) instead.\n",
      "  'C': lambda trial: trial.suggest_loguniform('C', 1e-5, 1e5),\n",
      "c:\\Users\\Administrator\\Desktop\\Proyecto_ML Refuerzo\\ML_Refuerzo_Esther\\venv\\Lib\\site-packages\\sklearn\\linear_model\\_logistic.py:1247: FutureWarning: 'multi_class' was deprecated in version 1.5 and will be removed in 1.7. From then on, it will always use 'multinomial'. Leave it to its default value to avoid this warning.\n",
      "  warnings.warn(\n",
      "c:\\Users\\Administrator\\Desktop\\Proyecto_ML Refuerzo\\ML_Refuerzo_Esther\\venv\\Lib\\site-packages\\sklearn\\linear_model\\_logistic.py:1247: FutureWarning: 'multi_class' was deprecated in version 1.5 and will be removed in 1.7. From then on, it will always use 'multinomial'. Leave it to its default value to avoid this warning.\n",
      "  warnings.warn(\n",
      "c:\\Users\\Administrator\\Desktop\\Proyecto_ML Refuerzo\\ML_Refuerzo_Esther\\venv\\Lib\\site-packages\\sklearn\\linear_model\\_logistic.py:1247: FutureWarning: 'multi_class' was deprecated in version 1.5 and will be removed in 1.7. From then on, it will always use 'multinomial'. Leave it to its default value to avoid this warning.\n",
      "  warnings.warn(\n",
      "c:\\Users\\Administrator\\Desktop\\Proyecto_ML Refuerzo\\ML_Refuerzo_Esther\\venv\\Lib\\site-packages\\sklearn\\linear_model\\_logistic.py:1247: FutureWarning: 'multi_class' was deprecated in version 1.5 and will be removed in 1.7. From then on, it will always use 'multinomial'. Leave it to its default value to avoid this warning.\n",
      "  warnings.warn(\n",
      "c:\\Users\\Administrator\\Desktop\\Proyecto_ML Refuerzo\\ML_Refuerzo_Esther\\venv\\Lib\\site-packages\\sklearn\\linear_model\\_logistic.py:1247: FutureWarning: 'multi_class' was deprecated in version 1.5 and will be removed in 1.7. From then on, it will always use 'multinomial'. Leave it to its default value to avoid this warning.\n",
      "  warnings.warn(\n",
      "[I 2024-12-09 17:02:55,831] Trial 36 finished with value: 0.39875 and parameters: {'C': 0.014505344668821347, 'solver': 'lbfgs'}. Best is trial 16 with value: 0.4.\n",
      "C:\\Users\\Administrator\\AppData\\Local\\Temp\\ipykernel_14812\\1993323069.py:6: FutureWarning: suggest_loguniform has been deprecated in v3.0.0. This feature will be removed in v6.0.0. See https://github.com/optuna/optuna/releases/tag/v3.0.0. Use suggest_float(..., log=True) instead.\n",
      "  'C': lambda trial: trial.suggest_loguniform('C', 1e-5, 1e5),\n",
      "c:\\Users\\Administrator\\Desktop\\Proyecto_ML Refuerzo\\ML_Refuerzo_Esther\\venv\\Lib\\site-packages\\sklearn\\linear_model\\_logistic.py:1247: FutureWarning: 'multi_class' was deprecated in version 1.5 and will be removed in 1.7. From then on, it will always use 'multinomial'. Leave it to its default value to avoid this warning.\n",
      "  warnings.warn(\n",
      "c:\\Users\\Administrator\\Desktop\\Proyecto_ML Refuerzo\\ML_Refuerzo_Esther\\venv\\Lib\\site-packages\\sklearn\\linear_model\\_logistic.py:1247: FutureWarning: 'multi_class' was deprecated in version 1.5 and will be removed in 1.7. From then on, it will always use 'multinomial'. Leave it to its default value to avoid this warning.\n",
      "  warnings.warn(\n",
      "c:\\Users\\Administrator\\Desktop\\Proyecto_ML Refuerzo\\ML_Refuerzo_Esther\\venv\\Lib\\site-packages\\sklearn\\linear_model\\_logistic.py:1247: FutureWarning: 'multi_class' was deprecated in version 1.5 and will be removed in 1.7. From then on, it will always use 'multinomial'. Leave it to its default value to avoid this warning.\n",
      "  warnings.warn(\n",
      "c:\\Users\\Administrator\\Desktop\\Proyecto_ML Refuerzo\\ML_Refuerzo_Esther\\venv\\Lib\\site-packages\\sklearn\\linear_model\\_logistic.py:1247: FutureWarning: 'multi_class' was deprecated in version 1.5 and will be removed in 1.7. From then on, it will always use 'multinomial'. Leave it to its default value to avoid this warning.\n",
      "  warnings.warn(\n",
      "c:\\Users\\Administrator\\Desktop\\Proyecto_ML Refuerzo\\ML_Refuerzo_Esther\\venv\\Lib\\site-packages\\sklearn\\linear_model\\_logistic.py:1247: FutureWarning: 'multi_class' was deprecated in version 1.5 and will be removed in 1.7. From then on, it will always use 'multinomial'. Leave it to its default value to avoid this warning.\n",
      "  warnings.warn(\n",
      "[I 2024-12-09 17:02:55,894] Trial 37 finished with value: 0.40125 and parameters: {'C': 0.009566319313503295, 'solver': 'sag'}. Best is trial 37 with value: 0.40125.\n",
      "C:\\Users\\Administrator\\AppData\\Local\\Temp\\ipykernel_14812\\1993323069.py:6: FutureWarning: suggest_loguniform has been deprecated in v3.0.0. This feature will be removed in v6.0.0. See https://github.com/optuna/optuna/releases/tag/v3.0.0. Use suggest_float(..., log=True) instead.\n",
      "  'C': lambda trial: trial.suggest_loguniform('C', 1e-5, 1e5),\n",
      "c:\\Users\\Administrator\\Desktop\\Proyecto_ML Refuerzo\\ML_Refuerzo_Esther\\venv\\Lib\\site-packages\\sklearn\\linear_model\\_logistic.py:1247: FutureWarning: 'multi_class' was deprecated in version 1.5 and will be removed in 1.7. From then on, it will always use 'multinomial'. Leave it to its default value to avoid this warning.\n",
      "  warnings.warn(\n",
      "c:\\Users\\Administrator\\Desktop\\Proyecto_ML Refuerzo\\ML_Refuerzo_Esther\\venv\\Lib\\site-packages\\sklearn\\linear_model\\_logistic.py:1247: FutureWarning: 'multi_class' was deprecated in version 1.5 and will be removed in 1.7. From then on, it will always use 'multinomial'. Leave it to its default value to avoid this warning.\n",
      "  warnings.warn(\n",
      "c:\\Users\\Administrator\\Desktop\\Proyecto_ML Refuerzo\\ML_Refuerzo_Esther\\venv\\Lib\\site-packages\\sklearn\\linear_model\\_logistic.py:1247: FutureWarning: 'multi_class' was deprecated in version 1.5 and will be removed in 1.7. From then on, it will always use 'multinomial'. Leave it to its default value to avoid this warning.\n",
      "  warnings.warn(\n",
      "c:\\Users\\Administrator\\Desktop\\Proyecto_ML Refuerzo\\ML_Refuerzo_Esther\\venv\\Lib\\site-packages\\sklearn\\linear_model\\_logistic.py:1247: FutureWarning: 'multi_class' was deprecated in version 1.5 and will be removed in 1.7. From then on, it will always use 'multinomial'. Leave it to its default value to avoid this warning.\n",
      "  warnings.warn(\n",
      "c:\\Users\\Administrator\\Desktop\\Proyecto_ML Refuerzo\\ML_Refuerzo_Esther\\venv\\Lib\\site-packages\\sklearn\\linear_model\\_logistic.py:1247: FutureWarning: 'multi_class' was deprecated in version 1.5 and will be removed in 1.7. From then on, it will always use 'multinomial'. Leave it to its default value to avoid this warning.\n",
      "  warnings.warn(\n",
      "[I 2024-12-09 17:02:55,956] Trial 38 finished with value: 0.28125 and parameters: {'C': 1.688934133120666e-05, 'solver': 'sag'}. Best is trial 37 with value: 0.40125.\n",
      "C:\\Users\\Administrator\\AppData\\Local\\Temp\\ipykernel_14812\\1993323069.py:6: FutureWarning: suggest_loguniform has been deprecated in v3.0.0. This feature will be removed in v6.0.0. See https://github.com/optuna/optuna/releases/tag/v3.0.0. Use suggest_float(..., log=True) instead.\n",
      "  'C': lambda trial: trial.suggest_loguniform('C', 1e-5, 1e5),\n",
      "c:\\Users\\Administrator\\Desktop\\Proyecto_ML Refuerzo\\ML_Refuerzo_Esther\\venv\\Lib\\site-packages\\sklearn\\linear_model\\_logistic.py:1247: FutureWarning: 'multi_class' was deprecated in version 1.5 and will be removed in 1.7. From then on, it will always use 'multinomial'. Leave it to its default value to avoid this warning.\n",
      "  warnings.warn(\n",
      "c:\\Users\\Administrator\\Desktop\\Proyecto_ML Refuerzo\\ML_Refuerzo_Esther\\venv\\Lib\\site-packages\\sklearn\\linear_model\\_logistic.py:1247: FutureWarning: 'multi_class' was deprecated in version 1.5 and will be removed in 1.7. From then on, it will always use 'multinomial'. Leave it to its default value to avoid this warning.\n",
      "  warnings.warn(\n",
      "c:\\Users\\Administrator\\Desktop\\Proyecto_ML Refuerzo\\ML_Refuerzo_Esther\\venv\\Lib\\site-packages\\sklearn\\linear_model\\_logistic.py:1247: FutureWarning: 'multi_class' was deprecated in version 1.5 and will be removed in 1.7. From then on, it will always use 'multinomial'. Leave it to its default value to avoid this warning.\n",
      "  warnings.warn(\n",
      "c:\\Users\\Administrator\\Desktop\\Proyecto_ML Refuerzo\\ML_Refuerzo_Esther\\venv\\Lib\\site-packages\\sklearn\\linear_model\\_logistic.py:1247: FutureWarning: 'multi_class' was deprecated in version 1.5 and will be removed in 1.7. From then on, it will always use 'multinomial'. Leave it to its default value to avoid this warning.\n",
      "  warnings.warn(\n",
      "c:\\Users\\Administrator\\Desktop\\Proyecto_ML Refuerzo\\ML_Refuerzo_Esther\\venv\\Lib\\site-packages\\sklearn\\linear_model\\_logistic.py:1247: FutureWarning: 'multi_class' was deprecated in version 1.5 and will be removed in 1.7. From then on, it will always use 'multinomial'. Leave it to its default value to avoid this warning.\n",
      "  warnings.warn(\n",
      "[I 2024-12-09 17:02:56,037] Trial 39 finished with value: 0.395 and parameters: {'C': 0.3317780632217158, 'solver': 'sag'}. Best is trial 37 with value: 0.40125.\n",
      "C:\\Users\\Administrator\\AppData\\Local\\Temp\\ipykernel_14812\\1993323069.py:6: FutureWarning: suggest_loguniform has been deprecated in v3.0.0. This feature will be removed in v6.0.0. See https://github.com/optuna/optuna/releases/tag/v3.0.0. Use suggest_float(..., log=True) instead.\n",
      "  'C': lambda trial: trial.suggest_loguniform('C', 1e-5, 1e5),\n",
      "c:\\Users\\Administrator\\Desktop\\Proyecto_ML Refuerzo\\ML_Refuerzo_Esther\\venv\\Lib\\site-packages\\sklearn\\linear_model\\_logistic.py:1247: FutureWarning: 'multi_class' was deprecated in version 1.5 and will be removed in 1.7. From then on, it will always use 'multinomial'. Leave it to its default value to avoid this warning.\n",
      "  warnings.warn(\n",
      "c:\\Users\\Administrator\\Desktop\\Proyecto_ML Refuerzo\\ML_Refuerzo_Esther\\venv\\Lib\\site-packages\\sklearn\\linear_model\\_logistic.py:1247: FutureWarning: 'multi_class' was deprecated in version 1.5 and will be removed in 1.7. From then on, it will always use 'multinomial'. Leave it to its default value to avoid this warning.\n",
      "  warnings.warn(\n",
      "c:\\Users\\Administrator\\Desktop\\Proyecto_ML Refuerzo\\ML_Refuerzo_Esther\\venv\\Lib\\site-packages\\sklearn\\linear_model\\_logistic.py:1247: FutureWarning: 'multi_class' was deprecated in version 1.5 and will be removed in 1.7. From then on, it will always use 'multinomial'. Leave it to its default value to avoid this warning.\n",
      "  warnings.warn(\n",
      "c:\\Users\\Administrator\\Desktop\\Proyecto_ML Refuerzo\\ML_Refuerzo_Esther\\venv\\Lib\\site-packages\\sklearn\\linear_model\\_logistic.py:1247: FutureWarning: 'multi_class' was deprecated in version 1.5 and will be removed in 1.7. From then on, it will always use 'multinomial'. Leave it to its default value to avoid this warning.\n",
      "  warnings.warn(\n",
      "c:\\Users\\Administrator\\Desktop\\Proyecto_ML Refuerzo\\ML_Refuerzo_Esther\\venv\\Lib\\site-packages\\sklearn\\linear_model\\_logistic.py:1247: FutureWarning: 'multi_class' was deprecated in version 1.5 and will be removed in 1.7. From then on, it will always use 'multinomial'. Leave it to its default value to avoid this warning.\n",
      "  warnings.warn(\n",
      "[I 2024-12-09 17:02:56,099] Trial 40 finished with value: 0.32125000000000004 and parameters: {'C': 0.0002457488786027929, 'solver': 'sag'}. Best is trial 37 with value: 0.40125.\n",
      "C:\\Users\\Administrator\\AppData\\Local\\Temp\\ipykernel_14812\\1993323069.py:6: FutureWarning: suggest_loguniform has been deprecated in v3.0.0. This feature will be removed in v6.0.0. See https://github.com/optuna/optuna/releases/tag/v3.0.0. Use suggest_float(..., log=True) instead.\n",
      "  'C': lambda trial: trial.suggest_loguniform('C', 1e-5, 1e5),\n",
      "c:\\Users\\Administrator\\Desktop\\Proyecto_ML Refuerzo\\ML_Refuerzo_Esther\\venv\\Lib\\site-packages\\sklearn\\linear_model\\_logistic.py:1247: FutureWarning: 'multi_class' was deprecated in version 1.5 and will be removed in 1.7. From then on, it will always use 'multinomial'. Leave it to its default value to avoid this warning.\n",
      "  warnings.warn(\n",
      "c:\\Users\\Administrator\\Desktop\\Proyecto_ML Refuerzo\\ML_Refuerzo_Esther\\venv\\Lib\\site-packages\\sklearn\\linear_model\\_logistic.py:1247: FutureWarning: 'multi_class' was deprecated in version 1.5 and will be removed in 1.7. From then on, it will always use 'multinomial'. Leave it to its default value to avoid this warning.\n",
      "  warnings.warn(\n",
      "c:\\Users\\Administrator\\Desktop\\Proyecto_ML Refuerzo\\ML_Refuerzo_Esther\\venv\\Lib\\site-packages\\sklearn\\linear_model\\_logistic.py:1247: FutureWarning: 'multi_class' was deprecated in version 1.5 and will be removed in 1.7. From then on, it will always use 'multinomial'. Leave it to its default value to avoid this warning.\n",
      "  warnings.warn(\n",
      "c:\\Users\\Administrator\\Desktop\\Proyecto_ML Refuerzo\\ML_Refuerzo_Esther\\venv\\Lib\\site-packages\\sklearn\\linear_model\\_logistic.py:1247: FutureWarning: 'multi_class' was deprecated in version 1.5 and will be removed in 1.7. From then on, it will always use 'multinomial'. Leave it to its default value to avoid this warning.\n",
      "  warnings.warn(\n",
      "c:\\Users\\Administrator\\Desktop\\Proyecto_ML Refuerzo\\ML_Refuerzo_Esther\\venv\\Lib\\site-packages\\sklearn\\linear_model\\_logistic.py:1247: FutureWarning: 'multi_class' was deprecated in version 1.5 and will be removed in 1.7. From then on, it will always use 'multinomial'. Leave it to its default value to avoid this warning.\n",
      "  warnings.warn(\n",
      "[I 2024-12-09 17:02:56,159] Trial 41 finished with value: 0.39 and parameters: {'C': 0.005396607632200518, 'solver': 'sag'}. Best is trial 37 with value: 0.40125.\n",
      "C:\\Users\\Administrator\\AppData\\Local\\Temp\\ipykernel_14812\\1993323069.py:6: FutureWarning: suggest_loguniform has been deprecated in v3.0.0. This feature will be removed in v6.0.0. See https://github.com/optuna/optuna/releases/tag/v3.0.0. Use suggest_float(..., log=True) instead.\n",
      "  'C': lambda trial: trial.suggest_loguniform('C', 1e-5, 1e5),\n",
      "c:\\Users\\Administrator\\Desktop\\Proyecto_ML Refuerzo\\ML_Refuerzo_Esther\\venv\\Lib\\site-packages\\sklearn\\linear_model\\_logistic.py:1247: FutureWarning: 'multi_class' was deprecated in version 1.5 and will be removed in 1.7. From then on, it will always use 'multinomial'. Leave it to its default value to avoid this warning.\n",
      "  warnings.warn(\n",
      "c:\\Users\\Administrator\\Desktop\\Proyecto_ML Refuerzo\\ML_Refuerzo_Esther\\venv\\Lib\\site-packages\\sklearn\\linear_model\\_logistic.py:1247: FutureWarning: 'multi_class' was deprecated in version 1.5 and will be removed in 1.7. From then on, it will always use 'multinomial'. Leave it to its default value to avoid this warning.\n",
      "  warnings.warn(\n",
      "c:\\Users\\Administrator\\Desktop\\Proyecto_ML Refuerzo\\ML_Refuerzo_Esther\\venv\\Lib\\site-packages\\sklearn\\linear_model\\_logistic.py:1247: FutureWarning: 'multi_class' was deprecated in version 1.5 and will be removed in 1.7. From then on, it will always use 'multinomial'. Leave it to its default value to avoid this warning.\n",
      "  warnings.warn(\n",
      "c:\\Users\\Administrator\\Desktop\\Proyecto_ML Refuerzo\\ML_Refuerzo_Esther\\venv\\Lib\\site-packages\\sklearn\\linear_model\\_logistic.py:1247: FutureWarning: 'multi_class' was deprecated in version 1.5 and will be removed in 1.7. From then on, it will always use 'multinomial'. Leave it to its default value to avoid this warning.\n",
      "  warnings.warn(\n",
      "c:\\Users\\Administrator\\Desktop\\Proyecto_ML Refuerzo\\ML_Refuerzo_Esther\\venv\\Lib\\site-packages\\sklearn\\linear_model\\_logistic.py:1247: FutureWarning: 'multi_class' was deprecated in version 1.5 and will be removed in 1.7. From then on, it will always use 'multinomial'. Leave it to its default value to avoid this warning.\n",
      "  warnings.warn(\n",
      "[I 2024-12-09 17:02:56,220] Trial 42 finished with value: 0.4 and parameters: {'C': 0.014265555113969739, 'solver': 'sag'}. Best is trial 37 with value: 0.40125.\n",
      "C:\\Users\\Administrator\\AppData\\Local\\Temp\\ipykernel_14812\\1993323069.py:6: FutureWarning: suggest_loguniform has been deprecated in v3.0.0. This feature will be removed in v6.0.0. See https://github.com/optuna/optuna/releases/tag/v3.0.0. Use suggest_float(..., log=True) instead.\n",
      "  'C': lambda trial: trial.suggest_loguniform('C', 1e-5, 1e5),\n",
      "c:\\Users\\Administrator\\Desktop\\Proyecto_ML Refuerzo\\ML_Refuerzo_Esther\\venv\\Lib\\site-packages\\sklearn\\linear_model\\_logistic.py:1247: FutureWarning: 'multi_class' was deprecated in version 1.5 and will be removed in 1.7. From then on, it will always use 'multinomial'. Leave it to its default value to avoid this warning.\n",
      "  warnings.warn(\n",
      "c:\\Users\\Administrator\\Desktop\\Proyecto_ML Refuerzo\\ML_Refuerzo_Esther\\venv\\Lib\\site-packages\\sklearn\\linear_model\\_logistic.py:1247: FutureWarning: 'multi_class' was deprecated in version 1.5 and will be removed in 1.7. From then on, it will always use 'multinomial'. Leave it to its default value to avoid this warning.\n",
      "  warnings.warn(\n",
      "c:\\Users\\Administrator\\Desktop\\Proyecto_ML Refuerzo\\ML_Refuerzo_Esther\\venv\\Lib\\site-packages\\sklearn\\linear_model\\_logistic.py:1247: FutureWarning: 'multi_class' was deprecated in version 1.5 and will be removed in 1.7. From then on, it will always use 'multinomial'. Leave it to its default value to avoid this warning.\n",
      "  warnings.warn(\n",
      "c:\\Users\\Administrator\\Desktop\\Proyecto_ML Refuerzo\\ML_Refuerzo_Esther\\venv\\Lib\\site-packages\\sklearn\\linear_model\\_logistic.py:1247: FutureWarning: 'multi_class' was deprecated in version 1.5 and will be removed in 1.7. From then on, it will always use 'multinomial'. Leave it to its default value to avoid this warning.\n",
      "  warnings.warn(\n",
      "c:\\Users\\Administrator\\Desktop\\Proyecto_ML Refuerzo\\ML_Refuerzo_Esther\\venv\\Lib\\site-packages\\sklearn\\linear_model\\_logistic.py:1247: FutureWarning: 'multi_class' was deprecated in version 1.5 and will be removed in 1.7. From then on, it will always use 'multinomial'. Leave it to its default value to avoid this warning.\n",
      "  warnings.warn(\n",
      "[I 2024-12-09 17:02:56,293] Trial 43 finished with value: 0.39375 and parameters: {'C': 0.1352931906597865, 'solver': 'sag'}. Best is trial 37 with value: 0.40125.\n",
      "C:\\Users\\Administrator\\AppData\\Local\\Temp\\ipykernel_14812\\1993323069.py:6: FutureWarning: suggest_loguniform has been deprecated in v3.0.0. This feature will be removed in v6.0.0. See https://github.com/optuna/optuna/releases/tag/v3.0.0. Use suggest_float(..., log=True) instead.\n",
      "  'C': lambda trial: trial.suggest_loguniform('C', 1e-5, 1e5),\n",
      "c:\\Users\\Administrator\\Desktop\\Proyecto_ML Refuerzo\\ML_Refuerzo_Esther\\venv\\Lib\\site-packages\\sklearn\\linear_model\\_logistic.py:1247: FutureWarning: 'multi_class' was deprecated in version 1.5 and will be removed in 1.7. From then on, it will always use 'multinomial'. Leave it to its default value to avoid this warning.\n",
      "  warnings.warn(\n",
      "c:\\Users\\Administrator\\Desktop\\Proyecto_ML Refuerzo\\ML_Refuerzo_Esther\\venv\\Lib\\site-packages\\sklearn\\linear_model\\_logistic.py:1247: FutureWarning: 'multi_class' was deprecated in version 1.5 and will be removed in 1.7. From then on, it will always use 'multinomial'. Leave it to its default value to avoid this warning.\n",
      "  warnings.warn(\n",
      "c:\\Users\\Administrator\\Desktop\\Proyecto_ML Refuerzo\\ML_Refuerzo_Esther\\venv\\Lib\\site-packages\\sklearn\\linear_model\\_logistic.py:1247: FutureWarning: 'multi_class' was deprecated in version 1.5 and will be removed in 1.7. From then on, it will always use 'multinomial'. Leave it to its default value to avoid this warning.\n",
      "  warnings.warn(\n",
      "c:\\Users\\Administrator\\Desktop\\Proyecto_ML Refuerzo\\ML_Refuerzo_Esther\\venv\\Lib\\site-packages\\sklearn\\linear_model\\_logistic.py:1247: FutureWarning: 'multi_class' was deprecated in version 1.5 and will be removed in 1.7. From then on, it will always use 'multinomial'. Leave it to its default value to avoid this warning.\n",
      "  warnings.warn(\n",
      "c:\\Users\\Administrator\\Desktop\\Proyecto_ML Refuerzo\\ML_Refuerzo_Esther\\venv\\Lib\\site-packages\\sklearn\\linear_model\\_logistic.py:1247: FutureWarning: 'multi_class' was deprecated in version 1.5 and will be removed in 1.7. From then on, it will always use 'multinomial'. Leave it to its default value to avoid this warning.\n",
      "  warnings.warn(\n",
      "[I 2024-12-09 17:02:56,351] Trial 44 finished with value: 0.28125 and parameters: {'C': 5.886799260734703e-05, 'solver': 'sag'}. Best is trial 37 with value: 0.40125.\n",
      "C:\\Users\\Administrator\\AppData\\Local\\Temp\\ipykernel_14812\\1993323069.py:6: FutureWarning: suggest_loguniform has been deprecated in v3.0.0. This feature will be removed in v6.0.0. See https://github.com/optuna/optuna/releases/tag/v3.0.0. Use suggest_float(..., log=True) instead.\n",
      "  'C': lambda trial: trial.suggest_loguniform('C', 1e-5, 1e5),\n",
      "c:\\Users\\Administrator\\Desktop\\Proyecto_ML Refuerzo\\ML_Refuerzo_Esther\\venv\\Lib\\site-packages\\sklearn\\linear_model\\_logistic.py:1247: FutureWarning: 'multi_class' was deprecated in version 1.5 and will be removed in 1.7. From then on, it will always use 'multinomial'. Leave it to its default value to avoid this warning.\n",
      "  warnings.warn(\n",
      "c:\\Users\\Administrator\\Desktop\\Proyecto_ML Refuerzo\\ML_Refuerzo_Esther\\venv\\Lib\\site-packages\\sklearn\\linear_model\\_logistic.py:1247: FutureWarning: 'multi_class' was deprecated in version 1.5 and will be removed in 1.7. From then on, it will always use 'multinomial'. Leave it to its default value to avoid this warning.\n",
      "  warnings.warn(\n",
      "c:\\Users\\Administrator\\Desktop\\Proyecto_ML Refuerzo\\ML_Refuerzo_Esther\\venv\\Lib\\site-packages\\sklearn\\linear_model\\_logistic.py:1247: FutureWarning: 'multi_class' was deprecated in version 1.5 and will be removed in 1.7. From then on, it will always use 'multinomial'. Leave it to its default value to avoid this warning.\n",
      "  warnings.warn(\n",
      "c:\\Users\\Administrator\\Desktop\\Proyecto_ML Refuerzo\\ML_Refuerzo_Esther\\venv\\Lib\\site-packages\\sklearn\\linear_model\\_logistic.py:1247: FutureWarning: 'multi_class' was deprecated in version 1.5 and will be removed in 1.7. From then on, it will always use 'multinomial'. Leave it to its default value to avoid this warning.\n",
      "  warnings.warn(\n",
      "c:\\Users\\Administrator\\Desktop\\Proyecto_ML Refuerzo\\ML_Refuerzo_Esther\\venv\\Lib\\site-packages\\sklearn\\linear_model\\_logistic.py:1247: FutureWarning: 'multi_class' was deprecated in version 1.5 and will be removed in 1.7. From then on, it will always use 'multinomial'. Leave it to its default value to avoid this warning.\n",
      "  warnings.warn(\n",
      "[I 2024-12-09 17:02:56,411] Trial 45 finished with value: 0.38125 and parameters: {'C': 0.0020689587002297727, 'solver': 'sag'}. Best is trial 37 with value: 0.40125.\n",
      "C:\\Users\\Administrator\\AppData\\Local\\Temp\\ipykernel_14812\\1993323069.py:6: FutureWarning: suggest_loguniform has been deprecated in v3.0.0. This feature will be removed in v6.0.0. See https://github.com/optuna/optuna/releases/tag/v3.0.0. Use suggest_float(..., log=True) instead.\n",
      "  'C': lambda trial: trial.suggest_loguniform('C', 1e-5, 1e5),\n",
      "c:\\Users\\Administrator\\Desktop\\Proyecto_ML Refuerzo\\ML_Refuerzo_Esther\\venv\\Lib\\site-packages\\sklearn\\linear_model\\_logistic.py:1247: FutureWarning: 'multi_class' was deprecated in version 1.5 and will be removed in 1.7. From then on, it will always use 'multinomial'. Leave it to its default value to avoid this warning.\n",
      "  warnings.warn(\n",
      "c:\\Users\\Administrator\\Desktop\\Proyecto_ML Refuerzo\\ML_Refuerzo_Esther\\venv\\Lib\\site-packages\\sklearn\\linear_model\\_logistic.py:1247: FutureWarning: 'multi_class' was deprecated in version 1.5 and will be removed in 1.7. From then on, it will always use 'multinomial'. Leave it to its default value to avoid this warning.\n",
      "  warnings.warn(\n",
      "c:\\Users\\Administrator\\Desktop\\Proyecto_ML Refuerzo\\ML_Refuerzo_Esther\\venv\\Lib\\site-packages\\sklearn\\linear_model\\_logistic.py:1247: FutureWarning: 'multi_class' was deprecated in version 1.5 and will be removed in 1.7. From then on, it will always use 'multinomial'. Leave it to its default value to avoid this warning.\n",
      "  warnings.warn(\n",
      "c:\\Users\\Administrator\\Desktop\\Proyecto_ML Refuerzo\\ML_Refuerzo_Esther\\venv\\Lib\\site-packages\\sklearn\\linear_model\\_logistic.py:1247: FutureWarning: 'multi_class' was deprecated in version 1.5 and will be removed in 1.7. From then on, it will always use 'multinomial'. Leave it to its default value to avoid this warning.\n",
      "  warnings.warn(\n",
      "c:\\Users\\Administrator\\Desktop\\Proyecto_ML Refuerzo\\ML_Refuerzo_Esther\\venv\\Lib\\site-packages\\sklearn\\linear_model\\_logistic.py:1247: FutureWarning: 'multi_class' was deprecated in version 1.5 and will be removed in 1.7. From then on, it will always use 'multinomial'. Leave it to its default value to avoid this warning.\n",
      "  warnings.warn(\n",
      "[I 2024-12-09 17:02:56,486] Trial 46 finished with value: 0.395 and parameters: {'C': 0.008456777251912045, 'solver': 'newton-cg'}. Best is trial 37 with value: 0.40125.\n",
      "C:\\Users\\Administrator\\AppData\\Local\\Temp\\ipykernel_14812\\1993323069.py:6: FutureWarning: suggest_loguniform has been deprecated in v3.0.0. This feature will be removed in v6.0.0. See https://github.com/optuna/optuna/releases/tag/v3.0.0. Use suggest_float(..., log=True) instead.\n",
      "  'C': lambda trial: trial.suggest_loguniform('C', 1e-5, 1e5),\n",
      "c:\\Users\\Administrator\\Desktop\\Proyecto_ML Refuerzo\\ML_Refuerzo_Esther\\venv\\Lib\\site-packages\\sklearn\\linear_model\\_logistic.py:1247: FutureWarning: 'multi_class' was deprecated in version 1.5 and will be removed in 1.7. From then on, it will always use 'multinomial'. Leave it to its default value to avoid this warning.\n",
      "  warnings.warn(\n",
      "c:\\Users\\Administrator\\Desktop\\Proyecto_ML Refuerzo\\ML_Refuerzo_Esther\\venv\\Lib\\site-packages\\sklearn\\linear_model\\_logistic.py:1247: FutureWarning: 'multi_class' was deprecated in version 1.5 and will be removed in 1.7. From then on, it will always use 'multinomial'. Leave it to its default value to avoid this warning.\n",
      "  warnings.warn(\n",
      "c:\\Users\\Administrator\\Desktop\\Proyecto_ML Refuerzo\\ML_Refuerzo_Esther\\venv\\Lib\\site-packages\\sklearn\\linear_model\\_logistic.py:1247: FutureWarning: 'multi_class' was deprecated in version 1.5 and will be removed in 1.7. From then on, it will always use 'multinomial'. Leave it to its default value to avoid this warning.\n",
      "  warnings.warn(\n",
      "c:\\Users\\Administrator\\Desktop\\Proyecto_ML Refuerzo\\ML_Refuerzo_Esther\\venv\\Lib\\site-packages\\sklearn\\linear_model\\_logistic.py:1247: FutureWarning: 'multi_class' was deprecated in version 1.5 and will be removed in 1.7. From then on, it will always use 'multinomial'. Leave it to its default value to avoid this warning.\n",
      "  warnings.warn(\n",
      "c:\\Users\\Administrator\\Desktop\\Proyecto_ML Refuerzo\\ML_Refuerzo_Esther\\venv\\Lib\\site-packages\\sklearn\\linear_model\\_logistic.py:1247: FutureWarning: 'multi_class' was deprecated in version 1.5 and will be removed in 1.7. From then on, it will always use 'multinomial'. Leave it to its default value to avoid this warning.\n",
      "  warnings.warn(\n",
      "[I 2024-12-09 17:02:56,565] Trial 47 finished with value: 0.39375 and parameters: {'C': 271.0101429785132, 'solver': 'saga'}. Best is trial 37 with value: 0.40125.\n",
      "C:\\Users\\Administrator\\AppData\\Local\\Temp\\ipykernel_14812\\1993323069.py:6: FutureWarning: suggest_loguniform has been deprecated in v3.0.0. This feature will be removed in v6.0.0. See https://github.com/optuna/optuna/releases/tag/v3.0.0. Use suggest_float(..., log=True) instead.\n",
      "  'C': lambda trial: trial.suggest_loguniform('C', 1e-5, 1e5),\n",
      "c:\\Users\\Administrator\\Desktop\\Proyecto_ML Refuerzo\\ML_Refuerzo_Esther\\venv\\Lib\\site-packages\\sklearn\\linear_model\\_logistic.py:1247: FutureWarning: 'multi_class' was deprecated in version 1.5 and will be removed in 1.7. From then on, it will always use 'multinomial'. Leave it to its default value to avoid this warning.\n",
      "  warnings.warn(\n",
      "c:\\Users\\Administrator\\Desktop\\Proyecto_ML Refuerzo\\ML_Refuerzo_Esther\\venv\\Lib\\site-packages\\sklearn\\linear_model\\_logistic.py:1247: FutureWarning: 'multi_class' was deprecated in version 1.5 and will be removed in 1.7. From then on, it will always use 'multinomial'. Leave it to its default value to avoid this warning.\n",
      "  warnings.warn(\n",
      "c:\\Users\\Administrator\\Desktop\\Proyecto_ML Refuerzo\\ML_Refuerzo_Esther\\venv\\Lib\\site-packages\\sklearn\\linear_model\\_logistic.py:1247: FutureWarning: 'multi_class' was deprecated in version 1.5 and will be removed in 1.7. From then on, it will always use 'multinomial'. Leave it to its default value to avoid this warning.\n",
      "  warnings.warn(\n",
      "c:\\Users\\Administrator\\Desktop\\Proyecto_ML Refuerzo\\ML_Refuerzo_Esther\\venv\\Lib\\site-packages\\sklearn\\linear_model\\_logistic.py:1247: FutureWarning: 'multi_class' was deprecated in version 1.5 and will be removed in 1.7. From then on, it will always use 'multinomial'. Leave it to its default value to avoid this warning.\n",
      "  warnings.warn(\n",
      "c:\\Users\\Administrator\\Desktop\\Proyecto_ML Refuerzo\\ML_Refuerzo_Esther\\venv\\Lib\\site-packages\\sklearn\\linear_model\\_logistic.py:1247: FutureWarning: 'multi_class' was deprecated in version 1.5 and will be removed in 1.7. From then on, it will always use 'multinomial'. Leave it to its default value to avoid this warning.\n",
      "  warnings.warn(\n",
      "[I 2024-12-09 17:02:56,625] Trial 48 finished with value: 0.39375 and parameters: {'C': 0.05083712779624531, 'solver': 'sag'}. Best is trial 37 with value: 0.40125.\n",
      "C:\\Users\\Administrator\\AppData\\Local\\Temp\\ipykernel_14812\\1993323069.py:6: FutureWarning: suggest_loguniform has been deprecated in v3.0.0. This feature will be removed in v6.0.0. See https://github.com/optuna/optuna/releases/tag/v3.0.0. Use suggest_float(..., log=True) instead.\n",
      "  'C': lambda trial: trial.suggest_loguniform('C', 1e-5, 1e5),\n",
      "c:\\Users\\Administrator\\Desktop\\Proyecto_ML Refuerzo\\ML_Refuerzo_Esther\\venv\\Lib\\site-packages\\sklearn\\linear_model\\_logistic.py:1247: FutureWarning: 'multi_class' was deprecated in version 1.5 and will be removed in 1.7. From then on, it will always use 'multinomial'. Leave it to its default value to avoid this warning.\n",
      "  warnings.warn(\n",
      "c:\\Users\\Administrator\\Desktop\\Proyecto_ML Refuerzo\\ML_Refuerzo_Esther\\venv\\Lib\\site-packages\\sklearn\\linear_model\\_logistic.py:1247: FutureWarning: 'multi_class' was deprecated in version 1.5 and will be removed in 1.7. From then on, it will always use 'multinomial'. Leave it to its default value to avoid this warning.\n",
      "  warnings.warn(\n",
      "c:\\Users\\Administrator\\Desktop\\Proyecto_ML Refuerzo\\ML_Refuerzo_Esther\\venv\\Lib\\site-packages\\sklearn\\linear_model\\_logistic.py:1247: FutureWarning: 'multi_class' was deprecated in version 1.5 and will be removed in 1.7. From then on, it will always use 'multinomial'. Leave it to its default value to avoid this warning.\n",
      "  warnings.warn(\n",
      "c:\\Users\\Administrator\\Desktop\\Proyecto_ML Refuerzo\\ML_Refuerzo_Esther\\venv\\Lib\\site-packages\\sklearn\\linear_model\\_logistic.py:1247: FutureWarning: 'multi_class' was deprecated in version 1.5 and will be removed in 1.7. From then on, it will always use 'multinomial'. Leave it to its default value to avoid this warning.\n",
      "  warnings.warn(\n",
      "c:\\Users\\Administrator\\Desktop\\Proyecto_ML Refuerzo\\ML_Refuerzo_Esther\\venv\\Lib\\site-packages\\sklearn\\linear_model\\_logistic.py:1247: FutureWarning: 'multi_class' was deprecated in version 1.5 and will be removed in 1.7. From then on, it will always use 'multinomial'. Leave it to its default value to avoid this warning.\n",
      "  warnings.warn(\n",
      "[I 2024-12-09 17:02:56,711] Trial 49 finished with value: 0.39249999999999996 and parameters: {'C': 0.6617547324066645, 'solver': 'sag'}. Best is trial 37 with value: 0.40125.\n"
     ]
    },
    {
     "name": "stdout",
     "output_type": "stream",
     "text": [
      "\n",
      "Resultados para Regresión Logística Multiclase:\n",
      "Accuracy en entrenamiento: 0.4163\n",
      "Accuracy en prueba: 0.4050\n",
      "Diferencia (Overfitting): 0.0112\n",
      "\n",
      "Reporte de Clasificación:\n",
      "              precision    recall  f1-score   support\n",
      "\n",
      "           1       0.38      0.43      0.41        53\n",
      "           2       0.33      0.11      0.17        44\n",
      "           3       0.41      0.55      0.47        56\n",
      "           4       0.45      0.47      0.46        47\n",
      "\n",
      "    accuracy                           0.41       200\n",
      "   macro avg       0.39      0.39      0.38       200\n",
      "weighted avg       0.39      0.41      0.38       200\n",
      "\n"
     ]
    }
   ],
   "source": [
    "#Regresion Logistica Multiclase\n",
    "\n",
    "from sklearn.linear_model import LogisticRegression\n",
    "\n",
    "lr_param_space = {\n",
    "    'C': lambda trial: trial.suggest_loguniform('C', 1e-5, 1e5),\n",
    "    'solver': lambda trial: trial.suggest_categorical('solver', ['lbfgs', 'newton-cg', 'sag', 'saga']),\n",
    "    'multi_class': lambda trial: 'multinomial'\n",
    "}\n",
    "lr_best_params = optimize_model(LogisticRegression, lr_param_space)\n",
    "lr_pipeline = evaluate_model(LogisticRegression, lr_best_params, \"Regresión Logística Multiclase\")\n"
   ]
  },
  {
   "cell_type": "code",
   "execution_count": 22,
   "metadata": {},
   "outputs": [
    {
     "name": "stderr",
     "output_type": "stream",
     "text": [
      "[I 2024-12-09 16:55:40,668] A new study created in memory with name: no-name-3b6c3ddf-1efc-4585-8bb9-baa86a7a39fe\n",
      "C:\\Users\\Administrator\\AppData\\Local\\Temp\\ipykernel_14812\\3190910586.py:6: FutureWarning: suggest_loguniform has been deprecated in v3.0.0. This feature will be removed in v6.0.0. See https://github.com/optuna/optuna/releases/tag/v3.0.0. Use suggest_float(..., log=True) instead.\n",
      "  'C': lambda trial: trial.suggest_loguniform('C', 1e-2, 10),\n",
      "C:\\Users\\Administrator\\AppData\\Local\\Temp\\ipykernel_14812\\3190910586.py:7: FutureWarning: suggest_loguniform has been deprecated in v3.0.0. This feature will be removed in v6.0.0. See https://github.com/optuna/optuna/releases/tag/v3.0.0. Use suggest_float(..., log=True) instead.\n",
      "  'gamma': lambda trial: trial.suggest_loguniform('gamma', 1e-4, 1e-1),\n",
      "[I 2024-12-09 16:55:40,810] Trial 0 finished with value: 0.38625 and parameters: {'C': 0.05267734387988093, 'gamma': 0.0007667073414134454, 'kernel': 'linear'}. Best is trial 0 with value: 0.38625.\n",
      "C:\\Users\\Administrator\\AppData\\Local\\Temp\\ipykernel_14812\\3190910586.py:6: FutureWarning: suggest_loguniform has been deprecated in v3.0.0. This feature will be removed in v6.0.0. See https://github.com/optuna/optuna/releases/tag/v3.0.0. Use suggest_float(..., log=True) instead.\n",
      "  'C': lambda trial: trial.suggest_loguniform('C', 1e-2, 10),\n",
      "C:\\Users\\Administrator\\AppData\\Local\\Temp\\ipykernel_14812\\3190910586.py:7: FutureWarning: suggest_loguniform has been deprecated in v3.0.0. This feature will be removed in v6.0.0. See https://github.com/optuna/optuna/releases/tag/v3.0.0. Use suggest_float(..., log=True) instead.\n",
      "  'gamma': lambda trial: trial.suggest_loguniform('gamma', 1e-4, 1e-1),\n",
      "[I 2024-12-09 16:55:41,085] Trial 1 finished with value: 0.38875 and parameters: {'C': 2.6153112521028947, 'gamma': 0.00010619951121294192, 'kernel': 'linear'}. Best is trial 1 with value: 0.38875.\n",
      "C:\\Users\\Administrator\\AppData\\Local\\Temp\\ipykernel_14812\\3190910586.py:6: FutureWarning: suggest_loguniform has been deprecated in v3.0.0. This feature will be removed in v6.0.0. See https://github.com/optuna/optuna/releases/tag/v3.0.0. Use suggest_float(..., log=True) instead.\n",
      "  'C': lambda trial: trial.suggest_loguniform('C', 1e-2, 10),\n",
      "C:\\Users\\Administrator\\AppData\\Local\\Temp\\ipykernel_14812\\3190910586.py:7: FutureWarning: suggest_loguniform has been deprecated in v3.0.0. This feature will be removed in v6.0.0. See https://github.com/optuna/optuna/releases/tag/v3.0.0. Use suggest_float(..., log=True) instead.\n",
      "  'gamma': lambda trial: trial.suggest_loguniform('gamma', 1e-4, 1e-1),\n",
      "[I 2024-12-09 16:55:41,329] Trial 2 finished with value: 0.315 and parameters: {'C': 0.3751106238327435, 'gamma': 0.001883920376983895, 'kernel': 'rbf'}. Best is trial 1 with value: 0.38875.\n",
      "C:\\Users\\Administrator\\AppData\\Local\\Temp\\ipykernel_14812\\3190910586.py:6: FutureWarning: suggest_loguniform has been deprecated in v3.0.0. This feature will be removed in v6.0.0. See https://github.com/optuna/optuna/releases/tag/v3.0.0. Use suggest_float(..., log=True) instead.\n",
      "  'C': lambda trial: trial.suggest_loguniform('C', 1e-2, 10),\n",
      "C:\\Users\\Administrator\\AppData\\Local\\Temp\\ipykernel_14812\\3190910586.py:7: FutureWarning: suggest_loguniform has been deprecated in v3.0.0. This feature will be removed in v6.0.0. See https://github.com/optuna/optuna/releases/tag/v3.0.0. Use suggest_float(..., log=True) instead.\n",
      "  'gamma': lambda trial: trial.suggest_loguniform('gamma', 1e-4, 1e-1),\n",
      "[I 2024-12-09 16:55:41,521] Trial 3 finished with value: 0.385 and parameters: {'C': 0.1508340253409714, 'gamma': 0.0014925776382308266, 'kernel': 'linear'}. Best is trial 1 with value: 0.38875.\n",
      "C:\\Users\\Administrator\\AppData\\Local\\Temp\\ipykernel_14812\\3190910586.py:6: FutureWarning: suggest_loguniform has been deprecated in v3.0.0. This feature will be removed in v6.0.0. See https://github.com/optuna/optuna/releases/tag/v3.0.0. Use suggest_float(..., log=True) instead.\n",
      "  'C': lambda trial: trial.suggest_loguniform('C', 1e-2, 10),\n",
      "C:\\Users\\Administrator\\AppData\\Local\\Temp\\ipykernel_14812\\3190910586.py:7: FutureWarning: suggest_loguniform has been deprecated in v3.0.0. This feature will be removed in v6.0.0. See https://github.com/optuna/optuna/releases/tag/v3.0.0. Use suggest_float(..., log=True) instead.\n",
      "  'gamma': lambda trial: trial.suggest_loguniform('gamma', 1e-4, 1e-1),\n",
      "[I 2024-12-09 16:55:41,760] Trial 4 finished with value: 0.28125 and parameters: {'C': 0.01153245476033595, 'gamma': 0.005951737104277912, 'kernel': 'rbf'}. Best is trial 1 with value: 0.38875.\n",
      "C:\\Users\\Administrator\\AppData\\Local\\Temp\\ipykernel_14812\\3190910586.py:6: FutureWarning: suggest_loguniform has been deprecated in v3.0.0. This feature will be removed in v6.0.0. See https://github.com/optuna/optuna/releases/tag/v3.0.0. Use suggest_float(..., log=True) instead.\n",
      "  'C': lambda trial: trial.suggest_loguniform('C', 1e-2, 10),\n",
      "C:\\Users\\Administrator\\AppData\\Local\\Temp\\ipykernel_14812\\3190910586.py:7: FutureWarning: suggest_loguniform has been deprecated in v3.0.0. This feature will be removed in v6.0.0. See https://github.com/optuna/optuna/releases/tag/v3.0.0. Use suggest_float(..., log=True) instead.\n",
      "  'gamma': lambda trial: trial.suggest_loguniform('gamma', 1e-4, 1e-1),\n",
      "[I 2024-12-09 16:55:41,973] Trial 5 finished with value: 0.28125 and parameters: {'C': 0.21642615125004866, 'gamma': 0.0009666456801693491, 'kernel': 'rbf'}. Best is trial 1 with value: 0.38875.\n",
      "C:\\Users\\Administrator\\AppData\\Local\\Temp\\ipykernel_14812\\3190910586.py:6: FutureWarning: suggest_loguniform has been deprecated in v3.0.0. This feature will be removed in v6.0.0. See https://github.com/optuna/optuna/releases/tag/v3.0.0. Use suggest_float(..., log=True) instead.\n",
      "  'C': lambda trial: trial.suggest_loguniform('C', 1e-2, 10),\n",
      "C:\\Users\\Administrator\\AppData\\Local\\Temp\\ipykernel_14812\\3190910586.py:7: FutureWarning: suggest_loguniform has been deprecated in v3.0.0. This feature will be removed in v6.0.0. See https://github.com/optuna/optuna/releases/tag/v3.0.0. Use suggest_float(..., log=True) instead.\n",
      "  'gamma': lambda trial: trial.suggest_loguniform('gamma', 1e-4, 1e-1),\n",
      "[I 2024-12-09 16:55:42,079] Trial 6 finished with value: 0.3875 and parameters: {'C': 0.07995187364454653, 'gamma': 0.0009089090128179985, 'kernel': 'linear'}. Best is trial 1 with value: 0.38875.\n",
      "C:\\Users\\Administrator\\AppData\\Local\\Temp\\ipykernel_14812\\3190910586.py:6: FutureWarning: suggest_loguniform has been deprecated in v3.0.0. This feature will be removed in v6.0.0. See https://github.com/optuna/optuna/releases/tag/v3.0.0. Use suggest_float(..., log=True) instead.\n",
      "  'C': lambda trial: trial.suggest_loguniform('C', 1e-2, 10),\n",
      "C:\\Users\\Administrator\\AppData\\Local\\Temp\\ipykernel_14812\\3190910586.py:7: FutureWarning: suggest_loguniform has been deprecated in v3.0.0. This feature will be removed in v6.0.0. See https://github.com/optuna/optuna/releases/tag/v3.0.0. Use suggest_float(..., log=True) instead.\n",
      "  'gamma': lambda trial: trial.suggest_loguniform('gamma', 1e-4, 1e-1),\n",
      "[I 2024-12-09 16:55:42,180] Trial 7 finished with value: 0.39499999999999996 and parameters: {'C': 0.011722080809350348, 'gamma': 0.003571327857087722, 'kernel': 'linear'}. Best is trial 7 with value: 0.39499999999999996.\n",
      "C:\\Users\\Administrator\\AppData\\Local\\Temp\\ipykernel_14812\\3190910586.py:6: FutureWarning: suggest_loguniform has been deprecated in v3.0.0. This feature will be removed in v6.0.0. See https://github.com/optuna/optuna/releases/tag/v3.0.0. Use suggest_float(..., log=True) instead.\n",
      "  'C': lambda trial: trial.suggest_loguniform('C', 1e-2, 10),\n",
      "C:\\Users\\Administrator\\AppData\\Local\\Temp\\ipykernel_14812\\3190910586.py:7: FutureWarning: suggest_loguniform has been deprecated in v3.0.0. This feature will be removed in v6.0.0. See https://github.com/optuna/optuna/releases/tag/v3.0.0. Use suggest_float(..., log=True) instead.\n",
      "  'gamma': lambda trial: trial.suggest_loguniform('gamma', 1e-4, 1e-1),\n",
      "[I 2024-12-09 16:55:42,282] Trial 8 finished with value: 0.39625 and parameters: {'C': 0.01376168181746552, 'gamma': 0.001268943007131972, 'kernel': 'linear'}. Best is trial 8 with value: 0.39625.\n",
      "C:\\Users\\Administrator\\AppData\\Local\\Temp\\ipykernel_14812\\3190910586.py:6: FutureWarning: suggest_loguniform has been deprecated in v3.0.0. This feature will be removed in v6.0.0. See https://github.com/optuna/optuna/releases/tag/v3.0.0. Use suggest_float(..., log=True) instead.\n",
      "  'C': lambda trial: trial.suggest_loguniform('C', 1e-2, 10),\n",
      "C:\\Users\\Administrator\\AppData\\Local\\Temp\\ipykernel_14812\\3190910586.py:7: FutureWarning: suggest_loguniform has been deprecated in v3.0.0. This feature will be removed in v6.0.0. See https://github.com/optuna/optuna/releases/tag/v3.0.0. Use suggest_float(..., log=True) instead.\n",
      "  'gamma': lambda trial: trial.suggest_loguniform('gamma', 1e-4, 1e-1),\n",
      "[I 2024-12-09 16:55:42,470] Trial 9 finished with value: 0.39875 and parameters: {'C': 0.19681585268975943, 'gamma': 0.020809044628060942, 'kernel': 'rbf'}. Best is trial 9 with value: 0.39875.\n",
      "C:\\Users\\Administrator\\AppData\\Local\\Temp\\ipykernel_14812\\3190910586.py:6: FutureWarning: suggest_loguniform has been deprecated in v3.0.0. This feature will be removed in v6.0.0. See https://github.com/optuna/optuna/releases/tag/v3.0.0. Use suggest_float(..., log=True) instead.\n",
      "  'C': lambda trial: trial.suggest_loguniform('C', 1e-2, 10),\n",
      "C:\\Users\\Administrator\\AppData\\Local\\Temp\\ipykernel_14812\\3190910586.py:7: FutureWarning: suggest_loguniform has been deprecated in v3.0.0. This feature will be removed in v6.0.0. See https://github.com/optuna/optuna/releases/tag/v3.0.0. Use suggest_float(..., log=True) instead.\n",
      "  'gamma': lambda trial: trial.suggest_loguniform('gamma', 1e-4, 1e-1),\n",
      "[I 2024-12-09 16:55:42,664] Trial 10 finished with value: 0.40874999999999995 and parameters: {'C': 1.2604385272725354, 'gamma': 0.07587608192052533, 'kernel': 'rbf'}. Best is trial 10 with value: 0.40874999999999995.\n",
      "C:\\Users\\Administrator\\AppData\\Local\\Temp\\ipykernel_14812\\3190910586.py:6: FutureWarning: suggest_loguniform has been deprecated in v3.0.0. This feature will be removed in v6.0.0. See https://github.com/optuna/optuna/releases/tag/v3.0.0. Use suggest_float(..., log=True) instead.\n",
      "  'C': lambda trial: trial.suggest_loguniform('C', 1e-2, 10),\n",
      "C:\\Users\\Administrator\\AppData\\Local\\Temp\\ipykernel_14812\\3190910586.py:7: FutureWarning: suggest_loguniform has been deprecated in v3.0.0. This feature will be removed in v6.0.0. See https://github.com/optuna/optuna/releases/tag/v3.0.0. Use suggest_float(..., log=True) instead.\n",
      "  'gamma': lambda trial: trial.suggest_loguniform('gamma', 1e-4, 1e-1),\n",
      "[I 2024-12-09 16:55:42,859] Trial 11 finished with value: 0.395 and parameters: {'C': 1.9720059701429868, 'gamma': 0.07194309971202892, 'kernel': 'rbf'}. Best is trial 10 with value: 0.40874999999999995.\n",
      "C:\\Users\\Administrator\\AppData\\Local\\Temp\\ipykernel_14812\\3190910586.py:6: FutureWarning: suggest_loguniform has been deprecated in v3.0.0. This feature will be removed in v6.0.0. See https://github.com/optuna/optuna/releases/tag/v3.0.0. Use suggest_float(..., log=True) instead.\n",
      "  'C': lambda trial: trial.suggest_loguniform('C', 1e-2, 10),\n",
      "C:\\Users\\Administrator\\AppData\\Local\\Temp\\ipykernel_14812\\3190910586.py:7: FutureWarning: suggest_loguniform has been deprecated in v3.0.0. This feature will be removed in v6.0.0. See https://github.com/optuna/optuna/releases/tag/v3.0.0. Use suggest_float(..., log=True) instead.\n",
      "  'gamma': lambda trial: trial.suggest_loguniform('gamma', 1e-4, 1e-1),\n",
      "[I 2024-12-09 16:55:43,056] Trial 12 finished with value: 0.4025 and parameters: {'C': 0.9713426792313405, 'gamma': 0.09990104117463251, 'kernel': 'rbf'}. Best is trial 10 with value: 0.40874999999999995.\n",
      "C:\\Users\\Administrator\\AppData\\Local\\Temp\\ipykernel_14812\\3190910586.py:6: FutureWarning: suggest_loguniform has been deprecated in v3.0.0. This feature will be removed in v6.0.0. See https://github.com/optuna/optuna/releases/tag/v3.0.0. Use suggest_float(..., log=True) instead.\n",
      "  'C': lambda trial: trial.suggest_loguniform('C', 1e-2, 10),\n",
      "C:\\Users\\Administrator\\AppData\\Local\\Temp\\ipykernel_14812\\3190910586.py:7: FutureWarning: suggest_loguniform has been deprecated in v3.0.0. This feature will be removed in v6.0.0. See https://github.com/optuna/optuna/releases/tag/v3.0.0. Use suggest_float(..., log=True) instead.\n",
      "  'gamma': lambda trial: trial.suggest_loguniform('gamma', 1e-4, 1e-1),\n",
      "[I 2024-12-09 16:55:43,290] Trial 13 finished with value: 0.38249999999999995 and parameters: {'C': 9.988750059552322, 'gamma': 0.08063029867846117, 'kernel': 'rbf'}. Best is trial 10 with value: 0.40874999999999995.\n",
      "C:\\Users\\Administrator\\AppData\\Local\\Temp\\ipykernel_14812\\3190910586.py:6: FutureWarning: suggest_loguniform has been deprecated in v3.0.0. This feature will be removed in v6.0.0. See https://github.com/optuna/optuna/releases/tag/v3.0.0. Use suggest_float(..., log=True) instead.\n",
      "  'C': lambda trial: trial.suggest_loguniform('C', 1e-2, 10),\n",
      "C:\\Users\\Administrator\\AppData\\Local\\Temp\\ipykernel_14812\\3190910586.py:7: FutureWarning: suggest_loguniform has been deprecated in v3.0.0. This feature will be removed in v6.0.0. See https://github.com/optuna/optuna/releases/tag/v3.0.0. Use suggest_float(..., log=True) instead.\n",
      "  'gamma': lambda trial: trial.suggest_loguniform('gamma', 1e-4, 1e-1),\n",
      "[I 2024-12-09 16:55:43,491] Trial 14 finished with value: 0.39375 and parameters: {'C': 1.0970372466988374, 'gamma': 0.025343708833242162, 'kernel': 'rbf'}. Best is trial 10 with value: 0.40874999999999995.\n",
      "C:\\Users\\Administrator\\AppData\\Local\\Temp\\ipykernel_14812\\3190910586.py:6: FutureWarning: suggest_loguniform has been deprecated in v3.0.0. This feature will be removed in v6.0.0. See https://github.com/optuna/optuna/releases/tag/v3.0.0. Use suggest_float(..., log=True) instead.\n",
      "  'C': lambda trial: trial.suggest_loguniform('C', 1e-2, 10),\n",
      "C:\\Users\\Administrator\\AppData\\Local\\Temp\\ipykernel_14812\\3190910586.py:7: FutureWarning: suggest_loguniform has been deprecated in v3.0.0. This feature will be removed in v6.0.0. See https://github.com/optuna/optuna/releases/tag/v3.0.0. Use suggest_float(..., log=True) instead.\n",
      "  'gamma': lambda trial: trial.suggest_loguniform('gamma', 1e-4, 1e-1),\n",
      "[I 2024-12-09 16:55:43,685] Trial 15 finished with value: 0.39249999999999996 and parameters: {'C': 0.7194452355113193, 'gamma': 0.026087007968438835, 'kernel': 'rbf'}. Best is trial 10 with value: 0.40874999999999995.\n",
      "C:\\Users\\Administrator\\AppData\\Local\\Temp\\ipykernel_14812\\3190910586.py:6: FutureWarning: suggest_loguniform has been deprecated in v3.0.0. This feature will be removed in v6.0.0. See https://github.com/optuna/optuna/releases/tag/v3.0.0. Use suggest_float(..., log=True) instead.\n",
      "  'C': lambda trial: trial.suggest_loguniform('C', 1e-2, 10),\n",
      "C:\\Users\\Administrator\\AppData\\Local\\Temp\\ipykernel_14812\\3190910586.py:7: FutureWarning: suggest_loguniform has been deprecated in v3.0.0. This feature will be removed in v6.0.0. See https://github.com/optuna/optuna/releases/tag/v3.0.0. Use suggest_float(..., log=True) instead.\n",
      "  'gamma': lambda trial: trial.suggest_loguniform('gamma', 1e-4, 1e-1),\n",
      "[I 2024-12-09 16:55:43,871] Trial 16 finished with value: 0.38875000000000004 and parameters: {'C': 5.806227388882753, 'gamma': 0.00807983184702239, 'kernel': 'rbf'}. Best is trial 10 with value: 0.40874999999999995.\n",
      "C:\\Users\\Administrator\\AppData\\Local\\Temp\\ipykernel_14812\\3190910586.py:6: FutureWarning: suggest_loguniform has been deprecated in v3.0.0. This feature will be removed in v6.0.0. See https://github.com/optuna/optuna/releases/tag/v3.0.0. Use suggest_float(..., log=True) instead.\n",
      "  'C': lambda trial: trial.suggest_loguniform('C', 1e-2, 10),\n",
      "C:\\Users\\Administrator\\AppData\\Local\\Temp\\ipykernel_14812\\3190910586.py:7: FutureWarning: suggest_loguniform has been deprecated in v3.0.0. This feature will be removed in v6.0.0. See https://github.com/optuna/optuna/releases/tag/v3.0.0. Use suggest_float(..., log=True) instead.\n",
      "  'gamma': lambda trial: trial.suggest_loguniform('gamma', 1e-4, 1e-1),\n",
      "[I 2024-12-09 16:55:44,060] Trial 17 finished with value: 0.3975 and parameters: {'C': 0.6261446312816981, 'gamma': 0.04686551889280184, 'kernel': 'rbf'}. Best is trial 10 with value: 0.40874999999999995.\n",
      "C:\\Users\\Administrator\\AppData\\Local\\Temp\\ipykernel_14812\\3190910586.py:6: FutureWarning: suggest_loguniform has been deprecated in v3.0.0. This feature will be removed in v6.0.0. See https://github.com/optuna/optuna/releases/tag/v3.0.0. Use suggest_float(..., log=True) instead.\n",
      "  'C': lambda trial: trial.suggest_loguniform('C', 1e-2, 10),\n",
      "C:\\Users\\Administrator\\AppData\\Local\\Temp\\ipykernel_14812\\3190910586.py:7: FutureWarning: suggest_loguniform has been deprecated in v3.0.0. This feature will be removed in v6.0.0. See https://github.com/optuna/optuna/releases/tag/v3.0.0. Use suggest_float(..., log=True) instead.\n",
      "  'gamma': lambda trial: trial.suggest_loguniform('gamma', 1e-4, 1e-1),\n",
      "[I 2024-12-09 16:55:44,247] Trial 18 finished with value: 0.39 and parameters: {'C': 2.519083790639073, 'gamma': 0.01040236604694054, 'kernel': 'rbf'}. Best is trial 10 with value: 0.40874999999999995.\n",
      "C:\\Users\\Administrator\\AppData\\Local\\Temp\\ipykernel_14812\\3190910586.py:6: FutureWarning: suggest_loguniform has been deprecated in v3.0.0. This feature will be removed in v6.0.0. See https://github.com/optuna/optuna/releases/tag/v3.0.0. Use suggest_float(..., log=True) instead.\n",
      "  'C': lambda trial: trial.suggest_loguniform('C', 1e-2, 10),\n",
      "C:\\Users\\Administrator\\AppData\\Local\\Temp\\ipykernel_14812\\3190910586.py:7: FutureWarning: suggest_loguniform has been deprecated in v3.0.0. This feature will be removed in v6.0.0. See https://github.com/optuna/optuna/releases/tag/v3.0.0. Use suggest_float(..., log=True) instead.\n",
      "  'gamma': lambda trial: trial.suggest_loguniform('gamma', 1e-4, 1e-1),\n",
      "[I 2024-12-09 16:55:44,440] Trial 19 finished with value: 0.41375 and parameters: {'C': 1.1470960406697004, 'gamma': 0.08913334353696699, 'kernel': 'rbf'}. Best is trial 19 with value: 0.41375.\n",
      "C:\\Users\\Administrator\\AppData\\Local\\Temp\\ipykernel_14812\\3190910586.py:6: FutureWarning: suggest_loguniform has been deprecated in v3.0.0. This feature will be removed in v6.0.0. See https://github.com/optuna/optuna/releases/tag/v3.0.0. Use suggest_float(..., log=True) instead.\n",
      "  'C': lambda trial: trial.suggest_loguniform('C', 1e-2, 10),\n",
      "C:\\Users\\Administrator\\AppData\\Local\\Temp\\ipykernel_14812\\3190910586.py:7: FutureWarning: suggest_loguniform has been deprecated in v3.0.0. This feature will be removed in v6.0.0. See https://github.com/optuna/optuna/releases/tag/v3.0.0. Use suggest_float(..., log=True) instead.\n",
      "  'gamma': lambda trial: trial.suggest_loguniform('gamma', 1e-4, 1e-1),\n",
      "[I 2024-12-09 16:55:44,639] Trial 20 finished with value: 0.37750000000000006 and parameters: {'C': 5.229509356599478, 'gamma': 0.00021534021872197413, 'kernel': 'rbf'}. Best is trial 19 with value: 0.41375.\n",
      "C:\\Users\\Administrator\\AppData\\Local\\Temp\\ipykernel_14812\\3190910586.py:6: FutureWarning: suggest_loguniform has been deprecated in v3.0.0. This feature will be removed in v6.0.0. See https://github.com/optuna/optuna/releases/tag/v3.0.0. Use suggest_float(..., log=True) instead.\n",
      "  'C': lambda trial: trial.suggest_loguniform('C', 1e-2, 10),\n",
      "C:\\Users\\Administrator\\AppData\\Local\\Temp\\ipykernel_14812\\3190910586.py:7: FutureWarning: suggest_loguniform has been deprecated in v3.0.0. This feature will be removed in v6.0.0. See https://github.com/optuna/optuna/releases/tag/v3.0.0. Use suggest_float(..., log=True) instead.\n",
      "  'gamma': lambda trial: trial.suggest_loguniform('gamma', 1e-4, 1e-1),\n",
      "[I 2024-12-09 16:55:44,831] Trial 21 finished with value: 0.40374999999999994 and parameters: {'C': 1.370111583316099, 'gamma': 0.0887958234807537, 'kernel': 'rbf'}. Best is trial 19 with value: 0.41375.\n",
      "C:\\Users\\Administrator\\AppData\\Local\\Temp\\ipykernel_14812\\3190910586.py:6: FutureWarning: suggest_loguniform has been deprecated in v3.0.0. This feature will be removed in v6.0.0. See https://github.com/optuna/optuna/releases/tag/v3.0.0. Use suggest_float(..., log=True) instead.\n",
      "  'C': lambda trial: trial.suggest_loguniform('C', 1e-2, 10),\n",
      "C:\\Users\\Administrator\\AppData\\Local\\Temp\\ipykernel_14812\\3190910586.py:7: FutureWarning: suggest_loguniform has been deprecated in v3.0.0. This feature will be removed in v6.0.0. See https://github.com/optuna/optuna/releases/tag/v3.0.0. Use suggest_float(..., log=True) instead.\n",
      "  'gamma': lambda trial: trial.suggest_loguniform('gamma', 1e-4, 1e-1),\n",
      "[I 2024-12-09 16:55:45,018] Trial 22 finished with value: 0.41375 and parameters: {'C': 1.5009526054280238, 'gamma': 0.037113813212101554, 'kernel': 'rbf'}. Best is trial 19 with value: 0.41375.\n",
      "C:\\Users\\Administrator\\AppData\\Local\\Temp\\ipykernel_14812\\3190910586.py:6: FutureWarning: suggest_loguniform has been deprecated in v3.0.0. This feature will be removed in v6.0.0. See https://github.com/optuna/optuna/releases/tag/v3.0.0. Use suggest_float(..., log=True) instead.\n",
      "  'C': lambda trial: trial.suggest_loguniform('C', 1e-2, 10),\n",
      "C:\\Users\\Administrator\\AppData\\Local\\Temp\\ipykernel_14812\\3190910586.py:7: FutureWarning: suggest_loguniform has been deprecated in v3.0.0. This feature will be removed in v6.0.0. See https://github.com/optuna/optuna/releases/tag/v3.0.0. Use suggest_float(..., log=True) instead.\n",
      "  'gamma': lambda trial: trial.suggest_loguniform('gamma', 1e-4, 1e-1),\n",
      "[I 2024-12-09 16:55:45,207] Trial 23 finished with value: 0.39749999999999996 and parameters: {'C': 0.4746077446138599, 'gamma': 0.041083048390398114, 'kernel': 'rbf'}. Best is trial 19 with value: 0.41375.\n",
      "C:\\Users\\Administrator\\AppData\\Local\\Temp\\ipykernel_14812\\3190910586.py:6: FutureWarning: suggest_loguniform has been deprecated in v3.0.0. This feature will be removed in v6.0.0. See https://github.com/optuna/optuna/releases/tag/v3.0.0. Use suggest_float(..., log=True) instead.\n",
      "  'C': lambda trial: trial.suggest_loguniform('C', 1e-2, 10),\n",
      "C:\\Users\\Administrator\\AppData\\Local\\Temp\\ipykernel_14812\\3190910586.py:7: FutureWarning: suggest_loguniform has been deprecated in v3.0.0. This feature will be removed in v6.0.0. See https://github.com/optuna/optuna/releases/tag/v3.0.0. Use suggest_float(..., log=True) instead.\n",
      "  'gamma': lambda trial: trial.suggest_loguniform('gamma', 1e-4, 1e-1),\n",
      "[I 2024-12-09 16:55:45,394] Trial 24 finished with value: 0.3975 and parameters: {'C': 3.363138400301604, 'gamma': 0.016256934774991006, 'kernel': 'rbf'}. Best is trial 19 with value: 0.41375.\n",
      "C:\\Users\\Administrator\\AppData\\Local\\Temp\\ipykernel_14812\\3190910586.py:6: FutureWarning: suggest_loguniform has been deprecated in v3.0.0. This feature will be removed in v6.0.0. See https://github.com/optuna/optuna/releases/tag/v3.0.0. Use suggest_float(..., log=True) instead.\n",
      "  'C': lambda trial: trial.suggest_loguniform('C', 1e-2, 10),\n",
      "C:\\Users\\Administrator\\AppData\\Local\\Temp\\ipykernel_14812\\3190910586.py:7: FutureWarning: suggest_loguniform has been deprecated in v3.0.0. This feature will be removed in v6.0.0. See https://github.com/optuna/optuna/releases/tag/v3.0.0. Use suggest_float(..., log=True) instead.\n",
      "  'gamma': lambda trial: trial.suggest_loguniform('gamma', 1e-4, 1e-1),\n",
      "[I 2024-12-09 16:55:45,596] Trial 25 finished with value: 0.40875000000000006 and parameters: {'C': 1.5742957255383847, 'gamma': 0.05019742908678373, 'kernel': 'rbf'}. Best is trial 19 with value: 0.41375.\n",
      "C:\\Users\\Administrator\\AppData\\Local\\Temp\\ipykernel_14812\\3190910586.py:6: FutureWarning: suggest_loguniform has been deprecated in v3.0.0. This feature will be removed in v6.0.0. See https://github.com/optuna/optuna/releases/tag/v3.0.0. Use suggest_float(..., log=True) instead.\n",
      "  'C': lambda trial: trial.suggest_loguniform('C', 1e-2, 10),\n",
      "C:\\Users\\Administrator\\AppData\\Local\\Temp\\ipykernel_14812\\3190910586.py:7: FutureWarning: suggest_loguniform has been deprecated in v3.0.0. This feature will be removed in v6.0.0. See https://github.com/optuna/optuna/releases/tag/v3.0.0. Use suggest_float(..., log=True) instead.\n",
      "  'gamma': lambda trial: trial.suggest_loguniform('gamma', 1e-4, 1e-1),\n",
      "[I 2024-12-09 16:55:45,858] Trial 26 finished with value: 0.40125 and parameters: {'C': 4.0881714374387315, 'gamma': 0.041356454199756046, 'kernel': 'rbf'}. Best is trial 19 with value: 0.41375.\n",
      "C:\\Users\\Administrator\\AppData\\Local\\Temp\\ipykernel_14812\\3190910586.py:6: FutureWarning: suggest_loguniform has been deprecated in v3.0.0. This feature will be removed in v6.0.0. See https://github.com/optuna/optuna/releases/tag/v3.0.0. Use suggest_float(..., log=True) instead.\n",
      "  'C': lambda trial: trial.suggest_loguniform('C', 1e-2, 10),\n",
      "C:\\Users\\Administrator\\AppData\\Local\\Temp\\ipykernel_14812\\3190910586.py:7: FutureWarning: suggest_loguniform has been deprecated in v3.0.0. This feature will be removed in v6.0.0. See https://github.com/optuna/optuna/releases/tag/v3.0.0. Use suggest_float(..., log=True) instead.\n",
      "  'gamma': lambda trial: trial.suggest_loguniform('gamma', 1e-4, 1e-1),\n",
      "[I 2024-12-09 16:55:46,081] Trial 27 finished with value: 0.38875000000000004 and parameters: {'C': 2.0211969759380075, 'gamma': 0.011953841438965725, 'kernel': 'rbf'}. Best is trial 19 with value: 0.41375.\n",
      "C:\\Users\\Administrator\\AppData\\Local\\Temp\\ipykernel_14812\\3190910586.py:6: FutureWarning: suggest_loguniform has been deprecated in v3.0.0. This feature will be removed in v6.0.0. See https://github.com/optuna/optuna/releases/tag/v3.0.0. Use suggest_float(..., log=True) instead.\n",
      "  'C': lambda trial: trial.suggest_loguniform('C', 1e-2, 10),\n",
      "C:\\Users\\Administrator\\AppData\\Local\\Temp\\ipykernel_14812\\3190910586.py:7: FutureWarning: suggest_loguniform has been deprecated in v3.0.0. This feature will be removed in v6.0.0. See https://github.com/optuna/optuna/releases/tag/v3.0.0. Use suggest_float(..., log=True) instead.\n",
      "  'gamma': lambda trial: trial.suggest_loguniform('gamma', 1e-4, 1e-1),\n",
      "[I 2024-12-09 16:55:46,332] Trial 28 finished with value: 0.3725 and parameters: {'C': 9.851614678197771, 'gamma': 0.044628958881660324, 'kernel': 'rbf'}. Best is trial 19 with value: 0.41375.\n",
      "C:\\Users\\Administrator\\AppData\\Local\\Temp\\ipykernel_14812\\3190910586.py:6: FutureWarning: suggest_loguniform has been deprecated in v3.0.0. This feature will be removed in v6.0.0. See https://github.com/optuna/optuna/releases/tag/v3.0.0. Use suggest_float(..., log=True) instead.\n",
      "  'C': lambda trial: trial.suggest_loguniform('C', 1e-2, 10),\n",
      "C:\\Users\\Administrator\\AppData\\Local\\Temp\\ipykernel_14812\\3190910586.py:7: FutureWarning: suggest_loguniform has been deprecated in v3.0.0. This feature will be removed in v6.0.0. See https://github.com/optuna/optuna/releases/tag/v3.0.0. Use suggest_float(..., log=True) instead.\n",
      "  'gamma': lambda trial: trial.suggest_loguniform('gamma', 1e-4, 1e-1),\n",
      "[I 2024-12-09 16:55:46,514] Trial 29 finished with value: 0.385 and parameters: {'C': 0.6422815917227032, 'gamma': 0.02907036569278059, 'kernel': 'linear'}. Best is trial 19 with value: 0.41375.\n",
      "C:\\Users\\Administrator\\AppData\\Local\\Temp\\ipykernel_14812\\3190910586.py:6: FutureWarning: suggest_loguniform has been deprecated in v3.0.0. This feature will be removed in v6.0.0. See https://github.com/optuna/optuna/releases/tag/v3.0.0. Use suggest_float(..., log=True) instead.\n",
      "  'C': lambda trial: trial.suggest_loguniform('C', 1e-2, 10),\n",
      "C:\\Users\\Administrator\\AppData\\Local\\Temp\\ipykernel_14812\\3190910586.py:7: FutureWarning: suggest_loguniform has been deprecated in v3.0.0. This feature will be removed in v6.0.0. See https://github.com/optuna/optuna/releases/tag/v3.0.0. Use suggest_float(..., log=True) instead.\n",
      "  'gamma': lambda trial: trial.suggest_loguniform('gamma', 1e-4, 1e-1),\n",
      "[I 2024-12-09 16:55:46,752] Trial 30 finished with value: 0.28125 and parameters: {'C': 0.03195440219243403, 'gamma': 0.00036673443267798986, 'kernel': 'rbf'}. Best is trial 19 with value: 0.41375.\n",
      "C:\\Users\\Administrator\\AppData\\Local\\Temp\\ipykernel_14812\\3190910586.py:6: FutureWarning: suggest_loguniform has been deprecated in v3.0.0. This feature will be removed in v6.0.0. See https://github.com/optuna/optuna/releases/tag/v3.0.0. Use suggest_float(..., log=True) instead.\n",
      "  'C': lambda trial: trial.suggest_loguniform('C', 1e-2, 10),\n",
      "C:\\Users\\Administrator\\AppData\\Local\\Temp\\ipykernel_14812\\3190910586.py:7: FutureWarning: suggest_loguniform has been deprecated in v3.0.0. This feature will be removed in v6.0.0. See https://github.com/optuna/optuna/releases/tag/v3.0.0. Use suggest_float(..., log=True) instead.\n",
      "  'gamma': lambda trial: trial.suggest_loguniform('gamma', 1e-4, 1e-1),\n",
      "[I 2024-12-09 16:55:47,097] Trial 31 finished with value: 0.41500000000000004 and parameters: {'C': 1.0978156588826984, 'gamma': 0.05685807329398531, 'kernel': 'rbf'}. Best is trial 31 with value: 0.41500000000000004.\n",
      "C:\\Users\\Administrator\\AppData\\Local\\Temp\\ipykernel_14812\\3190910586.py:6: FutureWarning: suggest_loguniform has been deprecated in v3.0.0. This feature will be removed in v6.0.0. See https://github.com/optuna/optuna/releases/tag/v3.0.0. Use suggest_float(..., log=True) instead.\n",
      "  'C': lambda trial: trial.suggest_loguniform('C', 1e-2, 10),\n",
      "C:\\Users\\Administrator\\AppData\\Local\\Temp\\ipykernel_14812\\3190910586.py:7: FutureWarning: suggest_loguniform has been deprecated in v3.0.0. This feature will be removed in v6.0.0. See https://github.com/optuna/optuna/releases/tag/v3.0.0. Use suggest_float(..., log=True) instead.\n",
      "  'gamma': lambda trial: trial.suggest_loguniform('gamma', 1e-4, 1e-1),\n",
      "[I 2024-12-09 16:55:47,421] Trial 32 finished with value: 0.40750000000000003 and parameters: {'C': 1.5461376728597032, 'gamma': 0.05873146137830122, 'kernel': 'rbf'}. Best is trial 31 with value: 0.41500000000000004.\n",
      "C:\\Users\\Administrator\\AppData\\Local\\Temp\\ipykernel_14812\\3190910586.py:6: FutureWarning: suggest_loguniform has been deprecated in v3.0.0. This feature will be removed in v6.0.0. See https://github.com/optuna/optuna/releases/tag/v3.0.0. Use suggest_float(..., log=True) instead.\n",
      "  'C': lambda trial: trial.suggest_loguniform('C', 1e-2, 10),\n",
      "C:\\Users\\Administrator\\AppData\\Local\\Temp\\ipykernel_14812\\3190910586.py:7: FutureWarning: suggest_loguniform has been deprecated in v3.0.0. This feature will be removed in v6.0.0. See https://github.com/optuna/optuna/releases/tag/v3.0.0. Use suggest_float(..., log=True) instead.\n",
      "  'gamma': lambda trial: trial.suggest_loguniform('gamma', 1e-4, 1e-1),\n",
      "[I 2024-12-09 16:55:47,710] Trial 33 finished with value: 0.39249999999999996 and parameters: {'C': 0.8129536208648498, 'gamma': 0.034563635601331716, 'kernel': 'rbf'}. Best is trial 31 with value: 0.41500000000000004.\n",
      "C:\\Users\\Administrator\\AppData\\Local\\Temp\\ipykernel_14812\\3190910586.py:6: FutureWarning: suggest_loguniform has been deprecated in v3.0.0. This feature will be removed in v6.0.0. See https://github.com/optuna/optuna/releases/tag/v3.0.0. Use suggest_float(..., log=True) instead.\n",
      "  'C': lambda trial: trial.suggest_loguniform('C', 1e-2, 10),\n",
      "C:\\Users\\Administrator\\AppData\\Local\\Temp\\ipykernel_14812\\3190910586.py:7: FutureWarning: suggest_loguniform has been deprecated in v3.0.0. This feature will be removed in v6.0.0. See https://github.com/optuna/optuna/releases/tag/v3.0.0. Use suggest_float(..., log=True) instead.\n",
      "  'gamma': lambda trial: trial.suggest_loguniform('gamma', 1e-4, 1e-1),\n",
      "[I 2024-12-09 16:55:47,953] Trial 34 finished with value: 0.38125 and parameters: {'C': 0.3536991515217, 'gamma': 0.016796554048636093, 'kernel': 'linear'}. Best is trial 31 with value: 0.41500000000000004.\n",
      "C:\\Users\\Administrator\\AppData\\Local\\Temp\\ipykernel_14812\\3190910586.py:6: FutureWarning: suggest_loguniform has been deprecated in v3.0.0. This feature will be removed in v6.0.0. See https://github.com/optuna/optuna/releases/tag/v3.0.0. Use suggest_float(..., log=True) instead.\n",
      "  'C': lambda trial: trial.suggest_loguniform('C', 1e-2, 10),\n",
      "C:\\Users\\Administrator\\AppData\\Local\\Temp\\ipykernel_14812\\3190910586.py:7: FutureWarning: suggest_loguniform has been deprecated in v3.0.0. This feature will be removed in v6.0.0. See https://github.com/optuna/optuna/releases/tag/v3.0.0. Use suggest_float(..., log=True) instead.\n",
      "  'gamma': lambda trial: trial.suggest_loguniform('gamma', 1e-4, 1e-1),\n",
      "[I 2024-12-09 16:55:48,241] Trial 35 finished with value: 0.39374999999999993 and parameters: {'C': 2.9411242198833816, 'gamma': 0.00431955556004798, 'kernel': 'rbf'}. Best is trial 31 with value: 0.41500000000000004.\n",
      "C:\\Users\\Administrator\\AppData\\Local\\Temp\\ipykernel_14812\\3190910586.py:6: FutureWarning: suggest_loguniform has been deprecated in v3.0.0. This feature will be removed in v6.0.0. See https://github.com/optuna/optuna/releases/tag/v3.0.0. Use suggest_float(..., log=True) instead.\n",
      "  'C': lambda trial: trial.suggest_loguniform('C', 1e-2, 10),\n",
      "C:\\Users\\Administrator\\AppData\\Local\\Temp\\ipykernel_14812\\3190910586.py:7: FutureWarning: suggest_loguniform has been deprecated in v3.0.0. This feature will be removed in v6.0.0. See https://github.com/optuna/optuna/releases/tag/v3.0.0. Use suggest_float(..., log=True) instead.\n",
      "  'gamma': lambda trial: trial.suggest_loguniform('gamma', 1e-4, 1e-1),\n",
      "[I 2024-12-09 16:55:48,538] Trial 36 finished with value: 0.39375 and parameters: {'C': 0.4500314141346364, 'gamma': 0.05400786682397454, 'kernel': 'rbf'}. Best is trial 31 with value: 0.41500000000000004.\n",
      "C:\\Users\\Administrator\\AppData\\Local\\Temp\\ipykernel_14812\\3190910586.py:6: FutureWarning: suggest_loguniform has been deprecated in v3.0.0. This feature will be removed in v6.0.0. See https://github.com/optuna/optuna/releases/tag/v3.0.0. Use suggest_float(..., log=True) instead.\n",
      "  'C': lambda trial: trial.suggest_loguniform('C', 1e-2, 10),\n",
      "C:\\Users\\Administrator\\AppData\\Local\\Temp\\ipykernel_14812\\3190910586.py:7: FutureWarning: suggest_loguniform has been deprecated in v3.0.0. This feature will be removed in v6.0.0. See https://github.com/optuna/optuna/releases/tag/v3.0.0. Use suggest_float(..., log=True) instead.\n",
      "  'gamma': lambda trial: trial.suggest_loguniform('gamma', 1e-4, 1e-1),\n",
      "[I 2024-12-09 16:55:48,823] Trial 37 finished with value: 0.38875000000000004 and parameters: {'C': 2.112154197790342, 'gamma': 0.015000114705898626, 'kernel': 'rbf'}. Best is trial 31 with value: 0.41500000000000004.\n",
      "C:\\Users\\Administrator\\AppData\\Local\\Temp\\ipykernel_14812\\3190910586.py:6: FutureWarning: suggest_loguniform has been deprecated in v3.0.0. This feature will be removed in v6.0.0. See https://github.com/optuna/optuna/releases/tag/v3.0.0. Use suggest_float(..., log=True) instead.\n",
      "  'C': lambda trial: trial.suggest_loguniform('C', 1e-2, 10),\n",
      "C:\\Users\\Administrator\\AppData\\Local\\Temp\\ipykernel_14812\\3190910586.py:7: FutureWarning: suggest_loguniform has been deprecated in v3.0.0. This feature will be removed in v6.0.0. See https://github.com/optuna/optuna/releases/tag/v3.0.0. Use suggest_float(..., log=True) instead.\n",
      "  'gamma': lambda trial: trial.suggest_loguniform('gamma', 1e-4, 1e-1),\n",
      "[I 2024-12-09 16:55:49,023] Trial 38 finished with value: 0.38 and parameters: {'C': 0.290022192093393, 'gamma': 0.054730798810701024, 'kernel': 'linear'}. Best is trial 31 with value: 0.41500000000000004.\n",
      "C:\\Users\\Administrator\\AppData\\Local\\Temp\\ipykernel_14812\\3190910586.py:6: FutureWarning: suggest_loguniform has been deprecated in v3.0.0. This feature will be removed in v6.0.0. See https://github.com/optuna/optuna/releases/tag/v3.0.0. Use suggest_float(..., log=True) instead.\n",
      "  'C': lambda trial: trial.suggest_loguniform('C', 1e-2, 10),\n",
      "C:\\Users\\Administrator\\AppData\\Local\\Temp\\ipykernel_14812\\3190910586.py:7: FutureWarning: suggest_loguniform has been deprecated in v3.0.0. This feature will be removed in v6.0.0. See https://github.com/optuna/optuna/releases/tag/v3.0.0. Use suggest_float(..., log=True) instead.\n",
      "  'gamma': lambda trial: trial.suggest_loguniform('gamma', 1e-4, 1e-1),\n",
      "[I 2024-12-09 16:55:49,265] Trial 39 finished with value: 0.39875 and parameters: {'C': 1.607355102759814, 'gamma': 0.0025220013842126156, 'kernel': 'rbf'}. Best is trial 31 with value: 0.41500000000000004.\n",
      "C:\\Users\\Administrator\\AppData\\Local\\Temp\\ipykernel_14812\\3190910586.py:6: FutureWarning: suggest_loguniform has been deprecated in v3.0.0. This feature will be removed in v6.0.0. See https://github.com/optuna/optuna/releases/tag/v3.0.0. Use suggest_float(..., log=True) instead.\n",
      "  'C': lambda trial: trial.suggest_loguniform('C', 1e-2, 10),\n",
      "C:\\Users\\Administrator\\AppData\\Local\\Temp\\ipykernel_14812\\3190910586.py:7: FutureWarning: suggest_loguniform has been deprecated in v3.0.0. This feature will be removed in v6.0.0. See https://github.com/optuna/optuna/releases/tag/v3.0.0. Use suggest_float(..., log=True) instead.\n",
      "  'gamma': lambda trial: trial.suggest_loguniform('gamma', 1e-4, 1e-1),\n",
      "[I 2024-12-09 16:55:49,412] Trial 40 finished with value: 0.38875000000000004 and parameters: {'C': 0.07539521467024063, 'gamma': 0.03133339464731637, 'kernel': 'linear'}. Best is trial 31 with value: 0.41500000000000004.\n",
      "C:\\Users\\Administrator\\AppData\\Local\\Temp\\ipykernel_14812\\3190910586.py:6: FutureWarning: suggest_loguniform has been deprecated in v3.0.0. This feature will be removed in v6.0.0. See https://github.com/optuna/optuna/releases/tag/v3.0.0. Use suggest_float(..., log=True) instead.\n",
      "  'C': lambda trial: trial.suggest_loguniform('C', 1e-2, 10),\n",
      "C:\\Users\\Administrator\\AppData\\Local\\Temp\\ipykernel_14812\\3190910586.py:7: FutureWarning: suggest_loguniform has been deprecated in v3.0.0. This feature will be removed in v6.0.0. See https://github.com/optuna/optuna/releases/tag/v3.0.0. Use suggest_float(..., log=True) instead.\n",
      "  'gamma': lambda trial: trial.suggest_loguniform('gamma', 1e-4, 1e-1),\n",
      "[I 2024-12-09 16:55:49,652] Trial 41 finished with value: 0.41624999999999995 and parameters: {'C': 1.1111954358270677, 'gamma': 0.0677782240843128, 'kernel': 'rbf'}. Best is trial 41 with value: 0.41624999999999995.\n",
      "C:\\Users\\Administrator\\AppData\\Local\\Temp\\ipykernel_14812\\3190910586.py:6: FutureWarning: suggest_loguniform has been deprecated in v3.0.0. This feature will be removed in v6.0.0. See https://github.com/optuna/optuna/releases/tag/v3.0.0. Use suggest_float(..., log=True) instead.\n",
      "  'C': lambda trial: trial.suggest_loguniform('C', 1e-2, 10),\n",
      "C:\\Users\\Administrator\\AppData\\Local\\Temp\\ipykernel_14812\\3190910586.py:7: FutureWarning: suggest_loguniform has been deprecated in v3.0.0. This feature will be removed in v6.0.0. See https://github.com/optuna/optuna/releases/tag/v3.0.0. Use suggest_float(..., log=True) instead.\n",
      "  'gamma': lambda trial: trial.suggest_loguniform('gamma', 1e-4, 1e-1),\n",
      "[I 2024-12-09 16:55:49,917] Trial 42 finished with value: 0.40374999999999994 and parameters: {'C': 0.9538031099175764, 'gamma': 0.09724973517843348, 'kernel': 'rbf'}. Best is trial 41 with value: 0.41624999999999995.\n",
      "C:\\Users\\Administrator\\AppData\\Local\\Temp\\ipykernel_14812\\3190910586.py:6: FutureWarning: suggest_loguniform has been deprecated in v3.0.0. This feature will be removed in v6.0.0. See https://github.com/optuna/optuna/releases/tag/v3.0.0. Use suggest_float(..., log=True) instead.\n",
      "  'C': lambda trial: trial.suggest_loguniform('C', 1e-2, 10),\n",
      "C:\\Users\\Administrator\\AppData\\Local\\Temp\\ipykernel_14812\\3190910586.py:7: FutureWarning: suggest_loguniform has been deprecated in v3.0.0. This feature will be removed in v6.0.0. See https://github.com/optuna/optuna/releases/tag/v3.0.0. Use suggest_float(..., log=True) instead.\n",
      "  'gamma': lambda trial: trial.suggest_loguniform('gamma', 1e-4, 1e-1),\n",
      "[I 2024-12-09 16:55:50,219] Trial 43 finished with value: 0.39749999999999996 and parameters: {'C': 0.5612283412199004, 'gamma': 0.06768098532803539, 'kernel': 'rbf'}. Best is trial 41 with value: 0.41624999999999995.\n",
      "C:\\Users\\Administrator\\AppData\\Local\\Temp\\ipykernel_14812\\3190910586.py:6: FutureWarning: suggest_loguniform has been deprecated in v3.0.0. This feature will be removed in v6.0.0. See https://github.com/optuna/optuna/releases/tag/v3.0.0. Use suggest_float(..., log=True) instead.\n",
      "  'C': lambda trial: trial.suggest_loguniform('C', 1e-2, 10),\n",
      "C:\\Users\\Administrator\\AppData\\Local\\Temp\\ipykernel_14812\\3190910586.py:7: FutureWarning: suggest_loguniform has been deprecated in v3.0.0. This feature will be removed in v6.0.0. See https://github.com/optuna/optuna/releases/tag/v3.0.0. Use suggest_float(..., log=True) instead.\n",
      "  'gamma': lambda trial: trial.suggest_loguniform('gamma', 1e-4, 1e-1),\n",
      "[I 2024-12-09 16:55:50,478] Trial 44 finished with value: 0.395 and parameters: {'C': 1.2285609900250047, 'gamma': 0.021998627004987246, 'kernel': 'rbf'}. Best is trial 41 with value: 0.41624999999999995.\n",
      "C:\\Users\\Administrator\\AppData\\Local\\Temp\\ipykernel_14812\\3190910586.py:6: FutureWarning: suggest_loguniform has been deprecated in v3.0.0. This feature will be removed in v6.0.0. See https://github.com/optuna/optuna/releases/tag/v3.0.0. Use suggest_float(..., log=True) instead.\n",
      "  'C': lambda trial: trial.suggest_loguniform('C', 1e-2, 10),\n",
      "C:\\Users\\Administrator\\AppData\\Local\\Temp\\ipykernel_14812\\3190910586.py:7: FutureWarning: suggest_loguniform has been deprecated in v3.0.0. This feature will be removed in v6.0.0. See https://github.com/optuna/optuna/releases/tag/v3.0.0. Use suggest_float(..., log=True) instead.\n",
      "  'gamma': lambda trial: trial.suggest_loguniform('gamma', 1e-4, 1e-1),\n",
      "[I 2024-12-09 16:55:50,746] Trial 45 finished with value: 0.39375000000000004 and parameters: {'C': 0.25829948446786866, 'gamma': 0.06478238901629332, 'kernel': 'rbf'}. Best is trial 41 with value: 0.41624999999999995.\n",
      "C:\\Users\\Administrator\\AppData\\Local\\Temp\\ipykernel_14812\\3190910586.py:6: FutureWarning: suggest_loguniform has been deprecated in v3.0.0. This feature will be removed in v6.0.0. See https://github.com/optuna/optuna/releases/tag/v3.0.0. Use suggest_float(..., log=True) instead.\n",
      "  'C': lambda trial: trial.suggest_loguniform('C', 1e-2, 10),\n",
      "C:\\Users\\Administrator\\AppData\\Local\\Temp\\ipykernel_14812\\3190910586.py:7: FutureWarning: suggest_loguniform has been deprecated in v3.0.0. This feature will be removed in v6.0.0. See https://github.com/optuna/optuna/releases/tag/v3.0.0. Use suggest_float(..., log=True) instead.\n",
      "  'gamma': lambda trial: trial.suggest_loguniform('gamma', 1e-4, 1e-1),\n",
      "[I 2024-12-09 16:55:51,023] Trial 46 finished with value: 0.33999999999999997 and parameters: {'C': 0.14221195438464707, 'gamma': 0.006447608867670042, 'kernel': 'rbf'}. Best is trial 41 with value: 0.41624999999999995.\n",
      "C:\\Users\\Administrator\\AppData\\Local\\Temp\\ipykernel_14812\\3190910586.py:6: FutureWarning: suggest_loguniform has been deprecated in v3.0.0. This feature will be removed in v6.0.0. See https://github.com/optuna/optuna/releases/tag/v3.0.0. Use suggest_float(..., log=True) instead.\n",
      "  'C': lambda trial: trial.suggest_loguniform('C', 1e-2, 10),\n",
      "C:\\Users\\Administrator\\AppData\\Local\\Temp\\ipykernel_14812\\3190910586.py:7: FutureWarning: suggest_loguniform has been deprecated in v3.0.0. This feature will be removed in v6.0.0. See https://github.com/optuna/optuna/releases/tag/v3.0.0. Use suggest_float(..., log=True) instead.\n",
      "  'gamma': lambda trial: trial.suggest_loguniform('gamma', 1e-4, 1e-1),\n",
      "[I 2024-12-09 16:55:51,308] Trial 47 finished with value: 0.40499999999999997 and parameters: {'C': 4.328126797736825, 'gamma': 0.03648772594905068, 'kernel': 'rbf'}. Best is trial 41 with value: 0.41624999999999995.\n",
      "C:\\Users\\Administrator\\AppData\\Local\\Temp\\ipykernel_14812\\3190910586.py:6: FutureWarning: suggest_loguniform has been deprecated in v3.0.0. This feature will be removed in v6.0.0. See https://github.com/optuna/optuna/releases/tag/v3.0.0. Use suggest_float(..., log=True) instead.\n",
      "  'C': lambda trial: trial.suggest_loguniform('C', 1e-2, 10),\n",
      "C:\\Users\\Administrator\\AppData\\Local\\Temp\\ipykernel_14812\\3190910586.py:7: FutureWarning: suggest_loguniform has been deprecated in v3.0.0. This feature will be removed in v6.0.0. See https://github.com/optuna/optuna/releases/tag/v3.0.0. Use suggest_float(..., log=True) instead.\n",
      "  'gamma': lambda trial: trial.suggest_loguniform('gamma', 1e-4, 1e-1),\n",
      "[I 2024-12-09 16:55:51,604] Trial 48 finished with value: 0.39 and parameters: {'C': 1.75148190496046, 'gamma': 0.07214305188333278, 'kernel': 'linear'}. Best is trial 41 with value: 0.41624999999999995.\n",
      "C:\\Users\\Administrator\\AppData\\Local\\Temp\\ipykernel_14812\\3190910586.py:6: FutureWarning: suggest_loguniform has been deprecated in v3.0.0. This feature will be removed in v6.0.0. See https://github.com/optuna/optuna/releases/tag/v3.0.0. Use suggest_float(..., log=True) instead.\n",
      "  'C': lambda trial: trial.suggest_loguniform('C', 1e-2, 10),\n",
      "C:\\Users\\Administrator\\AppData\\Local\\Temp\\ipykernel_14812\\3190910586.py:7: FutureWarning: suggest_loguniform has been deprecated in v3.0.0. This feature will be removed in v6.0.0. See https://github.com/optuna/optuna/releases/tag/v3.0.0. Use suggest_float(..., log=True) instead.\n",
      "  'gamma': lambda trial: trial.suggest_loguniform('gamma', 1e-4, 1e-1),\n",
      "[I 2024-12-09 16:55:51,875] Trial 49 finished with value: 0.40750000000000003 and parameters: {'C': 0.9322449260391299, 'gamma': 0.09914011949405509, 'kernel': 'rbf'}. Best is trial 41 with value: 0.41624999999999995.\n"
     ]
    },
    {
     "name": "stdout",
     "output_type": "stream",
     "text": [
      "\n",
      "Resultados para SVM Multiclase:\n",
      "Accuracy en entrenamiento: 0.5162\n",
      "Accuracy en prueba: 0.3600\n",
      "Diferencia (Overfitting): 0.1562\n",
      "\n",
      "Reporte de Clasificación:\n",
      "              precision    recall  f1-score   support\n",
      "\n",
      "           1       0.35      0.36      0.35        53\n",
      "           2       0.28      0.11      0.16        44\n",
      "           3       0.38      0.50      0.43        56\n",
      "           4       0.38      0.43      0.40        47\n",
      "\n",
      "    accuracy                           0.36       200\n",
      "   macro avg       0.34      0.35      0.34       200\n",
      "weighted avg       0.35      0.36      0.34       200\n",
      "\n"
     ]
    }
   ],
   "source": [
    "#SVM Multiclase\n",
    "\n",
    "from sklearn.svm import SVC\n",
    "\n",
    "svm_param_space = {\n",
    "    'C': lambda trial: trial.suggest_loguniform('C', 1e-2, 10),\n",
    "    'gamma': lambda trial: trial.suggest_loguniform('gamma', 1e-4, 1e-1),\n",
    "    'kernel': lambda trial: trial.suggest_categorical('kernel', ['linear', 'rbf'])\n",
    "}\n",
    "svm_best_params = optimize_model(SVC, svm_param_space)\n",
    "svm_pipeline = evaluate_model(SVC, svm_best_params, \"SVM Multiclase\")\n"
   ]
  },
  {
   "cell_type": "markdown",
   "metadata": {},
   "source": [
    "#### Conjunto final\n",
    "Creamos un conjunto de modelos usando VotingClassifier ."
   ]
  },
  {
   "cell_type": "code",
   "execution_count": null,
   "metadata": {},
   "outputs": [],
   "source": [
    "from sklearn.svm import SVC\n",
    "\n",
    "# Asegúrate de habilitar la opción 'probability=True' en el SVC\n",
    "svc_model = SVC(probability=True)\n",
    "\n",
    "# Agregar el SVC con probability=True al pipeline o al ensemble\n"
   ]
  },
  {
   "cell_type": "code",
   "execution_count": 28,
   "metadata": {},
   "outputs": [
    {
     "name": "stdout",
     "output_type": "stream",
     "text": [
      "\n",
      "Resultados para el Ensemble:\n",
      "Accuracy en entrenamiento: 0.4650\n",
      "Accuracy en prueba: 0.3700\n",
      "Diferencia (Overfitting): 0.0950\n",
      "\n",
      "Reporte de Clasificación:\n",
      "              precision    recall  f1-score   support\n",
      "\n",
      "           1       0.38      0.45      0.41        53\n",
      "           2       0.22      0.09      0.13        44\n",
      "           3       0.40      0.50      0.44        56\n",
      "           4       0.37      0.38      0.38        47\n",
      "\n",
      "    accuracy                           0.37       200\n",
      "   macro avg       0.34      0.36      0.34       200\n",
      "weighted avg       0.35      0.37      0.35       200\n",
      "\n"
     ]
    }
   ],
   "source": [
    "from sklearn.ensemble import VotingClassifier\n",
    "from sklearn.svm import SVC\n",
    "from sklearn.ensemble import VotingClassifier\n",
    "from sklearn.pipeline import Pipeline\n",
    "\n",
    "# Crear el pipeline para SVM con probability=True\n",
    "svm_pipeline = Pipeline([\n",
    "    ('scaler', StandardScaler()),\n",
    "    ('classifier', SVC(probability=True))  # Asegurarse de que 'probability=True' esté activado\n",
    "])\n",
    "\n",
    "# Crear el ensemble\n",
    "ensemble = VotingClassifier(\n",
    "    estimators=[\n",
    "        ('rf', rf_pipeline['classifier']),\n",
    "        ('gb', gb_pipeline['classifier']),\n",
    "        #('nn', nn_pipeline['classifier']),\n",
    "        ('svm', svm_pipeline['classifier']),\n",
    "        ('lr', lr_pipeline['classifier'])\n",
    "    ],\n",
    "    voting='soft'\n",
    ")\n",
    "ensemble.fit(X_train, y_train)\n",
    "\n",
    "# Evaluación del ensemble\n",
    "train_accuracy = ensemble.score(X_train, y_train)\n",
    "test_accuracy = ensemble.score(X_test, y_test)\n",
    "overfitting = train_accuracy - test_accuracy\n",
    "y_pred = ensemble.predict(X_test)\n",
    "\n",
    "print(\"\\nResultados para el Ensemble:\")\n",
    "print(f\"Accuracy en entrenamiento: {train_accuracy:.4f}\")\n",
    "print(f\"Accuracy en prueba: {test_accuracy:.4f}\")\n",
    "print(f\"Diferencia (Overfitting): {overfitting:.4f}\")\n",
    "print(\"\\nReporte de Clasificación:\")\n",
    "print(classification_report(y_test, y_pred))\n"
   ]
  },
  {
   "cell_type": "markdown",
   "metadata": {},
   "source": [
    "#### Guardar modelo"
   ]
  },
  {
   "cell_type": "code",
   "execution_count": 29,
   "metadata": {},
   "outputs": [
    {
     "data": {
      "text/plain": [
       "['ensemble_model.pkl']"
      ]
     },
     "execution_count": 29,
     "metadata": {},
     "output_type": "execute_result"
    }
   ],
   "source": [
    "import joblib\n",
    "\n",
    "# Guarda el modelo del ensemble\n",
    "joblib.dump(ensemble, 'ensemble_model.pkl')\n"
   ]
  },
  {
   "cell_type": "code",
   "execution_count": 30,
   "metadata": {},
   "outputs": [
    {
     "data": {
      "text/plain": [
       "['scaler.pkl']"
      ]
     },
     "execution_count": 30,
     "metadata": {},
     "output_type": "execute_result"
    }
   ],
   "source": [
    "from sklearn.preprocessing import StandardScaler\n",
    "\n",
    "\n",
    "# Crear y ajustar el scaler\n",
    "scaler = StandardScaler()\n",
    "scaler.fit(X_train)\n",
    "\n",
    "# Guardar el scaler en un archivo\n",
    "joblib.dump(scaler, 'scaler.pkl')\n"
   ]
  }
 ],
 "metadata": {
  "kernelspec": {
   "display_name": "venv",
   "language": "python",
   "name": "python3"
  },
  "language_info": {
   "codemirror_mode": {
    "name": "ipython",
    "version": 3
   },
   "file_extension": ".py",
   "mimetype": "text/x-python",
   "name": "python",
   "nbconvert_exporter": "python",
   "pygments_lexer": "ipython3",
   "version": "3.12.4"
  }
 },
 "nbformat": 4,
 "nbformat_minor": 2
}
